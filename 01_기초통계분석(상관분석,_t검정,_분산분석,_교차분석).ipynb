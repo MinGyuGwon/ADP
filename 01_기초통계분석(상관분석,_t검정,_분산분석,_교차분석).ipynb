{
  "cells": [
    {
      "cell_type": "code",
      "execution_count": 8,
      "metadata": {
        "_cell_guid": "b1076dfc-b9ad-4769-8c92-a6c4dae69d19",
        "_uuid": "8f2839f25d086af736a60e9eeb907d3b93b6e0e5",
        "execution": {
          "iopub.execute_input": "2022-01-18T11:02:58.755236Z",
          "iopub.status.busy": "2022-01-18T11:02:58.754853Z",
          "iopub.status.idle": "2022-01-18T11:02:58.790287Z",
          "shell.execute_reply": "2022-01-18T11:02:58.789188Z",
          "shell.execute_reply.started": "2022-01-18T11:02:58.755144Z"
        },
        "id": "imnZZga8Kq6G"
      },
      "outputs": [],
      "source": [
        "import numpy as np \n",
        "import pandas as pd \n",
        "from pathlib import Path\n",
        "import os"
      ]
    },
    {
      "cell_type": "code",
      "source": [
        "from google.colab import drive\n",
        "drive.mount('/content/drive')"
      ],
      "metadata": {
        "colab": {
          "base_uri": "https://localhost:8080/"
        },
        "id": "-jXAV2zoKsV8",
        "outputId": "e47486ea-ee13-4a3e-a335-e6ab22164ae3"
      },
      "execution_count": 1,
      "outputs": [
        {
          "output_type": "stream",
          "name": "stdout",
          "text": [
            "Mounted at /content/drive\n"
          ]
        }
      ]
    },
    {
      "cell_type": "code",
      "source": [
        "base_path = Path(\"/content/drive/My Drive/\")"
      ],
      "metadata": {
        "id": "w3Wd8VlEMXvs"
      },
      "execution_count": 9,
      "outputs": []
    },
    {
      "cell_type": "code",
      "source": [
        "dir_path = 'Colab Notebooks/Data'"
      ],
      "metadata": {
        "id": "Wk6Zxn46LOnE"
      },
      "execution_count": 10,
      "outputs": []
    },
    {
      "cell_type": "code",
      "source": [
        "file_path = \"Store Sales_train.csv\"\n",
        "\n",
        "final_path = os.path.join(dir_path,file_path)\n",
        "final_path "
      ],
      "metadata": {
        "colab": {
          "base_uri": "https://localhost:8080/",
          "height": 35
        },
        "id": "VxDD63f8Lc_F",
        "outputId": "fe76db4c-f90b-4104-84d5-1ceb670b833b"
      },
      "execution_count": 11,
      "outputs": [
        {
          "output_type": "execute_result",
          "data": {
            "text/plain": [
              "'Colab Notebooks/Data/Store Sales_train.csv'"
            ],
            "application/vnd.google.colaboratory.intrinsic+json": {
              "type": "string"
            }
          },
          "metadata": {},
          "execution_count": 11
        }
      ]
    },
    {
      "cell_type": "code",
      "execution_count": 12,
      "metadata": {
        "execution": {
          "iopub.execute_input": "2022-01-18T11:05:00.397297Z",
          "iopub.status.busy": "2022-01-18T11:05:00.396948Z",
          "iopub.status.idle": "2022-01-18T11:05:03.713947Z",
          "shell.execute_reply": "2022-01-18T11:05:03.712769Z",
          "shell.execute_reply.started": "2022-01-18T11:05:00.397251Z"
        },
        "colab": {
          "base_uri": "https://localhost:8080/",
          "height": 423
        },
        "id": "e8fCO_0CKq6Q",
        "outputId": "3f47c0f6-6def-494e-a086-7fcc080c727c"
      },
      "outputs": [
        {
          "output_type": "execute_result",
          "data": {
            "text/plain": [
              "              id        date  store_nbr                      family     sales  \\\n",
              "0              0  2013-01-01          1                  AUTOMOTIVE     0.000   \n",
              "1              1  2013-01-01          1                   BABY CARE     0.000   \n",
              "2              2  2013-01-01          1                      BEAUTY     0.000   \n",
              "3              3  2013-01-01          1                   BEVERAGES     0.000   \n",
              "4              4  2013-01-01          1                       BOOKS     0.000   \n",
              "...          ...         ...        ...                         ...       ...   \n",
              "3000883  3000883  2017-08-15          9                     POULTRY   438.133   \n",
              "3000884  3000884  2017-08-15          9              PREPARED FOODS   154.553   \n",
              "3000885  3000885  2017-08-15          9                     PRODUCE  2419.729   \n",
              "3000886  3000886  2017-08-15          9  SCHOOL AND OFFICE SUPPLIES   121.000   \n",
              "3000887  3000887  2017-08-15          9                     SEAFOOD    16.000   \n",
              "\n",
              "         onpromotion  \n",
              "0                  0  \n",
              "1                  0  \n",
              "2                  0  \n",
              "3                  0  \n",
              "4                  0  \n",
              "...              ...  \n",
              "3000883            0  \n",
              "3000884            1  \n",
              "3000885          148  \n",
              "3000886            8  \n",
              "3000887            0  \n",
              "\n",
              "[3000888 rows x 6 columns]"
            ],
            "text/html": [
              "\n",
              "  <div id=\"df-46c25a44-30b8-4fd8-9116-f70d0d605bfc\">\n",
              "    <div class=\"colab-df-container\">\n",
              "      <div>\n",
              "<style scoped>\n",
              "    .dataframe tbody tr th:only-of-type {\n",
              "        vertical-align: middle;\n",
              "    }\n",
              "\n",
              "    .dataframe tbody tr th {\n",
              "        vertical-align: top;\n",
              "    }\n",
              "\n",
              "    .dataframe thead th {\n",
              "        text-align: right;\n",
              "    }\n",
              "</style>\n",
              "<table border=\"1\" class=\"dataframe\">\n",
              "  <thead>\n",
              "    <tr style=\"text-align: right;\">\n",
              "      <th></th>\n",
              "      <th>id</th>\n",
              "      <th>date</th>\n",
              "      <th>store_nbr</th>\n",
              "      <th>family</th>\n",
              "      <th>sales</th>\n",
              "      <th>onpromotion</th>\n",
              "    </tr>\n",
              "  </thead>\n",
              "  <tbody>\n",
              "    <tr>\n",
              "      <th>0</th>\n",
              "      <td>0</td>\n",
              "      <td>2013-01-01</td>\n",
              "      <td>1</td>\n",
              "      <td>AUTOMOTIVE</td>\n",
              "      <td>0.000</td>\n",
              "      <td>0</td>\n",
              "    </tr>\n",
              "    <tr>\n",
              "      <th>1</th>\n",
              "      <td>1</td>\n",
              "      <td>2013-01-01</td>\n",
              "      <td>1</td>\n",
              "      <td>BABY CARE</td>\n",
              "      <td>0.000</td>\n",
              "      <td>0</td>\n",
              "    </tr>\n",
              "    <tr>\n",
              "      <th>2</th>\n",
              "      <td>2</td>\n",
              "      <td>2013-01-01</td>\n",
              "      <td>1</td>\n",
              "      <td>BEAUTY</td>\n",
              "      <td>0.000</td>\n",
              "      <td>0</td>\n",
              "    </tr>\n",
              "    <tr>\n",
              "      <th>3</th>\n",
              "      <td>3</td>\n",
              "      <td>2013-01-01</td>\n",
              "      <td>1</td>\n",
              "      <td>BEVERAGES</td>\n",
              "      <td>0.000</td>\n",
              "      <td>0</td>\n",
              "    </tr>\n",
              "    <tr>\n",
              "      <th>4</th>\n",
              "      <td>4</td>\n",
              "      <td>2013-01-01</td>\n",
              "      <td>1</td>\n",
              "      <td>BOOKS</td>\n",
              "      <td>0.000</td>\n",
              "      <td>0</td>\n",
              "    </tr>\n",
              "    <tr>\n",
              "      <th>...</th>\n",
              "      <td>...</td>\n",
              "      <td>...</td>\n",
              "      <td>...</td>\n",
              "      <td>...</td>\n",
              "      <td>...</td>\n",
              "      <td>...</td>\n",
              "    </tr>\n",
              "    <tr>\n",
              "      <th>3000883</th>\n",
              "      <td>3000883</td>\n",
              "      <td>2017-08-15</td>\n",
              "      <td>9</td>\n",
              "      <td>POULTRY</td>\n",
              "      <td>438.133</td>\n",
              "      <td>0</td>\n",
              "    </tr>\n",
              "    <tr>\n",
              "      <th>3000884</th>\n",
              "      <td>3000884</td>\n",
              "      <td>2017-08-15</td>\n",
              "      <td>9</td>\n",
              "      <td>PREPARED FOODS</td>\n",
              "      <td>154.553</td>\n",
              "      <td>1</td>\n",
              "    </tr>\n",
              "    <tr>\n",
              "      <th>3000885</th>\n",
              "      <td>3000885</td>\n",
              "      <td>2017-08-15</td>\n",
              "      <td>9</td>\n",
              "      <td>PRODUCE</td>\n",
              "      <td>2419.729</td>\n",
              "      <td>148</td>\n",
              "    </tr>\n",
              "    <tr>\n",
              "      <th>3000886</th>\n",
              "      <td>3000886</td>\n",
              "      <td>2017-08-15</td>\n",
              "      <td>9</td>\n",
              "      <td>SCHOOL AND OFFICE SUPPLIES</td>\n",
              "      <td>121.000</td>\n",
              "      <td>8</td>\n",
              "    </tr>\n",
              "    <tr>\n",
              "      <th>3000887</th>\n",
              "      <td>3000887</td>\n",
              "      <td>2017-08-15</td>\n",
              "      <td>9</td>\n",
              "      <td>SEAFOOD</td>\n",
              "      <td>16.000</td>\n",
              "      <td>0</td>\n",
              "    </tr>\n",
              "  </tbody>\n",
              "</table>\n",
              "<p>3000888 rows × 6 columns</p>\n",
              "</div>\n",
              "      <button class=\"colab-df-convert\" onclick=\"convertToInteractive('df-46c25a44-30b8-4fd8-9116-f70d0d605bfc')\"\n",
              "              title=\"Convert this dataframe to an interactive table.\"\n",
              "              style=\"display:none;\">\n",
              "        \n",
              "  <svg xmlns=\"http://www.w3.org/2000/svg\" height=\"24px\"viewBox=\"0 0 24 24\"\n",
              "       width=\"24px\">\n",
              "    <path d=\"M0 0h24v24H0V0z\" fill=\"none\"/>\n",
              "    <path d=\"M18.56 5.44l.94 2.06.94-2.06 2.06-.94-2.06-.94-.94-2.06-.94 2.06-2.06.94zm-11 1L8.5 8.5l.94-2.06 2.06-.94-2.06-.94L8.5 2.5l-.94 2.06-2.06.94zm10 10l.94 2.06.94-2.06 2.06-.94-2.06-.94-.94-2.06-.94 2.06-2.06.94z\"/><path d=\"M17.41 7.96l-1.37-1.37c-.4-.4-.92-.59-1.43-.59-.52 0-1.04.2-1.43.59L10.3 9.45l-7.72 7.72c-.78.78-.78 2.05 0 2.83L4 21.41c.39.39.9.59 1.41.59.51 0 1.02-.2 1.41-.59l7.78-7.78 2.81-2.81c.8-.78.8-2.07 0-2.86zM5.41 20L4 18.59l7.72-7.72 1.47 1.35L5.41 20z\"/>\n",
              "  </svg>\n",
              "      </button>\n",
              "      \n",
              "  <style>\n",
              "    .colab-df-container {\n",
              "      display:flex;\n",
              "      flex-wrap:wrap;\n",
              "      gap: 12px;\n",
              "    }\n",
              "\n",
              "    .colab-df-convert {\n",
              "      background-color: #E8F0FE;\n",
              "      border: none;\n",
              "      border-radius: 50%;\n",
              "      cursor: pointer;\n",
              "      display: none;\n",
              "      fill: #1967D2;\n",
              "      height: 32px;\n",
              "      padding: 0 0 0 0;\n",
              "      width: 32px;\n",
              "    }\n",
              "\n",
              "    .colab-df-convert:hover {\n",
              "      background-color: #E2EBFA;\n",
              "      box-shadow: 0px 1px 2px rgba(60, 64, 67, 0.3), 0px 1px 3px 1px rgba(60, 64, 67, 0.15);\n",
              "      fill: #174EA6;\n",
              "    }\n",
              "\n",
              "    [theme=dark] .colab-df-convert {\n",
              "      background-color: #3B4455;\n",
              "      fill: #D2E3FC;\n",
              "    }\n",
              "\n",
              "    [theme=dark] .colab-df-convert:hover {\n",
              "      background-color: #434B5C;\n",
              "      box-shadow: 0px 1px 3px 1px rgba(0, 0, 0, 0.15);\n",
              "      filter: drop-shadow(0px 1px 2px rgba(0, 0, 0, 0.3));\n",
              "      fill: #FFFFFF;\n",
              "    }\n",
              "  </style>\n",
              "\n",
              "      <script>\n",
              "        const buttonEl =\n",
              "          document.querySelector('#df-46c25a44-30b8-4fd8-9116-f70d0d605bfc button.colab-df-convert');\n",
              "        buttonEl.style.display =\n",
              "          google.colab.kernel.accessAllowed ? 'block' : 'none';\n",
              "\n",
              "        async function convertToInteractive(key) {\n",
              "          const element = document.querySelector('#df-46c25a44-30b8-4fd8-9116-f70d0d605bfc');\n",
              "          const dataTable =\n",
              "            await google.colab.kernel.invokeFunction('convertToInteractive',\n",
              "                                                     [key], {});\n",
              "          if (!dataTable) return;\n",
              "\n",
              "          const docLinkHtml = 'Like what you see? Visit the ' +\n",
              "            '<a target=\"_blank\" href=https://colab.research.google.com/notebooks/data_table.ipynb>data table notebook</a>'\n",
              "            + ' to learn more about interactive tables.';\n",
              "          element.innerHTML = '';\n",
              "          dataTable['output_type'] = 'display_data';\n",
              "          await google.colab.output.renderOutput(dataTable, element);\n",
              "          const docLink = document.createElement('div');\n",
              "          docLink.innerHTML = docLinkHtml;\n",
              "          element.appendChild(docLink);\n",
              "        }\n",
              "      </script>\n",
              "    </div>\n",
              "  </div>\n",
              "  "
            ]
          },
          "metadata": {},
          "execution_count": 12
        }
      ],
      "source": [
        "final_path = os.path.join(base_path, dir_path,file_path)\n",
        "\n",
        "df = pd.read_csv(final_path )\n",
        "df"
      ]
    },
    {
      "cell_type": "markdown",
      "metadata": {
        "id": "cY2qluRqKq6U"
      },
      "source": [
        "# **[ 기술통계 ]**"
      ]
    },
    {
      "cell_type": "code",
      "execution_count": 13,
      "metadata": {
        "execution": {
          "iopub.execute_input": "2022-01-18T11:05:17.373117Z",
          "iopub.status.busy": "2022-01-18T11:05:17.372794Z",
          "iopub.status.idle": "2022-01-18T11:05:17.750224Z",
          "shell.execute_reply": "2022-01-18T11:05:17.749324Z",
          "shell.execute_reply.started": "2022-01-18T11:05:17.373082Z"
        },
        "colab": {
          "base_uri": "https://localhost:8080/",
          "height": 300
        },
        "id": "EVbXW3S-Kq6Y",
        "outputId": "8349f8ed-a18c-4a15-8d88-c01d1ac675cd"
      },
      "outputs": [
        {
          "output_type": "execute_result",
          "data": {
            "text/plain": [
              "                 id     store_nbr         sales   onpromotion\n",
              "count  3.000888e+06  3.000888e+06  3.000888e+06  3.000888e+06\n",
              "mean   1.500444e+06  2.750000e+01  3.577757e+02  2.602770e+00\n",
              "std    8.662819e+05  1.558579e+01  1.101998e+03  1.221888e+01\n",
              "min    0.000000e+00  1.000000e+00  0.000000e+00  0.000000e+00\n",
              "25%    7.502218e+05  1.400000e+01  0.000000e+00  0.000000e+00\n",
              "50%    1.500444e+06  2.750000e+01  1.100000e+01  0.000000e+00\n",
              "75%    2.250665e+06  4.100000e+01  1.958473e+02  0.000000e+00\n",
              "max    3.000887e+06  5.400000e+01  1.247170e+05  7.410000e+02"
            ],
            "text/html": [
              "\n",
              "  <div id=\"df-88fcc2a8-9e86-4e1b-86c8-25e5b7fb1edc\">\n",
              "    <div class=\"colab-df-container\">\n",
              "      <div>\n",
              "<style scoped>\n",
              "    .dataframe tbody tr th:only-of-type {\n",
              "        vertical-align: middle;\n",
              "    }\n",
              "\n",
              "    .dataframe tbody tr th {\n",
              "        vertical-align: top;\n",
              "    }\n",
              "\n",
              "    .dataframe thead th {\n",
              "        text-align: right;\n",
              "    }\n",
              "</style>\n",
              "<table border=\"1\" class=\"dataframe\">\n",
              "  <thead>\n",
              "    <tr style=\"text-align: right;\">\n",
              "      <th></th>\n",
              "      <th>id</th>\n",
              "      <th>store_nbr</th>\n",
              "      <th>sales</th>\n",
              "      <th>onpromotion</th>\n",
              "    </tr>\n",
              "  </thead>\n",
              "  <tbody>\n",
              "    <tr>\n",
              "      <th>count</th>\n",
              "      <td>3.000888e+06</td>\n",
              "      <td>3.000888e+06</td>\n",
              "      <td>3.000888e+06</td>\n",
              "      <td>3.000888e+06</td>\n",
              "    </tr>\n",
              "    <tr>\n",
              "      <th>mean</th>\n",
              "      <td>1.500444e+06</td>\n",
              "      <td>2.750000e+01</td>\n",
              "      <td>3.577757e+02</td>\n",
              "      <td>2.602770e+00</td>\n",
              "    </tr>\n",
              "    <tr>\n",
              "      <th>std</th>\n",
              "      <td>8.662819e+05</td>\n",
              "      <td>1.558579e+01</td>\n",
              "      <td>1.101998e+03</td>\n",
              "      <td>1.221888e+01</td>\n",
              "    </tr>\n",
              "    <tr>\n",
              "      <th>min</th>\n",
              "      <td>0.000000e+00</td>\n",
              "      <td>1.000000e+00</td>\n",
              "      <td>0.000000e+00</td>\n",
              "      <td>0.000000e+00</td>\n",
              "    </tr>\n",
              "    <tr>\n",
              "      <th>25%</th>\n",
              "      <td>7.502218e+05</td>\n",
              "      <td>1.400000e+01</td>\n",
              "      <td>0.000000e+00</td>\n",
              "      <td>0.000000e+00</td>\n",
              "    </tr>\n",
              "    <tr>\n",
              "      <th>50%</th>\n",
              "      <td>1.500444e+06</td>\n",
              "      <td>2.750000e+01</td>\n",
              "      <td>1.100000e+01</td>\n",
              "      <td>0.000000e+00</td>\n",
              "    </tr>\n",
              "    <tr>\n",
              "      <th>75%</th>\n",
              "      <td>2.250665e+06</td>\n",
              "      <td>4.100000e+01</td>\n",
              "      <td>1.958473e+02</td>\n",
              "      <td>0.000000e+00</td>\n",
              "    </tr>\n",
              "    <tr>\n",
              "      <th>max</th>\n",
              "      <td>3.000887e+06</td>\n",
              "      <td>5.400000e+01</td>\n",
              "      <td>1.247170e+05</td>\n",
              "      <td>7.410000e+02</td>\n",
              "    </tr>\n",
              "  </tbody>\n",
              "</table>\n",
              "</div>\n",
              "      <button class=\"colab-df-convert\" onclick=\"convertToInteractive('df-88fcc2a8-9e86-4e1b-86c8-25e5b7fb1edc')\"\n",
              "              title=\"Convert this dataframe to an interactive table.\"\n",
              "              style=\"display:none;\">\n",
              "        \n",
              "  <svg xmlns=\"http://www.w3.org/2000/svg\" height=\"24px\"viewBox=\"0 0 24 24\"\n",
              "       width=\"24px\">\n",
              "    <path d=\"M0 0h24v24H0V0z\" fill=\"none\"/>\n",
              "    <path d=\"M18.56 5.44l.94 2.06.94-2.06 2.06-.94-2.06-.94-.94-2.06-.94 2.06-2.06.94zm-11 1L8.5 8.5l.94-2.06 2.06-.94-2.06-.94L8.5 2.5l-.94 2.06-2.06.94zm10 10l.94 2.06.94-2.06 2.06-.94-2.06-.94-.94-2.06-.94 2.06-2.06.94z\"/><path d=\"M17.41 7.96l-1.37-1.37c-.4-.4-.92-.59-1.43-.59-.52 0-1.04.2-1.43.59L10.3 9.45l-7.72 7.72c-.78.78-.78 2.05 0 2.83L4 21.41c.39.39.9.59 1.41.59.51 0 1.02-.2 1.41-.59l7.78-7.78 2.81-2.81c.8-.78.8-2.07 0-2.86zM5.41 20L4 18.59l7.72-7.72 1.47 1.35L5.41 20z\"/>\n",
              "  </svg>\n",
              "      </button>\n",
              "      \n",
              "  <style>\n",
              "    .colab-df-container {\n",
              "      display:flex;\n",
              "      flex-wrap:wrap;\n",
              "      gap: 12px;\n",
              "    }\n",
              "\n",
              "    .colab-df-convert {\n",
              "      background-color: #E8F0FE;\n",
              "      border: none;\n",
              "      border-radius: 50%;\n",
              "      cursor: pointer;\n",
              "      display: none;\n",
              "      fill: #1967D2;\n",
              "      height: 32px;\n",
              "      padding: 0 0 0 0;\n",
              "      width: 32px;\n",
              "    }\n",
              "\n",
              "    .colab-df-convert:hover {\n",
              "      background-color: #E2EBFA;\n",
              "      box-shadow: 0px 1px 2px rgba(60, 64, 67, 0.3), 0px 1px 3px 1px rgba(60, 64, 67, 0.15);\n",
              "      fill: #174EA6;\n",
              "    }\n",
              "\n",
              "    [theme=dark] .colab-df-convert {\n",
              "      background-color: #3B4455;\n",
              "      fill: #D2E3FC;\n",
              "    }\n",
              "\n",
              "    [theme=dark] .colab-df-convert:hover {\n",
              "      background-color: #434B5C;\n",
              "      box-shadow: 0px 1px 3px 1px rgba(0, 0, 0, 0.15);\n",
              "      filter: drop-shadow(0px 1px 2px rgba(0, 0, 0, 0.3));\n",
              "      fill: #FFFFFF;\n",
              "    }\n",
              "  </style>\n",
              "\n",
              "      <script>\n",
              "        const buttonEl =\n",
              "          document.querySelector('#df-88fcc2a8-9e86-4e1b-86c8-25e5b7fb1edc button.colab-df-convert');\n",
              "        buttonEl.style.display =\n",
              "          google.colab.kernel.accessAllowed ? 'block' : 'none';\n",
              "\n",
              "        async function convertToInteractive(key) {\n",
              "          const element = document.querySelector('#df-88fcc2a8-9e86-4e1b-86c8-25e5b7fb1edc');\n",
              "          const dataTable =\n",
              "            await google.colab.kernel.invokeFunction('convertToInteractive',\n",
              "                                                     [key], {});\n",
              "          if (!dataTable) return;\n",
              "\n",
              "          const docLinkHtml = 'Like what you see? Visit the ' +\n",
              "            '<a target=\"_blank\" href=https://colab.research.google.com/notebooks/data_table.ipynb>data table notebook</a>'\n",
              "            + ' to learn more about interactive tables.';\n",
              "          element.innerHTML = '';\n",
              "          dataTable['output_type'] = 'display_data';\n",
              "          await google.colab.output.renderOutput(dataTable, element);\n",
              "          const docLink = document.createElement('div');\n",
              "          docLink.innerHTML = docLinkHtml;\n",
              "          element.appendChild(docLink);\n",
              "        }\n",
              "      </script>\n",
              "    </div>\n",
              "  </div>\n",
              "  "
            ]
          },
          "metadata": {},
          "execution_count": 13
        }
      ],
      "source": [
        "df.describe()"
      ]
    },
    {
      "cell_type": "code",
      "execution_count": 14,
      "metadata": {
        "execution": {
          "iopub.execute_input": "2022-01-18T11:05:37.195614Z",
          "iopub.status.busy": "2022-01-18T11:05:37.195322Z",
          "iopub.status.idle": "2022-01-18T11:05:38.748708Z",
          "shell.execute_reply": "2022-01-18T11:05:38.747742Z",
          "shell.execute_reply.started": "2022-01-18T11:05:37.195584Z"
        },
        "colab": {
          "base_uri": "https://localhost:8080/",
          "height": 174
        },
        "id": "bYeuo6olKq6a",
        "outputId": "2f6e6e14-9f01-4edb-f084-25610f0c9e7a"
      },
      "outputs": [
        {
          "output_type": "execute_result",
          "data": {
            "text/plain": [
              "              date      family\n",
              "count      3000888     3000888\n",
              "unique        1684          33\n",
              "top     2013-01-01  AUTOMOTIVE\n",
              "freq          1782       90936"
            ],
            "text/html": [
              "\n",
              "  <div id=\"df-e36bb9f7-8250-4f7f-8fad-0bc42614e15b\">\n",
              "    <div class=\"colab-df-container\">\n",
              "      <div>\n",
              "<style scoped>\n",
              "    .dataframe tbody tr th:only-of-type {\n",
              "        vertical-align: middle;\n",
              "    }\n",
              "\n",
              "    .dataframe tbody tr th {\n",
              "        vertical-align: top;\n",
              "    }\n",
              "\n",
              "    .dataframe thead th {\n",
              "        text-align: right;\n",
              "    }\n",
              "</style>\n",
              "<table border=\"1\" class=\"dataframe\">\n",
              "  <thead>\n",
              "    <tr style=\"text-align: right;\">\n",
              "      <th></th>\n",
              "      <th>date</th>\n",
              "      <th>family</th>\n",
              "    </tr>\n",
              "  </thead>\n",
              "  <tbody>\n",
              "    <tr>\n",
              "      <th>count</th>\n",
              "      <td>3000888</td>\n",
              "      <td>3000888</td>\n",
              "    </tr>\n",
              "    <tr>\n",
              "      <th>unique</th>\n",
              "      <td>1684</td>\n",
              "      <td>33</td>\n",
              "    </tr>\n",
              "    <tr>\n",
              "      <th>top</th>\n",
              "      <td>2013-01-01</td>\n",
              "      <td>AUTOMOTIVE</td>\n",
              "    </tr>\n",
              "    <tr>\n",
              "      <th>freq</th>\n",
              "      <td>1782</td>\n",
              "      <td>90936</td>\n",
              "    </tr>\n",
              "  </tbody>\n",
              "</table>\n",
              "</div>\n",
              "      <button class=\"colab-df-convert\" onclick=\"convertToInteractive('df-e36bb9f7-8250-4f7f-8fad-0bc42614e15b')\"\n",
              "              title=\"Convert this dataframe to an interactive table.\"\n",
              "              style=\"display:none;\">\n",
              "        \n",
              "  <svg xmlns=\"http://www.w3.org/2000/svg\" height=\"24px\"viewBox=\"0 0 24 24\"\n",
              "       width=\"24px\">\n",
              "    <path d=\"M0 0h24v24H0V0z\" fill=\"none\"/>\n",
              "    <path d=\"M18.56 5.44l.94 2.06.94-2.06 2.06-.94-2.06-.94-.94-2.06-.94 2.06-2.06.94zm-11 1L8.5 8.5l.94-2.06 2.06-.94-2.06-.94L8.5 2.5l-.94 2.06-2.06.94zm10 10l.94 2.06.94-2.06 2.06-.94-2.06-.94-.94-2.06-.94 2.06-2.06.94z\"/><path d=\"M17.41 7.96l-1.37-1.37c-.4-.4-.92-.59-1.43-.59-.52 0-1.04.2-1.43.59L10.3 9.45l-7.72 7.72c-.78.78-.78 2.05 0 2.83L4 21.41c.39.39.9.59 1.41.59.51 0 1.02-.2 1.41-.59l7.78-7.78 2.81-2.81c.8-.78.8-2.07 0-2.86zM5.41 20L4 18.59l7.72-7.72 1.47 1.35L5.41 20z\"/>\n",
              "  </svg>\n",
              "      </button>\n",
              "      \n",
              "  <style>\n",
              "    .colab-df-container {\n",
              "      display:flex;\n",
              "      flex-wrap:wrap;\n",
              "      gap: 12px;\n",
              "    }\n",
              "\n",
              "    .colab-df-convert {\n",
              "      background-color: #E8F0FE;\n",
              "      border: none;\n",
              "      border-radius: 50%;\n",
              "      cursor: pointer;\n",
              "      display: none;\n",
              "      fill: #1967D2;\n",
              "      height: 32px;\n",
              "      padding: 0 0 0 0;\n",
              "      width: 32px;\n",
              "    }\n",
              "\n",
              "    .colab-df-convert:hover {\n",
              "      background-color: #E2EBFA;\n",
              "      box-shadow: 0px 1px 2px rgba(60, 64, 67, 0.3), 0px 1px 3px 1px rgba(60, 64, 67, 0.15);\n",
              "      fill: #174EA6;\n",
              "    }\n",
              "\n",
              "    [theme=dark] .colab-df-convert {\n",
              "      background-color: #3B4455;\n",
              "      fill: #D2E3FC;\n",
              "    }\n",
              "\n",
              "    [theme=dark] .colab-df-convert:hover {\n",
              "      background-color: #434B5C;\n",
              "      box-shadow: 0px 1px 3px 1px rgba(0, 0, 0, 0.15);\n",
              "      filter: drop-shadow(0px 1px 2px rgba(0, 0, 0, 0.3));\n",
              "      fill: #FFFFFF;\n",
              "    }\n",
              "  </style>\n",
              "\n",
              "      <script>\n",
              "        const buttonEl =\n",
              "          document.querySelector('#df-e36bb9f7-8250-4f7f-8fad-0bc42614e15b button.colab-df-convert');\n",
              "        buttonEl.style.display =\n",
              "          google.colab.kernel.accessAllowed ? 'block' : 'none';\n",
              "\n",
              "        async function convertToInteractive(key) {\n",
              "          const element = document.querySelector('#df-e36bb9f7-8250-4f7f-8fad-0bc42614e15b');\n",
              "          const dataTable =\n",
              "            await google.colab.kernel.invokeFunction('convertToInteractive',\n",
              "                                                     [key], {});\n",
              "          if (!dataTable) return;\n",
              "\n",
              "          const docLinkHtml = 'Like what you see? Visit the ' +\n",
              "            '<a target=\"_blank\" href=https://colab.research.google.com/notebooks/data_table.ipynb>data table notebook</a>'\n",
              "            + ' to learn more about interactive tables.';\n",
              "          element.innerHTML = '';\n",
              "          dataTable['output_type'] = 'display_data';\n",
              "          await google.colab.output.renderOutput(dataTable, element);\n",
              "          const docLink = document.createElement('div');\n",
              "          docLink.innerHTML = docLinkHtml;\n",
              "          element.appendChild(docLink);\n",
              "        }\n",
              "      </script>\n",
              "    </div>\n",
              "  </div>\n",
              "  "
            ]
          },
          "metadata": {},
          "execution_count": 14
        }
      ],
      "source": [
        "df.describe(include='object')"
      ]
    },
    {
      "cell_type": "markdown",
      "metadata": {
        "id": "3jlSnamBKq6c"
      },
      "source": [
        "### 중심위치"
      ]
    },
    {
      "cell_type": "code",
      "execution_count": 15,
      "metadata": {
        "execution": {
          "iopub.execute_input": "2022-01-18T11:05:59.428600Z",
          "iopub.status.busy": "2022-01-18T11:05:59.428284Z",
          "iopub.status.idle": "2022-01-18T11:05:59.439791Z",
          "shell.execute_reply": "2022-01-18T11:05:59.438667Z",
          "shell.execute_reply.started": "2022-01-18T11:05:59.428570Z"
        },
        "colab": {
          "base_uri": "https://localhost:8080/"
        },
        "id": "lIRgiwdpKq6f",
        "outputId": "42fc630d-7e68-459b-fd78-9449c127372c"
      },
      "outputs": [
        {
          "output_type": "execute_result",
          "data": {
            "text/plain": [
              "357.77574911262707"
            ]
          },
          "metadata": {},
          "execution_count": 15
        }
      ],
      "source": [
        "# 평균\n",
        "df['sales'].mean()"
      ]
    },
    {
      "cell_type": "code",
      "execution_count": 16,
      "metadata": {
        "execution": {
          "iopub.execute_input": "2022-01-18T11:06:02.807177Z",
          "iopub.status.busy": "2022-01-18T11:06:02.806132Z",
          "iopub.status.idle": "2022-01-18T11:06:02.853280Z",
          "shell.execute_reply": "2022-01-18T11:06:02.852310Z",
          "shell.execute_reply.started": "2022-01-18T11:06:02.807128Z"
        },
        "colab": {
          "base_uri": "https://localhost:8080/"
        },
        "id": "XqyMIYYiKq6g",
        "outputId": "821f6bd6-92f0-4abf-b98d-edcd1e3e2662"
      },
      "outputs": [
        {
          "output_type": "execute_result",
          "data": {
            "text/plain": [
              "11.0"
            ]
          },
          "metadata": {},
          "execution_count": 16
        }
      ],
      "source": [
        "# 중앙값\n",
        "df['sales'].median()"
      ]
    },
    {
      "cell_type": "markdown",
      "metadata": {
        "id": "DPcoNdqcKq6h"
      },
      "source": [
        "### 산포"
      ]
    },
    {
      "cell_type": "code",
      "execution_count": 17,
      "metadata": {
        "execution": {
          "iopub.execute_input": "2022-01-18T11:06:46.385474Z",
          "iopub.status.busy": "2022-01-18T11:06:46.385179Z",
          "iopub.status.idle": "2022-01-18T11:06:46.401627Z",
          "shell.execute_reply": "2022-01-18T11:06:46.400999Z",
          "shell.execute_reply.started": "2022-01-18T11:06:46.385445Z"
        },
        "colab": {
          "base_uri": "https://localhost:8080/"
        },
        "id": "XNc2e4-ZKq6i",
        "outputId": "62935e63-5ca0-40bb-8b39-2d8a7488e098"
      },
      "outputs": [
        {
          "output_type": "execute_result",
          "data": {
            "text/plain": [
              "1214398.9778380839"
            ]
          },
          "metadata": {},
          "execution_count": 17
        }
      ],
      "source": [
        "# 분산\n",
        "df['sales'].var()"
      ]
    },
    {
      "cell_type": "code",
      "execution_count": 18,
      "metadata": {
        "execution": {
          "iopub.execute_input": "2022-01-18T11:06:50.897104Z",
          "iopub.status.busy": "2022-01-18T11:06:50.896330Z",
          "iopub.status.idle": "2022-01-18T11:06:50.912721Z",
          "shell.execute_reply": "2022-01-18T11:06:50.911867Z",
          "shell.execute_reply.started": "2022-01-18T11:06:50.897067Z"
        },
        "colab": {
          "base_uri": "https://localhost:8080/"
        },
        "id": "7kFaaAtAKq6j",
        "outputId": "241b4e9c-65bd-49b3-fad2-4362a3eee8ff"
      },
      "outputs": [
        {
          "output_type": "execute_result",
          "data": {
            "text/plain": [
              "1101.9977213397874"
            ]
          },
          "metadata": {},
          "execution_count": 18
        }
      ],
      "source": [
        "# 표준편차\n",
        "df['sales'].std()"
      ]
    },
    {
      "cell_type": "code",
      "execution_count": 19,
      "metadata": {
        "execution": {
          "iopub.execute_input": "2022-01-18T11:07:20.126418Z",
          "iopub.status.busy": "2022-01-18T11:07:20.126132Z",
          "iopub.status.idle": "2022-01-18T11:07:20.321900Z",
          "shell.execute_reply": "2022-01-18T11:07:20.320815Z",
          "shell.execute_reply.started": "2022-01-18T11:07:20.126378Z"
        },
        "colab": {
          "base_uri": "https://localhost:8080/"
        },
        "id": "yKZuPZVfKq6k",
        "outputId": "02efbc88-5974-4985-a646-fa7791036df2"
      },
      "outputs": [
        {
          "output_type": "stream",
          "name": "stdout",
          "text": [
            "Q1 =  0.0\n",
            "Q2 =  11.0\n",
            "Q3 =  195.84725\n",
            "Q4 =  124717.0\n",
            "IQR =  195.84725\n"
          ]
        }
      ],
      "source": [
        "# 사분위수\n",
        "q1 = df['sales'].quantile(0.25)\n",
        "q2 = df['sales'].quantile(0.50)\n",
        "q3 = df['sales'].quantile(0.75)\n",
        "#q3 = df['sales'].quantile(q=0.75, interpolation='nearest')\n",
        "q4 = df['sales'].quantile(1)\n",
        "\n",
        "# 사분위수범위(interquartile range)\n",
        "IQR = q3 - q1\n",
        "\n",
        "print(\"Q1 = \", q1)\n",
        "print(\"Q2 = \", q2)\n",
        "print(\"Q3 = \", q3)\n",
        "print(\"Q4 = \", q4)\n",
        "\n",
        "print(\"IQR = \", IQR)"
      ]
    },
    {
      "cell_type": "code",
      "execution_count": 20,
      "metadata": {
        "execution": {
          "iopub.execute_input": "2022-01-18T11:08:31.039744Z",
          "iopub.status.busy": "2022-01-18T11:08:31.039430Z",
          "iopub.status.idle": "2022-01-18T11:08:31.125690Z",
          "shell.execute_reply": "2022-01-18T11:08:31.124700Z",
          "shell.execute_reply.started": "2022-01-18T11:08:31.039709Z"
        },
        "colab": {
          "base_uri": "https://localhost:8080/"
        },
        "id": "lblTcjbsKq6l",
        "outputId": "539c7b1a-72e0-4a4f-cd8f-8be8b1097ccb"
      },
      "outputs": [
        {
          "output_type": "execute_result",
          "data": {
            "text/plain": [
              "array([0.00000e+00, 0.00000e+00, 1.10000e+01, 1.95847e+02, 1.24717e+05])"
            ]
          },
          "metadata": {},
          "execution_count": 20
        }
      ],
      "source": [
        "# numpy도 가능\n",
        "data = np.array(df['sales'])\n",
        "np.percentile(data, [0, 25, 50, 75, 100], interpolation='nearest')"
      ]
    },
    {
      "cell_type": "code",
      "execution_count": 21,
      "metadata": {
        "execution": {
          "iopub.execute_input": "2022-01-18T11:08:47.574047Z",
          "iopub.status.busy": "2022-01-18T11:08:47.573718Z",
          "iopub.status.idle": "2022-01-18T11:08:47.628964Z",
          "shell.execute_reply": "2022-01-18T11:08:47.627973Z",
          "shell.execute_reply.started": "2022-01-18T11:08:47.574012Z"
        },
        "colab": {
          "base_uri": "https://localhost:8080/"
        },
        "id": "T0v3dZNyKq6m",
        "outputId": "865d4b49-0ada-4e48-d7b9-3c4f81cf182d"
      },
      "outputs": [
        {
          "output_type": "execute_result",
          "data": {
            "text/plain": [
              "1.0"
            ]
          },
          "metadata": {},
          "execution_count": 21
        }
      ],
      "source": [
        "# 백분위수\n",
        "df['sales'].quantile(0.33)"
      ]
    },
    {
      "cell_type": "code",
      "execution_count": 22,
      "metadata": {
        "execution": {
          "iopub.execute_input": "2022-01-18T11:09:39.144037Z",
          "iopub.status.busy": "2022-01-18T11:09:39.143694Z",
          "iopub.status.idle": "2022-01-18T11:09:39.180816Z",
          "shell.execute_reply": "2022-01-18T11:09:39.180025Z",
          "shell.execute_reply.started": "2022-01-18T11:09:39.144001Z"
        },
        "colab": {
          "base_uri": "https://localhost:8080/"
        },
        "id": "Q2B_IXMtKq6m",
        "outputId": "2ab636ea-d444-4632-a341-cfbee39f3c87"
      },
      "outputs": [
        {
          "output_type": "stream",
          "name": "stdout",
          "text": [
            "3.0801353196045738 4.694568167115763\n"
          ]
        }
      ],
      "source": [
        "# 변동계수 = 표준편차 / 평균\n",
        "# 관측값이 중심값에서 얼마나 퍼져 있는지를 보여준다. \n",
        "cv_sales = df['sales'].std() / df['sales'].mean()\n",
        "cv_onpromotion = df['onpromotion'].std() / df['onpromotion'].mean()\n",
        "print(cv_sales, cv_onpromotion)"
      ]
    },
    {
      "cell_type": "markdown",
      "source": [
        "# 표준편차와 표준오차의 차이\n",
        "\n",
        "- 표준오차를 이해하기 위해 알아야할 사실은 \"표준평균은 분포를 가진다\"는 것이다\n",
        "- 표집(Sampling)을 하는 순간 분포가 생긴다. \n",
        "- 심지어 단 \"한번만\"해도 생긴다.  \n",
        "\n",
        "![image.png](data:image/png;base64,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)\n",
        "\n",
        "![image.png](data:image/png;base64,iVBORw0KGgoAAAANSUhEUgAAAzIAAAHzCAYAAAD7HigVAAAgAElEQVR4nOy9abMsR3kn/nuyqrvPdjeuFiSEhXYQCINkSSBkI7MJeYDA4bDlMS884eXl/D/D/3vMRKAJ8IwDG2xDIAYMBITFMjDsEJIlGV0tV8vd71m7uyoz50VWZmVlZa1dvZ3Tv4g+p5eqzKxcnnz2pI2tLQlIAAQpJaYLVU/6yoPI/z1jDICElAIAIIQAFxwBC5LfACmlub/ps0zy7G6bq8oiANSgOkmq53TvFV4HAUkyKZ9AST+7deny3Hbo74HicfAjHU89BtX9qZ9IvyfUmR+qbfqe6UJVI/Mdn3zWT2C3mhFBioK2ESAhrZazTMEECWaeTX3v9qX6DEASRKasOlCtrT9fzWxI2toMdeeQuU4KUItxlQIgat4+NfmzK0tK4SkroY/Jq3E1yZ1HEfb81ePMGMPa2hqklBiNRhBCNKa/5XNLr0abxtQqFeUU1gfR6Gp7j5oliuqcxp6v6+KcY21tDZubmzg4OMBwOEQYhhBCmOt0/UXtKOsr9x57P6v1XCy/KnV9um1EZNrr1quoYgEfw9JyytouhTTXGmrk9Mn0+bLlwLTXjW+s695X9L3mTQE1jk3H1J6HGm3aeNgRzrsBQPlE0JBSggUEyQEWMBw/fhxhGOBgOFSbIRcgIhDLMpL1mOrDA0XI1YZsnpo0Uw6zT5P1m8uotyEY7liVl5MyyOrapvXp611BaHLYghgRtZo/7hw0ZaOcrVL9VV5Xu/5y66j+Lq2rfplt1lmTuTYrJtB9HiKm6tbtmHoLlhd1xkgIgf39/ZyQ0w2dbiOMTAKlYFvGWTGtfVHPAS207OzsII7jDKPoCgxt4Ntz7N985fpoVdWctfeDzLUdKD8paE87DzvKxncaaFJHnX1ICFEodLTlsYqUkEd1/ug1mQgy5dqDOqjTkZohSLXC5VqztEwl2TIiyER7sbG5gePHj+Pq1au4eOECuCY0IstEz4IZawojazRE1S1krqiwaNiP2HLIfUWkY+u7Sl+ZasGLmfLiMUi15TZb2T3jwhgzG5XWmKWNcD+mGjrTcvcecy1lPrmmnrSkpDzvfKwSFMtQb35nx8YmoGXtKS6vzvoiokLmIAxDBEGgLLGcm7KUgoNBCtlA0ElHSgoJSartUkqQJKUUscbP1p4CiaBao5bkbtTt89IWe55rETavonH1WWLc67pmHGYvxGRR93mqFT3d70ezmiv2M+k5IITIMWH2Wm3Ld7h1QaZ7j5ASjDEI57kNVXPvddql+8tuu9awa7pDpKi5TRdMOYmlxbWmVz2LjzHtSnnjW6NdldUWTa32br+4YzfNed60v4poYBP4PFwYY+j1eiAicM7BOYeU0uyLhwE+TxQbLv0IiRikUdcDmKI1I7uJZTUzFXcCIHAhILi674033sDlS5eTJme1JfMy32vU6bfpOTyUcZPVlwCpoFUmImTaLyUg6yyiKgkqy9T7fs+Obd1eqc9gSCkQ9vrohT1wHkPEvJz5ztRRh8F1BRm7le7zlDgyGWl0OvM8ncPp7KOaTHlmlCnv9umrK7nI+3sQBAiCIEO4bCZpc3MT/X4fV69ehRBqvGyXjeIWEogxpWDRbn0F7ZRSIggDi6lhiOKoYp23F2LsjXuetKwpbEYPmA5DlkcRPfB9tq24dTF7i8siCKltYO/BWhvtMmPu+7L9ssmcsa9lFXyAnglkvSRgBB9972AwUAJRol3XrkJxHEMKUehGbFvlXaWIK4AxYhAJPzSJlWeRUNea0obRt921NFMfx7Fh6LuGu+9oNBGcJhVo3Pt8lp7l9D7KM5rFCo6Ufrs/hfpHCbX4WZgyHgAAMQ2iWl8rpweHcz1wajIJLnAQH0BKAcaC2uXNAnXa0FiQqXVDDSGmZjHNt/umT9S2rCpmpU2ZNqFhiKMYPOZgJRaCbM2JhamyPXVE0rww42ltwbVdw25vYm2rKxQm91e5cNQh7FJKjMdjw0jYyoogCMAYod/vYTDoYzgcqpuYZp6KTPs6PokAYhnFSm6zEorS6u+1NiyOoxpTdbKxWnQhxqV1dZiW6aCon8qEmSaY1Zo7XChyh+lyXpuytD5EKzFa8C5EBBaoPYCIcMONNyIMArz++uvY3d1Fr9dDGIZgjCHmvJqas9SaQ6S8SgCAC25iwwSEsQy7FqRlhI/GVyp2ayi6XEW1Kxx0TV/suav/u4qaWQgPdt/ourX1Zdbud92CkFhRXO1n+T2O/MAYQ6g7RpIEMYZ+vw/BBYTgiCu00Y2bndHyVkEabW4RIVSTanLz3aRo477WtKUmIHAWk7ViiDR/RplLu+x7HzPfzC7lQru91S1DStnQaW2Wc2/W87zKkpZFmV3Nt/mYzQl+xkdfHwSB0fTaWrm9vT3s7u46G1o5rdEEUNmZEu1rv48wCBBHsdfaoj+Px+MG67CbsVq+TeqwYSXA1IVew248jPt+EoHGy0BKqw77PbJ0R7uL2d9LITPB/7r8g/19CCEwGo2MK48WZGz347oQUhphRtdbbDnuFouusW8yH/S1QohUeTXFNun/nPOpCU5FKNoP7TYu8rhOC7Y1NxPsL6XKIgM5vc6pv5iKBRT92SWUy+aGsbCoYTApcuZYYRpwGfJmIlZ3bUDtehkluboKlnqRRivjHsJY7h57Y3Hdl7S2rA60QKTcytTTra+vY9Dv48rlK+lGyVOLjn5flMyhaxzFzWmF5UWRdthnlfX5/jdBUfluO9zvtALDds0hIuOFEDCWWfPnz51LrDQBer2eKaOW14WUKqkd05+VFp3bwpP1/6ijincrmi/TopPuHLX/z5LP9D1f0b55lPYMvZZzgowQAhDTHaTyjrb0+8b1Q7MZfu2KPalsBmfeVppFwqSaGL8FZoWjhemMepYYZz/70p6WuafVZzAEbFcxfe/Ozg4OWIAojlT9XOToiGFOpoyjtCEtPmz3yjnUvkRMSpH1xYbLEE7rucoUnDkXIabciI1yVJcBIGBBqtwlQApRixqWuf0YIcZp2zT7Y1bzx32msnrdGKkqpXRV/9i84DTTFM97LRYJVT7vpcMI10KWS788PyFGCy+AdiNSn6X10telk9nWwhKp4DwAEIKDJ8F4izSYk7RFCtman2xEID0GgJUFZp7w+fnPDm2EV+2ap1AVl6B+V9Mzz9w0YXjqMH06e6KUEklwIABgHEXgiMGCFmfSrHDIUS3MTLp3unPXPh9tkfYwH+y2pzFkcSHDNc3nca0+PtrhU3S6Z34AykIDEz/H1F6Y3FI53g4ZyViFgqzl57ChLq12Y1DsMasqp8iSr+EKq8uOKkvjPNoyWb3NvDx89ev/WUFmjuPtG6Q0UFcJMrnJzsicHwMorcpgMMDG5gaGwyF2dnYUMZlKwoLmmEiImWH7tQUm83mFOSDp+ULPssUdmSzzUDV3/UxGmXtKF+1zy2OJb727QWZ82GfEe9gM2CLQrhWAaVtmXCbOngOLmFrVZ0k4fvw4rrnmGly8eBFXrlxBGIZzmb8+GuL+lvlOSCN42P0ubIHHOSw3CALwOG7eJqGORc65LGGuLFgnqLLCVX1X9n1THAa66bO2zHJfsOvUgqG2hExaPxGZFEkm6B8ojBvThg1fvVlBpkpxOgGaa6s0t5bXnBS9l0JiODyAEIroMyLwFSPQCovLIh8x+LJ66M8zGqQ21dQXYiatqRsQJSf8SJWlLAiDJIOjTiWbEm6TeGPKvu0rurWImI4w0zY+YJGgfdZ1DIr+7BPCFsXluyzewdX6uhALHtvimzPT1uBP212wrF67fvu7ZYa9pnSyG0Cl/54Huli3Lv+ehpFkr7EVO6nwBkiZV0TmXMsWAykTVNZxLiMhpcR4HGE8jowm9UgG0tmPvBj7xYToavEcis6YC9r33vL0ORElJ21LhCFDrzcA5yp7o7kmoSnEaKoCTRmDtcK84ZpHW5ZSMb6+7FqLAp8vPhFhZ2cHo9EInHMEQTA3hqsujAWMFTFYWf2uJPVZCWu8cvRnwdSXzSM3/sS1+k0D856r866/S7hzknOeoQvTjAMCsn3pKiTa0iZ7b9OWnnydEkGgsiiHYYA45ojjCJzbB66n7VgY17I80vTLpVc5LicZP9cFi4+ZCI0U3NZFmvJW3TtDDX++4rpoQoBl5r3/PBE/Q6K7os78Ky7v8CAVYuY2STpG8hz2MkncSBgRiJCcmHxg4mls2MLMtBQly6CBP4xQG2tgrPoa+bHozn3B5+a4CG6FbZhdzrnKfFpw/7zntC8ltP3ZtihImVphWXJwrgbnHIwRAgRqb7HOouraDbYKrhVCHxIJpKniq6xLKywupJSI49gcO2BbPGfZhq7g0jsfrVXJGiTieAwhAuNeW7S2QiCNiZjmFC8quyR0snHn2RqHmcaUNCAO8ybky456murD4G28wiyRuiYAkqRxGwkCv9F6Vmc/tMGsgqoPE9SeoRjWzc0N7O8fII6jnF96l/VpuIymr55JLTOzYmDbzL2ivuikPZayoahsIf1nWLmJAqQUalsJ1AHcUkij8DJ6xgLXJp/3SOtnKhAQdXtZwDAYDBIPlXHretq0aUVvuoXrMre1tQUhBHZ2dmr1dd21ZCtQ7M/TQJmgbx96DSBzbk8ZQhOD0mFDffCVP62uWuTF1GZDlGjKODlmf/2moozJ50Abn7Z616WuYS0dnDya9aJ26E2tQemoFp7qCF/pO6PvJYAcA1vzstvCp4WeHXTtdWptqPJQ9zjEWwUfpuOfaouK551ilFxr3xSDDSugN4FpuxwcRtjB2MD0mP+8NcC1/GbjQ917F3V/8zLwHuFBz89UcKBcGXn4n9nEthVBZhWcmZ/cIHsdj2AJJqzgHhCZISJkaYnrviVlNnhZCr+yNSM0Ie0VV0HrPgsRmXYSEUgCo9EoR99WKEfdVVXbJ6TDeB099sPhcCrrf1Z0xWdptudnkCgJms5Z2tja8ra+aNED7T2EXXbAd+88SfSibhBAG8Zao/4zTULusltCE4GjvYBWflWd5y4WvIgI8LqjFZUjS2ok5wW46a/MZkrWJibTDJ42W+Nhb3Lt97eiWNgqF8HU5phLZ1eBNqvJnbn52WR1kOUh1qYutd7z58kQpMlgphiQZEZprSotpsWvDcOS0jxSUvIcn60o7qLiLpTb++tbBWSyAOtv6s37Kvs8zRQzfvdYu2xNLdJ2zSbWihJFkcj4r5dZl2yGnCjrtqWRtj2hr+6zWIJE0ycsCw7v9/oYDAbgQiAaj43LqYaQMqMUJEuYkUjHyWXYqqwyUmlQcruSjiPgnKPX6yEIAkRRlCZUSAQZ5X5TvWf5lWHTxUx4K9l8HlAikAo9du5vvnvQnlfqQmDwCcCzRFdj2aWgHWZl/2K4A9CFztGtdfFYg2VGuxFqM6WytoQmevRJSEJFyXWpNUm9g2S/l0g2lSqLZfrMVKe/JXLMonlHWWGFCLCPDiru3fp96LuyuNVaPCWAqN7ztWpVOdJnJuSyuNUjX4XluhpXpeFNB0LxJNK5qy4Du/ia0IylU8vuDQXWLqEtStqlQL/8Fqa69KPZJJm9QquaVkspoUIx/HFZ6uyj+VkCU4VAVtiwY1a1tlVDWTwFpIf+Mm3xADL0Urue2POh6S4ibD7GsmZIS8AKwgBMMkQe1yxiieVW80RaoEqsQwL6/J/U97+pa5nRKSTQGauCIEAYKndXHYuk+rFqn7ILn48wM2204SbmuWKaYhEU7V23oSshLPRqogFjCjXZEbhIzZdYjE5dYRExfQpZNPcaLwqy/nuKlNCuRkVzPafDKaksuZZ8lSUk2OG3tDAjZWqtMT/URJFp2/2eOYoK1VrK9c289r8m4nFduEJMJTIC6CHkBOaEKveL/Lom539lDZVXaOtcPbS3WvmfsabVKNmTWcC8tM7OZjRruNYYG1qAsX3f1T0yI0iXJc6whVoACMMQQgiI5GwXTb+IKCOo6LbZ9aWupAwBY+A6AQAUvSUijEYjBCxIBBppEgdpDb5NN7W12v7ObUOdxCBGN+PQXB3rotul417aJhUwegpqO4sXF3oVL6qaadn55i5d0LqkVblIVtd8m/N3xeGb/Cus4INtZ/ELM3UZW1ej74P/fi3A2LV4ZSFfiY4ftauxyvhbJ2s700JK66fVokdzi+NsMRs3ou5huxjY2Xj0puk/DHL5nnNS2GPLY47NrU0cO3YMOzs72N/fR7/XBxc844I2jyBsbTXRlgPblUxbaEajEXq9Hq677joIIbGzs4vhwdC4cZkMgiylSoypdKxSSkRRBEAJSQRAcmGd5C6Mq1thgL8QWFvrY2tzC8PhEPsH+whYACEluBAg4aQtRnoIty7TdunScS8AjLuXrOh7/S3TFh4AokS5ZrvDFaHu+ie0s8osOyO+wuFE6PNTk1IaF/4qP7Zl3TxXOFpoM0/1XlJ8V1ca4epyMlfU3Evy/t95TbKtobTvy1yz2rsSrOjcNJGLGSgICD2q8DGRURQjjtRZLbYVQDP1ZfdOp335erQbmK04CYIAg8EAvV7PnNMkEiGEJ0UIMKgPEoBAv9/H5uYm4jg2gkxabwodb+MLitfQQhGxNMuXrywjtATpqeZBImiRXW5yDo2oEaNi2pMIMPqOSUdotUZWOKoIi0xF3gXtKcCXkcR3/6JiJYgtPnzjU5TxJZMpxnWXmspYdzHPpz//THYfqw/0/16vZ3K0+7XfK6xQDnut+Sz6Wku+wmQwazcgDIdD7O7sGkabc334pIqZmPXe5o57ES3R7RqNRnj99deV62wNMhrHMXZ3d63YmjSYnlmuWwQkLmf5eciYcnMLGEsO2duHL4mC4CI98NbTj77YOnNvDctJFVbKoxVWqI/w+PHjODjYRxzziYUPY3r1+ILari0Zl5Y5w9VcLSIWoZ/mDZ+AXCZEFwndLGC1tWZppq7ZwPgu17mubR3uhsyqmUuyXkca5nBZ482OVa/kXRhdqNiIwND9Rae3ywKTwtiTVt/u61nvH3WUmTruQ7VPJyqgjLDrtp1zjoODg0wd5looCwdJ7dqVHlCphRcAmQxkqeCXlOGcN+Mqx5r0o3ZrK0PGzdf+Xq6oyiwhrYw6dr8XjcG8xsZV0q6QIox5nAogvP4GwxgDBYrohL0eAsYwHo8RRbFXW84CFZAXsgBxHCOOFRGROpKZJgmhzKNqoIXgYCyo5Xc6T7SfsIv5PHlIlGlqi4QV3/MZjbD7OdmQgjBAr9czG6gupSjOl2QdYaZbgtK5vSgzr7MrzPiuO9pNb7sWNzRktsgIM/U7o2wdd0l73CDjTBvKbkxuK2KK68AVaHjM0ev3sbm5gSAIMR6Psbe3W6usrlHHqrsMcNschIGJLXLRZWDuJHAFGzMWBAQUQDVdx9Gk8S1F+4JbnoRKUy+h6XUigCT7uwQQhgF6YQ9BGCCOYu9BkcTyqbcbuyMzAgknKrIoyF+2j1U5Kpi2h08mg51b91RqnBwrISaPcG93D0D9zrEzj4RBaNIQqt8CsEBA8Lw2QpmDJWLH5D0NYlulIQSU8AUoE7IQHEEQLuQhclUxSgV3TacxnUO3s7jfpbQ1ZGkAZ4r8WLsuVIDa8AGAc4Fe2EMURypbDZX0FtUx8S8+UXH7xf5OSomYc7hC36KjThagqcEIM1XXob6ZrQPUUQRNd7YSpFBZtXgcAyBcd931uP6668CFwOuvv4bd3Z2ptuAowF67VVYPbXGd15p292LXSqRcxADb5us/Lyc/czN0TYNRxu1LZzGLhUBIQL/fB485hBAIgzCpz+9B0hYqeYp6X0ajTL0rxnSFBUKR98si8wVh0wVrWzDG4zEkAXKUMEEFzIWUEpIrdx9hDpVzL/J81wKFwX2JS5H+L4XE5uaGEWiuXrm68IPVDMvi9lLezuzhYr4T1O1rs9oVKWUmVakQwrhjZC1xHjeFWm1f/P61raFSpKpCV4urn7lMo59i9nNLuaZSbk0D3fikN0ZdNeqyLMMW8O0dqUWHcOz4cdxwww04/abTGI1GOH/+3GwbeEhhuz7pzz7UuWbW0O3R56KotUEQQj+XzwqjTePq2rJyk6vVfycgP4oi7MSxsc4X3V/kStakDyvdyjztLStjpYVfYdpw51gYhggC5UFlZ5NcRHizllXBBFK734s5MBQlsNvBdWYULhDFEQQX6PVChL0e+r1+Y9e6xcc8CB+hOedWdW275/AGHOv5qRMrJ5e4o34UtoxMEgTnVXGn8x+YR4/ZsT2MyJwFscJkUP7i1TPB76qlxkBwACCcOnUSvbCH/YN9nDt3DufPn+++wTWxKHtSFyjaq12aZysr5qWkS/mLrLuY2xZ1AGaicNKB+eYzwEg5jxU9u83H2MoqE0dEBAGAC3UeXoZ/8fAyukyTJMVcmhcMXefdesqgAshkrByFW61bG9Zbj96vcFSQW5OMmRjyRfRWstHKImOIROJ/6otjKFxULCUM0rLOTGtRuQFSUkoESfDf/sEBhsNhcp3/kLHukSXs9bAsrLU9ivNjblmy+bjuUj6LYXHEzTKgntAouFBnGkhRcB5OUlpuzfrKn/9cdOmLcMZ5hflA9b8ACwJIAezs7ODCxQsgIpw/fx6c88wYLZq1YPmhFUmKFmotqurz+bVKWdO5mR/EsgdGSgEQBYX3qwM169G6IitGZs4VCC6F5UmJwDnM0y3bVu9M1NU6fKih6/2K9imQ87+uf4H+P//dbTGgLZhRFC28EAN4DsSsA1/8S637rPfkfJ/Tik+4MIuCxG1zu52ZpG0dzTNINF8qK7NyOfIbjNowpRCJa1m5pTAn3Gj3mEOwL9gCvOJm/PO13hogv0tVDQ1+lygcxxls5CYl67zicyZEtwyPS8XT71jA1CGHw2GyKaYZoooTeKwwCaTM21U1PZynysbst55EEi5yaY1z99TkNRz3O/t7O3aoFogyTG5gJQlSLcqek+O2vymtsF3imtxTB0QqsZObudPlZVZC0fJjElrvxrF3gWnOqcaCjF7QkzTJbHmMSvX3k3Zgjqg4DK9e1IR0YTfOUlLDzF/cnjT186Js5pNNNVcfUnKls8h8Y1Vv4qsZmWa7kdjYWMfaYICDg32MxyN1mJmQyg+bBNIZnPS9+9T6PIIKd4aits8ODTWUSJ66bnutoHZZkL5NyYh+nVaRj3lZf7YNvG0zBoVrF6nbYeG9vuxeet5kmBc9z/zzufzZit336tKNgDFEcQTGAqNlIyKEYei0px5lz9eX3qMszLYFXC6NRm9StKHfbclG8dhbVkohcr9XuWW1QVZQktb7LA23A+D9ZVTWhKa7k886UyfuxWXqDZ8ilYubq7ZhSbyPceNThZjyc8oPyq82bdWhzPpxYzmz7UuaVJgaP7dSXYWfc0GQuBLFjuV0nmjkWuf5ro4YrMdrMTiwyeEKIV0IMy3uzn2TFpW3lE6KRoKMdP5PgmnrcH0d5LMkdR0XUzbwaSBjhoTVKHU2BKVtLVlCWizYad9kDa4DyHwaqAqtlLT/Sm7+KwItQQFBIslWw8ikGPbNPK/LGSMAmhmYgaZ/ojtL7rZdIBrWQuqm5F5Pv5k/mW/Ky6wgjC7htZ+OPG1QDAChaBsqGzlfebrOojsajZRlqWpvRfILkIVVOp+FEMaVVgiBIAgghEAcx4nLTlKHPdi1a3E3JM2EqXXDOYcUMiP0daOwma0FMA/7+SdV6ZWxonXu1/+z1rFsP8tCOtadAsBW/uiygXROzFpZlxWummiYc30iU0WZsCzbKmlAiDAIEHMOSHVGjSSCZit8jKS7CxlhD1lrTBXNyKwC8jOedtZNcx/3C8K67oAS1z99Lyn33UVRthbCkZXJM+d8ahggGdJiWXup0CjUowLt7qtDnz2CliynghY5yaGVa9kK1SiSZmVGgw3U38AWe4mR9bfodyJCr9cDEak8/i1M6ECOlVXlW6mZd3d3sH+wb4SXOBIWo1vQ9xbFz2760yferWuQ5QyQP7FWC2EmIUw+K5qbZahLTV6eXXaRtKtgB6qTWCx9vioSWr/fskLxJPPI3hBqCInuZ0sr/OY3vxlxFOHCxYsIgiAXr9KcJtW5RkJNj9mtpdmhK2GmRc2GIQd8jLpv+bnxmE3XaT3LYZVANqvxV2nA1dzTfcWs/moGk8TCyqBpapIyw+Qb7T4xo2Azfcdc2uBr+eSoTa0cxlFKiVgk5wo65S0L3LbWpWqzX8XTxfyETr+yOIsCZXfhL9nSfWjgKLpCHfj8ZO3fqq6p8/syg3OOKIo69tPXmzKZlz4rgBI7hD7ckiSZl14VImHI9csup2rM5jpOM6JVBOVSQSDzn0AIWAiAoAJ1yfQdUWD1Yxaub7YL2xXF5+PutqzsMNX6qOrIvIarWdn566ufbTK4AudHP/pR3PPud5e4lhHqbSXldWW/I0xS7mGHPccpYX7z3+VjOtP3TJ3dxponqqmiW77661ybtRK5r2kjO9eqhIayPij3rEifV3COKFZB0WV1Silzv3W9z2eEqRrQ9euXcPY681qwbLRlyMwAUsos+3VUUBZWMcVakVdquPS/whrqlORTs/mwsshMEW7wXMropd/57pFSGJ92+/tlhPsMcRyXXN1dnUrjKJAuB7/zkUQ+wDR3TUksz5FBgWuGFiTyAkVWx2UElIKT49vF0+iYjNnsUJp5TOuvPxe0i1VZ3EK+vHrE3wetcR8Oh7jzzjtx55134umnny6pqw78ut6FdzlZGlQz1vb/IGBgjDJMp/6tezpVoEXNjP0izAOHjlgp91lgJ/fRiqoixUodC1TyiefpnK9cl86V8QFdocw6k2N24fAs0DTPf/2yoJk9fYXpYXqjsBJkZgCdUMB1BSoKRmQsRBiG0MG5Qh3MsLRwAxa72GjLTMEZwUP3d3LDUSRoWWF6sr63y6jLwGr/8n6/DyLCaDTytk+/98WyueiCec65UNTol/aB68n6L2u32XFrOkSU7NB2/9xxxx3o9/t48cUXTbYmzp+kWsAAACAASURBVLnHKrPCfOAbg3KBUUoJzjkmSZ7nW3f++VCsLPDHvsx/TvkzpPmsg0UW3bzCwbL1wH1G3X8c/nNkiMgc4AvMRiiQQOm+V0VDWcCM29wy75tN294Jf9Jgfzo8NLjuM3c/m1aCzJQhpUSSndHSBCnow4ZsRlNvUIwRmJPmcRkxDXcs+5Dnuh7H9nWMkjDvinbYB7gtM4gIg8EAADAajSYO/Mv8l0VMg75OgrEAGxubOH36Tdjd3VPxUcj3f9lcsTOCpd9PRhB1+5pd36ZO27JS4rJink1bEivqKsgkB8DEoW1sbOBd73oXoijC5cuXm6WdzZc6wb3LAX9c4yxocLXw6gasSymgwjBsNz5feQU11rA0q/qUJ0FxPzSrd9YotxpVP1NGEQQyygYf/SIieIOUkGWQp2M180OWaf0KoGnRrC1I8wIRZaZGkYdA7bJKvtfzxD7r6fBgPnvESpCZAVLilY0bICL0+31IKU3ciL5Wnbug3bAOz0RvosnP39x+mRAIxBikEBAeFyl9lda2lbk2LQPhyWSK8mxKXcLNTKW/Q7LpEwUIwx7G4xjD4QhaC2qyzOl2OhtlLuOVlcY0U1+J83PZEzfXMza8XqevlpZ7hiuQeVXqKbPkLdZK45pvm/qNMQbOOU6cOIHbbrsNv/jFLxBFkVGeAO48ppo+GOXC2CKh+XwvZkAWYc376ZX934YtsFYL7OVMal1P9cVElpbXfQaPW6z5ky9DcAEuihMquELjrHuyaXyIz1tkEdZAGRZlnRa1QadE17/7UqTPoh3ThKtsqdOe9PpUSe3lzEq6aiXIzBG2ND7t4N95Q/l0q7gfHSdDRI1cdXIslIfx8veh7RRQnKo3vVYtKsayy4MxhjAMEcexSi27AETTRqFlREiMx+MS15FJoAZBWuNIFrMMCQgS2N7exvb2tiOkFFgHNDEjxVwbS4ikzPdVoKprUs5keiigvpWH5JkzfPJa3yBUKZQ5F2CU9KNMdwF7I3nnO9+JwWCAX/7yl5n0y1nLTNq31VkzDy+NKsOiMEmARwD1X4VUMVMMV5Fw2OIyy75rWp6byyvTV9ACi0UHiQFYfo37MrbfpyCrq4Jpypc0bVPWqrp8feuiSHiRMj1bSe83EymyS7ASZKYI15TsQkqJ0Wh0qASYomdmjGEwGJjf2xKKsu25Tj8yi9n3WRJUOZrJk9BnYgBAGIbY2NjAwcEBoigy53AsyoF/+nlMgGvC70+PWErDbKcJFiRym7yQkPBbbeqcfH1YCH5b2DFJnHPs7e1hbW0NvV4PgsucsKQ34sFggAceeAAXL17Ec889l7HGlK2VsjEpWjOHCbpvzAGHFfOvmaa/WTuq533Z75YPrjfmJr3mMO1B8wAxAkS6d+gz02IrS2PmwNxZxMjUWOtN0GWs5TTgWr18FoEiJaZN04ru7RqL1n9FqJo/RcoPIsLa2hoYY7lMtV0rVVeCzIQoG0T397r3LhvcYECflo8xhjiOM0z/PJ+ZiEBBOkZEhIAFIEaIYw7O45zymXOO4XAIKWWGKZwfbEYl+WaS6N+G0H2gs+yl/ZFaW3zZuogIkiQEFzlhpoiJXlRGq01/1xUEdBwEkPZ1v9/Hpz/9aWxtHcPXvvY1XLhwCWGQvy+OY9x88824++678b3vfQ87Ozu5mDxfuwwTLwVYoNL62imzJz3ccv5rphw2s5bO72wcY9W9VddV1+8XPHQ7Jl8LWvDKuiMeBtSxxtiMuMuUuwx69rNMui3vqieFOgyTC672ESKEvR4GgwFGoxFiHkOSNG5lRQq/SddHUZxhmVK1roBiz79FX8cAcuuWkO8f87uQSS4m8t57lFFF83z8nv5ubW0Nx44dQxRF2N7eRhzHhhesKrsJVoJMA7gEp4ggNMFRWCRSqgQG2h1rarEang3IJlSaSfZpxIgIxAj9Xh/9HrB/cIA4HoMoLVcIgf39/Qwxn/v4af8pjwtT+abcHaRQ7mPZjVJAfcxvkuY6T/zLYUcTIUbNvWzfbW1t4b777sM73/kunDt3Ht/812+acu3rwjDE/fffj/X1dTz99NMYj8fKgmNZGYBkbhu/ZCW0sIAhsKSjjJVPyEz2pcMGe32cPn0anAtcvnypFrPZxdrqal+pqMUuveOyFwOu+47br6522Pc+/1mX4RcWVH0MXKh9jgUMYTh9q72tSHQFFu1GqveswWCAaDxGFMfFCo0ayll371tERZPNUJs+KhhfIsLGxgbCXg+7u7sYj8aHms51hSrBeXd3F3Eco9/vA1DrQIdUdMmLrEYqgS1JugvA/m9ffxjh64eqlw3fRmC/7O9atc/5XwRfXTYzlnklrm7j8Rj7BwcYjUZJyutsOznnpszFyDYinRfg22S7rM8d87W1NRw7fgxhqHQi9uF8RGS0+kB9Ro8YHRnBpgzpHJMmMPTK5Sv47Gf/B86ceQkf/tCHceLECXCHWRmPx+j3+3jHO96BV199NZN22bdmiSlNshTSCDBSJhYzS+jsYly6sShMpw6XZoxGI0RJhj37ex/Nc2mcXV5RG+eP8qiBtI3FVqLaNc05+2MX/a32C5HfPzwHXQIqQ+Tu7i6iOKpdR92sgsbTwWbUSXk+2DSYMWZcoIMgUDFyBcrEqoNV9fzWzOi8UbXOi/YdcvoMUKmmjx8/jvX1dbXGPWd+reCHS/+04lrFcXLs7uzi8uXLmTCKrveBIy3IFJlaXXTX4RIqF/Oib3BHDymR5hhHIwgRz9RNqx0s5oIkQMK4PdgMp7AIzCTzy2ZG3I2z3+9jMBhkNuLDbppvMj+0EFDvHgkplSBtfxcEIYgxnHnhBfzi5z/H2255G+559z3G/Uz393g8xs0334y3vvWtOHPmDF577bWcW6dpV3JPwAL84Yf+EP/5z/8zTp48mRN8XAE1ubv28y8D3E326pWr2NndAdBuDs+TlpcpmzQO07r0KR/d34p+9yFjbQAAkXVNchk3++wY16JR1M/umtIMYG2Fj/WyvQbcdmi6zznH7u5uxirrmyNVCstpelV0Bbtfw15ohLnMGmeEMAzQ66kz+65evYrLly/nsoutUIwqQdJWZtqeOV0nSzrSgoxGkZZxVovVJhTlVgtXA1/1ao4iU2GRxtEm5EIq/9+q9+a7hhN5sie0LRbZl3SCevU5Hppvn7ULWZsRVnMoJdD290EibPR6YeLq0KT0bE2ZMRcCe3t72N7exng8zmQmsa9t/PxCJGPSZJSbz45Uw1r3VayFrYt6Fg2XKVKvOI4RBD0ICfzfn/wEURTjoYceMinc9fwNwxAPPvgg1tbW8KMf/Qicc/R6vUKL83g8xvVvvh4PPvAg1tbXlE9/FBt3Nd/aBwApRfLKa+T81/u/7xpNyndprz13iZE3XbWv/KZ7RVUbfRbsSfrN3z5N6/xaVfs6ZY0t9lyYFMyyLmRaaNZbcwtAyowWW5QyDLqhO8ln3RdCZly3dKZym8q4bU/3kuL91H5mvX57vZ4JkLYVCHUFU2Yx4Dad1v81GFGmV3wvt40+bXrdOVAkHE3yqipbu9VtrG8Y1yZ9Jrn2xOZCpc3mMcf+/r6Jge0Ss6J7s0A17dMJktR736t0Dpe8yrCKkYHKAd+GIDe9w2fidBekbSUKGDOaHmnub7oY2rlYVGnTMwJNSTm+961bR63FM5SdywEAgscOkzlfjVOd5/Rsy9bdMvd7Pxwg5jEg6873PCNqBoEAwbXlR52DpAP4svdnmb+qeaUYBc9vZUnkPcG3E99XhIYHMuj+MafitkK682rh4dWzZ/Hii2fw9re/HW9+8w14+eWXsLa2hv39Pdx11124//778ctf/hI//elPM0yRzyrDGMN4PMZXn/wqfvvb32I0Ghn/cF9MmXa7rANbwJro+c3/eisjpWHVAoP1CWojTpleHit3UjDb7UcmfZCtM2upak8/ps/vuPuQei7OudFc5/sFaD4OHYH0uGQF/CrLgP49K1SothOpeUwyZdrN00k33k/BJL+QEkGYWiyllJBcKNrq1O22UQsHQNLfjAGJUuTEyRM4cfIkiAivv/46RqMRAsYQc3euOd2jyxYSItnrJLK01n4e24JTVa65zzwAcuVXbK2ZAmc1a6SUJtX8zs6Olw4J69kYqDpdf+vGWP8W25CVoGqdZ+lcmnI8VXhUj7RHaeH/uhZWgsyEqNvvmlCa7EyUHpKXvTAplxHCIFS+65DghnmQ1ftI5vd2M6OM0M1Ts2DX3FAHWvqr2svdDXv5oTYjASKGOBpDSAlWe+dxS7JUWTLZyGQyH6xdILth+IShYvh/by50TXZfEVooBYTqm5S4Tz63wiDE5SuX8cwz/453vOMduPbaa/Hii2fAeYzTp0/j4x//OI4dO4Yf/OAHiOMYGxsbGA6H6gmczVxKlQnt6tWruHDhAsIg7Dw+qRt6Qc7/utc3qMEjiIT9HqQUCMMQQRBiPB4jjnXcTNV4zpjhb4SsoEJEJs7NP17zpo3N608Z+VRxo9yGkvJsN6xMVZZQ42SEZCHD1uYmJIDhaAQex8qKIyUYsUThKIxFwKe4MTwAlBI1DFXGx/F4jKtXr4IF6Ynv7iGbhbCsRobyFliDAL+uCKihaMJsKO2ksC1QRRYAe/XmBLYjjwJ6qyTY9KNHEVS/7O5wpAUZV1PiftcVMpokphnC5DeRujCYw4MClmi4Ofr9Xt4sWTVXJhRiFhntn2jR+4IylDXb2km3gGQTN8R9un2RJW6z6ve29cxyXrSrS3mXqckhpcqGRIxw9pVXwLnA7bffjp//7GfgMcddd92F973vfXjuuefwzDPPIAwV8227gvhcvogY1tbWAUiT1AJAgVBTV6hoY0FeLIgkA9V4PAYwbji3F+vZ3b3NdkHa2NhAGIbY29vLjP/ioEpgzHvJp89nx5BZ8YKMGbexopGya9XrpN/rgwKVQjYajyGT9ORmVRCDSkmfPbfJvLezAFp7+2g0wnA0MvU1SfHfVUyHLkMkliP9f9ngCmS+/pnZzkTppr5YFKFr2KJ0kZZ+Or2+9IJMmb9oG8za2qBdOIz2hqk29Ho9T5uWj6CsUAfK0qGZRttVIL2k/oam4WNYJ0fqnmHcNFYZxmqji/gKQDE9L738MuI4wm233QYuOK655jQ+9alPIQgCfO1rX8O5c+ewvr6eybZX3CYJzl3XwDKkbXaZBB8ToT93xXDNCovj2+4Kj23a5GfZdZxUFEWdB+EuAlIXQ2UZlcaarAP4RaJoZl7m3XZB4jxWCSCIEPMkhXEimAiZPyOt0LJhaH12HUHKrKWg5jN2PWbLKLz4UGVhWmEaKJo705tT4bJMV8PK11hgiz5piUhpgxxzs4RKf9rr9bCxsQEiht2dHUUw07tr15Hxz02I7aL3TRWWjRGqAz0fNMy4Me2aVF2GvmcwGICIckGL3TBkui1+t7EVyqHjVIq0hLX81pN7+r0+Ll64gJdfehlvf/td+N3f/V3cd9+9uPvuu/GlL30JP/rRjzLnxujyi2LytGW4GRRzmG82s/ym/XWv0ASpq9vk7mrp/XbsyDhJM73sY+TGmap5l7/OjolR16b015t0IHHPjaII4yhK/fkTkshK0kvXZqaTNhFSi0id0ejKgfEw7q0rzBp1Z2y3WApBxuuxmyw4+9AisxDF4ggz7gauGJns94qRTQ6jYwEYYzg4OACQErQ0ULEeyAo+NUIgI6MB8gk1uh1dCTxuwGMdgu41AXs2lsNEdLVGvMz9pwz6Pp0Kebpa5LYe0ocFtkWqCtnroiiCEAIbGxtgjJm4FQ2dWczWivuEDyJCf62Py1eu4Ec//hH+9E//FH/5l3+J66+/Hj/4wQ/wta99DXawq32vXUa6PgEvt1cbWdrkE2Ls/yu0xWTrzA3KTb+fPDX7osC/d2Tnn/kPmPmvn1wUzFEt6BAxZZmxsr2pMvLWmLT+Bu3XruZ6rXa4ZOzgfGPxKXG9WmEFF+XKrvnRj6V1LXM3917YAwsY4igCJ5Fmm5lyG0qHlSjDNOiDpDRRtAmrPjE7jiPEcQTBBYSUJhBw0nZKi/9yNy79X59CHIkmLibl8MUeFRFNl+hXXXeYzMZSyJybd50Uv64r2f7+/pQZkuVndtrDtUjVuF6/k8BgMMD73/9+PPjgg9jZ2cH58+fx/PPP48yZM9jd3cX+/j4AYHNz02QSU/emGbi0Zng8jsB5jO9+97u48cYbcfc77sYvfvFzfP7zn8eFCxfQ7/dzQkyR9cdWruTbX8zY1Xd5tQX0WR6kZ7NshwH2WDRkkKV9flk37o15zK+vfYJYuvfkv9MQkNZ+nJ2bOtbF3Ov8V9cUP3NTV0r7wOauUdROrbzUZ4GFSUKLKOFBgoI+XWEFF/NUhiyVIOPNPJEwgFJKxFGEmPO5HmToMgtbW1vo9/vY2dnJHLSUY9odSwgRIQxYbdeisnYACfG1Qy4cBpgYpameaxKrsniMJvAJMPZ7t88OKzFtM299zOlh7Z/FQLsxYizAOIqwtbWF973vfQBgzuF57bXX8Mwzz+D555/HSy+9hPPnzxshBnDXWZoRaWNjA+fPn8d//2//HRubGxgOD7C/v4d+vw/OuUkXbB9u6YubUsxaGZHJW4ObCyTtrI0rZPTn7Ushu4xp0dGy8rplcHwWS9cSkhUk8ocCVz1/G6FbCUXZA2rrupDWPzDXV6/Vv1RRD+UzphIxrK9voN/vIb4aA3Hq7SKlhOCzVECssEIzBP1+//+fdyOawCvxSZWTXQixcG77OhtZHMeVJmfX0pBadIBJHszWqxYF4kKi8UF/PoGjzrXmO/3y+iTn8++XEeYq6DuZZSVr85oOKjTHh0mp3Apt+2ca/UqNX3re9Ho9nD17FhcvXsTJkydx3bXXYmNjA+vr67j11lvxvve9D/fffz9OnTqFF198Efv7+wiCwLsWNGPGWIDReIz9/X2vokS7GxZlQMrSF/c1UUd5+swfr1D//oZ3zVA7mK2rK0tQvpxJ94JcDRVKpCy0ybj7sSj9vaI6dW/xfupCz+70DJnkAGTyHz6pX4wIIIK0XNV0rE12755gfDoJdvF85faFs9SJqWeMowhRFEFCCS9SSuhU+6YMVwjyV1mrXYuAmdltF/T582jfI93TXIIvI2H2e1ouQabIdOxeMyuNX53h1kKMnVMeKNkwkqbnfRG7eSa3f+wTfk1NHnewtnXZBNCtu6r/XC2WnRfe/b0K+oRivRk1EU4yLEqnC9XSdOtiM8Unm+LSEMBpYZEEmWYwTFBiFYnjGE8//TSee+45bO/soN/v4/jx49jZ2cELL7wAzjne//7345VXXsFzzz2Hfr/vEeINKwZIJGecMKRa5yytCYIAYRgWptW1rZ5T6gWrrjZrKB3HJvceDkGGwe0/hcndjW1hV3/nXuNvU9GzVQvzZe0p/lG/cS2D0irbf3/RM2khxgghFe1Tmc3SWE8WMPR6PZVcBYAUwgT8u8JM3YQenXmSuIKGR+Fo0yV94K1KZJCmGC9sa1KcOxqVM35B97G6q9XXG40eaUGfP49FEWTsdhTRV/V+qVzLiqA0k0wRl7AHzmPE8ezTSBZqgCoIQ4a5n1Iq23QvyGZrkTLNFz9t1LWoaAJr91uv18Px48exsbGBq1ev4sqVK2YDriS81qYlk8jOOk+rlZ9kfdFtLzmbcm7NLph50ULVXG9b5mF0O5JQ/RIknwf9Pl566SWcefFF/PCHP8QjjzyCD3zgA7j55pvx/PPPY3t721uOzXya5B9EEImAQkxfE2TGhzFWOF76e1H34L1WyCpG2gQYp8zq4QhKr4+8W98kcAVcLdzqsZjcz913rx1dMtuxE1yABWQJ+CxDauvMPn2fLZ6EYYhjx46h1+thZ3sbI+uQSwDgsliA0QH903aBL1KW+mytPiWxr41kWaQyu5fWxx0+8p2CPH13mJ+3Ibqjy16tbsn3E8TITHP8mnaHZmj7/T76vT5296KcBWQW8GVMabs5dO3YUVqXI9wwopmuz6JATd1/jCnt19bWFra2tgDAxBzZB4kWgazysrqybH2wfnOJlGJGU4JdVE936HIGdIM6jOfiCSOaeXL7c3ZtNJpfmawtAiRjICnx7LPP4plnnsFPf/pTPP7443jPe96Dq1ev4o033jACiC0AxHEMxghELKF7BArU70EQZJ5LnwsjhARj0qwlmybpNTQrFCf/8K1hd94Xj9nizbsuMan1xW9xESIvWOQtSyj5XFgj/OtuUrRrj9ofVHvcva5WrU5qZa1sHA6HGI/HiGN1nowd51omxNj/OwFV97ZrxzLXFylXE2GrSJhByb3e8mpfmUfd+nw8Vq02djAUh5XyzA1GMnZ/8K/eSkHGNzmElFMfOC85LahXT9bRaIThwdBYGeaNcpOyP0UpYHuoJ2Z5NCe+xUipXlqP+SV5TaZVt9GGubA3As3IjUYjvPLKKwBgsr/p95XlJU3i+rmKDTcZnaFMdgZpfa56GrJ3laYw981ec1kFnxueb4OZhJmcSvCxV23WxArg3NkwTku7sNixWRIS4+QE7421Nbzlpptwzz33oNfrodfr4eWXX8bZs2fBrMxgggvcdNNb8LZbbsG5c+dw9epVXLx4UdG84RCDwQDr6+vQ2cQ4j43PvxACw2FkWTCFER5mw/yrvlHtkRgMBgAUvU6FmDIWzKVUeei4oTKtXf76wl8r65sNipxZ6rctjZlSmelcgS/bDS7tLmpPmUDpvy6b+tm+vlqIVteUPXOBdVgz4Ja5QLmRJYy6dXdVj+pDMwFAcCDmHKPxSK1RIVRZXF+bj+d0hYFJ4j1zbYN/xvo8L9zvi2B7htjCDDEyEyO31wu/QlJaW6LXYlOyrzKy6q5qtFZGWhf6LUTZkU92MW+RWYWLEv5N32ih1Klz+TE7+ldpwXN+L+rnQkGmKlBumrC14mQtPrteX/YRnVlDM+TLgLLMKBL1DsSqD0pngrXnZ9jmpJOppY24bXvd8bRdXmzXMdflrK5/f5V9w57XRXt7dY84/dsGGWFm/nDpgO1PH4ahCgxdaE14cwaoCcoYD7JeSObu2toadnZ3EYBwy6234qEPPIQ//NCHESRp1i9fvozvfe97OHfunPJbj5UAMhqNcMutt+Iv/uIvEEURXnrpJbz22ms4c+YMLl68iCtXrmB7ewfjcYzhcAjBObgQECICYyGIAYJzDAYD9Ps9CBFDB0tO160s7Q0lyKikB4wFJkGLKDy3ytUj10EXSgCbEsx7J+lmbaVCDKCfybgndtaWajVPe0w2Dub59RcJcz7p6KoEQ+WKHJ/1ZVYWRKra+NqUqT0bWliVivZe77VyAn4CVXxgVpiRzrfeO4gQBKlgZQRIHx+1QiWajm/pTr61teWXWX3aSP2axQKkfBA6SmI5bJPxMkymMnNpylTbFplmfZ7VJGQDRnW97ngajQlNX1ytSihgu5ZpYSYMw6yvr0eYbdUWdPO0BAJ1pZqZwRjUakaBnzVQ3Ofd0wdLQPT+PJ2+qmORKY09kdK4kwWJADgcDvG2W27B7z/8MP7ggx/E2sYGfvij/4P9/QN88IMfxGg0wo9//CNEUWwsJkSEOOY4cfIE3vmOu3HqTaewtraOMAwwHo+xvb2NS5cu4/XXX8drr72BS5cuYX9/H+NxhN3dHQASXMTY293FwcE+rly9guHwAAELkVpLuqSajsbT0rrbgcZCcKPB125w+XImZX7z87d4frafR9MJ9neRnifUDLNT7ZXPo/xvmViuorXUMm40ZwUhCZnspYpWp62qY5FhxCASy0xu38xcawk2multFAvWDEWeAq4FZFrxt7n2WFYLKZRFRiT8mU8/6rZf6/G0IrvpflJpAdJ8laYHZl5kr9f1siCxbHMBLgTCUMUgxpwvwA69fLDHtwkkCLJgfSxssH9RRjJiakLp92aii1TzuQxoQtiaPFcZ4+mre17a9DpZbDJJEEoI2mJbBFpC0kJYZooCs92xcb9bQfULYwTJBYbDIW688Ubce++9+OjHPoaTJ0/il7/6Jf7317+OZ597Dv/1//uvYCRx5fJF3HXnHQh7PfA4y9xHcYyd3W3s7u2YPu/1ejh16hRuuulG3HbbrYhjjl4YIghCDIcHiVvZAYbDAxAB//Hb5/HZz34W50ZDTFeH6FcrKbcbQLnWplnWkl+RspXdt+twzM9lfAY9lh6lnVFGdT/eLjOdb0+DsrQQYykAfTgcc6y5AGHvAfb5MzojWuP6G9/RsHyrvcr9TQulzLjeZhOmBDh27JiyqO/s4ODg4JDH5U0Xzca3ej9YWEFGw9XAgwhhL1RazkRDH0eROY3+ME0u9ehpyuEunmsRhJi60GNflB4UWPxnOKzIrcsVMiCixL9bYDAY4Pcffhgf/vCHcNvtd+DZ557FF/7hC/j5z3+B8xfO42OPfgy/++5345vf/Fc8+dUn0ev3TfyIDe0VpN0r9f/jx49ja3MLJ0+dwsmTp3DNm05j0O9je/sqLlw4jyAMoYQGge2dbewfHOhWzqQvXOurSt4RJlmzIoxGw9UcOjIodiEUMptBs06cq70vpvFA6XdSSFUekbLCwHZpkdZfp5WOyzcRUxaZZD8+7PO1USB/cii5UtwwBCwwZXDBIWfiuloHqXLFdksnJHpDqS01ljCTKM57IeHEiRNYW1vDcDjE/t7+crj+HApUd/TCCjLGEmF9BlKiQ8SMu8YyoougeB+q3K3soD2fcNRWg7LsWDyrwmK4llVhcfpr/tBrTx9iCQC333Y7PvSHH8IDD9yP8+fO4XOf+xx+8MMfYndvDzyOccOb34xHP/JRHOzu4P98//vYvnoFUgjvmS8y8eVmQWC+IyJcuXTRWDoYCxEwRRuF4OA8AucqOUYsOIQUWN/YAGPBzIzX+WxZHFGkBCuVlCAbu9E1h1DHMn000MYtrUaplQH70vrvs8oIEKk57RNipEi1/P76i70Qa9TVRAAAIABJREFUWKCC8Q3fILMu603SFtkWmcMI2yWsDVSqawYuuBEGXMFy/ihwX0yap9pr8QPJ3BNS4uLFS2BE2D/YN0r1FRYDCyvIuDATR2YDwIHE/5KRySKxDLCD1Ltc5JUuWzpFpE6viMVnl7v03/eVRVBaYiGlcniZN9FdkPiYFYphkpA4m3Qcx4iiCMePH8dHP/wR/NFjj2Fr6xi+/a1v45vf+iZe+O0LADEMBgPsH4zxoY88hLve8S78r//5d3j+hZcRhmuIeQRJAeBk89L6Yyl0xFxy3pJQ74UEOAciCEjwRDPag4AEhQQSAoMwQBTHRgmUVQ/NDkIIjMccacYy3xqffN13G/sz+/K7w3SFxGoL7QTxRw2Za1vbHgYh1noh9g8OMpaBKmeVOtnUDhsmEWK0glRwAUkAY1lr1ySB+01hJ4jK1ul3YdTCS1EMmhQSsYgQRxEAzOVojxXKIIsFmSIf+HmzV7aEPx6PAaTM+aJPLdvvkogSbZE0C0MIWwvbTotRGEeiLTGUzQ0fBgG4EEDiCgPjw364UIfwsKRvOJ8kLa3t598U+j5701/0WX14UTYH9G9xHCMIAnO4oBACb7vlFvz544/jvnvvxdNPP42vPfm/8bOf/RxRHGPz2DFsbR3D/t4B7rjzJnz8P30SL776Bn7wf3+J/uabIAXQCwFK7C82xVXii7C24+SdDKBPgGcBA4gZQUdCB79KsIBAEIjHB4jH+5AmBqcs/fEsMIX4iIK4izTRgMgJobNGO2ZoErrULVRf+sp362ouxGg3M0DtXdxy9TJphK0YGPs+KQV6vV7GxUn/Fkw41xbPct8N7D4sE2jscTH3UlqG9vTQljWdhGmSXm+6TpqOTFZ4Kb5bP5t2Nztsc2DW6HItNTpHZpaE3+sWpQPteDZf+bRPyO0e6aIhprQV2bMUukm7rMqkrADFnP9E6PV6ql+FhJR5l5bDAtvtDshrE1WGNAnItkKxVjt1wWwshwAzb2Zw3tCZ9ISOhfn938enPvUpnDhxAv/4xS/iG//6DWxv7yAIQoT9Hq558w1497vuQS/s47a3vwMnr78JP/zxT/D2+x9CL1wHRHJgJSSEzqajtcOSgyDBpARLMi9BMgAhIINEExooQSa5x4jFJEHEATHC2Refx3O/+Tmi0Q56oU5nPvsxnOa8cRVxjDH0+30AMAqwozNvp/Oc0lJ62Wnx66Fa2VOUoVQz0/ahjRoBSFklowhRFClhJqKUAT8qQ14CX+ZPCjzxRQX3+sRUACqlNfL7rGy9n3aNyfZXKVLFEhEpHdKRoSELgBJPlUauZSYwag6DNy1T3iw1LKkbmQARYMfApfV3d3YMY9qXnjL+nLYvLBFDfzBAHMeIRXyoF6bXrSz5zpylMTHR7aL/FoPsr1AMOx14HMc4efIkPvnJT+KRRx7BSy+9hM997nP41a9/jb2DA6ytDxDLGEAAwRiuveEmnDjxJtzy9nfjt+cu48JI4uRb70Av3ACEsqxIJJ60noMEGYRKISsBRgEIIaQMIaQEFwJcAFrUkeoGAAK9UGAtFNjd3UOMX0GC5cqeVl/NE5ruHlZtej1M95m1N0H9fbp9e7TlHMgrMW2hhhFLgs1VXBklHgdVZQN+IUqnXwaWW4FjrwXGGIgYwlDxClHiPqWva62SW9i+qXIqXGEZUSrI5IM0xVwDnOyaJ10m8/Vx9BHBVLBwF9o0iQLnMYYHAgISkgsVZ3RE1rlmcNITz1dCyArV0IoAzjmICKdPX4M///PH8dBDD+E73/kOvvjFL+Lq1asIggDra2uQgoMYIRICYy4xjCXeevoGbI8kfnv2AvZFCCEIFMeJm5hyxhjv7+HG66/FTTe8GZevXMJrb5zHiGv3DYmAMRA4BI+UUoQCEOuBCwkJkdISCRA4epJDCI5RzNUyZwBJrtxJJ5y2WXqaOpN0HS/RrC1Zp5bRaGTatLiM1lGAtAwyxY5HOoOZL3tZkReGFEnmMzATI1N3th07toXxOEKUWOxc1Em/vAzIxzMJ2Jnefdnf7O9XWGHRUGmRkVIqH3DGVAiplHP1D9T0bxmC1Mvha31eiJkGMvn1ISGFMBvGUWTDV8R5hbqQUiQGTpUV7PTpa/Ff/stf4r777sM//uM/4lvf+hYuXbqEwWCQZh5LXC5AATgY1k+cRv/EaZw5fxXn9wV4cAxcMhD1AASQYGotroVY3zqJt9z0VlxzzWkcxAFePn8FYb8PITniaAxGwObWOm68/jpcvrKDy5d3Qf1QCSqJIKO8IDiIccQUgbMeuNTaaQ5IAVBQ+MzLhsO3npd/t8ujXDOuhZc6KZht6PhPO74GnpgP9xtGBB5zk3aXwW+VOQxp5912K6FlOZ9lhXlicehSpSDDGAMBCHs9sIDhYDgEn8ICdv0qbbjfV1lm2hCbIm3DMp5dkn8WrUPSOdITP0/tXmZfdkhRZ8xWGqgVqqDjVcJeiPW1Y3j88T/D3Xffjb//+7/Hk08+iTiOMUhcNbX1Wt9DCCAEYePYSVzc2cNvX3oVUbAOsH6SflbFuiT5PxGuAfvjIa7sXEE8PMD+8ACCCCAGBglGDJsb67j77rcjDENcubqrgvpJn5gBABKKl2MQAAQ4skkllEackrfdzvbF2OhU/8vc2raugG5nt+u96vmbMOmL0ZfdgNDUBGgS+jTIrGUntbG/0xm0pFbeJa5q42icJsPhMudmZruWNW53S7fG4jnbLdyzeID8bFvthYcTZbyv/3tmPDR1mu22tKmrORV6Df+WUKHJZxRHEJFEHE8nGNxNR2wWrSYA9rUFZZQJQ3XbMMl1zYMdJy2jKYrM8QLZ0T58cNPlZua49d9O7b0i3CnqCvldIcdodlhX03F1E0QEQQjBBT784Y/g/vsfxD/8wz/gK1/5Cvr9PgaDAcbjsdIK60B6IUGMgcAA6mHECa+9fhERDYBwE1yyJGg/CdRPUilLGeH89i7GzzwHEY1xZSggggFiyUA8xsb6Bu64/VYwxvDvzz+PK7t7QNBDLEmlAjBMH0FSkpuMAp0mwDwP6exmE/ZpXhEwQYElqKNgSLOWkYkzsl1mspgWs1jVo4tNX4r6uJs+sveaOrNPZ9usL0ikQoxHGQn9HNJca59VUzXHmtAQW/gi5IUrMycTRYItQNnVSCmdshy+iLK/qe8K2l8zS1nuWXzfWZUUWbFKa6D8x/kHMFSPfS44wDNnJuVJZwF7HuWMBjWMCz7DQdkzZ8a3xtyzvbCKEOoF7TZAP1icpKlkUiYLazrEV2tCIKz3kqyAs7TeshbMc+I00+BPX7viMuuKgee5a1MCOeON1XWVnjK0sKz7wk7BKqVEHMcJo3p43GymiS7Wmnt/eUxFN1tck3WaJdgMjAUYj8Z46AMP4ZOf/BSe+ren8PWvfwOcc0gJDA9GIEbq0EqpGBfVaoYY6vsLl65gT/TAgk3EyRkw6vk4dHplSCXbjAXDud2xytLUW1NfSo7NtQFuu/ktODbo4elnn8WVnT1j2ZHSYZ4ISbmqHwlQp1hLQKd57qJf0z5V9fi72EdnqOA3l9lt3CLYJ7Tr9kjjdpe/vhtMi44uhuDTzR7rMnxZAUWAwKw5bPatFtUShLlV8xMq8D/9LmOJcNI5p++7OaG+KFGBtF7ms/O8maQVdpmOEFPWTT4hRlu77AB/3yqt6n6voFNxz+LAfkLbau1cZXiq5ApztEWyt9j9a5m5iVFhJr5ZQu8v5gntBEcJL1jeSosXl/aZOrbHDznX50uU5Pu2rLZihEYLkaxRLUxoCKly20zDncyHtfU15V8ex9g/GELFoop55hiojUUQYppDpYCuZ/PqFjbZmPbsklJiMBhgfX0du7u7mewso9EIt99+O971rnfhV7/6FV555RVjnVmhGF0LMV2UWQdt3TsYI8RRjBvfchP+7M8ex4tnXsSX/umfIYTA+vomeByDiOWZCkkgQSAEAPUQcQnqDSBkCAkV3C/17pKsBALAJSApBHp9JeIYwQO49tprEDDg6d/8EtvDEVi4jkgkTAhjyOYbkpAk1cGYRInrmRZqBNrnJmoKe0Nzx5ky/7VFZRK3heq2FMO13vhcbyYpfwUbnr7qkAyY8dIuhsl3JAmBq0gRqRJwmkxnYbICKSEd5aNWrJXtR7k5WbPpdjvM+0pGthiHI9SmJleSCAOG3utpZtGMzH5mWaYW0dujasnZAj9RnWeYnXKc5bQCzuemwXZtIaU6bV5wgdFohCiKIXjqErAMWOR2upMu3ZDJ85phu6Zcvh6TKIpwww034LHHHsNdd91lMk7FcYwbbrgBjz/+OP7kT/4E1113HUajkclktkIx6sYdLdq6aNMefU+v38cnPvGfcGzrGP7pn/8JFy6cRxj20vSzhYHFDEhSIoPyZ27YrIOylljlCAEIkZwfo6wJl7a38dwLL2JvHAMsTb0sEsY/s5q15lA9CBjTgsw8DsL012dbS9PxqXZTKCqr7Leq8lyXU/e+fDtXmBS58ZdQZ3p596e2L0DbSBkxx+KTCjBGcTFN19nk/BubDvjoqW5Pv9/HxsYGBoPBam+aGqTzmqAkR4hhAZspzSDpeem2QW0vItlm7BdQsoKSMpil5PF5VLj0exZQunhtGmP5Rs0SUkqMRiPs7+1hOBwupNTqIjf1F3Rzc/tyWtYGd0NahM1et+Pmm2/Gpz/9afzVX/0Vfu/3fg+j0QinTp3CX//1X+OBBx7AN7/5TTz//PPY2NhYirm3jPAxiYsMmzAfHBzgAw89hA9+8IP4xr9+A7/+9a+T7GRxxaG8epcgCElQZ7zoDIXa8kDKcpPsJsrsTuYF46KmxI/L23vYHQtE1EeEHmIwUBACjBkXYD2HhQCkJMMYBmEIQAczT75pN0OxJtqHrueJvQEXvZpgWebxCtXwxf9OU5gRXIAn7s32AdU+4Ubv174wgBUmR8rMS+NsK5Fn9GWJrtc+nNXsc5bAyhJr+LShBY4i9XSRJ4RxuxcyIwBBSCRBm5BcmOQV8/Ko8CEsC/RyzeqzgOqgYCmCpIpYAB3ctmjM8KK1ZxbQ80gIgTNnzuCpp57C+9//fvzN3/wNxuMxbr31Vjz88MP4yle+gi9/+cvY3t5W6cZXcTITo0hoWfR17YIxBiEE7rjjDnz8sY/j3//9WXzjG98AAJMcwpchSUNIda6LgARkGgOT7i7pVqNEi6yLmRJpLO0xCKAQHEAsU19jQpp9TFMnNf8ZoAWl5DvtMjxrC+zs61thmeDGq/gUbl1YJKSUyjWIsnEh9rk1045nYAHDyVMnEQYhLl+5nAg0LKOE6PV6EEJ5qQyHw+QAy8VQEB4W5GI1jH9c8fj7et92SzS8c/KdDuEwlH6KU6twZhhXOP8ezIhSTZkuywo1CUJ1qGzAAnDBwa1zJefNW4blmkSFZkHsxWW4KDKlrrBCl5BSHXr5H//xH3jiiSdw6dIlPPbYY/jbv/1brK2t4ezZs/jJT36CU6dO4dprr8Ubb7yB4XA4F0H+sMAVYrqgIfOA7af+sY99DCdPnsQTT/wPvPH6Gzh+/Lg5ZBHwu5UBqaVWKs4ptbAkGjoB7fCS7CNSQEWkp2H4ZEpKLDikDv0TYJBKbaZczwjGTU2lXVZCPEGA8yEiCETRCLHg6Lkb+AR9pBksmwEtG+/sfpDVGfr3ig4a2gKadhS55i7jnF5EVLlYaUwixPjKFVags4rFZUaYmbZAEwRhRjDRiWZi63RKnZDGPrR5Nee6x6Q0x81MBzjxR9pKnlg25iGGGufKgucqtIonSrrBYIDBYAAAGB4MIaOxiTcDEppY48mUIFdsVWwzv8O6lo9JGJGjqD04qsRmUZ9bW1l2dnbwpS99CUIIPPbYYwiCAJcuXcKjjz6K9fV1XL16FV/4whdw9uxZAIv7PMuIRRMMff69+nv9vt/vY39/Hw8//DDe+9734smvPonnnnsWG5sbiHnKcFSlME1dxVKXBQBIziB3MgVJUEbEIGNxQeZ3CXU6DIMkpRzT6WmlFIBkUN5kAutrId5y/U3YDGLsvPo0jN2H2kkzvoBWbblytepdoKvyisopsh5qBoQxBsaYsdSOC05/X2G6sC00XceK6Ex2rvsPo+lkm+I8xuVLlzPuSOYQXWTnoh3D40MuwcgELNdiUOf5o8l+VZbOuihL3Sxgt0TaXxY0xW2rbVGKxmNE4zEYC9I+KRDKsslastBZ0ogoM1EnCXeYSdSYkUad12GFraFcmYEXB0IIBEGAc+fO4dlnn8XBwQHCMMSNN96Id77znXjggQdwzz33AFDJAQ77PJ0mdL8FQWDWwrJAE1TGGPb29nDdddfhj//4j/HKK6/gO9/5jmHWmxBe7b4ipEz8sAGQHQUjwEj9pyRVMmmCD9ddwInMI9vJNRFw7PTCkuPkiU3cdutbcMdtN+HkqS1QkCQeAGvFuGRjcAQ454iiCHEcI47jyr4p2w8m2S/azrMq7wApJcIwxPHjx427zyT1rVAP3fMM9trxQySCuH2uzLRATsKBqmcsjE3ovGUrAO2UbjbznxMMZhmm4XmVXm9blZLYHmJklG4R5xhHMUbRGDFPabz7bFJKcM7TBDiWQDit5w/rXrhi6Kqh+2jr2DGEQYDt7W1zNskK8weRylJ200034ZFHHgHnHGfPnsX111+PKIqwt7cHIQQGg8FUtMpdYtGsGy6klDh+/DgYY9jZ2anUKM4SdZgF7U7U7/fxiU98Atdffz3+7u/+Jy5dvoS1tXXEUZQS+gpNm0rJrPyLdWpT/VLxdOlBf6kLWfLJKjpNZJZaQLgQKu6GgAAEmcmIJo3PcxzFeOnMy6DxNs6fv6jczkwSgfbpVm1MEoTclVdA29jKovVkfz8ajSCEMK4/PgveCtPFZLGzPgFGW1v0WKYuXCiQxWexmzd5RptJXc3CbtFmbQdhgIAFEFJCCA7By91spwFt8ZhkrppdKLFIEhEoUO/NcSxSmsmn4s6yCh4ecxBL43J8CqsuUFuQWRHrcthBUaPRCGNMSnSPBmwrp9Y2dZ1RzWY4xuMx7r33XrznPe/Bv/zLv2B/fx+f+cxnQESIoshYYrQws0JzaFrR6/VMf5ZhHuukqj7GGOI4xj333IMHH3wQ//Zv/4Zf/epXCIPQaGtNu2sobhWDlBwYhvTcmDgeot8f4G1vuxk7Ozt4443XEQah5Z9ttVMqYUYfzBdSAECmLjbpnqKuoXR1Xb50BXuXxxhghNEwTjOndXTI36QocvfSc6nKJcwtq2h8i35z63Bd5/Sme3BwAKB7t6YVpg2PJYa0Nrl4rvhcyhZhV3AFbylkNmi9ZSOrXGSPEtrs/7r/uOCGZti84Sx4iroWGPcmnyLKbW21ayOhF/YQ9kIMBmsYjYYYjYaQMnU5bhR8VBMztcjMQos8L8HB1sqORiMg8ateCYApqvpimqZHIQQYY7j++uvx6KOPYmdnB9/97ndx++23o9frgXNuXGKCIFj4wzAXYU5VMYtXrlzJaWDseyfR4E8bo9EIJ06cwB/90R/h0qVL+PKXv4zhcIiNjU0wImhP9lr+04nwIUlbQBgYAnBIMCaxdWwdp0+fwHC4C4BDnzfjRsrY7xkxBAGDQJpdz/Y9ZonLGIFAQQjBI0SCYWOwiV5vAzPyKm4NIjKaTBaQV6M3iRtZVZCp770OxnZpw6Jbb5cBRZawjkqHl7OX+WAB7dPPpW5Hs3Uyz3lg4rwwWYzMUURXYyaFBLfOFJtHXExjWHMlF2uF7OqpM7+5EJDjCIwYwjBEHAeIYzHVfV6dI1PBQJZJYXaQpBsT4v5m3zct1NXaNUUjU6/lmnLUNjev/65n/BlT/qMUMLBABdHqrBjdB3GScQn5wAc+gFtuuQXf//738eqrr2JrawuMqQUHACdOnMDtt9+O0Wi0sqhVoJKgcZ7JXlUVM6YTMky7z8vK14SaMYb7778fd9xxB77zne/g1VdfxcbGJqSUiDlvvq4NQ0SWdUYFQw4GPXAR4dLlC2ABzKGWuSKQWmMAIIri/DVeehwgCAYIaA1C9AAZglEA25FtWlSq6VgaqywXCMIQ6xvrCAK/vm2m/ubOvnbU6PqsUad/bYFSCOH5rOLYhLRfsF41lBBSwA1YLtN2Tzov2lK+IkuKy5f5XosIOZNmlfeDzlynX6TfM8Wz6BiYzPkxzv9cjTXGY9LxkQWvzAUFNxQJXlWtsOe9EBxRHGF3bxc7OzuIosjwAdOimxmOcZIgy6bocgH5NL1dBmPq4CW7P3x9M4t+K8IiEyUbrtlSnbEBrK+vm0DaaT3LzTffjA996EM4d+4cnnrqKXDOjdDU6/UAAIPBAI8++ijuvfdeRFHUeRsOE6rGqGocXaa73+/j1KlTOH36tBEss5CY5mn0uh1xHON3fud38Nhjj+H555/Hj3/8YzM/WrkbSCCwNkMFZS+RkmFtbRMH+yOMRxEglZCjD8x03QQYMTDyJ0+oXjMSKsUsGY2tpMTyQ/VSZ06GIqeHdFxVPJFiEAaDATY3t9Dv9/ylzZDeuXR9Voq5o4q6feoXYIqs6ZR5peNZT6DxldS23fb1+h6Xaa7DzE6yVxrXp4YMtE9Z3SUMX92y6GauVeXr2C5LH2GMAh7PJ8TYQk5bTEWYAcyju8/npmcmpNb+KqMGEQNjARgLDC23y7HHpZULXAFC3QhGpAJHa8Dt2LJNNcO4NmQCskSm3NLCeYwwCNHv903mHNsqoq/1BR277fcJKO4BiXEcg+bkJ13kFmETJd9zzqpNdReevi4IA3DOsbu7i+Fw2GmbGWPgnGMwGODhhx/GzTffjCeeeAIvvPBCzk1Ef77pppvwmc98BgcHB3j22WfR7/czaTGPOlyNdNX6sb+z16G7Ie7v7wNQwqTd32l5xsCN9IhlHRjSQsDwzFkhBLa2tvDYY49ha2sLTzzxhDkkVWVh8aeU9CP1v09Pj5EgSjY4CtDv9RAGfZw/fwlCqO1Eu5WpNtl2/yzRV+OQdkOhBVFmW5B+rZI/q5wCBDe6uYsNJj8XijWV/X4fYdgHgCQL2tj4V+vUznUYqGkJGX5rP4Oee/XrqhY4FwGtGKgS2l13zOreU99irtcgeUPCfLTM5+rmHf+KNteJD7TfE/kDtG3Xnjrl1oHvfCQNQr7vi/gLKdMDRX2Nb0meMwqXxveWtMewzxIZrt0dN3vP0paKTJa5pm5jNMHKLhCyCj0m/T+V3mfulzKzr8C89bve2vOBSBkRGKlz09x9PyMkJVt3E4G1aL2HWgNgn2hbtUjabg3NTfL12iGlSjcqpcT29jb6/T6EEBiPx1hbW6vQ0hS7o2kBRmtp9WbKGMNgMDAbq5QqKHAe7gbuRNHnHUzblDcpdNsYY+Axx/BgCAA5gXFSMMYQRRHuuOMOPPLII/jZz36Gp556ylhi9LzQsTG7u7s4c+YM7rrrLnziE5/A5z//eVy4cGEp4mZmgTqMQ12mJLNRJGvt4OAA+/v7mQPgrBKst5M5RLnMrn4JIfDe974Xf/AHf4Ann3wSv/nNb0z7pMnIwlCY0iiHxM4hBIhJQKaplQEJAcLLr7yGKB5DmpBFrSorzyZm+kZ6vvM+tNqM0o2OTIxNKm5J95bO4et73e4gUJ+jaITxaJgIfATOp6P9bYasIJhtT9O5uBzCzLxRKwatgKkyfWh+rrY5NtkvJ52Nuq1FlgDTpoJ77WszwkTNuokYAkYJ75LSs6LnMr3qKnoL2pipr0Hb3PomLSdfnsWdI2XQc7Fv0LKOdWjqBDEvk+1YflSNVel9zvLI3VO2lXhpsXpCSgQYynxf3NYywb0uQmMuahAP0PV2Ymtm85aEVKvpawdjDJASvTBEEIb4yIc/jFtvvRUvvvgizp49izNnzmBvb6+RlcDW+ul2xHGM++67D3feeSeeeeYZ/PrXv8Z4PFZZjJLNdtZxMZrxEkLgxIkTWF9fx8HBAYbDYZrju8G4tm1DG+h26XZqV6Iu+06PX7/fx6c+9Slsbm7iq1/9Kl577TVsbW1lLG1akNnf38c///M/42Mf+xgefPBBvP766/jiF78IznlOEzVrxqpLbdwk9RZ9rlNGGbRga8+LYuVHgYDTAnqORFFkAvzfeOMNfP3rX0ccx0ZpkV7f3CKT+tpLQPKE2AtIAKNRlKS3DKz78huf+5RNn9otTxJBkgSkEmCmPZurXFZ01kAj2IbdKjW6Q6KflHpeT7Ieu9jGlwPToJk+7wk/JhunSWhuG0uUz4uksG1o92Tra2sYj8eQgudcgLJKm+QzUeY6IVrECjZEd1TeLa/uvDkC6JQEJcJMQ3tFRnBvMdBhHbeQWcE+iK4s4Nt2ozLntJBKrXv+/Hncdttt+MhHPoJjx47hhRdewLe//W387Gf/j703f44iOfOHP5lV1YduQIA4RtzHAGNgOIYBc3gYz2HPrnc8seMNx+736zccfjf2B/+2f4zfiI31Ouz1jmNtj4/1mjnMeG5uECBACCQQQie61Wcd+f5QldlZ1VV9d6vF6BPR6lZ3HVlZWZnP8Xme52pB9CBZYEmn01BVFcuWLUM4HIau6zhw4AB27NiBqakpDA8PC+oSf3EPTi0EXS58A7YisHfvXjz//POYn5/HxYsXcfv2bcTj8br0JMjKots1WbkK3oQQJBIJfP3rX8eBAwdw/vx59PX1ucaW17VPKcX8/Dx+/etfY926dXj11VcxMDCATz/9FNFoFOl0Oq9AVkwbvW3w/pZr31oqzH7n4p6/QiB74HK1u/AYs/KVFzc11c5ad/DgQXR2duJnP/sZRkZGRPHDcu63zYLzelfcVmSFUBF8LDzjzu+WY93y0kuKRbYixEWgjOJUbWUmH+2Qe5ILoS8vHHh7M59L2f+riFwc+yqfuaB2BKEW488br1KMoagUWEKOyigr8rNnp4p3QKgUp2d/qj+pYglAfm9eFgp8FMrxP1cbqleQqxZyHTscDiPxtsI3AAAgAElEQVQajSKZTELXdcTjcaTT6bzHbGlpQSQSEfsBwK1bt/D48WPs2rULb775Jk6cOIHR0VF0d3cjHo/n5dxyC+y6devQ3t6Ozs5OtLa2ArAD0sPhMCKRCP7u7/5OFPqbnp7G8PAwBgYGMDMzg0QikVdgqwT4tWiahkQigXv37mHLli04efIktm/fjn//93/HjRs3smhUlUQlJttq9JNNT9GxatUqvPHGG0gkEnjvvfcwPT2dUwAPhULQNA03btzAH//4R/zjP/4j/vZv/xaDg4O4f/++SEZQTpu9SrofH9vveuT9a6mcyu2jlCIUCkFRFJfnz7tt0DX4eXXyXX+1lTZKKdLpNNasWYPXXnsN/f39OH/+vHiGKyFIWIzBAnOoCcymxgnvnrVAC4PdFgZmW1ur3Ih8fcnvMffKcWSoffW2fJZj5a+F2riExYRaKev8PMmkXRMp6LmSk5Nw+rz3d7PunsnqgJHM016y/aJWYMXHnhR7XLkv6qEr1FotDl5hhHtTGhsbsWfPHrzwwgtgjGF4eBjDw8OIx+NQFEVQemQwZmcRe+aZZ9DS0oLu7m7cu3cP6XQalmVhamoKly5dwvr167FmzRokk8mcipGsEGzcuBEnTpzAs88+C8uyEI/HMTo6ilgshrm5OTx48ADz8/NYvnw52traEAqFsGvXLrz44ouIRCK4desW/vSnP2FoaEhYGCs5Qfn1BU8tPDIygtHRUUSjUaiqikQiUYeLf/UgCzw8I9k3vvENPPvss/jv//5v3Lt3L6dQzPvWsiyoqopPPvkE69evx3e/+128/PLLGB8fx/z8vLDSlyJcKYqCSCQCxpgYr35tkq1zMkIhOxg6mUwWdd5CkC+2RVbOVVXNUmKCaJlBikpQ39VyzMrP59GjR9Ha2opf/epXmJmZQSQSyXh8KwAXq92hJTE4ls8FKUzJI2MIatXl+byPfmO+/pQYl38M9bGUF4+FoMcuRpTTR37zofxbrnEtn5cxVrG6JPnO6aWZOT9AIZmEUFypIYSgZpPHAoF53oGvtgmCOBpMPXloCi6IWQl4JwROy0qn00gmk9i7dy9OnDiBoaEhTE1NicrgsgWbP/ymaWLTpk1Yvnw5fvvb36Kvry+LrsSPPTc3l9OCzY/Z2dmJf/iHf8CGDRtw/vx5XLlyBcPDw5ibmxOByDzoPxQKibiYpqYmtLe348UXX8SxY8ewbt06/Nu//RsGBwehKEpZC3E+y7ZdcMiAqqrYv38/Tp06hVQqhT/+8Y948OABVFWFoigFebgWG4Is97xPtm7dipMnT2JgYAB/+ctfkEqlRBpdIKMEyv/LirNlWfjzn/+MTZs24eWXX8aDBw/wwQcfiOPnoyrm4j97lXr+vfzu/cwViSDlpxQUE7vCoet6Vp0d7s3knwkhUFXV5Q1cqBifXOBZDjdu3IjTp0+ju7sbV69eRSgUEtdRCYGPEOIoDH7CDJwsLxnLJ5XOR8s892KEn+eufoRuP9Fm8cAv/qLW3oCFRi3bIcslQb95KV2ApCIzOwuUMH6w4gL7i4G9NvE1MEN3laUn8Z1E8c9z0Oo0doFRSgazihq1YdNb5XP7pXouZr3129/riRNblOJUzrV9GU7qmioyMrhwlEwmcf36dfT09MAwDLz11ls4f/48zpw5g3A4LIQj2SoMAJFIBN/73vdw+PBhEcwvc6x5zAoAIVAxnweP70cpxbFjx3D48GH87Gc/w+9//3shrMnZyvhnuV2Tk5MYHBzErVu3EIvF8NZbb+H06dP49a9/jfn5+YoJQ3J7eRYtXdcRDofx4osv4s0338S2bdvw6aef4sKFC0gmk8KC701EUE/CZKXA+9g0TUQiEbz88stob2/HT3/6U4yMjIi+kOOYZPB+5cqCqqoYGBjAL3/5S/zrv/4rvvOd72BgYAAPHjzI8soEcfr97jn3pvh5KYPGCf9OjtGplHJciILBFTz5GfMeQ1VVrFy5Eu3t7Zifn8fo6KjwaPhnIVt4WJaFcDiMY8eOQdM0vPfee0ilUohEImL+qKXQwzNIWnUluFcPftfop8jXR18Ejd36GtNe5Ou7+ujbrx7cykv23B/oAagy1VYY8phlZ4NFdvwMb18mwi7P8eps3n8aUW69Gg6/O8X8PhetxOQZLXmPRwI3WjBFBrCFCB5zMD8/j9nZWaRSKczOzmJychKqqoosNhxycHs8Hkc8Hsfk5GTWpOAVnoK8Inyf5cuXY926dZifn0dvby/i8TiamppEIUwOb0AeF+C49+jGjRs4duwYdu7cCVVVYZpmQHG/0iArVslkEg0NDXj55Zfx1ltvgRCC7u5uRCIRvP7667hy5QoePXqERCJRtxbxSoLfm3g8jgMHDuDo0aO4cuUKzp07Jyzvqqq6hHG+j5+gbZomotEoent7cebMGbz99tt49dVX8Z//+Z9IJpOBCoHcHi/y3Ydcyoycia4U5KPVFUJzkBVh7yLc3NyMH/zgB1i3bh0mJyfx8OFDXLlyBTdu3KhLYUlVVSSTSWzcuBEHDhzAtWvX8PDhw6wsZUv4aiNI2aovL1EwvF5dbtijlCKVSvnSt5dQPtwG0+zkRbZ8bwlqKad1iWB6575Rz76Ws61cP6rc9gH5KGcUjGVnKXs6JYkl+CouFT16MfNN/u0XVJGRBaFwOAxKFSiKgpaWFqc4miqs5xxckYlGo2hqaoJlWYjFYr5W4kLBGEMkEkFjY6OLyuatPxP04Mu1SABbAG5ubhbeAU3TylYeZIGbZ1jq6OjASy+9hO985ztIJpP44x//iPv376OzsxN79+7Fs88+i4cPH6K3txc9PT0YGRkRsSO8rZWu21ILBC26nP63du1avPHGG0ilUvjwww8Ri8Vgmqa4n/z6ucXdG4vlTY6QTqfx0UcfYd++fXjhhSP48ssvnSQK9n78OfO7x0HfeRUWP6qZDDkdcdBxC4VXAMuVITDf/lyx5sk2otEoYrEYHj9+jIMHD6K9vR1TU1MYGBgQ3q56EJoIISKxx6FDh9Da2orPP/8ciUQCmqbBMIwaKPzB/Pkl1A/k5xXwj+NZDODXYJqmWF8Nw/hKGLkWEn5KTCG/eRUaTjXzu0PVmkOYZYERZ4l7ysfIUgyMDe73KMTbVvoZKrv9gioyMmy6VqaGAH9YeEwKB/+eW5IYs7OGpVKpkj0fhBCMjY1hZGQEe/fuxYYNG9DV1YVUKiUEfVnw9LNO8/iL7du3Y+XKlTh37hwYY4JrXyr4vpxKxphd++SFF17A6dOnsW/fPvT09ODdd9/F9evXoes6bt68iWvXruHAgQM4fPgwjh07hsHBQUxOTmJ8fByTk5O4du0ahoeHsxbpxQA/uonshTt58iT27duHd999F7du3cpSUAoVQnjch6oqmJycwO9+9zv8+Mc/xuuvv46HDx9iZmbG7jtiId/D5u1jP4qfd+x7r81v22KQ614XxaP19J+s8L3zzjuYm5vDo0eP8MYbb+D73/8+TNPET37yE18vVqHt9p6/3PGqKApSqRQ2b96MF198EXfu3EFvb69Q9P28sJWAOA4B6smeSagdw8PrilciqNiNMgjQC4xcNNEyjors/hBREVWB/PzzRDCVphqXS3v9KsKPtlWb8/rfo/qic9YWjKCg7I08cxdHobSuRfNUMNtj6Hyse6jAwg1YoRxQ2zrK07nywmh+dB954uVpU2dnZ4Xno9hr4RNIIpHAp59+ik2bNuHVV19FU1MTLl++jOHhYaRSKWGh5UqL7C1qbGzEypUrcfjwYZw+fRpDQ0M4e/asiI/h11pqHxFCRE2bTZs24fjx43jhhReQTCbxzjvv4PPPP8fjx48FbSoUCmF0dBT/8z//g4sXL2LLli04ePAg9u3bh7a2Nui6jp6eHnz00Uf44osvEIvFoKpqRRafhbK4E2KnW966dStee+01PHz4EB999BGSyaTj7aPiGiORiFBS+T30s7LaY4zAsmzl8cKFCzh79iy+9a1v4Wtf+xr++te/FnStxY6BoO3K7dcg2lr+4pP5wb1aPDOcYRg4c+YMVq9ejcOHD+P48eP45JNPxHNUDJ3Fb7tiaBFB+6qqKrINvvfee5ibm0NTUxMSiYTLWPFVXNArC9m25zY+1DP4nCCzAvjYLW+uDOZ610KZkd+ByhgG/Gi2uTzOQb8tdmTmerenJVfCDgsUlajKUmkFkhszGEPlU/kuYjDpvR66xZvNjgHlx1hK9rZqzUjF0tlzIasgZq1BCAGYHbOQTqfFImG3PbhtfCJMp9N2dVopDka+JsaYi3bmJwAxZme66unpwS9+8Qu89NJLOHLkCA4ePIihoSEMDQ3BMAykUilMT09D13WsWLEC0WgUjDF0dHRg3bp1aGlpwf379/Hee++hr68P6XRa0MrKob0ZhoFVq1bh8OHDOHz4MFavXo3Lly/j448/xoMHD0RGMr4tX2xVVcX4+DiGh4fR3d2NM2fOiKKZO3bswPr169He3o7f/va3rsr1+YRE9wDj/cp5viVdpu/xg/ojCKFQCKdPn0ZLSwt+8pOfoKenB9FoVFAnCCEuhS3f2Lf3UUAcE41pmvjoo49w6NBhnDx5EteuXcPU5BSIDzWrHMW1mgji+1diEYzH4wiHw0gkEoK28vHHH+O5557Dzp07cfHiRZH5byHB6Znr1q3D1772NfT09KC/v194aYBs+lzF74vN1ajIYThoGfeQwLZE8hZV26pebH/Wysrv5+X1xqZVrx3VvT7vtfnNg5VUaPyUG8DtGZfXnXJRD0KlH2hAv7t+J0pWtsJSUNE+4BJsBQ4q1x7xHr7QplQCQZckvmPVHUd+56/EU+/KoCYb+wkBfMZcteviuI6f49iEkCzqZNB2MhVbnMfZt0bUMrE8IlMvwU47SgiFZTEQokBTQ45AbP8m3xC/xnMlJaP8FBeAqSiKi99PCMHt27fx+PFjtLe3Y9OmTdi0aRM2b94MTdOgaZorrsIwDMzPz0PXdXR1deHGjRsYHh7G/Pw8LMsSMQGKoggvk6ZpgZXlXT3m0KRWrVqFjRs34ujRo2hoaMDt27fxX//1X3j8+DGSySRUVRWB7FxQByC8M4wxaJqGmZkZTE9PY2RkBJ999hl27tyJY8eOoaOjA6FQCLFYLDBeJqi4p9zNjHlTEVcuU5v7nO76JLx/0+k09u/fj6NHj+LChQs4d+5cVlV2PlZ433AhhcfPZI+xjG/V9uRE8WhgEB9++CG+971/wPPPH8T7778PlVDbKsLccSzVRiXPU+yz420D9wQSQoQHDADu3buHzz77DN/85jexd+9e/OlPf0JbW1ugIFUqiqELcg/s9u3bsXr1anz44YeiiG2l6z65zkshZnVCFWHmDKohY1n2qiovfK4xCvfEbzFW8iLMlRgCNye/MiCe9/qywnvHot8cI6P8eS0XG786zPRCjUPlXJffM53LIMBZFZVMrLFQyoxbgeNMEgsKzV5TgwyFpSoxhDqThE//ljPHcluy7IGQ21voKGXS+eVWWAWOu1z+y2KQPQtloBBSdIxMsQbXXOcv6YmXnzepTRTZczifVWTvjd/1MovZSoh8bYS42pxLZvVuT5w/2Xdf8tHLpwKyFL3MYd3ecdkzXrMYGXut9lfveWPSaR2GYWW5Zfk2ftYennq5EOXAC15nhntNdF0HYwxjY2MYGhrCrVu30NDQgMbGRiiKklXV3TRNpFIpJJNJxONxpNNpERMjW3YBW7HghRALWQi5ArJjxw4899xzuH37Nm7duoVHjx6JYqE8RaxsMeTt8/Kf+QI9OzsrFJobN26Iwpmy5bFQ2o4tgLmzV9l9pMAwTNcCVW3BxTRNrFixAqOjo/jggw8wNzeHxsZGmKYpaE/ePvEqxF5FTlgBKAMsBmYBpsVw7tx5HD58BKdOnUJX13WMjo4irIZhmnpFPFLVRJDHjY+PciCPITnxRXd3N1544QUcOHAAFy5cQDweD1SOqwl5nqCU4vnnnxfPuWEYNUp84VxzCVyNoPtTKK878Lh5/q8M6tND6YU8JnN5YIK81EWcCW7Rhkmv6qPaz55fP3LI60KxiUbqHa5ikoRmeVl8YykkPa6c+1KORzYI3qOVOkLrx2wRDG7MyUMGKv88Xk8l/Ps5CC7jAOz7ToUMRmFZJjRKBUvGZAwKpVBUFRZjME0DkGvP2Ae1j5ex3ZaFQpXCYs/D5w6v/FCWIuN1k+bitHl5fIQSWCbPnKVCVUzE4jGkUkloqgpNzVCygpQUTlPhtVS8ljT+7rWqmaaJxsZGNDc3u9JP8tohPMEAV1R4PRnvtfMXpRSRSETUvVm1ahVWr16NhoYGQUebmprCzMxMwdYnxuyAzC+//BKXLl1CIpEQFLJoNCqC/4P63s+qyNsbCoVgmiYeP36McDic9975tY1SCkIUMGZB1Wy6VkgLoaWlBem0jng8IRTDakL2Ol24cAFdXV2YmppyUcqCBBE/hS/wPNTuu4hm0/X++teP8NZbb2Hfvr14//0PwBU6nkazXlHNtvlZrnm81rVr13Dy5Ens3r0bn332GRobG2ue4phnrDN0A/v27cPOnTtx9uxH6OvrEymXq0onc6H45yLIulqOEsNbUr8jNgOZ+lrJecUrdNeTt2gxodC1Q0a+osKLDTydMq8HBeRfW72yUcnnLvsIX3GQ6vdh0JpSDNUsiyIKAJSCSiwYSp3YX6pAoxQNjY3QQiHMxeaRiMVhyQwaZsepW4y5vGd+yPWMyxT+akCem72yQ9kemUKt90C2NYIq1HEXUVDFVhySySS0UAiRaATRaASmabhdSA51qqmpCW1tbTBNE62trZidnUUoFEIymRTeEDnlrrwI8nYfOHAA27dvx+zsLBhjIr8+p2jJBTXlCdcv+xVXhAzDQGtrK/bu3SuoZVNTU+jp6cHZs2dFFq1c/SQv1ul0GqlUSlB2vF4WP4Er8GGRKFaEEOGx4PSsIBqF32f+v2VZsEynJovKHIVLr1H6Wne7+H3knjOu+MlJIAp9yPzukd3XFIaRwrlz53Hq1CmcPHkSly5dwtzcHIBgGt5XEXxSm5ubw5UrV3D8+HEcOnQI169fX7A4GeZM2ocPHwalFDdv3oBlmYL26TfeS5+cuQBTnAIpu9d5a3hxOnENdawsVxPyc/x0Pmd+9tkl5ANx6CyCIrOAY6NYiljlMwSWh1IF2WqgpFm3CKNsJfarBoqhXjNmx0Tz3KkKdeKtAMACGOz4c4sxGLqOICpzIecq5Pdy6Iz5kE3/t1GWIuPHeS22UYw5AeoWE96LI0eOYN26tWiIRmEx08WL4+9NTU3YtGkTJicnsWXLFly9etWlpZmmLZwYhiGoU/x8PNvZvXv3sGbNGrz44ovo6OhAIpHA6OgoRkZGkE6ni65GLnP3ePpl0zSxfPlyERvDqU45FT7pWnksDj8uR1Dfy9Qyb595s1Plq9YuI0ioVxQCgEJRKXTdRDw+A8uylQm//aoJmRrEPU9ARrko1gPAGMuSKUzTLqo5PT2Fv/71r/inf/o/eO6553D27Fk0NEShKFQonkvIeO/6+/vR1dWFPXv2YPfu3bh69WrNhVH+PLe2tmL37t0YGBjA5OQEVq1a5SjBblprpRQGYTUrZh9IHGK4KSt5z1UHC/ESioF8p73fLSEfRIyI/N0CPgdBQfuE2J4Xr0G3Uh6Zpw2Vio0p6FxeL8cCzqF8vfAb177bS+OHEALTsuVExhUzE0il04GhA3J8TTlX7Rf6UU3I96lsj0wpyous+ZqGCYtkhOhIJIL5uTncu3cP0WgUlGYEVNM0XVlOPvnkE+i6jsHBQcTjcSGQc0UhHo9D13VMTU1B13Woqiq8EZZloa+vD8PDw7hw4QI2b96MRCKBR48eYWxszLeeRDH9wZUOy7LQ0tICTdMwNzcnAvMLQSQScSkZXPmQqXZer4ysxGiaJvqOMYZkMglFUdDe3o7du3eLLHHxeBzDw8MYHx/P4ix7FSTvYA2HI+J/+/4okA9Rq0nBq9TJSku5xVJlWKYFqlA0NjTi8uXLTuzHQVy8cBG6ka57alktwe+9qqpIpVK4ceMGjhw5gsOHD6Onp0c8s7VqC2CPhZ07d6K9fSU+//wL7N27HzMzM8LwAPBnaOHuIx9xTFrH5OfPFQjpCEXMCla6CCVl08+WUAt479/STcsF73inUpB9PSnzLqMiXbx1dmrZ5lrPvNWgrJbTFhSx9vC5P2v24OuZ8z+lNBONVyANtO5kGZkxIX1dlCIT5H3JT28i0osJDinfjhAisnuMjY3h2rVr+N8//S+amptgmna2L06BkpUZnn2KZ+ziXgAAguZlGIYIjvdmJaKUIh6Po6urC3fu3HGlMfZeo9ftGHST+fVwDwwhBNPT01m1CILAvUWtra345je/iW3btiEej4viizw2xhsf48c19iolhmGgubkZq1evRmdnp6DepVIp3L9/H++//z7u3LkjlB/efm+bKaXCu5ROp3018YV+CEqdkApps2VaMIiB6elpnP3LWXzr29/Cho0bcPv2LWha3dSYrQvw55NSilu3buH27dvYv38/vvjiC9y4cUMkYijzLNJ7AA+dKI43LYQdO54FpQpGhkdw4uRJXLt6FclkCtFoVCrAy8cxd9jLAdnVgbgKSnzjVvzokUzaJ1PO0vGElfj8+T0D9bDAP/3wC5Fd6vcgyEY2SqnoKkooLCycMsPjY0QWS5pZE3IZGwCAmQvrCcj3eyX7NOh4tfTEPA0o1HMDuA1jYn9Utr+rJff5tZNfT1FSV2CwWgELn72NE4ik2IqLCExSKCzTQn9/P37+858jFosjFo/BtAxhGeXxIWLSks4rC/dciUilUhgeHsaVK1cwNDTkW2CTHy8cDqO1tRXNzc1Ip9MigxH3aMjXJysRXKCXjxmJREQ649HRUSSTSRiGYXMUpWCooL7kbUqn03j8+DG2bt2KgwcPoqmpSRQNnZ6eRiwWQywWE0oaTyG9e/duNDc349KlS5iYmBBZ1HjBUEVRMDMzg+vXr6OlpQXNzc2glCIajSISiYgikXJ7vLECch94Fdpae19ygdOaqtEm0zBBFYqr164inkhgZmZGjMOlOBk3eMrriYkJfPjhh9i2bRv27duH27dvC8Wh/MB/4nn3/EoomAW0trZh9+49+PLLc9ANA22tbXjw8KFr7LoNGFypKe9+2la2wra1JPoJQSYbkXj+fAws9kmy43o4BZQ6pZppgRQ1L8qhEJcDr0f4q4ElJaYY8DHNPY98zGeXBKgMvOtPltfeMSLYhS4h2uZ3DH85yQ35iXVMsJmkh4Sfs7z5k/qkiZbPaZXp5Qqa+vyMMy6CZTnnLEGgLmafSgrsWcwaOAq5z33NZyQO+s3P6xR0rLqea32sfDUxH9v9JAcAMZjMBJhDwXLmG4sxjIyMoqWlBV977mtIpZPQ9TSSyaSw2vp5SYBMkTtN07Bu3TosW7YMiqLg0aNHWLt2LSzLyqrYLQsuW7duxbe//W10dHRkCesAhHdHTuPLPRqM2TEhhmEgGo2ira0N3d3d+OlPf4qZmRkAcFWQzwXGMnVnzp07h56eHnR0dGDXrl1IJpPo6+sTQe08Bogfv7W1FWvWrEFjYyP+8Ic/4MGDB2hsbISu60IB5AkN0um0yNzG00dzpShf+7z/+wmA9YJKt8lL47MpU9ezvl+CG4qiQFVV9Pb24s6dO9izZw82b96Mnp6eqmcv43OOxSxs3rwJ69atxZ/+53+wds0aUAWYn58DwBxKigk7G5+8f+XbxBUb/vwwp53C6iRxngkAhVAQamcsbGpuQTyZxMzcHExLKihocwZyzjHehXHJ8lmPWJo/ioGQDZxnZSEUbcAxljAL1FnnKWrn5aCU2kocsg2MhcCy5GRGip3S10nGxBgDMQkss7QELbIlPVCBK+W4AZdICndQePZbmPXbbwzIbBr5s1wmQhjUAxQeGb5yM4Er9bfftnUJn8FSE0XG7hi7cyyLwbRM26JgQZAhmMUA1X6IDh44gFOnTqG1rQVzc7N4/PixqNPCBSKvJs+Vj3A4jI0bN6Kjo0MI+RMTE3j33Xfx+eefu2Jf+A2jlKKnpwemaeLIkSPYvn075pw4HV6nJpFIIJVKYW5uTuwneyU4Reb06dPYtm0bYrEYksmkb8xJoZq8pmmYnZ3FxMQEent7wRgT9Dd+vZRS4YHiig0hBKlUCvF4HABcMTlyvMjc3BzGxsZcHqZirQy5Bv1C08tKOXcxD7EI0KTyvgt3zbKiXOvUxrlACIGu64hGo5iZmcH58+fxwx/+EIcPH8aDBw9EYddqtZl7fEKhEPbt24dEPIH+B/34znf+FoQQzM7NSMaW2gpBDHY8F/HME5TY9DLqWJkpIQhpKhqjEbS1tkB1Umk6Gezt+17kAiRf7ZJCU68o3xv4VcFCCGD2nOvUpiIEIErW/O+tuu5Hw69U2zltXwR8l3BcxiyoobBdUNq0YJiGoP8bVulermqsi75H9OPl5juOhx5fD8oMgCzDMs/ay/cpBJRQW8H1mUq4wg1kj826V2gk1JzQLygSLNOnzLKVCsuyYOgGrl67irSextGjL+Lw4UOglKKrq0tkIgMCXLBOzAunTjHG0NLSgvn5eUxOTvq2hTE7a9rs7CwuXLiAa9euoaWlRSgGlFKRSpi3Ueb08wHIs4tt27YNe/bswfXr113VwkvtK05x4+dvbGwUv8tUNUopGhoaxHaqqrr25cfzJgrg+wrLcBU8GIsJgRxmeaKTAqwL2beW8BYhrYc2ARBKeCgUwrVr13Dz5k3s2rULzzzzDHp6evJSLkuBoJ5SBXpaRyQSwdatW3G/7z5SqRQ6OzdgYOAB5mbnoKqqc+7a9hcTxhALhDixaZxuyxhMxkDAQAAYloW5WAzziSRM+BfWlfuQU1wYs2AxgBRBb8tq5yJ7jp8OuEg2C9aKJfiDe2Aqc5Bwy2gAACAASURBVKzS576MMRdSLRHqeJcLe+C5opL536b7m5bEQClRieFeZXdbSclyEffEBF5ZCXPcQs1vfjHFtuKBrO/5/zK4TMo9ckBGX/EzgQTJo/606sVD562LyGRCCZhp37BQOIyx0TFMTEzAMk1s2bIZ/f19+N3vfufK3uV7HB+tWtd1O4uZs6+Xi0hIJsUxz+CVSqUQCoWgKEpWAgD52PL3PAkBV3xisRjS6bQoOFkK+CD1ZuDytoFPCnIb+X6GYQROGEF0qHoRfhcCi+XBDYKcarrQWJ1q3W+/SVdRFCQSCfT29mLXrl04dOgQHj16lLN4aTnnFx4qxrBx00YsW7YcX3zxBZYtW45wOITBwUEYhoFIJOJKBFKhFoATK7zpk+3FnYAqCsAYqEIziwyz72M0EgUoQTIRg2noMNIGkCaZomWUuilw8O/zQOUczFn83ArcYn8G6h1ejjpHdrzAUqzMYoTwwATI6UHPpP1MZxvIglCI2aXQOZUQKmLvKCEwdN1lsHNRWEtApdeYnEervT2qZAjDviSXWk4ZgHyXIe6FsxEDoHjuEVdmKA2mn1mMuRVNgsAsmPW6NiyIIpPpjMyDwm+kYeigimIXVTQNx5Kruwpd5lJkCOyHktBMUgA9rSMcDok4Gq/1t62tDXv27MHGjRsxMzNjK1FONi853XGuB5lv/8wzzwhPSClUrVx9xs8fjUbB4zO8bSj12EvwR70pdX5jkLdR0zQsW7YMAMQY5sJxPdxjboTg8V+HDh3CqVOncPnyZQwODmaN53Ih0z4YY9i9ew8oIbh9+w52bN+OcDiCvr4+21OpUJimkTPotby2ZDKhOd8IZUahCqgiCbHEfpY1TQUDp+N6lSwCZmVibeBe01xgFvNfFFnpfPJaohirsoxcYz7Xc1TtZ0VWVGzLOYOmqlAdinA9PKuLATLXv5p1WHKNPxetrFLn89SVyadACEGUwU7ZLhk45ffA8/kkAGGMwTQco2khbSYkZz2cemIH1CuK6Z+g8eDnNWMATOe+WMRfRqSEwPQxqvAERvycdeGl8VnM1HpQXjOavxOroVJomgpN0xAOhxEKacJzAvjfRLEIIXtAKKqCtBMnYmumtkDFJ590Oo1UKoWOjg689NJLIIRgYGBABOoHnYt/5lQuy7KwbNkyTE5Ooq2tDZFIBPF4XBRmDDpGIZAnJU518x5HTotcjIdlsU0wxT5I5V2f/YR4s84A8P1O7FVEGysxgQEQFEl52wWfdDzgwYrj4+P45JNP8P3vfx8HDx7E0NBQxc9lUyntyT0ajWDz5k0YGh7C3Nws9u7bi/m5OYyN2bWTmOVe0HPdk1zzj+dbzzsXuLJjcWQPLy+aNz097SxCprDQ2UcjYAxg/JuSbzGRXvmupf4RpJgEwY+WF3Qsv33LEc7s/XiBZlsTNU0D1YvTqvQ9ra95RRgx82xXznzoJ/BTjywAZJQqV40n6q6fJ7fHlyaveLzpkvxJnD/y7CLTSUu905wm580AbUmyBo/d84WV+9xeBkg58wxDsPLICjzsQsaD+BldhIzHv7SsrNnAr5X2/bdcqfeJc58YyySS8eOacTmYb2N57oufcbwYg1FV4HN/VRb8W41aItVDobxTGBgzoes2rStnakC5UyVlRtwcx0rgq+g4E00qncIXX3yB3t5e/OhHP8KxY8fw/vvv4/r16wiHw+JmyjSvoIHIb+rU1JSg0lRai+VZyPz6gGvQsucpF+pCw64ySp00iVgZixMuiu3PUtrnR29kjCEWiwHIriFUL+BtpZTi+vXrOH78OI4fP44vvvgC9+/fd8V0FXFU+N0fu18V6HoamzZtxtatW3DlyhU0Nzehs/MZ3LhxA+PjT6AqGhgD7Gxl/Pn2Ht9+L6RtTK6Z5bzbsiq/TxZAGGwmCYEF94JhMQaYjpoisYt86Sh5W1NIW0vfO/OeU4SRfi9d8K/UPJXP81LoQl2uwpepUQSbfWAEzQPlXnchIn4xWLzrRaH3zDsn51NiSm1DLmXa9VnJjFkF7hTszGK2N8aZu4qePVl2XKXfmPejQZWy1pULRpBToVqMozNrXFpW1hMrrosrJAGeeJeCJm2a1THSmuJSlnIUVw5qe677Wqn75NN8AVX+svbKjN9CmBFKVDWTsthL7/J94LnWCZuOwRizM6M5bk9CiKjM7rJWM1sBePLkCYaGhhCPx9HX14cLFy7YmTukoHp+PrlNcrt4hjBVVcXL1cZK9FzAQsu/T6VSvnVe6h35+qiW11Lv/RbUvlxey3rDxMQELl26hLfffhu7d+9Gf39/xQVWxizouo6NGzcgHA6ht/cunnlmPVRVQV9fPxgDqKI6OkYugY9Jx/Rf5KUTcz+e2Ic4HC5LzDtM0ML4u+WxaFLqPk7W9RXXHdltFsJA0BkKAReC8t0zBndFjIVDfsNBoAhh/1pRjxUfV/7nqhyebo9MpeFVYoKUFl/jgrdmDKdcScO/ECMjh2VZLq+OZWYLuUB5dyQobkuGd+4rdJ6uhrH06R59+Vah7G2Jz+8MACjxV2Lk7ZydZVpgMferMONeZRB0HNX748KQCkjWZ0IIdD0TqM6D8YEcHcddubDjBTRFBaV2Re9UKmVPSLyApVx0jhJRByYSiUDTNFHY0mshlpUZmxZgH49TZqLRqMiuxuuy8KKU1QY/bzKZrHtOaj4Xs6woMsZqnk64nvsuFxZagSlk3PHfDcPAtWvXcOzYMezcuRPnzp3DxMSEiOsp9x7wZ7S5uRk7duxAPB7H0NAQTp48CcuyMDDwEKZhQFFV+GcfYp734pA9rxJYFgOYLdgwYoGB2UqURA2pFQjjf8o6SiWakhe1p37IhY59OBllohSBsFTYz1ElroPv/7SLkRlwJcaPhhQ0P3mpZd7P8nG83kFC7Jg5IWdQIhgplmVC1w3ILBbGmET94mO2flLvL6E0+D1hJXk2CvFQlPk41wOrp2bB/oUqS7xTGGMYHR1FOp3Gxo0bsXfvXiSTSQAIVGi4BhqJRLBt61asaG9HOBzGvFMT5vqNG5iemoZCqWt/ZjER1M+VgLVr12Ljxo0iBXPWuZxJiAvYDQ0NeOaZZ7Bp0yZYloXJyUk8efIE/f39mJiYqNrNlt298Xgc8/PziEajdR80GrSQexcHOf11PTww9YTAhbTGnqtSeM+M2UVkh4eHce3aNZw4cQJ79+7FX/7yl4orkaqqYuPGjRgZGYGmadi7dy/u3r2L+/fvgyoUuWfy7Oe+GDB7J+mb3NcmW36XRnrtIBuobNP5Qs018vioDqVtCf6QFQHZC5Nrng36LVf8JN9XUVQhiwCAaVmiMCVPVkQIQTQSteNtE3HMzs4JRoll8oKIpGwDSLFUolyodyPqEiqPfHTdaqM2BTGRPSXnG+aEEExOTuLjjz/G5s2b8fLLLwvaVpBQa7NDCFpaWrBq1SrbS6La1oz169fjyZMJTE1OOZMUy9g1mK0cMYvhxo0b2LVrF/bu3Ytly5aJApNAdtwBpRSpVArhcBgdHR3o6OhAY2Mj0uk0DMOArut499138cEHH1RdEGcsk2p6bm7O1e56Rb6AWZ7Smm+7hPpGKfdI13WhyLz44ovo6uoSin8l2sMLYUYiETx58gSbNm1CNBpFV1cXEok4FEV1srq5rZjVmo+frnFc7LXU97UTSuwq2ZZNawZQlUx6fsh4fnLT2jLbVua8S7DrdgAyRV2up5JfQMuntAAeBog4piUK2lJCnPpRKkzLdGWfSqXSCCXi2ceT2saLYNrraT7jzBKW8HQhS5GpaqyM5NmWHd3UEThcDyalmJqawq9+9SssX74cHR0diEQirmKUfoqMadmVaDVNs7+zbMtvMpnAwMBDR7gxYTq8U94sXhDv5s2biMViWL9+PSKRCMLhcM5FgLfh0aNH4jubxmbT1WTef7W1VsuyMDo6itnZWSSTSRHfU6/wBqv7/bYEfwR5QRZLv/FnQtM0DA4O4vLlyzh06BDWrl2LsbExhEKhssYu7wfLshCJRATlc8+ePSIGzjAMqJoKZlb/GeHtUeo0CUPpeDoEZMbsxAz2mMvOXlf954rAX5EBKkMLW0IQeK/ynueFZAH3/GqJ9coSxSN5HK4Mr2ITlJKYEIpQSHOMkEYmWJ8ha05PpdLynuJ7ue2ZMVof4yS/b3EJS6gMXIpM1WNlnBNkOJ1ut6jME+XKjGEYGB4extDQULBHw5nnuefHYhaoEw/jx2e1GAusys4YQ39/P+7fv+/7mxcyFS6f1asSSoXfOWSF4JNPPsHc3BwSiQTC4fCiEWyLwZJ1sbYc+2pAfi5jsRju3r2Lo0ePYuvWrbh9+7b4rdBr884dMkKhEAghaGpqwsqVKzE6OorJyUm7gnJR9SeI9F6c0FDL2JclFA9C5BoYzIlFcP6riRIjzubzmxx4Xu7xv7qwa/YEr8HyM+pVZgBIsTK5jRGy9yUImqpB1TRomh3HqyppxBNxyaOS23NHiAKLmWAEICxTRLEUlcEvI5t9ruy+CsogK2/rSpRQUovkthWeZCEI1WTBFCuL1LPsspip+4HUsqp6ZuTzENiWMMaEZ4QSAkPyvPDMX/k6mcHJEILstvNJyjLt4oDe4k3eY/vFxeR6qIKykLiyo1URhNj1ZR4+fAjGmOizJSxhIVDIpCgEBEpx584djI2NYffu3Th79ixmZ2d9n8Gg48v0T79njgf9K4qCoaEhu0YUKWWR81NmlrDY4RZKvDb6yp8nW/HmwmQuEvbSeKs0CKG2qlhggpK8sS8Wc70D0hxjOfIJY9ANHaZlIZlMSAkFKBgzXbRWr1LE9QWLMYBSyRPj9eaVP1a8Ck4uJTBw21oJkguAWiklxabqqFRqj8UEX1WcSa9qg1lO1g1iF7xkjAklhmer4rESvI5LrpdhmDANE4bnZZmWCI7LZYXl5yxF+eAClPdVC3APlq7rS4rMEhYcxXhSCCEYGRnB9evX0dnZic2bNyOVShVcC4dSClVVEQ6HoWkaFEUR+1JKkUgkYFkWmpubMT8/j+7ubqRSKTHf5EO+VKmyISMfDdX9u3vbp3S9X4SQV8DqKDPZn4NW3Fquxl9dkBwvwKasM8ay5AlmMdfL99h8bvAoQZYT08KYBYsx8T/AwCzLKRBuf7ZME5ZpOttarqKP/CMlNNC7UgkUc2zitIU8dVTa6iJo/D1d0YiVx4KMMi9Viwv8dnyLHb/CEaQcFPsqFgt13kLaJb9zyIJUOcrYEpZQazDGkEgk0N3dDcYYTpw4IWiR+eow8e954VnDMEAp9VWCmpubMT4+jocPH4qCsfmekcxzRbPakE9x8T0WF2YIIAunS6JqfYExS7yqf658dz47Bm4h16DFipwehRwv3ode6hlQuPEyKP2yOJ5QYoIp7F6vkOU5l/17UJxVYRBJBzyvQrcrpt5OLhQ7ty4GFHI9LM+rEHwVTR8Lpi57ByohJNP5hMBkrCReeSGW0cWOfMqMH74K/bKEhUex40sew729vbh37x527NiB9evXC6WEHzeIumlZFlKpFHRdt6mpkiLDs5ZpmgZKKe7du4epqSnHGwPYiz7npGe/CFFAiCL+Lyamhhewy7FFwcdaQvWRLYhWTySQFW1FUXOMk2ybbLHKSbHbkypb9usRQXecAYHCec7jebxuXs8N/84yHTaJJ+EIoQSEUuc986JKxqDibZX7PsvjJmhuc9/nXNcp/1ZofyzVs3GjkOcwnxJDABCWsYMFeW38ts/ndVzMqIvZyqvQFLJ9oYK5y2IRwG/1d/XXB4qhqwRtmzvl5xI45P4rp2+847OQV72h0DbJY4/XPShFmWlpaUEymURvby+am5uxZcsWxONxl9ck3z2xqaV2zSHucbEsC5RSaJqG8fFx9Pb2wjAMKAoPWs210GeUHR6Ay5WTfAYDSohgJvH/MxZV6qw0Nq2EkKdnQXna4HebKzFvZq85QSOgespUfoUliORS2TlLfp64Z9U7N1ZrzsxkCmPCw8FflvRe2rGDkwC5Ymi8cTVM/l3qfyYrIO5jipo3maNK7/4vfuRcnhQZfNtCwBgTaa2B0oPIK7FeesdRvYLBvsWFvviQCOrZgo9Vw2usFupCkcmHXPxTAC4ByjQNO5DONGBZZrAl17GK8MJTwOL1WnjpBt7veXyRaZrQdV3QzhbbdVYCWV5Ap4/kMbCE0lBO33Gl4969e5ifn8fu3buxcuVKMU4LWQh1Xcf8/LyIE+PKFQ/yTyQSGBwcFPE3fJsgypgt5MhWev7M5L7O3JYuvgplgruXlJj6RSWUFhEvIF6ycO7NpJURVu1tAHvcwbNf+UJ9qRZzL8WpEuBruN/31Yz39HokZEGd5Ln1lqPkWHmUnWLGELOYk92UuDw4lmnCsuw4GdMx1vidg7/zcZY99jIvezvimgdzjSnv2hm0HZV+y1dUtJZYDMpMTv2zwF2BjCfmq4KiZgiC2mtvpmlCVVURbOdXh0HTNLtYJiU4cOgg1q1bh76+PoyPj2N0dBSGroNSBcSxqAolxnnY0qkUVFVFSFNhGo4ll7EFFS78hKtCJ0SvYqOqKvbs2YONGzdiaGgIjx8/xvj4OBKJhEhNK/Ypsb1BbQuaNGgR11MpFDOBcYpSrXnmfmcKqtxczfFZCn2lmLgT78JrWRYURUF/fz/u3buHzZs3o6OjAw8ePCjovjHGoCiKqAfFmJ38oqmpCS+99BIikQgmJyeRTqeF1ddygml5r8vncbfPK/DlGuvSYi9taic0yXzBnP+5wkSc/bKPXMx98NB1RbscegEhTkCwIyhzI471dDKqM0KdjyHL81uhXj/v/hy5veZW1jZu+hpBdkFW+55kC6iZMSY/R7mfkfxty/edOBKxpQBKKawKUId4u3lpAv7OSy+oqoqWlhbMzs4inU5D0zSYpmmfv4RyBrk8UN45lhU5wcr7ez0XxcynXLl1xdBIfc2ccxFKQBh37jpGFgJnLuFevmzIaz21NWT/a80xpqwsw7J7nbTXLMsWqItc6yulaORKK+01IlRauamGshSkmHjP5Pq/wG4X/r+SjSILu36oQH6BiK+/RPqiWs0mlEBxrDOWZWHjpo04cOAAbt68ibs9dxEOh4XFlYMrO8lUCgpVsG3bNnz92DHEYnEMDg7is88+xd3eXlimlVVdFwBWrV4FAEgmkwChtieHP9kLeIP8LB6FCInytlwYp5Sis7MTR48ehWma6Onpwc2bN3Hz5k0kE0koqmK70qVjUZKdaSXIMxYkgHvjBMQkajF7oqylkiD1RzH71Ap+4iQlJKdBpp6Uba/SF7SABfUppRSxWAyPHj1CZ2cnVq5cifv379uGDCkdey7ISoyu61i7di02b96MaDSKZDKJZDIJRVGcAryArKQE3WrGMsKFe3H07pDtW8koE1y4YNKK5CaC+CsxxY6/erQ2evul9oqTrLDI3mjZoOX9PsfRkH098rs/Msfk++brg/wKc2HtzX086chiG3tqDnpO+dpYwClLgKycpdNpJJNJ4V3lz3YpyKXE+F2KmN9KWAO8SlExcTamZfpsLxkaid0mwj8jYxgB4MguRLqb0lEcGqMY88TuF8tVByaonyTlOktadl7OT9wQXI/mEfn68tUWKhW+46nUg0kdWcgxvJ4Z16F81jEG+3m3mFWfN6wACI9MQcoMqueVYYyBKhQKpbar1jChaSpWr+7AG3/zN+js3IDJiUnEYzHX4iPz4imluHz5Eu723sVL3/gGvv3GG9i/fz+SySQeDgwgEU/Y1+AoS6ZlYfmy5XjllW9izdq1sEwLU9NTOPfll7h37x4oITANs6bCrAyeUlpeaGWBjvP8+XfcAs37Jx6PC0t3V1cXBgcHsX//fnznO9/B22+/jeXLl6O7uxumZUKjGizTzGREMS2YjDkeKircxYGcX08fWYyBEQLCMgGKLgsaqW/X50JbGDiE5Y0UF2hebQRRD2RBsZQ+NAwDXV1d+PrXv47du3fj4sWLJbWNUgrTNLFr1y6sWrUKo6OjgmJWCjKLXSHCYK7tChfieR+bliksm4Wdu16xcKKNLPBzQTiX4lK4QpNtmS6wRQVv7xXeGcv2auYfG8VaxO1xKoosEm58ktteHfC1gl9TMpkEgJIVGI5sQ4Tzfb79Ar4P8pQXglxrqL/Sw0QMhX0Ar/fIUf58Q7/d5+XKjMXgJEZRYFmFrXm5t2E5/qtfVFqZcd0nzw+VenL8zCj5tuNjnxc1dYUhVKhdC4WCqGWBN6YCIJTA0HVYjCGqRUAIQTQcxnPPfQ07du5Ax+oOWJaFLVu24Af/zw8wOjyC7u5u3Lt3DxMTEyKQ17IskbN8enoa//vnP6O1tQ3f/ObLmI/N2/xXhQqvjOVM/rF4DNdv3EA6reOl0y+hs7MTlFA8drj0pQpkJfeHM4krioLnnnsOra2tGBkZgaIoMAwDoVAIjDEYhgHTNNHQ0ABN05BKpbBixQrs2bMHy5YtA2MMDx8+xGeffYaBgQFomoaJiQl8/PHHaG5uxt///d9jfn4ehmG4rtEyLbS0tIAQgobGBixrWwZFVZCIJzAzM4NEIu4Iiooda6BkezhCWgi6oUNTNWzYuAHbt20DYwzxRAKPHz9Gf18f5ubse1Kvolet73s+LKQS49cXuYSnctzThBCMj49jfHwcO3bsQGdnJ/r6+iQvSv5jE0Kg6zra29uxb98+JJNJ3L9/H9u2bcMzzzyDhw8flkxNKeAqCtgm9zUQatfUspgFRbVr4uiGDkOqNu/fD/X6NNmZuUzTkAxQhXnYSgFXZDkopaJmkK7rrm1zBWTzY3m3l/6rWJv94KIWSQYtiCQRVPRjYRSzvGf0HEtS+iVPuonCKKSVAF8Py1Vi7GM5glwBfeRNbbzwcK+VtleEyF/Y1HnJW5hLAaPUppaGwmEn66MRsHWBbWMAY/7nratuDEAxxT8Lgq0rut/LOZbPYQM3l+YC12zlmTPEtg7NjpLy6aLVjj8KeiaFIsM7qJZgjAGWvchRp4EbNmzEW2+9hfXr1+PBwwfo7b2Li5cuIhQKYVlbG3Y/uwsvHH4B5y+cx5kzZ/DkyRPXREcIQUgLwTItJBJxGIaJVCqFRDLp1kCdz6lUCvfv38fdnrtIpVL40Y9+hMaGBkRCYcBiSFqpGvdKBg0NDTh16hRWr14NTdMwNzcnlCtKKRobG5FIJKDrOkKhEBRFQVtbmx3vEwph3bp1GBsbw8DAACzLgqZpIiA6kUgIRcaLeCKO9vZ2bN+2HadOncKqVatAFYqpySmMjY0indYDFzIRBEgJWlpasKZjDVatWgXG7BpBT548wR/+8Ad89uln0NPpulMYKoFKXxOP6ZKPvdABi9XgFPNUyVNTU7hz5w5ef/11rF271vaOFijI8GcjnU5jz5492LNnDy5fvozu7m7s3r0bO3bswL1791yemYXuSy+YxUBUCtPQ0bqsFW2trRgff4JZfbbu2looTNOeZ2oVc+Y3XrhCI8953mepHp8tfyqc7SVnWVz/SliX/az6TMSX1hILsTZkasQUQrcq/JjUM87s4xZDDcyNjCLjFnRz1Xbhnn5+XwktNO5KOg6DpED5xFyhfpWZcrxqtYZwJrAMuTWIEqlQN/NAHtMKVdxU2yqGitQKKpCbU1dtiJgVEOzevRvf+94/IBKJ4Ne//jVu3LiO0bExqIoKRVWgKSo+WfExjhw5gldffRUrV67EO++8g0ePHomFy7Qs6LoBTcskCOAQAqH8rFEIpefJkyeIxeZhmiYM51Vr8IXKNE1cuHABo6OjOHr0KNrb29HT04P+/n6YponGxka88soraG1txZ/+9CeMj48DANLptLjmcDiMsbExEUMklAxHGE6n0yIjjCxgpFIpjI+PI5lMYmxsFN/4xks4/fJpWKaFnrs9SCaTUBXFTqAQECdBCMH01DQe9PfDME0wi0FV7X0mJyYz11pkzEo9Q+7fsGPp4rSIUlEPgpUfqtUuHuQ7ODgIANi7dy+uXr2K2dlZEcif67ycUtbU1ITnn38eoVAIV65cwaVLl9DZ2SloqED9KTAchBIYhu05SCaTmHCMMYsZhBBomgZmMehGuqrnkj0vfK7TdV3yaGS2846B8sZEdoxUzq3zCMe87ZqmobW1Fel0GvPz8xmqLyUIa+GMN92yK81bKFeZ4UKPuz8oobBIJl1xtSHXgqqUV6ag8xLO2PCLiytM+OXbyO+ALVAqTn0YIONpL9f4RZ2U7gyZRDq5PE/Moe8nrIT7e4sVn42uAI9DvRosCSFQBIW3unVvaCWMDKywWcaUvC7y+NU0Dc1NzYg2RBGPxTE7O+uihC9WZFHLuGeG+Dys1Vj2FUqh6wY6Ozvxxt/8DVasWI6f/OT/w7WuayCEQFVUUIUrKSZGR0fx5z//GYqi4PXXX8crr7yCd955x8lGRJFK6+KmmA5tiqdVDBpClmXCdDwWoXAYAESBvYW6uXzx7enpwYMHDxAOh5FIJJBKpRAKhZBOp9HQ0IB//ud/xrPPPotz5865Fm+e2YVbIU3ThKIoOQMm+aKlKrbAOD01jeGhIUSjDTh46CD6H/Tjww8+wJMnE1BURWR487Y7+1rcli3uncmKm6kzFDv58n6VY7dKBY8XA+wJVi6YVmsBPKgPKv1s8OuKRCK4ffu28KK0t7e7Jtxc+xJCoKoqtmzZgn379qG7uxu3bt1CLBbD73//e8RiMWia5kogUOh11LLf7THEEJuP2WMqb3HN+oeqagAAw6z+vOqNH5H/z7V9vj7OBNp7baKlXE/mXN7T8nZrmiZocQCPi8yYUC2PsQ5whGjIMTWlZfcSQjglgmbG2+J33lIQFJskI0iBcX0vxVwGydVBMTK+x5aUGfk7v89B3/H/vfvJioKs0FTSO+NKI+35LM4JW7EyDdPVFu8+HH6MFvuz0+eB7a5PJQaw11a/TLj1BjHWPYM7k8Q/N/gcENKiUDUNKiCK4wAAIABJREFUum4gnU7bY5wtjOezklBd2jcDFIWKYCBi2YHuzMrkSa/kUkoIgelU5d65cyeeffZZnPnzGVy4eAGaqkHVFEC1PSYWs2AB0FQV6XQaZ8+exXPPPYf9+/fj008/xYMHD2CalktI53xAnufddzGzAEbt/03LhGVa4On5srbNcy1elDM4hFKhqjAMA7qug1KKSCQCAGhra8OOHTuwbNkyhB3lKxKJ2N4kw4CmaS7vCxeu0+m0S4DjVjyiEJf/V6EUqqLAMEOCU0kIQTKZhG7osCxTUMxKvb56FstKvXecy16sJ0b0I0FG+aaK7erX9UAlvF5RqgWOj9WpqSlcvXoVzz//PHbv3o3+/v6c6bD5WOfUof3792PFihX4zW9+g7GxMVBKMTY2BgAio1lGSHECmvMi34JXmRHNLAaTWXZ2KOJ4Oc3Fu9DIQduywlnNxdM7L8lCr3xur4emtsgw3oNObRgGDMOw+45yBca5FpMJqoiXulR2y5jlUYYygnaljU9+NE/+HffGVAJcOSsUshel3L7NqyBXgbbn8qYpGZlIcQycpmUhpafF+Qtta/aJZPpY9r71vM4DtXvueTrqYpGlyDv9XWyyJL7exeMxJBNJGKZhG5ZFEo/FC9FD/GK0UAhUobZQz/IXeyoHfHJsW9aG9evXITY/j7t3e6AqtqOIW6IJtQP1uSCjUIpEIoH79+9jxYoV2PXsLkSjUSgKhaIqvgMzl0VOXlz5A+/9LQiysuB9VcqCyouCyedZu3Ytnn/+eTx58gQXLlwQwf+ArdAkk0nEYjHEYjHE43HE43FBr/BLZSv3C6G2gsmpebJVSlFUZyJUoKiFvahCxYv//7SCK4el7MeNBvxe2AHe+qLh8HKUM+55P1iWhfv37+PJkyc4cuQIWlpahFcx18KTTqfR1taGgwcP4tGjR7h3r1csBFooY93OCLOZonFuS7v7lb8KemXBswQ+DeD9beg69HRafFctyBRP74t7qPl8Km9fa9hj3fJdOwCIIsamabrmBrkavZ0619ne814qvGPdsjIeGNGWCt4/WVnhxw6FQmhsbKyLZ6DUOAp53AH2upqLtiXHp5QDP1nHMm1ZynSMojZ13hCefu4RKrW/GQBGiP+rzqXkasq4lYBXnmA+r3zgSrxhOkZxxU6S5TpPFdJQ1wqqywrAAMOhU1lmJvVvtUAIgWkYaGhtxerVHUgkk9D1TFAokG0p4O1JpVIYHh4GYwyrO1YjlUrZgrfEOfWeyw+MMcGNtDmMDJTaVCzZfR6kmPDFRo5BEcd16F3lQlaM+CR/8OBBrF27Fl9++SVu3bolsjBFIhGcPn0a7e3tSCaTNi/daUtDQwNSqRQ6Ozuz+oQQt0cmV3/Z7khHySxyfLBFH1aWH6VSBGTBynIEF4NZxXOWFzk4H35kZAQ3b97EoUOHsHXrVly7dk3QJWXIGcgsy8S+ffuwdu0a3LnTA0sqfsvntIwl3IndUFUYZna1bI7Mc116WumvMnifKaqKwpfe0hE0VyuKAkVRBDVXzmAWVFlePiZHpdZEPqYy5lA3b8TrUfdvV+F0qXJRbUFHLoaZSqWySg/UGi6PRsDvQd+LzwV6OriiWuja4T2SZVlQpCxzQjD3M9wCgtpdKfhSywqInakH1HvAv3e9I9IH2TPDuzsoSYVMI3QpucwCk6ehRQh3jAyRBjgpbcKWh0Nh45hAVTWEQnamsXQ6bRekdG6AHHzGGAOcSY3TpAzDgOYEAZummU025u2SqAT8unjqYMYYVEXF/Pw8YvPzWL9+PdasWYOJJ0+cgZG9iDHGRPCxZVnYvn07NmzYgHA4DFVVMTk5ievXr2N0dFQoReVOHLwdu3btwvHjx5FIJPDXv/4V8/Pzolp5Op3G+Pg4Dh06hC1btgiBcHR0FHNzcwDsJACMue0kLs6rxQBa25iAhUI1rrHURZcxBlAirGScSlJP9WNywc94UGyMEWAvyqqqIh6P48qVKzhy5AiOHDmCO3fuCKu67FW0FR8FpmmgtbUNJ06cxOzsHBgD9u3bj9u3bkNRVcfSbE/0du0Eu5+1UAiKpSCRSOQdD1X1JGBRrPtFwz1/1v78MiVKVVUXRVFVVUSjUei6jrRPFkWuRLhjC6kkHxIwVmpSGIZMafbgu589Jonrs9xek/kp20Uam3xod97fKgWXsuAJ7i/Fs008714UEqRfLuT+k+UXb3/6eU4K6V/b+5G5Rr87TXzOB892DPjKGcn84E3GANgKQKULZVYk2F+CfN+5umLfd7fiYzELlGSeLbG/YwShhIKR8gwVtTI2BI1plyIjBCZamvDktbUVosQoqoa0rmN2dhZr1q5x0girdq0X2e0pKTPcurps2TJQQjAxOSm+JwoVWqdoB3NbOji1iQd5McZgEQv9D/px6fJl7Nm9Gz/84Q8Ri8XcrfV4MPhL0zSsWLHCbo+TdcmyLKxbtw6//OUvhaJRzo3mfdGxpgPf+ta3sHbNGszOzuLw4cMYGBjAg/4HaG5ugmGa+OLzzzHw8CG2bt2KdFrHyOgI5mZnMTc3B9Oy8Morr2BDZ2fO9nBlxtuPlXoQCSVAnQno9aC4yc/dYlBgsrx6gBD6SuW2c4FRURQ8fvwYd+7cwY4dO7B9+3b09vb6tMGmwlCqYseOZ7Fu7XpMTExgfPwJHj0ahG6YCIUjEpVMgUwXM2WKhY/1W/aGVpIy6roGPJ1KjBf2PaiuZyuXN5kbv7i3PBqNIhwOZ9WXkY9lvygYMx3vH1zjod5QbdpeJY6fK4ZJLlhaC3iFWA43BdVGoUwP8bukKOT1slBS0Vi4vAqpo6BXm3mzhOogn9LO4U3FLPYnGZmUsyAWK73MtyBmMQKUmNBLODmvGzE/N4f+B/3Yt28v1q9fj6tXr0JVFJjEyuJwciUk0hDF9h07AErQ19eHdDqNcDQCU7ijvQWO3BxQQohIC8z/n5mZwc9//nOsW7MWnc88k1UF3I/SwoOLdV1HKpWC6iQjaG5uxtDQkMgU5kUx/aU4gXnhcAhfP/51PP/88+i6fh0ff/wxXnnlFfy///zP+O1vfoM7d+7YFAlNw+DQEAYePXK560OhkE3nsyyX0ulX7FQOPmTMkji0pdEY5OPJFipfl3SN4CeEe1FMy75KS4FsGJD7rhLCvqAiKQpGR0fR1dWF/fv3Y/Pmzbhz54545rz3LxwO4+jRo1A1FdPT04hGo5iYmAAA8VzyNnKYho40eHxSpqiu63p8lPrKgLk+1Z9IXBr8PQicIiRTqmrTFpeFXIrzIMQunKrruhDm/OYiew61f7czERInIQ6Dh5FbaitRyOxht49TI2s5Yqrnhakk/FpZruJVD4qqtw1eqzsBPGUMCuhfyUvJzxG8HhLwBEiF9Ic3mxzL8WwtoXzk61U/hbyY/WVUr5B0eVCLmVK82zJkrBiU2FVEfeco5n0Y7UmYUiCdtrM79fX1YXpmBocOH8KVK1cwODho14LhHhjLzlpGKIFpWti3bw+2b9+O/v4HeDw8BNWJBeEeF0W1lRBKFRHopmmZJAI8DsjrrZmemsbUxCSud3UV1iceDjNXfkRiAoeX7XLpIf/gkXmbFmNQNRXP7tqFU994CWNPxvH7P/wBly5fxuDQY7z55nfxT//3/+CTTz7FpUsXMTM9A+hpMMUOtueZydRQCJQQOyECgSiExOwTZlmDuMLB28ELKcnW6yDI3hvFSd6QxRf2WIxqMdFlLQoe5TZDH3GqOxd5/HKW6IBHp+6QWeSc4rPMEgUPAffiWCy4J4dn32tsbERXVxfu3r2LU6dOob+/H1evXvUYGeyxtmvXThw8+Dzu3u1FPB7D8uXLMDExDk1VoOtpyZtoOQI1BaEZTrEtG1iwK1RLdBDqDbj0p+3kstxazE0xyRiAWI5g2GJH08Kq0q4YL8nKm+kLO5UvpW4hKh8KGUfeOcQwjCxDlJ/SzZXbfMfm12T/D1d17FKfUsYAO8qiMEUm0w+V84wXBRYsFNXEos8kz6Xf6UjmTog22lK/3W6WqbEit172xMifS6GZ5aJq5RvHcoyMvD2DJF/5HEv0B5G/l55Fz7zkuocs0+7cMYIUlmXP8aZlZg15v9hF8Zuox+NPrfOeK9fv8jaVjA3zoxwWe3xB14NkHCbuHwmhWd73nPsVeOK8yozz8PgZ6wAI6pmfolKo8lLsHFBJea8oRSYX/Kz6AgEGOMYsUCe2o7+vD5cuXsLr33od337j2/jtb36LsbGxTG0Uh2pGCMHWrVvxxt+8gZSexl/OnsXo2BgYcRc0sgWiTNrgcDjsLEameIg1LZMJTAjrKgUlatFeqUzKZ7sjeLpkzuXniyo/V76baFqWrZApCvS0jmVty/Dmm99FOBzGT//jp+i+fQvhcBgPHjzEz3/+c7z53Tfx2muv4bnnnsO1rmvoudODoeEhwfsGBQzTgEIVO001MlxbWSEV/WdlKjlrTgxTPBGHbtjJIBRKQUOaq+gXh0IpDNNEOm2CEgLd0AXdT1HtYFu7KjUqYc4sGTL3nf8vYyEsSHIL6lGJcYPAMG1rNVB+WlYuMDY1NYnYLk3TMDQ0hDNnzuBf/uVfcPz4cdy4ccN1r3RdR2tbA3bt2gVKKYaGBrF9+w5cu3YNIyMjCIVCME3D5/5ySyFfZGVRIbtt9j4ZYbJ8xYELWyQjgPlssxggKL9O7GIqlYKmaS7hxu95qvQzxhgTdLGg7IylCN0ZT5L4poxWyiDSq6CWVPj8OeBzuQtJQZJ7Kejq5eeIKwClGKSA/GmXKx1f4k3BLKi6/P+A/RizYDGnPUTa0p5asuc9OAZnqVOy5B0qz3lcgS/dq8IF+MVKXap3FHJXGLMcZZffT0dmrWK7agVfalmhIMR+cPJp0VxgBpDJsEAJYGUWudnZObz//vtQVAUvn34ZmzZuwmeffYqHAwN2VW9FxbLly7Bxwwa8+KJNH/ndu7/DxUsXkU6lhNUfAIhiZ0NLJJOYm59DWrcTCMjbMIthLjYvvickkxpRttwEXrfnf1VVhbJimqZIH5lIJDA7O2sHmmoqqFJ4l6uKgnRaR0tLC37wf3+A9vZ2/MfP/gPnzp0TCzIlBI8fP8YvfvELHP/6cbz22mt44YUX0NfXh3fe+S90dV13CXGWZQrrC6fN8FSv8nQvT9LzsXkkEnGsXbMWTY1NeDw4iEQie/jbAdSmXXApaVciX7FqJdatXYempkakUik729zICFKpFGidWJC9nxeyHdk/5tjRyi+UVUMZyxySwQ50Zq7FrvTjMkQiERw7dgy7du3C3bt3cf78eYyPj+PixYs4evQoDhw4gKNHj+L8+fN2ph7FDtLf0LkBp06dwvj4OKanZxCJRNDd3Q3DMBAKhQIFWHfArTtLFGOS58axwtuTv58wmfu6g+cTWzwLsPUsGnCjgGEY2LJlCzZt2iSow7mCmSs1PrkSpaoqRkZGcPfu3cBtiz9nISJ08cik/M53XD46ajxC6nBACkWFOdmW4KkRBMnrAOdeO59tQbq+kwHLBTLFdz5zh2xGsQO2PdvluHfExwbjr7Q5Bj7+Hyu/CCoPos9Hdwrev57v3sKhkF7xdrVI455nP9lAGWSsLIVyxteMchgcHGUpMsKaKDeAQbiuuIBsODVp7P/hcmfy46iaivEn4/jVr36F0dFR7Nu7D8dPnMBxAE+ePAElBKtXd0A3dNy714tz587j9u3bSCaTUJ182DyWRATvOZSy2Pw84okEGhsaQKkCXTcQbYjiwMEDaG5qxuzsLFKpFJLJJKhC7Qc9D21KBr8hhBA0NDSgvb0dW7duFYUqnzx5gv7+fnTfvoWp6emCvD2EEKRSaSxbvgxvffct7Ni5A7/4xS/wxRdfiN8N3QBjdsrlyYlJnDnzZ4yPj+ONN76Nvfv24c03v4u5uXncunULmqYKT5Ch2/VJTMN0FEpH0PJMosyyaXoTT56gr68fR48exdtvv43r17uQSCZBCUHKUSKpQqGn03YRR0KgqgqampuxobMT27ZtR2trKwBgbGwMN2/ewB//+D+YnZlBSNNg5kkFGRi/UkEhXaaYLRYU0t7qcZOzlfmyj0jsGketra04ePAgdu7cie3bt+PGjRv4/PPP8cknn2DHjh04ceIEbt26hampKZFOd//+/WhpacG5c+ewZs0axONx9PX1oaGhwUUXzHf+zHsmps6r3LjppP6eGe9C7d89sjW+DqXGIkAIEYac7du348c//jHS6bSdjbICC1Uh57csC42NjfjNb36D7u5uUSehMuetxj2qjoL0tMPD1rGt/Mw/SYDNgLAELY2WGuPp8cgSkruAZTkFLnm9mXz7i18pkZQaZ0xVYD62r5X3nUTV84EsxBZackKO382cL4OgNaWW9byWUHn4xZoD3oxqxT07ZSkyQIaCxImahFJoqgZNU233vmVhfn5OBOF7FQTBFXe+n5mewZk/n8Fnn36KjZs2oX1Fu/BmWKaFgYEBDA4OiroPsgBqWpbIRGaYJpLJJGZnZxGLxTO/q5lLXrVqFU6dOoXly5YjFo8hmUxCoXal02Qi4aSCzl6EswoUsUwqZk3TsHr1ajQ0NPz/7L3Ztx3FeTb+VHX3Hs6gowkQEhISg2wkDMb4CxhbzAgwGGLAie1kOYmJfZELr5WL/BW58soXr6w4tsNg7BjbOOAPg42ILMFPjmQQWByQAM3j0XyGPXZ31e+iuqqre1fv3Xs8+5yzn7Wks3fvHqqrq6ve4XnfVyk3ixcvxuHDh/H0M89g9zu74YM1nKQYY1iydAm++OCDWLtuLX70wx9ix44dsCwbtm3B83zYjq2UN9ux4fk+du7aiTNnzuCBBx7AF77wedx99904cOAAqBXk5vcZiqUSKhVB/7Aohet7kRo8+nPNZrM4e/YcfvnCL3H06BFcccUV2HT77fA9kcGnWCwgl8vjsssuQ34ojxPHj+Ps2XPI5XIYGh4CJUT1reyPZcuXI5/P4+LFCzGL+OxhNq9fLwivXrPmmuJVD1LZKBQKeOWVV7Bo0SJs2rQJt956K66//nrcdtttOHjwIE6fPo3rr78eDzzwAP77v/8b5XIZq1atwqZNm3DixAns378f999/P95//32cOnUKS5YsUYVgm0XcYxefCxrRlNKPqfknxMqik/KdN9G8gM6MYZlQRSoyIyMjNfEx7aMbzyiZUDhAfQh6lPBENKIrUUKFbN/GI6wX/2bcvwMZJyMJcjSjSERRC+jZTccnGNpn8soQTiKjkzHWcLgq+SjQNE2mGlN759N6ttDQjDdGZkjrJNpWZBSCkSpfEMuywTnge76KXZHu3ppDtZc0P5SHYzuoVl3s27sX+4Mg/sLMDCzLhu97cDIZOLYjKFMWQbXqwrItLFq0CNd98jqMjAzjvfFxHDx0EH/4wx8wMTGBbDYLi1Iwnymh/n/+53+wf/9+3PJnt2D1mtUol8qYmJjAubNnUa1U4LquWoDrKTIAIgs251x5GWS2MN/3ceLEcVXoMAnSs7FkyVJsvm8zRkZH8bOf/Qz79u4VCQ0YF7QsaqlJhxICz5MFPEVF9KeffhqHDx/G6OiIOqdFKTzuBd6nEmYKM6hWXUF5IwSMhHQzIFBmLKEo7t+/Hx9//DGWLV2GsbExUYMnqPicy+XwF3/xF1i79kps3/4GPtj7ARzbiQXEhopmpVLBmbNnYNH2UlJ3Gv3UloUG+e7k83lMT0/j5ZdfBuccn/vc5zAyMoKbb74Zn/jEJzA5OQlCCG699VZ89NFH2LVrFzZs2IClS5fipZdewqJFizA2Nob33nsPuVwu1TNtRDvrxywt/QwZRC9THUsltVsxaDIekTGGQqGgvg+wMCAVlSSYfabp0ChOptsweWbCRCGhchBtY+jpa+Ydq7lPJq4gr9OJ+BZBB7aRz+VALYpyqQxPSxSjo57nRW9rPxezHMAMU0KBdmB3knoiPSuVQAmQ2xiijdbjL2Qwnr7I6RmQrrnmGmz6wibMFGYwPj6Oj4KMRCygq/luGP/hex5cz8X1138Kd911N9548w3s2LED5y+cD5QKLW+2z1AulbHnT3tw9OhRXHrppeCc49TJU5iZno7UmIn3UVK2DUmvkMW89O/ivimQgsLEOIdtW7hw4Tx27tqJw4cOC2qYz4JsbDZcz1XxKBkng1wuJ4LoZWYx5mPXH3ch42RE3zAGz3WVl+rMmTM4c+YMyuUSFmUWCXoYFwkSPE0B4UFbCBHpqk+fPo3Tp09HisqNjo6gVCqhUCji4KGD+Pjjj5HL5SKFHWUfeq4bxByQunFIaVAbgN0cTM90YBWaXUhDwLlz5/Diiy/i+PHjuPvuu7Fu3TpYloWxsTFMTU1h9erVePjhh7Fo0SLccccdKBaLOHz4MG677TacP38eBw4cgOM4il7EWJTfbXqn4/RC3VM8QDrIPnQcR8Uwcc5RLpcjzyBK42sP2WwWjuOgVCqpwpae58G2O2enG6D/0CjYvtPv7mysDabgfx4oVzJRT7OoR1uLFO+U2caCq1BC4TepzJjoYno8JaEE8MN90/Qx1ebpwfzcOpKUh9ky3LWT2tluZiDEFx9q0YD+IlIZ244Dx3ZAgzoPIud+fQ8EMwgT0gpiWTYOHzqMVatW4etf+zo+85nP4D/+4z+we/duDA8NAxDelYwjshLNzBSwa+cuXLXuKtx11104NXEKW7dujSgjKtCMEtiWBWpRlIol7P1AVA3P5XLI5XKwLQsEgOvVZjtq2KnaAqq/cIzzhtYD5jM4toOLk5PYunUrPM9XtXOk5cKyLVyy5BIsW7oMV669EqtXr8bI8AhGR0eVFVreb6FYwIXzFzA9M439+/fj6JGjmDg1gf/62c8wMTGBfH4o8PCYsjpxgEF4aoIBlgkylQGAHSQuGBoaRi6XEwKF7cC2BOWNklqlzbYsFavD/fYKcbUydvVj40JVmF41GhvRVJvQPpu+1ePn+qSu00xd18Xp06fx29/+FuPj47jhhhtw1113YfXq1chmszh//jxuuukmXH311SCEYPv27Th37hzWrl2LN954A9PT00qI1quEx+liaQPR0y6yA4SQ/VcqlfDUU0/hwIEDyOfzysutxxY2e075d2RkBH/5l3+Ja6+9NlIfZr5BFuRs4cjg79wX6tOiRnhu83xSHqk3v3bCIKzO0YIsF30eeuxVwv5W1GBDWUyJCf5SYgXMCt6SR8ayrDDBE4RXx7ZslMpleK6rymSk7bu4TEEIgUWimWcHMKPfvNT1WE5Ny9ztNEKmQ1YhqwEf0gqKMkohwqLaS9BgMpBgnIMwH8ViAR9/9DEqlQp8z0epWFICtOyISqWihP0lS5dg1apVOHf+HN5++21UKhUx2GmYLUPGf7iuB0IJVq68HGNji+G6LmYKMygXSyjMzCglppVsDPpntfg2cQ6ZSAEA3GoVLkQdl0zGwYYNG3DnnXfi8pUrUS6VMTk5iampKUxMTGBqakodbzs2RoZHMDY2htWrV+P/fPazsCwbu3btxO9///sIDRBATcaUmhgBn8FHWKCUEbGw+kG8kvznMz+cWJLiP5rcHm9Pt9CWYhX72+556kHGpc1Xy5SkdTLGMDExgddeew179uzBvffei7vuuguWZaFaraJYLOLo0aPYsWMH1q9fD8dxsHv3bgDCoCDPYaI36UGGSV5WXdntXuKE+Qldkdm3bx8+/PBDDA0NKYVDIi1nWo9RksePjY3h3nvvxbXXXts38XbpYYoTiBdkZcp7zdCsMjM/EkkkgTOuvBIEiMRj1D2uG23p4JhT3uE2EgY0A0KIyvEc90i3m+WNMVYzCmV8M7Vo0/0mZQqp0PgD2u+cRSfluaYUmXiQa5x64fsewDlc1xN1XeSCRZvjqXIuapdUKhUsWboEd99zN5YvX4btb2zHgYMHlBYPBAKGRRQV7MYbbsT111+Pjz78CB9//HGYWliz1MULM65YcTnuvudurF69GjPTM/hw3z5s37YNR48erakgngbx/Vuy7DMOL0iVnLWz8Dwf2WwWt956K5544gn4zMebb7yJ3bt3Y2JiApwzlXlNLoaWbcG2LNiOg3wuh5WrVuH2Tbfj9jvuwLXXrsd///evsOe994RCqveJptCYtsfvTf/XTB+RINtKGgGk29QvnVrU7L3MBlQcE6JtnztCXDKk8cBxHLiui6mpKTiOg0OHDuFHP/oRGGO48847MTExgcsvvxwff/wxJicnsXbtWhw/fhzHjh1T5wEAx3GQz+cBQNFeZX/pdYQaUcnmq9LYbchEKDL4H2jNwxV/TpLClskI+qx8nvJzvyJsGwchci0zt9eiwoPtB/XP0r/jBFGxfv6P2dlSYjoJXa6ihKqSCJG1V8ruKYZ4mvcgLs8pQ2bt2dAvPVjPSDrAwkNbHhkdip7DRW2JVotF6QKrZVvYuHEjbr31VlQqFSxbugyXXXYZThw/ATuo/ZLP5eB5PlzPxcrLV+LOO+/EpZdeinfefQelYkmdV1K0ZJCYVIAAYHx8HKdOncRnPnMzHn30Uay/9lqcnpjAiRMnErPt9AKEhCRY27Zw7fpr8eijj8J2bPzo33+EPXv2qFgk2xYLnqPVbZBxLZVKFYWZAk5NTGDf3n2459578M2/+ybK5RIOHjyEixcvIutk4HnR2BggsHoZJi9praEIBQv9X5qin7KGTVyAlBOrrBac9Ax06lCrQnyct6+71ft5mpRt1uPLZlPAjlvy2lWq5PnkM5bbyuUy/vd//xc33ngjOOeYmprCJz7xCXzpS1/C+vXrsXv3bpWlUD5bQghKpZLyzkgurhw78fYnoRnhu5bqsXAhqbZxmp8+PtL2v/5XPkupyAC19Im5qHRSQpS12vN8DOXzWLRoEUrlEmZmplKsSZ1SYOo9k/7s105Qe1tBJ5IC6HM6ANiEIJPJoFqttt2+pOvVo9qGCEIJCOBzQPZysOrUOX865XKAAdqqaZ80AAAgAElEQVRFx0hz+iLDGAteRu0lQfoBbVsWfN/D5Ssux0NffAiO7eCXL7yAbDaLb/393+MLm76AxYsXK2qb67lwbAd33XUXrrvuk9i1aydWXHYZNm/erIR5mbUMgIrfAMSi4fseDh85gpdeegnb39gOQMSqdGsCSQ0iLDF+0J8bNmzAZSsuw/Zt2/DOu+/AZz4cx1ZKDABlUeGMq2B727Fh2RZGhkdQrVaxdetW7N+/H2vWXInly5fDl8H9RFLaRPyTVEapRSP/CBULrRVQdfR/lIrtSf+A2lgrnSuvf2aMwXXdiAVW/p7JZJDP5TCUz8MJBKVWPWcmj0avBCBZM6Dp4whBJuNgZGQE+Xy+ryzQ8efb6jmkwCtT6XLOYVkUhw4dwsGDBzA6OorTp0/jxIkTWLNmDfL5PMbHx1EuCwOGzJjlui5c11UKr3zO0mOsC9fdARnwtxH13pq+N3MeHbqiq3vY+htiRVR0Z87UPzWXM5F8Rc67vu/V0PKSztsRZYZw879ZVGJI7G/S73MR8Rhaxhg831O0+VYRX6Pj62z8nypeHlAaxV8qmB4q4EUYODlB4j/Iz221foABGqOj0T+6ZZ0zzULvM6CBhV7/zXU9WJaNe+69BytXXo4XX3wRL/zyl/jxj3+MUrmMJ598En/1V3+Fa665BuVyGZ7r4dOf/jTuuOMOvDc+ju//x3/g1VdfxS23/Bm+8pWvYGxsDFW3GlvwLCWIU2ohm80KC1jg4ai6In1o3GJRb/E1LdJt9afGjy0WirAoRS6Xw4kTJ+G5QnkjhCqeqFQW5MIns41JpY1zkfWMM45isYBMxsHY2JhKgyy9YDLFs0yvLFOpVioVVKtVlRmoUqmiWnXhuh483wNjftBvrqpTIz5XUKlUUCqXgzbLmCUeCfzVJ1e5TdaI0Cdd9ZsdjZXqhADj+z78IFFFLwQi5cbXFBr5Of49/hulViR7nElQ7BTMiyHtyDiX56/3mxT4fJ9henpKJfE4ffo0fvOb38DzXBw/fgzj4+NCYaHR2DbP8yJjy7ZtjI2NwXEcNc7aR9QrpW+bzRSu/YROjE0TBTA+Djuv2Ifjvf1rxM16PDh3ICwiKObMReKXQqGI48ePo1AoqAyQjc87d8VH0xrbT4YaEyiplROSkPQb1dZqSoKYVM9XBsl20EwRSUrMxjX5ztFAselk8LipT6RiP0BzmF1Tw+zAbuaGm5lKxKDXzm4IkolwM4OaJZxxZLNZbN68Gbfeeitee20LXnnlFXDOcfToUTzzzDN45JFH8MUHH0R+KI//+y//F2vXXoo///M/x4mTJ/CLn/8cJ0+cxOTkJHK5PB57/DGsu+oqbPv97/H+++9jamoKhFB4vqc8BKozHFu98JRSWAGnO4m6ZH75OCzLUpYznRrTEhgHDRav6ekZ+J6P9Z/4BHbt2oVSuSyyqxHJO0ekk1nw3feZSP0MAs/1sGzpMixZshTVqovJyUlVd8H3PVBqYd26tbjkkktw4cJFjS4WCpIAlAAIACMjw1g8NoZ8fghrr1yLcqmMXD5Mv0wtIQAsWbwEGzduhGVbcGwHkxcv4MjhI/joo49w9uxZ1e+cC0XKcRzkcjlUq9VIH3LOlUIFQPMAmkG04xotiL225hq9MTwqjkgjmPwsXyXXdeFpHiugHj1Au2bHhILGfdXMteJtj3rMpDfVgm07+OCDvRgfH8eqlauwYsXlWDQ6hrfefhtTU9OibpPnRwQK6XnJ5XLwPA+33347Ll68iLfffjuSIj1tO2NbYLIVR67Nect027mCRvFFcQWkk8JpJ99bzrmh2rg0FpiP0Z91EsL7JTWCpQjqD68ZEB5VIWnbskWcjDFBgHxvkhSZVuiQqHm9o/eWPJfG59l4WtU0ArBumFHtkwlOgqbJn9QewQ9p2R/Neknl/o2MEmniOev1nTy/TleTBq+aNsfGXXxcURKONZMyI5NJAFAGUX0eVhnbgmtRxM8fG8eGeZQg3fspr1vrcRXvhv6OzFWo0IbYdgIoT1i7aOc0+tyXFv1QZ60pRQZo1ElCeTHuU+fFBcQkxYPF/s4778T999+PP+76I1769UuYnp5WXoZjx47hl7/4BRzbwadu+BQ2b96MjRs3wnEcPP300/jTnj3I5XIozBSw/Y3tyGaz+Nu/+1usvXItfvjDH+Ktt94CD1IAyoKNhAhvRrlchuu54AAqrhCUbcuC7/nGG5cPUD74kZERZDIZIWB6nuLlqwDUhr1r7h9KLDhOBnv3fogDBw5h0xc24dDBQ9j+xhsozMzA8wTFjFMrEJaCiTBQpqRSgEwGS5Ysw+OPP44rrrgCv/nNyzhy5DCy2SwymQwYE0U211yxGk888YTaDgihmVCCcqmMaqD4uNUqfMbgZDJYvnwZCCV46OGHcO9998KilqKsUUJgO8L7MzI8olzljmXj2NGjeO6553D27NnISxQXJHSlV07mvu/XXVQifOmYIlS3z4O/9Z5Xp8Qm3SMjEReL45+VqMJYTTviCl8cnREea67a9hn1RazWYBDQhaRCx4FCoYRt297Ak08+iYe++BA838fevXuD902kDNXPqcdbXXXVVbjtttvw4x//GL7vd8Abk9TPDEpo5fr2hYt246Z0QacbSlFceKaBAUjM9VyfRuq+X/XbxgNLs5qdgmPCKG7OoTzXoSAarK/aO2I6t/lzmv6pM5dGqOJRD3gaJa4ZJJ1H2unqXYVrykwnEaF88fbiYYQ3PcyYyBLKEMRTDTPOa4Vd7X0gIFrqZh7KVFItNigBsrYe50woLCrQX3QkCZQYqcgQiPdBeslRkzaXtuRFMT3zqHFOxtWlV2ZkjcL5ANLKbTR4VzqFduq/dApdqxgWdZzXB2ciFd/o6Chu+vRN2LTpC9j+xnZseW0LioUCMpmMSqOcyWQwNTWF//qvn2JychIPfvFBnDxxAk89/RT279+v4kBsx4bvefjd736HsbExPPLII9i06Qv4YO8HgbfGgVcRdVmYTAcYFJPknOPqa67BgQMH4LueUAgM7XYcRykqK1aswI033ohly5ahVCrh4sWLOH78OPbu3auEdEJM9rTG4Ey07ejRo3jxxRfxF3/xl3j00T/Hpz51A/74xz/i448/RrlcDorOcfWyM+bDcRxcemkeY2NjWLduHT73uc/hmmuuxltvvYUtr7+OSqWCoaFhQUODDc449uzZA0ooPvt/PouNGzeiWCji5KmTOHjgAKampuB6ot+KhQImp6bERBfcWHxxoyQsRDo8MozR0VF1TxnHASUEx48fVy9CtVoV3rBAuJQxMvq5ASgLdyO6OG9zUTMd26upUSxCWp/GfptddOf6SfdFgurdsj9yuTzee+897Ny5Cw8//BDeeust7N37ISzLUfRQmRCKEKIyoGWzWTz88MPYv38/Dh06hKGhoaDeVdstr7M9vRI9QDL0eaAX/UgIQT6fh+u6qFRqs1fq301eCL3NTV5Z/SOEKgqtX9XjY6TyEFdmTNdLOwM2xblouIdO5eyksNNYaeVdn6TbUWYopcjl8uCcoVQqpafQyTUWCWsBj3mLWMy7QWq9SVJRYaCgnImYFnk+XWGmteNNeWrizVSeRaba20vMNxpvWg+jjhgfat5j1ksfE0LgMx+LlyzGp2/8NG655Rb84Q//i61b/wfFkqgZwzlTVnw7oGotWbIUl1xyCd5//3386oVf4cDBA8qCBQCOLSp6V10R3D48MozP33YbbvjUDdi2bRtcLZBf5OgHhoaHcPDAAez7cB8+e/NnsWb1ahSmZwCY3WeZTAa+7yOTyWDZsmVYsWIFHMcJCkxSnDp1CoyxiLehlYVNUNsoXNfFn/70JxSLRXzmM5/B1VdfjYcffgie52NychKnT58GEAZHVyoV5PI5LF2yFPl8HkuWLAEhBC+99BJ27Pj/MDFxCnbQXtejIFx4caanp7Ft+za8+6d3cckll4BzjgsXLmBychK+7ysLt+d5cF0Xlm2DBcqTpIEpnjMNn0k2m1XKIrWoip2SSRWUO5uFFio985Q+ZigljbnDc+hNjqe6TtxvngvCaalxnDN4HsOWLa9hcvIiDh44iIsXLyCbzUY8rXEP1R133IFLL70UL730EjzPQzabbaptrWF+Laz9gDTjpBXEPSlJGcJMY0Fu0z18ktIYP3eDVkB4ZTg8Lbi/hq4dXjlhu36+NGjkg5bXSXc+Pa6xU9k/+8mj2aoyI8ZEbexL2roxzV6RaFQhDo3epP2lAHxCwJgP7odeP0opOAk9UiZlnnNTXlMALXpnOoX54o1pFrpheaFgVhUZNfHbFpYtXYZly5bi17/+NT78cB98xlQRS/kZEDzOfC6HDRs24OjRI9i6dSsuXLyoFByfCaWn6oaB+qdPT+Dl//cyioWiErQpteB7QYxF0B7PdbHnvfcwcfo0Vq1ahcWLxiKcT93boFuaZHpRmf1I1sAol8s4fvx4RIFpbSImKp1xoVDA22+/jX379mF4eBirVq3CunXrsHTpUvjMx8jwCBYvWQzP9TA5OYlKpYKjR49iYuIUTpw4ifMXzuPc2bPg3Bfn1JIyyAKLMv5lcnISFy5cUPcpFRh5r5ZliRgghC+O7djKpatzfeVf5gfWby9wnXPUxCiYFJfaHoHycMlrzeWJa77HTzRCfSpOrU1KKrtHDh/B/v371TEZJ4NsNgvfZ6hWymDcVwaHyy+/HJs3b8aHH36IvXv3IhOkKk/L3x5gYUHSctPE1umKVdzDV6t0xQmj6oowjXU/oLUlUcX0GLLmlKXuohsemDQxjnJd6IXRp17cjDneg8P3fBQ9kSJeptmWMkWCStASlDHQ90G1zI8gYVIffd1RSYNsUdqCMb+mOHbEMBTIDv02M85lOaAj6LcH0gPMiiITn2Bsy8KZM2fwu9+9humZaVHE0bJF6kG5CGgv0tDQMHbv3o2z586iMFOAZVvwfD8SvK9bG1zXw6lTJ/Ff//VTuK4XTB619SN8xgDXxaGDh3Do4CEQAL6BdqIrMabr6QK/ZVlwHAeO44hJLKhl0Szii2GpVMLMzDROnjqJ3bt3qyBmGmSzklZpxsLF1fM8EErg2DZ0mimJcGND6gYhpMa6aIrBiC+xLPZX7is9NOG26D1Kha+h0BBcVN6CJRXiOsf10pOxAOeRWQHngpKad/Iqu57t2KhWXZTLJfi+J2LHOIfjOPjiF7+IbDaLbdu2qXcwLa0szbgcYOGgmfic9HNP0nmSlZg01zAHUYdxB91CN3jz0biJ+gkHegmT8ExJrddQGt3kWujYDohDVLX7TkKPOfS9MI0z4wREeoO0R2RpdEjZFmpZYDxaa02dmxIQJuNzwvvTESrYs1ePb8GhRTr9XPbizDq1jDMOl3nw2UykwrwXWO5VYLeWUePChfOoVCqiAKQdZs/SrSP6C0UtkaJYty5wzlX6ZXluOfFYdpCOmAN2QD3RX25lPdGoULrr3LZtDA0NqfgOnS/davFGIi4s2hkI/HZAn+Ocw/M8lS2tWi1H2kkIgW3bqsI2obKPWGgA5KjRLOL33CwIJbGsakERQqkAGdzoaQNH+51i1Vm2+QBJkMYBz/OCBB4MmUwGlkVRKhaRy2Xh+z5GR0exdu1a/PGPf8RHH32EXC6njh9gABN0S7n8Xm+/Js7cbEu0Y2ppZLrByVRnxhRj2Cxkwg0xl4uoinhTTOua7sHvFHSjYb19evFu654YkzITb6NubJOxwY7twC8zMJY+Vi9pXTY9e8VYCJIKcCIoi3qsi34/JJCL5PovxIQoPZII3m5Nu+Y6M2I+oB19ZK4+uVlVZOKCrCzs6McmvXhQpc9Fima9CGQ8u0ccFqUivXOdxciyHYyOjmKmMBMEnROZwziyoCV911EoFBpOtGkh91QULqZvRZCRKeRnU0rAgrTNzMi5JfD9kMYgngNXmUpabacJnu8DCGvF8IDOpt+BvjCZLD8m9GqhagYmssgA3UHkffeF8lIsFHHt+mtxzTXX4A9/+APK5ZJK0V0sFvHcc89hamoKtm2jUqk0fc12vDIhL31upw/tV3RqLojP6fp54zWbTN7pdJBzb/K1E1oXO4e8LsHQ0AiGhvK4cOEiSqUSHEfSnU1KjD5Ttd9vScpKp+qMxN87vf/jnhl1n11cGpLiYkxU6jhLIF7ckvkMFV/MRWmpZSYlRhktY2b1+BhVx1ICQmqzNRIi6rNZVBh/me+Dco4UoTsDLGB0sqZQWujzzexQywxvhVRQJJIm9SQLRHwyi+/HOFcWBHmMTG1Jibg251ykX5Y5232W7OzXJgXTIiaD4uOUs9YX3OjCFW8LYwDnXs02I1i4T4jOLGqRdgUcXJVekiKSalK36rTyIqT13vQSAyWmtyBEJI6oVCq45JJLcM899+LA/v2Ynp6GDDImhKBareLgwYM1AlAaSAGWMdZ6wo7A+xmh85jl2QFawNyj/bUyZ3HtrxRmAUKBSqUMyyKwLBI47gPvCWEJAeSd6y8ZE2rbdk3Nr04hTuWLr72NPAW9BtXWJl15ic8/Pot60NIG/EshThaMDmODxHUdxwGlIlYYXsgWYZwDjIl6MAlLLucMrutHPJIyC2ovkORRBGT/1aZ8HmBhY9apZRJpszZJ6Fk04gM/zaJGAhco07iprufCnXLDfRocLycR6c43uc/1SasdmpYO27ZFsgLfV5S2ZugDPRX8uUaFsyzYuVxYxJFFq9E3265+UmAGmB2IeDQL+byNLz/2ZYyOjmDnrp3qXdTj1SQtptlxI+mgrSoxtRiM205hfs4BcY+JNIjJ1PpRYZgzkZRAZn+0bTtYF5op8hpNmWsSDuPrFpUp0bV3o9s1JTqpsOoxIRLN0KIa0bp0g51t2YG3w4JFLXi+Z1T60igxALQ5LabUBYdLT3R8HwCqyKqKowVU+3SlS5dZ9PtRXsmktsU8U6Y2DLCw0InnX88I2TeKTKegKwtJVJDEAMFAmYpn6kiCzNpFCBEFI5uYZJuOkZGTg88wNDqE/NAQzp87LwL4+9QaGVFMg9u1LRuu64rsciA1k6MOUx/1670O0D5Mz7bReyIthZu+sAk333wznn32WZw5c0bUk3Ir4IyBBFnxfN/TjmvXQ9oEuKBtEq0+CAcG3pg2YKITdWJuqOetM81R3YFQXjhnoFQUKZYJamQGM2l5N92znr5eb3sjUEJAtbjLiJDMeI2QzzhTld09LxqsrteQkd87oeA0onfqArZsP7Wo8Ri9bz3PT0U3jacuBkIvioo50faXRSkZ56CQFHYrUWFK45FJFOj0j4bzy2takiKpGY919oht2YAl9vd8D8xnCAtSSjdysiFZohfxMvPFGxP6WOcn2qFl1zuHVOh7p8hEx3/yPhIt3HMaznK9hUq91FIAr9NWzrnyhriuGwnib/TAWlkMORfsWUIIKtWyoGyxqDemX4V8OWF6vo+Zwky4ndcyghv1TSdeiL5En9OMZovGJ96ppN8o3GoVa65cg3vvuxd79uzBe++9h2w2q5KFCEGCRRZqHfXuJhKR0MY7RggRVI6gwCEHooXnBmga8eege97aRRrvdi+enaqSTix1Pak4iHT86aucN1pcOWdgoCCxNdSkwOiQdEv9u358O2iWAqojElPDOIhVe8++74ERAsqtlmlTusxgpMzLrKFMeEioT1Vxb7VPl8dSrQIazGWcK6edG5SioFSkZbZsGz7zVdmHeDsJoUCDTGSdUmLSzrlzNdGAXA/mO9qVU+NzgZ5Rt3eKTJr4Qt2A32GBNY2S0wpkZrIka3I9OkorkzShBJVKJZgMacsTfachggcN3i8EL2nMcGR6svX6Kf652/fc6vmTxoH+nIz7BJsIJbNumknyYkrFPS11sxPPSFoA4+eTXOlMxsFDDz2M/NAQtmx5Hb7nB+nHWXCchejkE7aNcQ5e7144VL0in/kqbWpz9xV4YBhAbKq+h//kPrP/DvcS8Xe6FVrpXDZoRNtO1DiX3+VnNU49BoCFafOJPEe6fotcj5uNA5wzNK5bmWw71pWYegpOO2j1mZuKJ8sx1LCwsn4eHtZHa6X2l8zM2sw1TejU2FdKSlAEk4HB5TxI0hMozOKKiMZodQ/p1hezAh9PxDCbio1uu697R41ut8e30K821bgx0gpqRzLGek8tS8sBBdIJk93wfqSFTuuqt7DqMTK6y719i5UQ1sKhNzsCESFhyka9NZyLFNYsngmtxevI/gO6U6OgWcjnp9cGmEsCVpyioHO6lQVYCyTNZDKq4GuStTQeD9Yqas9LATBwLoNQhTdm1dorsWHjddi+/Q0cOXYUjm3Dq/oQgfXqaPGucA7LpuBBnAwnPMg6ztV+4bU4QAI6GIXIBkTSv2Occ1jUAgcRgiNBcBwDAVfFYEHIglBh9MLBrWKuvV/NwCSYSeVGxSQQIqiSHSiea353zcJh2OcxJaaFgduM18xkwEoL2eZGno+085Sx4GWTcb36cXobW0H8vgg3r6v1CnYazqrOZ+6XYH6U4yBl33W7XpEE41zR5iTmgpeGBM2TxsyISSPhuc5ltBJWETdiAqEMyDnvnSITV2Di4gAltamCCSENn+JseiMaxd/EA/FkTA1jDLZtq4A8k7eoURxPeBHJl549JYZaNFSlCA0tVgB4vKowWreS6F6BbkCnC8rvCQ1RFkcnKMDImA8aBEzW7k4if43XDjjWoqBplHPdsD0tIolCo3Ps9XG7aNEiFItFzMzMRPaPK+Z63aRm2mwa+1JJFPECFAQEVbcKAsHfvuWWW0ApxR/fejtw0Yu6UDSIXQMktcSGUk4IEe9NQM+R1+QcoFpKUkqI+EeFR8ayaDCm090P0wVRCMUJ4BCXF385gudMSM1U18u3mRAZxdO6Jy1xzuJcZbWKv8PNCnJJns14TEY/I53xLZokJlQkhHevmWvRuLAtBh4YhCyqKzCijgiB7zPUWuC5JnWFp0syKunbkxQYPftWvXvQYTKeRHcI90szJpoR9mva0mIttDRKlok+GUc9JUaH7kmKXzNsiyaHaHKG9AqG1+cAY5Fz6NeJXiMcA51l2NRmLjPFL/HYfXdLqYnIPMGHKA8AdRU/aefi+nFtKjGmZ67/pl+bB9eX7eYJ77TpDrqdelmXU3Rjlm5QtZvpqFY71XSc3sGycVZce+a8rtIfURrkS9dqwvM237F6i7i+j+z8tBXFgehyQoJFKHoNnSutD0Cp4HQXzA9oBJyDwwdokK6RM7VAyclSF27jAaJp0C5lKcmTIL/LwqGiqKIFk9AEAmSphXK5jIvnL2B4ZASLx8bgez7K5XLzwlnwjwKgCJWYJG9HmvuLf04D07llatVqtYrJyUkVDxYXPPSFWWZNapouZGgHIQQkKBrnei58z0Um66BarWDtuitx2+dvw4FDB3D67CkQCyi7RXjcxaKhRSJY1fUALesTtcJxKIQoUbkaXJoDSPAuBd85DwKtbZHiltIgTiFdv4oFVyQk4EwKhwwgPsAtpcwkqS0JPl4k5wzqTySNhfnqYWke+pgPt+mfg1+bPC9BDQFfDOzAeCh+s2Ipgi2LBgqnbEOtAtMLkJq1jiu6Z7gx+jvXfo/P9+0Y0TqJVtYwYwt4/IuQRk1iULLCFkrMOuVNGmwIJcILI9tcp+3xjGXxbHhp0Mox6pp1hPduomZctSqGzoJdXr8k4YE8WW+/WbCZS8Ox7/s14Rqc8+YUmXagTz66lcm2LFDLgu95Ii2gdkyjvuKBkGFRCkotYUnyPLiuUBLkbzJgrVfemySajlRekigS8YcTsSzo83bcK8MRs5TpzsneQE93yzwGWQSTkahFJi5ox9HMPq3C1M/SS5bL5bBo0SKsWLECtm0bFRlCCJYuWYqxxWMYGR7G5StXghCCLVu24MMPP0Q2m1X1S9KCBveUz+Vg2TampqYgqXSt3GsrWYKS2iuz+UglzURFi5+j1SxF+jiX53IyDjhn2Hz/vRgZHYbjWPB9D+vWXY1LVyzHxLlTeOiR+wX3HAxDQ0NYPDaGyclJzMzMwLLtYCIUM7BlUXDG1XzDggWTchpRZACA+wwWteG6Hn732ms4PXEa2UxWccrr3kvgkQkcLhC0OKnMaMpLwupVI27IzEEQc5qkUvS7IuC6LjzPg+/7Rsv7bHrV+wNp778Vw5TpGF1xFkqLaQxRStS7ETm0R9BbrlPFONeEasMxQNQaPVfHV027DbeRYD7VfjXde63cwZUHrvaMzAsNpSYvkuxrFllXe0v9bi7xRXfRSYN/L0GQrMRIzOabVE+e6Am1LG6JlxYTjkCT9aPZMZqBorMEk7GPUHsjhKBSqcJnPrLZbOduKEV79NoTSYJ3PWtkdHvUYksoUbQ0iwYeD4QBhL0UbOLW8yRPh/wcVwxMQnA73OgkyGchNXo5RqQHBoDyln39619HqVSKvDhS2QGgvDVLly7FokWLsGfPHmzduhVnzpyB4zhtWZlz+Tyy2Sxc10WpVFLXbnb8dApJVB7T7xKteGNM4EwoHeVyCcMjQ1h/3dVYsfJSVN0KRkdGcfnll2N6egqLlw/h08s/GcS8hALPJZcvilnKxHuUxJsmEJWxlaEFFMwHKGyUSlW89/57mJqahl/1VPaoJu4muU84SWWKC4UJ4RWShhyRHrU7S0xdOmSfWLcXFqSwmX686GM9tFaHagJnHDy2vrRwubbQaC7TRey5qZb0FjJToxlJAmGSWqTFTMbPpCkznVImWlWC5PXjnqdex8jUu1o/zHyyP2r6OciomYR+fu96osjogpBy9QZrt+/7qEc5bzSHEg74ng/X9ZSlVVmxOceiRaOoVCpKsfB9VssVlRfqEKQlPcnzAjRezOPHiX4I6lEQglw2C8/z4QcFPRkjcGynJy9tkmDbiOcrf89kMoqipHs9mr1+MyCEwPM8FItFVYEaAIrFIkqlUiRmybZt5ZEhhCh+v1RSyuUySqUSpqamMD4+jtG/fKkAACAASURBVJ///Oc4evSoMeapWRQKBUxPT9fwQZPuKc5zlv+k5bvTSRGSvGVyWzy+Js35hoaGwDlHxa3WpPtkHPCZD1COQmUaFX8IHvfArBwK1SlMly+i6E2CcVfFoPDgWBOFglAEFC9tXKpvYZwKZxwENphHQJFBsVzFTHEGVdcVhfSafMQijW76g+LPVv9MbRuWZas+8uB1VZmZbcjx3Awdd36iuUXKVNxS0G+Ed1LMDTTivRCGRTmOOjeeTPNQnFtv8kDEfQT9HrjdDxDxLEDy80s/juKJbMxKcRS99sZIyHE+WwrMALOH2fHI8DD2pd4rFfFJ6Au5ZlGVAotNKXyfCSoZY1i+dCm+9KUv4aabbsK58+fw+99vwxvbt4tYBBIEBJOoMNMJ6FZ+z/Mii69JwKuhkBmUPjknSTHLtm2Uy6LY3+jICLLZLArFAqanZ5DL5Vpuu6T/xQOpagSpQFHUa+fo96fDFOchY2MapaY29UfT96SdJ5/P45prrsHQ0JBSUj75yU9GaFCEEAwPDysPXqFQwMTEBAqFAi5evIiTJ0/i3LlzOHbsGM6ePYvJyUnlOWk3o5rwIFZq+ibtfet9JL1P9cZWq200QT9fPPVqo/Ml9VdI8SLg4KAWYNkcHvdQKE4C1MNMqYCKVwIngs8PhO+TrxImBOYQogtpSIinI8EcQUFBQagtPCAWDcatLyxXLXnDSOxvMuJzhARjDMx1RYIJzmHHEmnMR3DeXEzh/ERnbbkspszPJtLMFVKYVtmnY0Ye3zCHmChP8xnR++zMs9VTTVNCAS9My2yy7M+WEmPCQnr2Cx099ci0cYIaEUCPuZF/rWBCHB0exle/+lXceeed2L17N8bGxvA33/gGLl64gHffeRdONguWooqvhBTmgXRCKmMMnufVUJPErUSt2NI7IQOkLctS3oK4oCSVuGqlgkuWLcOdd96JT153HZYsXoxz589j27Zt2L17NzzXhZuw8JtoW7Zli2BkSPdwSInzfR+u68JxHHVv1WoV+XweuVwOrusq5SR+fv1eKRWC4JVXXonNmzdj586dePvttzE8PFxDRZL9Lc+ZyWRaFmSkUlCpVLBq1Sp8+9vfxsqVK8V9B30OiPgl+f3dd9/FgQMHMDk5icnJSZw7d055SkqlEjgX2c18X1AW9fN0Aq3GxejKmOwvk5KZdO5OCcPNKEpSeQu+AEQ/ngBcJvvkIISBoYKqV0TVL6OKEhj3wS0vDJgn0WTfwd2rT2oLIeBEDwTW+0laHz2AABlnCJZNQSiCMPu4nTgt2rN0m/rUVMW9HQxoX/0K+ew7/3x0g14nrNkmxSRpXFkpFHF9/SVEZFWzLBucM2SzWTDGMDMzY6Q1MU12APqbHtNpRDOGpad81XjoAPgB28B0Hn2bSZGpF7zfamB/GjQ3hpvZt/dzZCvvY7NJD/pJCW0WPa8j0wzUowu8EsxniqQZF/YkNchxHHzxoYfw+c9/Hr/4xS/w7LPPYs2aNfjOd76Dr3/96zh9+jTOnj2bSliUXge9loZMn1wPvu/D87yamjFJ3olqtaqq/TqOA8/zItm+5PEksDCsu2odvv61v8K6detw+PBhHDx0CGvWrMGTTz6Jn/70p9iyZUtwTFTIodRSFnDGfPg+i1jPHceOeM/kP8dx4DgOpqenMTY2hk2bNmHlypXYvXs3xsfHkc/nE70xnHOV/Uveb7lcVoJ/Ul9SSpHL5ZDP52FZFkqlElzXVfStZsA5RyaTwfT0NLZs2SIqvwc0s/Xr12Pz5s2wbRuUUlSrVbz88st4++231bOWip1lWaCUKq9b2JesrmehWTQjnNbr9ySrfj8hKfZH+xb8DQUZyybwOYPnVyE9MJzLBBhJdBVTLJaMOQkVGX1fToRizwNOeajE6Pu106/NLTRqLgg+Wx1WOsTC15/jZGGj85Z2E3QBth1rdhoamb5vGo+MPif4HhOFJQlBBZVgbTGfQzd8zueRbYz5S+iTRumm44otq9O/adBIQO60AF0v7XBCC9D86OidMjPwKjVGXysyQJQjS60wc4Y+WVqWBd/3Ua1Wcfvtt+OBBx7Atm3b8OKLL2JkZAQTExP4+c9/jn/4h3/Afffdh+eee66hBYgFsTR+EMexcuVKZaG3gyxI+v6qvRq1R36P07Okl0AKwStWrMCKFSsAAOfOncO5c+dQLBZBgxTGkJ4SSnDFqivwzb/7JtasWYvnnvsx3nzzTZw/fx5XXXUVvvWtb+Ghhx7CkSNHsHfv3uCaQUYmasHzqsjlcli9eg1uvPFGJZBXq1WcOnUS+/Z9iFKppPpSUpNkf99666246667sGrVKmzZsgXHjh1TgfK6sqf3ge4RsCwLp0+fxk9/+lMwxpDJZIwKHmPC0jY6OgrHcVAul9tSEuQ1Jicn8dvf/lZtKxQKcF0X9913X2Q/27YxNDSk2idpdrX0yO5MMHFPY737Mnk/Go3tflRqpJKe3DK52DAw7oERJhRzQKQiJglLUU0f1itAyfXdhEpEg7ovJOSdkyBarXkQ7V/segMMUA+EoyaNcovgKobC7I1pF40UE2kM0mnGaVBbo4SjWnUhg7xNtUU4QtPGfFdmGkH2UzPPuVkhOq7wNKukNPLu1IOebKB5b0z/KjIDilxj9L0iY4JOoZHfq9UqbrzxRnz5y1/G2bNn8cILL6BcLiOXy8FxHLz77rvYsWMH7r//frz77rvYvXs38rkcPEkJkhoTD9JOate57bbb8Nhjj+Hjjz/GU089henpaRWkLq3ncQFRV2Di2yTNKpfL4bOf/SwefvhhrFmzBq7rolKpYHx8HG+++SaOHj2KCxcuwPc9WLaFtVdeia9+7atYtWoVvv/9f8ebb74J27YxOjqKEydO4Je//CW+853v4LHHHsN3v/tdTE5OKvqX67pYsWIFHn74Ydx0000YGhpSAfeO4yCbzWJiYgJHjhzB9PS0UmR830cmk8Hy5ctx/fXX48KFC3j++eexa9cuRSvT+0B/Ljp0T48MmpcKgmnfarWqgt6r1WpiP6eBpPDpiybnHNlsFrlcDpZloVAoIJfLqUVY0vvkvqZzdgrteF/07fXijVqL6ege4p4/3/dh2bZB8YhCZAsTygQhgLzlMItYmrERp5qJ7yLrmfyJBueOKx26IpIOqphnE/VnZgPCkjnbrVg4IMFY7oZhIS7Yi8/huNfnA5mlLD6PUC48nDUpmNtqF1HMA+nxboWWK63ulBCwmlxaUWhL+5yEpNNJ6LVeJNLQyJK3h+ePnzteTDIpM1nS9iTqmFSopLdHV7L0GjS9oTvpc3y9CVD+3ttJst+VmGZiYruFvlNk0nD59X0sSxQmvPrqq/HXf/3XsG0b//Iv/4Ljx49jZGQE1WpVxXr89re/xQ033IBHHnkER48exeTkZHgdOVEEll1qUVRKZVy/cSO+/OUv4/jx47juuuvwT//0T/jhD3+Ijz76CIQQZLPZRAFb90bIIoJS6RobG8NXv/pV3HPPPRgfH8ezzz6LcrmM9evX4+abb8Ytt9yC48ePB5SqKrLZDC6/fAUY53jqqf/E669vwfDICFhAD8tkMvjTn/6En/zkJ/jmN7+JzZs344UXXoBbdVEql7BhwwZ8+9vfxpo1a/DmG29g9zvv4Pz58wCAoXweq1evwfWfuh7XXHMNli5ZAqJlXXNdF8VCEdu3b8fWrVuxf/9+dd/yPiMLoyY4E0JULR8AQYFCEfdSL00vYwylUim1dyIJ0vu1dOlSTE5OolgsRq4R4V6TsFBiNz0uSe0EGlsz4zFO8b5vdEwvEb9uvJ2O4yhleXh4GD7zUam6sGzL0PcktlDKyJngN22/FC3TzhFuC0Q8Yfjm+pl0paeVMSECZQmVyn7cM9MPMFNg+0n5nW9oTUgjsb9J5xZCF+cMnOuKghjDhMhaTxw0aIbH/MBzLrJ/ggRzZJMt5Iw1fEukoajRHFsvfqeRgJeup/oflm1hZGQElFIUC0VUWKWltSlehDycj0ScLCEEHhWxvXoiFLU2NVAamxnPnDN4TJcZaj1FcylmI7VXscvtiFyrTps6TudrgTHTSeVnVhQZQgQVhPD6k0yjiUgKnxs2bMA3vvEN5HI5/Pu//zvef/99VY0cEB2WyWRw/Phx/PrXv8YTTzyBW2+9Fa+++qrQJi0L+tRrWzaqbhXLly/Ho48+iqmpKfzgBz/AZZddhm984xv4x3/8R/zqV7/Czp07USwWFW1Kp5NJxOlIjDF86lOfwuOPP44bbrgBr776Kp5//nmcO3cO5XIZixYtwuuvv46NGzdi/fpPIJvNCA+FW8Xu3bvx2mtb8O6772BoaBi+58GywuxolFJs3boV69evx4MPPojp6Wm8++67uGrdOjz2+OMYHR3F9773PezauVOkpA6sWp7vY8eOHXj5Ny9j6dKlKpDftm1UKhVBNatUcOLkSTDfRz6fr/t84y+1zBBnadncZExQPXRCiJLC/sWLFxPja+Q4SqNEdwPx8ZEEXVmW7bVtWynISQkRkihoafu3k32hK2y2baNQKGDjxo3YsGEDtrz+OirVSUXtFLErUaGfafcvztVKQcgEA4lWTYPEfon+bWS5M5ybyHaartDfFrcBkpHWQzwbCqGYIyxl5VYJNCDoysITQsEghNRMJgMA8LuUIU6PkwSEEVKniev1vSRksH6jHo57BIQCx2AF9FME5/BTzmX95MWWrAQgmp1NGd4ihodaalej+BZJ64WKhelOKvd4O+Jd2++eh3qIj5Mk+t5cvsdGmE2vTM8VGUKCnD8pn6dpOOhWdN/38eCDD2LlypX43ve+h507d0YyociXXVaW3rZtG/7sz/4MDz74IPbv3499+/apRAFqmmc+OOPYtOkLuPrqq/H9738fZ8+exfnz5/Fv//ZvePjhh/G1r30NmzZtwuuvv44PPvgAFy9eVMUW4zQrOREtXrwYmzZtwqOPPgrOOf71X/8Vb775JgAgn8+r2Js9e/ZgfHxcUZ8EFa2qAtRzubxaEET9nDABged5+MlPfoKxsTH8/d//Pc6cPYtlS5di//79+O53v4vx8XGhpARZyAghsLmoci5iZU5FPBXVahU5TXEhhsrcSZCTrpoUPU9Q62JKQ7fBOa/x7ugTdcN6Bl1um/65UXxL/Lusb1NJkYVPX5zTWN11paneNtO91INMAFEsFrFs2TI88sgjOHz4MKampuA4Nnwm4sGi0ovZg0FJvZiXZpEkMnHtX7OeFFNcjFldMiGpNfJv596i+bvAdhvR96lZD3Lafjd5Eeu3Se4bKv/xcwXWeNvCokWLMDo6gunpGUxPT0eUi7RXjVh5YwfoxYh1WraklelGHMaZig9NW3i2VkimNT3GUUuVUu2LeSv0v51GM/RoadQpFUtqW8TwFRgjfW6mjsVrq8hzAhBeFyrP2Ty9r53Yje7XemnmvM22odU2tzOemrlm72Sr2aaUSSQqMp1+iSOCUwfOJZUFz/Nw8uRJHDhwAG+99RaGh4eNVm0ZxF2tVvHCCy/gW9/6Fh5//HH88z//M8rlMrLZDFzXg+3YqFZdLFm8GPfdex+OHTuGd955B5ZlIZvN4siRI/jP//xP3Hzzzdi8eTOefPJJTExM4J133sH+/ftx9OhRTExMwHVdlVp5ZGQEGzduxObNm7Fx40aMj4/j+eefx+HDh+E4jlLI5D0NDw+rNocueGFZGR4eVX1pWQ4ojQqkmUwGk5OTeOaZZ7D/wAEsXbYMExOnsGPHDhw7dgxOJgM7EHwZ58pRbNkW7CBrmc5NzQ3l1WTImC+KcPJ0WUH0AG6lwNCgKGl8X0oS6nrE9mu4R3JbTIkX4vsAiCik3YZOz2t0vfg+cvw3CphNutf4ueL7N+qndkCISLt8991348o1V+JnP/uZoF+isaJMCYkV0W2V8hUDJ4YBxgOrS8jbjl63HkIlRo8HCv8x6DXVaxSTIFg5/txlooH4cYQQoCXBIDyjiCcnhvessSLXD9brRmgkRLZ6D1HKYNrzBu0gaDD3hUp9+uaFwq6pHeE7DjDmoVqtoFAgqFRKwdzPImdSYy0FJUVXk0hsHrVtG8uXL4dt2yqtvd4uCcYFpa1eTIY4rnF8TNz4YsraFc90pa9HademONLSfZPmWF1h0REX/uNxJqY+02vqUMP1CSGg1ALnzBiDI5GkCDYbpJ9GgWk9U1qr60GjlyvqRa8vA3VSQWvlfqJlBbqFdpIwtaoEma7ZdzEyaSFd0rZt45VXXhGCeRCHYnIL64HmH3zwAX7961/jySefxGOPPYaf/OQncGwHzGdwqy4IgAceeAAjIyN45plnUC6XMTQ0BEAWoyxj69at2Ldvn4pneeCBB1CtVlEsFnHx4kWcPXsWlUoFlFJcdtllWL16NVzXxW9+8xu8/PLLuHDhgqJoSatUXKjVHzQhIm++nujAJJRLofbkyZN49tlnAUrgez5yuRwy2Sw45yhXKwAJvWOccVUoUAT9+TUTd3wyT5tAhxACsOB4/VyGfRuds4nC6MltSdie1J/9BJOlsN2Uz6Y+iVPY4vuZklrEj6sHSikKhQKuuOIKbNq0CR/s/QDnzp2Dk3HaupfOQPcEcQiBjkEK8eL2mvXIiHNx9azkNdKcx+y9lO9KRJlJw8GpPRNCBSba4vg+0Sv2v9LSe9Tz1iVtb8Yjw5ufBOPvY8RNwQOrPkGxOINyuQTGfEgaJAtiXeQZmgn6l5eJe3Y8z8P09DQymUyERhbfDwi8rZzXva4piDz8TIJ1K/xdF6BNCgEAWESsdXoMCWgjZTMdZFB9KqOd4b2vpwCE6eSjSoX+vSYOJbhPOW/blh0aWphZkYocb1CaTEpNO+mbm0drgn9z569/SK3BS4zD1jxR3b6fuY85q8jIl0sWw9Jd1kDtJCC9HnKi3LlzJ6677jp85StfwczMDF555RVks1lMTk7i5ptvxqZNm7Bjxw7s3r1bZbySk7sMdJ+YmMDLL7+MrVu3Ys2aNVi9ejXWr1+PlStXYvXq1UrIKxQKePXVV/HOO+/g8OHDKmNZUlt1q234W9TzUq9PQs/OUGCtCbm0RmpRA4uTympDwwm+Gej7J02Ks6k8xBXH2eKzN4tW+syk3OvjLO61iltwk66fRMdICh63bRt33nknli5diqefekoYIagF1++XCu6aAqL1UyisNu57rv1fq7p3YWFvWYlJamNceTFtn1sLZnfnGV3JM1urW0H4TpEWnnEMhuM54yBBgg3GOCwr6KeIV0DQvEyCaY0yoX2WcS8yhpMxhqmpKTXfynmG0jA7mhPQZT3XDZL1tFY0kfHQQGcKJE96LuqefW09paRlz4yEvg7qCo3RmNTmtdR5Uow9eR1GfEGrl3KEXO8TDFRpMsbNDnSZqRvzE4n9Tbt/u9drdD/1PebzGX2tyNQT7nSBS1mPggkxKQ5A7gcAxWIRP/7xj+E4Dp544gl4nofXX38dixYtwqOPPopCoYCXX34ZruuqOjWyur2kgUmrUrlcxr59+7B3715s2bJF1T+RilWxWIy40GWByFbu29QHpuM552A+V/EGliakG13ZMeUkSVlpVonpd0huth5n1K8emU6hkVKSFKuTRFNJOqd+LrmvLDq6evVq3H777di7dy/2ffiholr1B/TFQLeGNb9IhEuPbk1vdiHsJgJlJvhm9sYkHTdAvyO+PugeEJMhTV+bOELlQVCSovVaxHrqK9oSh0iDLmiO0WvKc+rKCxCdNygR9WUsainFo1klMGkOkQJ3WtqTomEFSoy6BxlTksajkmKt7JTC0gx0SjkQPn9JKavxxlMC7icrNHHoXofeemIGWKjoa0WmHhpx+uMvXFxQA0TxyR/84Af427/9W/zN3/wNPv3pT2NoaAhr1qzBD37wAxFTEsSwyAlYWpV0YU8qSXKym5ycVKmFpeISd6G3Y/U33Uu8XziPFhf026QgzWeYYk/mK5pV0hrF3pgMBvpxpr+EEFXbafv27ZienkY+n4fPGHjfCcja+9SWwNGPY4qrf6aomAHmH5LiR2tquRChRNAgTsumBD7zAc6CDFfCsEdhAczXziWF4ShNTBqK0sQBVt0qKpUwBqHXBg55Xaqt67Zlw/O9uvEj/Yw0hU+pJWQc27KRzWbhMxZkLQ295GmUmfmcmWuA/sScVWRahRSkGGMYHh5GoVDAs88+i1OnTuGmm26C4zh45ZVXMD4+juHhYXDOFa2snkVa3yYzSenXrKWKDTDbMNGm5rs3ptNopOjEIb1fR44cwdNPP60KrioLcR++HvN7TMzne+sPxIsVhkG4wT8+e8YTI60UoSfEsizh1SeiSLTrehgdHUUul0OhMAOXecpLE78DzhiIHvOiZS4zgXEm4ikhvDM+az6TVjfAGIPLXTCfGY028wVSSXMcR6Xi9lwXvg+joW9+z4utY/bHxWxQf2d3LCwoRSb+MpbLZWQyGVy8eBHPP/88XnnlFeRyOUxNTamaIyZvTxKSvEGziflGBesWZn/ymbtotu/k+xFPckEIEWEAffT+AKHHtZ/fJdlGsP7rvwEEZNE/YklBPqD18fr1o7rbJk2J0VKeE6FfRShoFrVgZS3kczkM5fOolMvwXBc2pWBc0Mwi5zYoLPUyFVFCIevLye86va0TSFMtPp7BTKYp7rUSY4pRSZMtNA7GeY2XJHJ/mjJLKIHrurg4ORnUmKsfs6hT8OS15iJoB+f2RMq/lniindTVydCv2cXn0IePeEEpMjrkxCCCCYX7eHp6GlNTU8bJNk6NGQi+8xOD59obJGWIm0tCuDGbWEL7GWddMY6RmMA1GL39DRlvIVLd+gCEEjMbikzcE6O2A4BK5cuVZ0X+nZ6awtSkKFxLeFhAk0BTXjo4EBsWdNQ+6ymIgfoyVz1hUqVoRmDEZN1TYiKB/4ZYVT0hQDvzYxoliDOulBc9TbVla7FTMi21pOBpny1CVAHsuarUpAWrQzU26utqd5EMJHzUKcYTSblfcCHWoTFjbkcUotbT7K48C1aR0aHTvhKD4ROyMg0wv5AU6N6PaKWV/TR6TcJb2oDSfkVyhp+wUK76Z8gT1ta1KQHqZBkaYHbBOYPnscAz40OvTzSbMCrkQBAPA4CEnhke0KyTjm11fmFMKPpSGbdobT2pesKxSp8hlR4OJU3WS9HcSLifD7GTpns0ZZfUf+My0YFBGKYWjWyT8XVSwdFjjOa7MmNCsneHx/7q6OTYintmuv0MeklhM2NOKzIyuL5Ti3azfP8B5h90QXMuIG09HwBt1+HpFGqEH6IVjJylNrWLRtYvkTnQAqVWQFOjIh6gA0pHXNgazFX9DxEwzwGwunSrfkCSN6Ibc6SM0dGhC9QUhgQ38i8XSosSFzkDpZbKWNYKLavf0JU+p6RWGbFoYnITPQMdYwyccZEowBI16xY6GONmZUa4Omu3N7OIN4V6ilOnrzNQZFqC4zi1mVYGqIUcY3XGcicEn64K/g3a39FLEdL3gkUEKZ5vu/3XKM2y3JbP50EIQalUSmUUmG9Bo3LcyKK81HLAQUHAwTjAYcO2rYh3lxACTqJ9ImMmCK21aIo4Ik2wIySyjMyXvpzPiFO5mik0ORvQY2c6nbAm7pWllCqDi67UxCndnMn4usA7wBhAKTgP0v5qRZfjCoxOmeoF0vSXjFEyeUqaKaKZFtSKrnHqutKhxbnKIJkUG6gysNKFaTyRyko9ilktejDmIhS2lg+ugVJ21Znlp9k3EMxJRYYQopSYQTawBiCxv6Zd5kLf9VCZmVNI8XzV7232Xz3KJQCVXjXtO2mqY9GPUN6iBgtWKJSJCZ57DCBBTQxCwImgy0gLs01twHJgB4kE4oqdUH6IKmTLGYesiUiISIfLg/0Z5yC8H5aU/oHMktU76It6555EPHX/QoHuobV04xLnoAgVGCKTAmiZDxnnoAZ6GhAo/30qeCfNia0Uoq45d72i10EiitBwEo61pGvL8w3kryg6mTigJRAE3l6JDjGWtOIIXNvaq7utVyKg54pMpwb9bE1EjazTAwwwXxHJnqMJFnKbzPTX6vtNCAFHGONBCRUCPieB8KGlsaW063qtiDlpwqIatNv3JU2OgoOpdLaeReG6rhIWOGfgzAcHiVQRB6RXR1iYbcuGXDqkcMfAQ666FFB4WFSUM63OFQgoQou2VKTm++yl1+yaa3O1pO3I+mWEiHpkruv2RHBMsnu0cl3dA6kbOSJxF5QqzxTjLAggDiED0ElQcFNlNwvmAemZoVTMGY7twGc+PNdry2DSKyE9KfGC+r0DwjG1aOJ7wDmDr3nd9GtyxsF8VtNGaUDpZ8Ww24jTyJrzzswPiPfVbDToFexeadKdvE58IhxYA5Ih02jO5R7qRvvTjpl+F4LSPN9m+i8pE1ecDhX/rR3PqMqGg/oNjWcv6jhfP4wYBuHRe0yDeGZDgEQMYz7zI14bnzFVGV15WoJfPc8DCBWCG/XUj1IB4ah9LpRSEMkN0dcVxkE4BwEHpV7EUs1Bgn5tf4z323uiFy9Oa4AyCdmNEJ47/THiOun29X0flmXVvGM1sSIdWgeVTV56RGK3Ve86UvnS9zPFxMl99eNkUgEreM+TKHd60U2dWkYsS53f873Qo6M9T73P0jxjKaS307dJnuxGHm7T927RwOPevrgXRh4jM5Lp7Yinq9a3p0W7x4eQs6PhGl3wlMTPSQ191hCEGONk0qT7No6HRgtp3aYYlGhIFkBSz3ZfulRe6YQ5YU5Sy4DZWzT7bbGuh86THGYHadvPwWGMaOfE6JacS8/ShGZYZW1dp8FiGlnU5hn9RS7mhKSrI1MrKAVCGxepa0ngWZL/QIKYGVL7nITAxsF1dpTmCdNpU5QSEDujlJRIexlAGQNnXrAgcFHwjg7BsXxw5oExX1yfiXS7iqZTr2+Ustaf75FU7uL0skaKSrP3ExV0W+DLxw6RMVLCuyfaNd30HgAAIABJREFU7vt+hLrZFXDjx9rdGgj2UpkxKYXxz4QQOI4jYl6ZL4LFOQdLoATKwpscoVeWy9TmgaLHOAer0b7k+lB7TsJ7nwhgNt4ZkzIX+T3mTZAFMnUk1YsxKTO9ry0TV2J6+0xbj/mUcotZoRHzeAvzStPQiWOkZqt4fQxyVIrLdSIelkfIbVHMWUVmgAFMCG37arlLfK2TvA/67wMqYRQLiQ/dyfu0LAsu9Am9scJHxI7qOwcATVHUBQdCCMAZfF8KDhpthxNYhAA+AyeaF5tStYDOR3qIVAh6eMXmdo/JJ/W8Bb1876Rg0s5wkP0eT5xieh6UUuRyOQBApVKB57oBNTLBI5PwXRgHOEAIqGXVJsqo194Er4K6RkJnzMe5sNNjTe/X7io1+rw3f56L8I41e1Qn7j+qFJKkwH6eTpnpRHsGiswACwjSiq7VFBigbfQqsUa/CNQyTqdfEaEZMQ6P+dCDdNV+cgniLLDqU1SrVfiVImyLgXAfRMbyQBq3++MZzGv0axd3sF01lCXDuPI8DzMzM8hms4n7JEFk/NO+ixPEvJXhOjB/xNv2odPHTCm263ni2/VgdccDVv+ciWmR271qpynOHUej9ynu8SHG7fXOIinu3X3BiGaejmKgyAwwL9HahNKPk1D/QGXTCigu3Zi0I+fsV0Gvz2GKneCcK4mPMT9m/Q8obAgUmZQC30DZGaBZxD3cnHMRDwagVCoJWlrKeUXFiulTBodKF63z6mmQJCDpzAtxJEdiYCiJZCFLPKZNilB3KXxRjwylpCfB93qsNudcxeb5PoNl9a8hrBbxvtLfmGRPl76lF++RaQTZ8mVvxJ8cYIC5BGmtZoyJKtHzK3Sjp9Azafm+3zUlZoDOoN6z0bOZDTBAJxEP8tc/J2fLCrd7vkhqYbK4mhARsXSvDIt6jXWvqk46HsCMenFY/T53yBjAbhslTVk75boovYGUtp8oYvaR7m1ptEdSUoKmesYQRyqhPDKdCMYZYIB+grSOZJwM3KqbYmzz2F8oZWihQ84Pc6pY6AADJKDfsxHORcTjYkx9rM8fMiGAOo7QtouDzm2hsTFmI2Zz7sSJkpDfFDRZL1rZSVpZnGatG/copchms8hkMqhWqyiXyx27bncR75+4D7Nz/SdiOpusQVNH8VGKjHwwAyxsNAqAn4twvWoscJRCuGgEpQZBZQ6R7lbmgg/dxIDIGpTWujKXjAJpBLpWUtK2ikiyha5fbYCFjHbThncbc3EuNlmqAfO91KRf7lI7Itul4Gn4ra4ns8f9nibdblMpeU37JcTIxOf7bt17vIRG+9dJJjl1OjYm3jdxpQYAfJ+p2mqtQD1fkfWl5fM0hik+RoAGmSmTDAz6+xSleNa2VxougDCmJs1d6T6hpP3tAaVsgNlGJyw+MoWt6fjabTz2WXtNSPAPoaVwaGgInuehVCqla0cfI8klnkaZGcwR7SJd4OQAvYV8Z23bVrSQ2R7r/T6PpEX8PuJFSiOZ5ebHLc86umlIq5d1LCn+JUI11NLZ60U2O4fZIQ7KVO/yc6VSAedlVdB2tueTdKgXRdb+c1JGI66N0bbPKmDPjQ4eYC6iXtGv+ATmOI42ATQ/JkXazYTtTXAxOeOqinwuN4RMJltjtZ3L74xt28hkMqLCPGOqXgVQ/77iqWF160qnocbG3O3muuAkvTWq69Aa0VJ6jDmzSEehB+YCUALHgEraWcQ9CLq1v/fpsesjLmTPddTU8DEEvpu21QMlxKjMpA3iFwK/BUoIPHiiblCXkGZu0tf0douP6kq6fv1mz6MnXugtorFF+jNtpyaQnFdd10Umk0E2k0G13Jqcl4QFl7UsSRidD0Jqp9CpPqg3OcSv4Xle29YLzhI0lqaNNCJve7Vahe8zAASMhZbatC79fuMWE0JUhiD5F0jnbdHvO5fLgbH23OaNwJvlz84J9OEdBe9Gck6aOoca+OFzCXOxzXMNpvlcn0tq6sy0GSPTCvQU5tQSaxC1hKFmdgTKZNRbU+IyTDNzuokalURtbCfzmFBefTBowfFNZKqrh5q6Wkh+x9tdj01yjbyf9lglQbsNlL9ewtSX+n3pio0Urxrdu2VZyOVyGBkexgxHKoZLWsx7RaaegqJ3vEwpu9DRaYHb5MkwXUNWru6KwN/EKSMpKVW7Wc0247FzYPxwzuG6YeKDOE+50bGWZcFxHFSr1a62sd/R3LMmwg0jFykeOvH7/04XBqQ1tRfxYHPVi5UGuocl7rWNBPb3UdKQeNYpi1rwYynK+x2m+ahGSaFRwZhaNDGLYTOCdLNG4FDop7AdCiuob9UrL1jc8KJ7ZuX3ds7Z6vsdN5L2oxJNEfXKRGJkYB4LuqGUMSYMxC16YtV1YtvnvSJjsjTonwkhsG0blFJFt5kPmGuLZTeUAEJEASUQAKxWWDfG06jJI/pC1hP40/Rzqx6/bj3HuNs7ycVuooMUi8Uaup2+v0Rn2i2DDcW5uluHID3EvctUn/VAYn9N32YRHAAICJr3gMmCs/Xoo9LLKv/K/eeC0t9NJAmeXXnXDdt6sTIwxlRNDQARGp/8Xf8+25CKFiG1tNn4s5lr4zdprUsab3oiAB1p7jstpYsqD0Z0jWkF3VgXWl2z23mHZb+3r8To4n7zfcMMnrdmlA/Ts2ScoVKpoFqpwPe8lopN89hfiXmvyEgkLRz6gjuXBP8B6kMqMQSQpoK61C+1jRIwDljUUoKavn8vx0jcwtPp69ez4iUhzgNeqAjvP94PoSIsBKJgKw/Tf/IW6DNqUTW2oTXooZ3mM+l+I27Y3pl2tIJuXDOtoNrpOcCyLHAerUafhKQ5QK5hEv1gkEtSUKSCU2+f2QJnHIz4NbQySTUzBagTKt91NitW9KSxatwedDfXDHv1lBkgylKod38mA1jkdy0GSZ2P84j3q1NrXCMKuMmo3Sm0fw8EhNbv6/rQ5+vW700qM614T8xzlDBqkC68IvNekUlDBfI8D5VKpa+Fs1baFqVGpT++W/2Q1prT3jVCW4RSYmLnJpQCRiqhWJAoobAsWy1OjdqXts3tWKIdx4HjOHBdNzE2pRfCXVr+dcvt0Q/hckLmoKSWtytd2d16awkhNXFXhECzmJkFyqDxQbvNJLI0c7m6RwRcZL0/O2RmJ0E76/dhvP0kYXv3kMRJN+0Xp46Y0I6g0Yn3THoqKKU19VR0JL1/JugKgmVZ6nhj3EmK2+/Efepel3i65U7Fx1BCa94H89hAw/uWyor+3bItUGrBti24rgvf88G58NwIJYaodcIk9Js8GyY08mbX837Ht+trl24Ik+fWqWNxz0PNu9ZAoE6ioSWehwKUivHJAs++fmwrikCU7hRcL0UfmhB/Ds2s750AbzAP6GDGZxN/DmmvXLtjPLhfjnt9u3qtOCIpmOudPW4kTreO8MCLU0su63NFxiwsNAYxdFTti6pPrP2sxLQO0X9cphVuuDtB98TC7oMEsQj17oBITQc09o8Fb6E+qbcy9ngd+S6+Mer+NY1BOWYty4Jt25Eg/fk5ZjUoTTQQtikBIRZ6KUBHIdvSSOAKnmuQxhucg1ArFNQoTTWz8dg/tT3psZN0r3ntFYIWc9NSJmGynC8sD3YnrMX62iOF+yRhv9lzmsAYg6oTKPfX/nbzCTaqExOPp+kX1MgJPoNjO7AsG8xnYNQH9zlAGDgHmB8qLBHjFyHqZW1WqekEojKQWdYhVpihrSVjqR5T2uDedLoaYz54l9Yv4UlIaIOB2dDI2N07FkZKOa0hItbANo41/GqSq/Xfm7gcj3xKPrD2/LVt7HNFRqJWAzPuxVmg6ddq1Audl11/fIn+XRi9o1vM49vlwtNqT2gTkdFinmQ9qT+RyvFbqVTged4CGsdc+9t7oVlk6EkSsOpK/YiqIG2KjIbDTWdrbVTMTt/OVbQr2OjrkBTkpfckDbWsEaSCJNtIA6U57u3otxlEKlz9BKXQ0IBe47rKg0AtqiiBdlbE2JbLZSNtNFJsMiH2pFeoR/mK79NpmlzEc0MbezCSUj2nAWMhlbcR5q9s2JoToFU0c2StEpOC4VHnKnNEkUnXRdJdGU4mQiidvwO1EcS9ZxwHjHN4vpcwXBZS39R7YfpTqNMzjS2ssUwSPvcJ0tlXAmiWS67U5nSjrf+GZMtIS/3qN3SrvZRSZDIZeJ5X10ihx8slQc4NKo4NkLkcItl+5lbPzz444/CYCw9QVDJCwtpntZDcprnX05xxUFuMyUqlomKCjIldYhk+0wT4AwFHRKeS6XQ8XdHvkSekl3NRb+Ow095XZ2aG5u9Ml7dSOCpi3/X5bY4oMukwCNavBaU2MpksfF8ulLXyV1Py2AAdBaH1vUBJCQoWlkIz/7CQn9xcGLdxnnw8+2W7a42kkREismYCQKVSgW3bifEyzbR5NtAOoaWfEYkvYaHXvVKpgFILVpDGODIuuqLEtHPO5KcTVyoIocg4GRBChJeJ1V9r0irZ/z97784sO7Oehz1vN2bWvp3DS2SRiVVlyWWxilbI2AoY8TdYf4K/hiFzObRCJlbOiBGrRB+WyrSPePn23mvNAOh+HfS90cAAGACDWQvPOfubWRigu9HX9/52fGEys7S9hRs+sDamMTJDpbwrRqaL2LRj/4fnkoidjt/e3oyTlvmz0xMfq2eeC0NRig5m5sCB5ZGvqdPpBACJP8s9iBkVpZRPDCeEWMS8bE3kfjwJgydE0VH5vYKZ0bYN2nYpJvIxe3ls8uWitv34+SMJfFD034yc94cihPUhDzUspA3LvVE+Gd+O4xx9EPrM/KeX8s4ZmYCPpq1J3/djvfuBAwcO3IPY+Tz2U5vrkD+EpmmegpDKQybH2iNmtjFU7D2YFgLa93cUsKLP9HLtIAUlJOGBNYMpJX6Td+XMoX5kPhaiZemUuKy+fGFOS0IiFZhppaG09rle+uCZoJHtzjUvcS6brRiKvvDLU+t+fzRliLI5LYLg4/euD8LIxBN3uuTg+eE0Urcm5x1O7v5zTBnxfY9fBI9EHnYS6B46Bw4cWB9uveURtIgIUsrFtCVjw+juGUSE8/kMANbJPYp+5+7B+xOhlZiDvvv6x/WWn+b96LYtMAvmt5Rxic8h1Zp5Hoe7dwEO7jH/cs/moaABG15em1DhS62HUojvAyXkZocm6ts0H6XH7mEfgpEhH0D++Q6MJRA2rDXfn7PPMfd/zPHow62cEduGgjywJo5RvB9rr4VcUjvXd2UrOKJtqTZ28rxEYaKFEKjrepF6Pib65u5ac3qdcvOw0vHfeYQ2/12na9clXvz67RukEPj5+hN1Xc6VNgUHEzMVmd/BwcjsB88o7TrwMdEbHSZTgx8am+cG057i4z3fHFpbcxmHMHZRwJ7Njl4U/FWmtL5EBMbXXJ/cwlY9tsW+6Mu9VbzNH/PIMMtbwzEtY/LKkKCEmXGaH6VaMJt1J4WYlVE+xh41MnPm5nbCy6m+5Ev5n9+/Tt41I/NMB8+ayA/+A2XkdvFbgqxtKlGwPXemLCWb3mMsDyyD55pH8dxfeg0kUuJI+7C8A/46RldEhJeXF0gpQ84phBwyU3TguVYnJwjH9L0LjTrmxnt2WzYNWn3PDhHJGL3ppRzo/VscOHMzwPmRRclAI+T0h2dgpPDhnQHg589X75Oz1NrWLpBAxlTl5m1bnffPdG4LQb7/1sMy5e+ekZkzqQ8G5tnwOGtq6tk4t5TmuEPg8+dPqKoTrtcrrtcr3EEYR6CLn3mmTfF9gKJ/86mvyXlk8Nx72pptX2MN9DpxDz+1eDtilDKSJ7U7x+2C+Vsfgfne0Bfdca26budDiiXWjEeec2shmI+ZvqikifBXMouuTie0TYOmbXyks9jv5lZggbXwzHvrAYNdMzJEZCQf+rk42b1ivwv2MWObmyLkYUW3mnOmHo2maaBZo21rEy57t+P1kbHMmCyhjF9mdk5lqR6PmGhfA/MktBPaQkDIM3L/O8T719vbW68AZo5p2T3+NgRsMq18T2oNuiF8itzbJ/RH4U7uN50CgobdPctsLM6i1o6ufWmY9TP27iEGzAYN0AwIDa2NSdjLywuEFKhkBc2Mpq4hpICUFZRqw9M9PqDp2pvTT9OeuSUkOLAmFjhP+W5GZqyl93Q7Oueg753H7iLqbtXPdpO5pQ5eyibQlTVF/bzmIntUFLEt1Jb970VEg1qX6RsbT3SQC88xa1yvb6BawGWO9v1DrmgGkXiohHVPzFVibjfhOR/6In8XbwLv/hd9J7HZu4cM2KkTrfsek0LxbCPQxCXl5r6JUkM0bf6WfLncmnLf+6TWecLJOdha0zOoEVlJeTs1wlkxPDQBgvJIbP6nm+VNgSff2WiCxiAOEzPSEi3UF/1BJMw+6RqCdBzZV2JWjtOM5mV2Qb7/PINCDCDdh+P3DYyLo1/iWqI2ZcK04cSTI/uTU4Fc+pvf/ZIoYt26KOpcbdx+WCUDZJrq6jJta9oaSreoqgrn0xnn8wuq0wmvP39CaQ2tVW+0tLiNRARh+2lK9Czhx8e8YwlT1tQ9zM0WjFFsMreEGZjWnJSZm+SlcIuMML/q+Xt4XOVCGpm+Leg+O1GzmMqTfXl0N5nh++616h1b31Z4lE3vlsxMGftIRGfsjTux/TVDtS2q0wnn0xmXyxWAgpSyU8JHlSrNES08Wy8Vc1HYz/vehQAWhmjxlN6yWMtEcz9zfUY7VhLMlzQo5InqdeFo9a3W4y2RY/E6ubOX71NEMmWatbhBVgjL4ZyPGZV42q4tHFnGNH/4DGXWYNYQwpxJWjOaxlgYXK81mNmYk7n7s0SYg3VPFK4MMTD97X+uQB5rYphxWRrLWTfMZGS6ssD+Kt4jxrz70HN7OYA/NoYc6OcQSfcyEkZFb8uKNpSv377h17/6NZTSqOsGSqmOGt4FCGjbtlT0gQzPZ1BVxmL0ML+H3ngW5MKwcX0/JhlnKWDJZgzfaA2Hwb0zLn/2dnkMyvre8SNlvmaaBYaP3JUR02ZMyBL8HBH8ahdEdHIOirAz5mkb+ttKyXkU+2l5ASGnz40XTrtRGdtHt+/bYj08QsiyjXN+F5ofJQQ3YOzcR8YsjEe3og9zB+8gFvYErTWU2seBAnQ3eGbGy8sLqqrC6+t3b7bjsowzM6SUOJ/PR16HkXj8KO8RR688A8Zot/pMZ1bPu4PVFE0LIRbA0mxx5M1afD+zNckyZ8unT5/x+dMnXK9XvL69mnpXOHPGmh7HWpEkbDKVlSAlH5Y4ElkpCpjTQO1GeVrAHs79Z4Y357sT0xJwppjIyOSamNtwNqVz27iNWdmBjwznOHzvhrZWONjv37/j7fUNrVIATJbxPLdFXdc7MrU5cOBAP+zB75fr+HU7RiNT2ss2C1yCeSSN1tp0SWSadqvFY31GoifsJyd/LU3GhnZpBM2GxsvLGV+/fYXSCvrnI4O5BGYuMDC5wzvb4AnD/iR988x9aq1tf+yXWdiLEPNe5KGmH6GdeRR2q5HZtzbmwHvBltHJxiIP7alaBa00quoEEKFtjTOlCxEd55s5cOA5EG/uU+Ztag467v6l1kVe1r1lTzvgDGEy/EwgXthGPowCOjwoOWDaDgOxkZboEQjaEEPDuHn64/sP/Pz5E0AwE9wFM0PhmtHGmPYvkdDzPTAIe0bcv1K+3zV1C7tlZJ4Ltw60Z7E/n2q7/Szv9VzIN39jU01G9RpJuuLPAweeES4SX+n6EEwUuVt7U+n7vcjLmrsHOqeMdQg9zuzWH53hXGsFly8LMGYkggiC6C6Tkn0iZiZz7cRURnxZ5FqXvt9umSOOM1e07zdzjpP4mMFrxsD1v9PAluiAbR3374cYsR769oqDkVkEtxbbMy3GmJl5T+/1zLDmmRromgAcOPA8EEJAs/ZmK0Tw32Mz4pygAgxh485mpWJiLP8XXZ8a9WgIhIXKisNWLVBcXnoUqrsrnNoWeShgZoVKVvjy9QvO5zOu1ysu1ytYWbM0go/6ux8xmZtX4/rQpY5w95cYlkfu310fl35zsfysmex/dQejztow+1sw4XOD+yxRzpx6lNKeUWlbBWZdjGS6Hdw8Wnte9zIy60p04xCE07F3jnLqe+1jW76N9/pee8Wws5xbQx9eTX9Ms6dFhwASwKkyvl7K2uOb6+SdRzXzgI+k8TsoMzJ9zM0SKHlBz/UM6SnvThilR2oC58xQt4ZzPE9MYCqJX/3qV/jy5Sv+8b//d7xdLpu3axxy80dGau8uAMrpJzFI+A9df4SvRmzCbMZKJb/FkchKGht7p/ngiAt1f38gbBkNTcqQ1+x0qnA6ncCaUTfjfGVzf5o7W5V9ronNNDK5DfF7x3ulru5/r1Ks+DjB34Ec+5FB7g/8MbaTd4g4Uabx7VIgAl5eXqBUa6LtRQdqdTpBCoHL5QJFZQ0kCQA6ln5n/yj/vtTLrMwUrQQX8vcRIBKJCRkz45//6Z/xyy+/PEmQknjvueXbVSL0x+ERTEz4bphcIWSW5DONVJZHJguMjWXgPhjzsjXiYB5EhKZp8fLy4n8fY60RBwHIE2DOAgGb7WXbmJaVpF/HxP6oYG2SPMZZpZVWBxPTi6NfSogMIVDeYx4Dmnlur2J+cHcJ6/WpEMKGDQ/SambG29ubvSNtfdu0aAvX03vTcK/ht5JvzD7my/2YOspOU/Q4s7LcJwYwpjBtq0zLbNLrbTG1QgoL/QnJmTHErRurMWGbXZnlcj6m5cCazHie3y7e96pKom0bNM04BroUyWwRZubBC2MlH5nH2uUe2A+00tArmy8uh+jQfy+0zxMjKKxjYsxmhV5ggJhzU5GJz898dMpBP5ZZ8iTrTP8p18fTXmn4bveeWmv7T0FrAYChdAuttBd06IyAKl3rr6ffZEoQoN7NWp7zItu+fBomJsyneM6LyJyp15k8+/TXo3JuBQkoG/zxjd+7GGuSl2st8u97Rbx+pjAzBwy2NuXK64u1Y7fakodmfraAAH1YmJGxC9l1DgcCZB/q49x05zDl2QJjbIa3QUoQvw9G+5apw7YomgHNDk4QjxEBLAAIsAaEpFnscUJQCQGNIT+M7jNLgYhANiO2pnQf8gSR/c40bmTJ5iYZ299ExnmeSUT1u7bc8c6MyOSE0LYKTdOibVprumKcU4U0GhqV2eUD8EzMvX0/NSJWb14MzZCV9EKZR51nYyL7FJ5avB1jMNTSpP/YrYfw3CgGY0bEM/JzPauPXDsmFdfrDO8itMWajnu0Fbdy5tzqi756nbXE3NnsEl7eque94lH7QG7aN7UdVSXN3muDBjxLAKE+xqtafuKRsWOjLjHzeOQDtf+Bc5gT031NE66S/0vvvbsYe2B4/DPb+kVt4deDc6RdPWv3FC2CbY+TZObq8MFno7qYY10MFQ3LYgIoRp9zavoswDPF9QQzRfJ16VgARypx5vw7BnGbjZRtWCvD0afrjUQqbK8SkY0UZh3qGRDMcP+jpHdHtDlqk4gIOCEJVSVR1+ZaVRni0eTFY1OvFAmT4H3nis7E5fnnxjifZzExKWCY1fEon1vnl7PP19TXnqUgJid6HIP197NODQSvOR0k4jtql15T+MLtNoyzlNBKmXoEZffFzHkPk35j2vclhuzO1z5d0rLIGdo+JsYzU4XrQHhdxwgJImi49XRbVOSinjlaYApd8OwIYbX731cI6vikjMW92pJudLpwnZkhpcSvvv0KdVPjer16/xt3/5D54N6wkmkZ7czp61bHLzUwt2RJORl2YBuU+jxiWlz0I/u3Wb/utynzeKwscRm4g8Z8rlFvphEZiZiYdH8DI5kYBPUDQViKxowRCaudIHNgumEq6VgT4p6oOAOUmmlCwWGkS0F6tl7hY0bGKcfZ6KBA9p9khoYz/3RMPCa9hPAaJW2jHplyzLx00bLsNa3NdaYsTPA05sCZUTjGLH+ebOQzIgJGm8qwZSLCvNesIYXE6XQykb8g/PXtMG8ddstYGbc0hyObzjfujYUX0n6TUkAIglKtL6ObL8Xlsck0oBPaFiBsWzqt6+x3vIB2MZQx1szNts+1tpSrCRGDxsgCMkyZ3zwcxIfiHTl78p0zPVMYl9KzQ8zMFIaixHgTCchKouITrtcrAKCqTmDWxbw0Y+srvXP8Hvf45PStoQ+UR2bLBZNTAhMpgzuxxebwfBuQp47tn7l8PxBfZhN/lvebIEGfXf60TSe31Y21M7cQ12SkQu5aYCxTDUR4MDkubwhg/T0zkJikZOU9VH7T8z6OVZcEQBCEYBAxJAGSyCpJGBwTHLPfw5ShtErXkhMSCPhOckwIyfs7TffYh5tlPrL87Dan0QFgIqs9AI4hs38Nair6sZ0AbaiWIX+YMUR+WMqULGshBF5ezqiqCj9+/EDbNCDhhCBpTalB2R3ofdyMUXifx54jRpATmBpG0OYYZi+93zEzsa9Mn7ml+y2k2LjVp+k9zPrGI3sShndxD5PyKLixFEJAqRa//e1vUVVVxOiEMY/P8amCyTjQR4y1+uwDMTJbIh+s55vwHwVBIhykuvlCjU1XDoxDvPGdz2dIKXEZkS8iYf+JrNET4NkGDsRIzkS4C6yNSZpntlcattCuvJrpzN8W4I4/VbgypYtSx22RXYs0IYjWTCRmd5qYSlZQ2phrnaqTX4ta2eAAE6TCt31Hht4w1uOl+8BYJ9r94xZXv1wtaz3p7nBaA0HBZDJ53u3hIjPrnDGE09MFcM/3ZeA1JTQ9nHZJOx2LWF0amJiZSep0z1AakjnRfFkVddJf7PoxH+P97ZEfBU7jcjqditdLGGvCbszpDCOcJ+lcK7jAwci8E+Qb7X4c7PcBbzft+kKkdv2A+TsQZsImkZNw2/2zOMSth3maxfP5vFDfUfSvx1QBVtKf/dzne3E/+t4pVgk9FlxqxopbwthAA+5e41cjPDPTNq03ddgDvC28ddheE1vs1Zr1oB+OYyDGn6vBAAAgAElEQVTX8dVZDm4s2qbFL/UvCZG0FPPZx8DkZpF5m4I0+r425FHE+kzLYkbeMXq3dE+5WCNGzrzk9ESfhD4+X0vPHtgHch+Y0t/5/XPgzMjGmpfPxSaMTE5EJmYnT6ie2zOYTe6WSlRHzpYCxkSOcYfF6XyGIGF9KWii3fAYJPIwBOKXCr8/GvNNMl5fTb6Q+0N75uaA4/GRmfmt3/zm+rLnQataf29TN2jqxjMLexgvIYO2iZlBvI0gYw0NsGFebvepZo3z+YxPnz7hx/cfi9W/BryvDBlfmb4IYtGFRbfTPmbGnBXO1/J++GSVIwuMBTmEGyZAKHdJl2EK+3a8PrXWg2v1YGL2izHC7nsEgEQCp1PVMVFbY05swsg4YnqJ3A8HyvAqcBuF6XQ+ATXQqGYXRMGzwEkjmTVOVQVmJNGKlkXOxMTX9sTEAPe0ZU3TnMdEyUnNqIbv29s43o/4ULol3e97Nv5bCumd6lmbv4nIm509CqpVvo2xbfma++ntcKpz5pLpU+7RtLjIb1prSJL4vd/9XXz9+g0/f/x8KkJ067b2RxLdrh1xtLKc0Rmz+7hcWjoTHnSiokWRzJL7cvM9dAnkZ5pDHxVjhEdzxvF0Ovk9k5lxuVyel5EBDOf++fNnfP7yGa8/X1HX9Qz704+HOWGXAeB6vXrtzNG/6RxzzsVEIknORiQghbHpFEKibq5weQfW3Yz7fKr2oqGZpwWJ4fbIcj/GtvvT5nsyrvnn4vtLbNomMJ6ROeCQh8T2fmgkEqbmUbyfY6heXl7wJ3/yJ/ijP/ojXK9XSCkHpZMkyO4lIpJWKyili8/17eusGVIK1HWDv/qrv8Lf/M3f4NOnT9Z2/T5t5FDEK2NGK1BVFV7f3vDjyZiYcQg+HMvgFgN//9qPnaZdeGRfuiAftS19xgmO+8pMf0/CoGflu71TFAQLY/Pj5D41B/aJWyGXSyaEfXuECzvdtq33w3GCoTWwGSNTnSr87u/9Lk7VCW+vbz5ijQuheRDby6A7wd6fRHgKHMEghZxsaseaAaGdfn6lFvbWnn1Sz/eNsBQBMChpvvOgY8s6CFqRf8gZy6widv8hy729v/VXcvafCkHCaz+3DWU8DCfIaFWLP/7jP8af/umf4ufPHzidz0VTooSwJAEhBIQ0AhKlNJRSRc1SXx4Qx8i0rcJvfvMb/PVf/zU+f/kcmbVNn0scOW73/e4+67pGXdfvkIlZA9v0Uc7MOJxlBSkkWtVO0nrP9VeIE3y6+ashQIWcgXnZh2bmOZALmUr5vKaMpVIqsWh5ah8Zh3/+p3+GUgpta2K9PyjhcBHvhZmKD9pAH0zt6Psl8HuBIz6celORMkTUQF74xOltF3MiZmDm+6p8JMQJ2u5Z2z3yqeyz8NCEDfu9sTpjD6tb6/ARICJordA27BPFXa81NLOPppbfX/pkZiilEsf5Ur6buBynPXeMzPV6xfl8zu+c9V5jxsS92xGlcT8IWo903hlTQRfmPB0nQUaQQxz2FkZ5PD3BimgOR87ZEOEeoYGhaGlDBO4xl54DpSiNcQRHwIyl2yuGxlzK7Qj8TRkZZx/nF8m+zrB3bOo2llR6byRVQKtaCBJegmwWax6ZRftFvL+N9/mZy6XXFcP67+blLravlBNpLo3nHtUuiCgx2XwmuEiFTqtiEi0KVLICC/bhRG+ZyrjDPiYA+vJxEBGUUoYoEC6KGw8yPmtiKATrge1RzMfBDN20Zp0NBFNKy+lqE9leZxsHIV+3zgfGhcIHMrNIVTYzGpUXaHdn7MfCUJSy/D4iQl03OJ0q71PnnhuKfrYVtvORUdpHgXl/jMLeMba/3+e4GBMxQLHqLDKdMS5bhFidDZO5MMJO27khFNsswQN7yrHfPA5jM5HvDaU58/37d/zt3/6t9ye5tU/cIiyDSZfGt1/9Cv/23/wb31+sw770fOzggTXg0wVMFLj66G4Z2PrcqIKzfh5iOa43LldKAWc56bSrQ5qfA/tAyWSsJMBlZnz+/AW///u/h+/fv1vfOV0czzHjO5Z5morNGJm5TusH5uL9alfWxN5zJyS+Kk82vDf3gEIG9pJ03xB72ksTZ9U3YnkQ2OcC76aRK313mObvs/pK7Yuv8KQo+dToAeLJOJ7eKrU8XjEj9nd/91/xF3/xF/jHf/rHuwkzM6+NtqdpG/y7/+Xf4c///M/x6dMnXK9XL/QDlhqqIYlrec87CM9+3HJu36QNIt4Tu9/JmpfdYiwIQEha2d/+vjkfX/HamyzAxTGXxkMUxnXp/itpUkqI7/n82QTqanVXC/fo8X33CTEfF541J3wm2Mzf22Y+oiUthffiOzUXexZAJOEPShKiOKKZiAhDVlEBwSE/2tZ9DQSytuZcMDTr6RvOSwn26qYtlDzNlu9ZINzBABJr+ezacyH3rXERw4B+IsxF0bkHSmljHq15kXw3V2WSfrZNi8vlAsAExanruveZeQxUOZlvaPvIeX1gF3B+n/cyTLHpIpkvvffditgHAKyCGdJQfSXkDNCBgC36JHbuz00E395e8d/+21sSpS5v16MZ1lUYmT0RP2OJ0HWcgfv+7r/qCGcTOlm+ayJ67jyZ0yf+GZFuqHn45VL7ihmce9qw5dyfWteswGOOKN/Jko4ZEsD6OiEwCvGG6pynT6cKLy8vYGZcr1e0rX2AAyHXZS4MY8Nag0Qe+jb/jBuI6DfzT/hDIkg/BQmIKLKZpr69ZBrMe/QIUphhHIjYTobwTkTTG9CnvWTmyGRT+3bFPmlTI5W5uvza5ZRoisMeG8amkFn95gIYZiWlDPkQlvClcxoZgtmHtFJQrTF/jZuat4hoqu+WI046JXX2PM5Ma5/Rz2kNTOmHpYg5M9ecU7XwWkdRIBp7w+aaH4vX3Yzwe57m3n0+J1RjgleQoVkECeNrw8NJMjtt4bI/2L39uPTc7QRV2OCsn9IHJXOxoTJzQUyfuVi4pvx9fX50U/p8yfHZXCOzR8J8rtS9q/cYc1CWr8ThqE+nE2QloVqNRreT2xVKzomZPglsfD1/7sB7wpytIzEdmLBOxjJafkMjwhj6tmRGISzxyqxBzLYsZQM8AGDtTcQIjBAm2ZYTaUWAwHBYrgNhXWiYKIBj+iFiFJg8I+My0CTvNFDCfORamPgd3L/3jHwvu683dcbAzA0bHWvnQARWIciI26VjLV58f85OD62wWK/oviVznqQ1vbOhfbUGkYTm1gsFpu4Xx8mxHxgmpv93ZzabMETJcokZDPt7tvfGWs6gHRedQDpjAwIsKdFf2vG8L1jHs+HePtnjey/OyMSOaI8yy7lVr2MaVKsgK7nwwIwvS5DJqOskykIIMDROpwqfP3/B5XJF28xlZFxL4uOur20HE/Oe8SiV/Zh6+5wOp0BWFVhrc9raR53MmsBomwZNXQemJ6nD3Vci/FKtQsDYdRLLPQs/RSgpC5bVguUksGNkxjJl4xH7NT3e2X8qI9Pf6XHulzis8mSQVQiy9uNO2T9/jcO15E2CYuo2GNE4RO9go6q5PA9O0ipsEmBX/1jsRWt7YCSySVUcPuf4z2W6Kn7G0TNAysxQlDOqj6Hp8+M5cGAMVtHIuMn+KCZmLLYg7koSiNy0yUem0UZq3DYtfqof9vo9beSImRl3/4HnRzBNNMSLIGGIJ8AQNRhP0jEs0eYkcnL8+nL1Nk3TKzAYc6DdgrJ5qRi6Y3YRlzd/veck5tRnRxB58e+3RO2LYO77PBvyjp1ZSiaJdnk85oLd4hoYAidRnz1rI6a+dI4QAay1N5GJv4ebRlS0yXw9sBX6zLv66Lk40EYwoyXAavzeK1XxaL+QAwGLMDKxX8ejrRXGMk+VrHA+n6GVRtM2K7cqoNcZ1V7XzGClUDdNcv/9i+VYbB8BPvu4hre3f3t9S8xWRhMe9j4dHUZd7UQXsb8CYKKdSCHRNM2goMGs3TvV3tpoHhZXZtxRYmzUdeB+PIJwWNTkZcNCgpla+QEytkXZ92iuHwzKu0efiVecLyS3tCES0FHG9ljLnTP9ypr4zjXFPHDgFpZhZMgkSzqfz96ptm1bNG0DrfY5eU+nE4QQaKndjJEZUpWqyHlKo18qcmDf8IzEg+CECk4b86/+1f+AP/jDPzS/cWoek6NvnqWMzPi5qFSLl5cX/N+/+Q3+4f/5B+N8v/FcjgUBs22cD2Luw6KkRS/9PqlM+3nPyTi5Vmd2ucZcfhDfcyzLZVDaBzUzZKwh19Ykv5BLRkTfy2HQg2UAA9Bade7pwxLmZQf99P4xiZEphW+MIzsJIXA+n6G0QtvO9+1YG6wZr2+vm/jxzFmIRyjCx6LkTN7Bo03/B+CiNrFg/K///t/jP/7v/9E4JyuFkzRLPjcHcM/5MmJG2v2bMB9dVJMvX77gL//yL/Gf/o//NEorsyRGjeOBVeC0cp6RXGiP3TqilnuHpfOGxE72k9s066n1MSsq4l0VblzfO0WJ1nAaFs0M6ZK/akRal65JsGZOLEvistw1FTExMZ2ztGP+gf1j7r5ZwiRGpqiCtFnTpZBo2gbfv3/3GplHYQxz8gg/nmOxPheM0/LzqcRZMzSZNp9PZ3z99hVaabRNYxwytYYohF6MP4HIl4YG3dY7EEJCawUpK3z69ClJ7rcVjnW2LyzJvG65HsckfJsrcNJaQ0g569kloTUvE0r2WHJPhZz2KWlTgC7Tfcs8vvN89F1arY0urKtbPpQHDvRhEdMy1gwFZQgodX+isHsw5cB8RFS1sQvzWMD7wLMxMTm01mibFkoraKXAmcnikLlVMCcLzupjkgq2rQIz4+fPV9R1jR/fv6OpG1Sf333+3QMbYMvz5ZZp2YED7w25r4tmBrnoZT1RJnOtThzBzJUpiMAQ0DzetOzAgTGYbVqWT2it9NNt+nvMaXPgwL1wpmWKFYQQQZomjJmA1tqHXnWfsdTNr2NYLUwcOelG1DKySf7c4XY+nyFltemeYOo61vZ7RTnx5Rr1iCLxtl59jzk3p2hj1s79ceCxEERQBTMzIBUglIQJfcxM8py9Dxnzs5Yp/a4ii93ThOcgqR+Gu03Lxvx24MCBdTEUHIKtbTIR4bf/32/xn//z/4n/+nd/hy9fvqBt2+KBlDyP23uwlAJ13eAP/vAP8Gd/9mf4/d/7fWOa9wCzMnNwjr4b954ScSTdxx+XlH1OeW691h9Co2HEGbT3YILcR1gqpcGsIaX02tl7zNJ2RWh+MJAg79fE1hfm06dPIEF4/fkKAF4oBaDDePhIZqos4HZaGGfTkPjNZEKz+Jn4e8kve0rOmb0ksXQBsQ6sg3dn6/FeD8zZQQOisIkHPgZizSgJ64ipNM6nE3755Rf8X//lv+Dv//7vUckKb5dLhxCZw8icTif8+PGKf/s//0/4D//bf8Dv/M7vDJp5LhmVz2SoNvZvggjm6BxTZvxmw20tmlUgZRvWXGHDiSUtGzV6j8jvIwgBMAQI8zPWD9Yo9pAcc7+I59iWTMyQf0xJwCElRZrclNA8AtTch0f2n2MsWqUgNPlrLpS/Q7Jv62645ZLVjlv1ihkggiCZOP3HyPugtBamrA+t1zcNH9ueuev6WFO38e4YmWfBluYKx0LYN6ZG+xmTQZsSezADzRokBV5eXlCdTvj29RtkJS3xZDIxx8Rm7uw/hNP5BAD49vUbqlMFrTSEFIPhnufCSLdiMMCAINyZQHZ83SXGZd2ab5Xe93va0mB2FzNx+eeyMCZglqghAf3oZGM7xRZMzNjzICcm3XPfvn7Dr3/9a7xd3vAv//IvUOrwd3gPcOPd1HVyrU/bEiP2Ne7TgGjLxDiI6LzJBSex301ezhQQEb59/QYhBX78+OGZmmejhw4a7jaqPaixnxWlqTWqJyNCbK2eJyKcT6cQ8lCM18o8Mg/KGNzTPh+JDNrawAepUx7Fa8vNY9IbcZeZKZmThe/a/y2EgDyd8Ha5mIhi3o5Z2XtVYs+cfsnqjBgcrTSUVsWkaA5OQ9RrykaEMcqA8G4hY7mZE2wbNHbc5plhmflClnNKGb/IEhwMYVJzRo6y3u9CEIiNFkWA0vFMmsOWkRz3TinjSLYdZL4RAdAgq7yJ/8V9tobfic7Omal1JM9aGa9jiEwy5jDHWRutkoBI1vGYOreUmpZqulXOXTszdcsXgpIAHiXtbPzMj58/8PP1p9HyFqTdS9ISa9Ale6J1xmgbQg6W5eal3991l1koMRH5753rPXRFfBYIwPvLAHZnivLL9DEzeZtL79V3HzOjbmp8PX/Ft2/fPDPzMMaA561f71e0Afa0Pkroa1+194bvHfFymNKTTNMl8VOhtZ6c/+Oj4xnWg6M7x2hmYjDCM24zL4XcHB9ZL5THzJagvNNMbOCQSWy1ETMNd9V48w5B5P/5thQeGyppHiEyxqiv9MyNsigvN/gUEZY/5Mn2ndc4LFh8TgAt2XZeKWJhSaOXMLl9ku97Xm1g+g35uOThpw0Dc79vzIH1cXMfLdyz5PrJfWoEIsEXc7IGHFMTr7k5Gpmc2WqaBr/88j0p42F+MpgviDgouGHMMi07/C7mwffWBvu/UgqsFBjwDtePCDd9YB1MZWaIjFTeJTpzzMDSmsE4otTacAQh8X2HxFw8os5xiEmE9FNKEewFO8/MxyM0+0P9f29LHGOxBma3bSeT7WBglkHuRC+EzAj5/vnXOcenTNWZmoEOaHjNm/eCNyFTrc7EJ6VnxKICBJPTsNlFAI33iFvarSV9YYdw+MhsjCBJXhdD9qwHPhbMgaiCKR2FiDMQBOSJ0fTzhVJ/jlZujZxsMIe5jiSySzKwWzurl7x8TGPuk2AmEZk4cMlLH8PHnP3YiBkZZ6ZXyaqjJWfW0LjPxCzGUus++Nt1BRlEBCkIShuKp5ICqlXJ74RyEs4yAxeYm6lMiYu89qyWKTnNtqf3uDUWMS2xJmYxModUf/84HMQOTAERoapMvpe2VdA9UWUOPBNyA6ZwdfGaHsTwrpVHZo29MxZiES/PGB14LpT8PlrVZgyBET6tETRlTZh3CT6TrVKWaekRsKIs5C1rbabRNs/MxDwDSoFBXK46l95BShNUKA7nvSQmMzLPtZzWxd6XhpN67LmhU/08DtyPkkM+M+NUnZJDInagPvDc6CMSnnl0KfqM382ZGt6DmHAkXqbMvvYe+NhwUmufuDiCM7NSDEght27aIMzZMLyDsDYLRytt1xSV/TKzz6Xx1ILdrcx4FoBjGqUQOFUnvJxfoLXygR7WGoNpCTHxNP25Gfa8NPY+Vnvuu4+AXJLStI3VyLSd3w88P/L9m8kEX3PDvJS5ySrRpuI/IqqH2AVjEElQBgERnpkwjYUgSCJfrusz74sVMzQMHyRh6mb2DEzks5iVPjuEMFqXr1+/4NOnTwCA15+vuF6vvflWHoX0zOj+1mvSbv1lStfNl8PSpw8dYfTIbnrU6iVh9s2X8xnns4mQ2tQ1NAxDm4z5QnUePjIHDrxzOKle7kTpJCQuek3TNA9o3T7hCfJ3crgmxDiCKcfY1KGPgtMqE0dBZuw5yAgmNzmT4Zm2iS/nnhckupqeQrkukthkop+ALVOwHEzJPuGc/AURapvDRUoJ3RNRsrecEfuUi5TKAOQC88HUyX4ziX05SkIw3aPBIUvRlrQme96btkSyD+18LRMbLePl8oa2adAqIxiF5jTy54J1HozMgQMfAC7UsjEX050cAgfeHxKfDADEZLPKBEbmaUw7c44CRpPUR+zFESKnKBYdcx+HdfamloVyjyV04B4QEZRqoW0QjrquNwm2opln+N2kjIiPfhmdJUWtDHe+dP6igv7gYGKeEz4JqtK4ttdNAsAcjMyBAx8EXnrtkoBORHEzovDb2hHxDsZrHoImwTAxgiNGJrrnGeHz04iQbDUmAueaR+ahcY+5d2BNsBUyAeuZZy6CxDY11bywZpPiIUpM63+zjFOe98kUmUY7A/oFFAeeCzGDuyYORubAgQ+C0uEgbhB7g3kC7OeSW9RQW/Lf7na+nkEsPFv0IAfPsGRetY9gZLao6xlyneQJMNdKwHlgf8iTReahi8P3BcMuL+ELN3Kzd0yMl85bRkaQiM4hozPOi/TnCoe8M0OJO3Nfz/eE9/Y+a+FgZA4c+CAQUZI/J8m+hwlJJPrifskLAUmeE3fNf89C7a4dzMVpLWKYA3mb+peF0ckkfh4Pwth+21P/bkVQHITLgTmYosFwQSxmaRop/lowB7NameQRokn5Ou/BoT39mDgYmQMPAxHNolSOaFrTECS/wv6dMh0+TPeIcoCIwKeU2F9KW2FygxgylgQZ347IbMjMG2s+BAKVOI6VEPqRR+cwEY452/x8jfQtdsAYXYbwWXFLg7HEPrE1UXTsbQF7JUpLbZoybs+QbFhpHZkiT2tnbFJWejacE+VQzOHZOOfIsNXAs6ybPY/5M6NyNMBQ986VjOV5KrbCnMkyt32CyEcDAW73k+/v51h3q+LWnOu9f0bfTXVqdgTzlMN07hY197mpczYn/Miq+jFAEA4RvWP2jkntc4UmF6I/WYMQYtF7/cJSBI/nqynSXZTN2fxnb72R7sObVQTCwEgpCRwxZemzYUMZz6cN9YH1khlISufvHNmXc/ZMN+fG1HFzL73BkLk6Cuk5bj6TQ9jEhHPQW2ahuFH98g6JoTnvtGU/3KprzbYwa+gBnYbZW8aXl+vh+5gJZw5mfna2qIWoYz2O/vHfQ74SXtCTtYeASPtNye999Qzh0etmjsDtnjbvnblbcjwq5tvZkaMpg+GRyH9/tBHDuohDf46BJ372Pb82RakvhpiOOX2Xz8j4033v2OlagkvxtBipexpbAgI9bDUJ8eZhDhAAEwm0OAgNwY5X9N5TV3z8OMNtcEbTwtE1YxLBELDRcmC0NabTF5C+R21wxXbMJBD6lVDgQfrKJorebX7bSkgtzsfcVe6rqS2b3OM21PdWfkZzHU1jzZ//N9PnZgwBPMW5+9HE2IFtMcZvillPYmT8c4id8FOfk5LTvc+rZAV87hfNgc3wkcx8UuWg9Y8/3XVhqXtB8EkTY6S0p4GknPnS/m7egN4M5ypPOvAJAE2RqsDUkfrQOc7uefeBNfawihVDk4aQQx08g5X02JOl84G9oTgzuLxOXZ6Ie/068jI6moCZmJv9ey3ex5t/WRO+RIoF+Bwyc9tA2R+3jQCG4cye4jGKichEeeH7+p43KDTAFukZqOhnR4QLEOCYwqFq7cPe7+eOOda3Tvy5NrKcW0T9FEbcjVHvI1Gjo66dF/p7DqF2Zybpg2k48ByYTr6ncztdxUSBgUqYEhCkkAAs09EpZ0xdfTBtMHWX1mzO4HDnpy1pe1/VlO0llixOQNof74ievu9ITFA1TQMhBU50GpA67UjMfOBd4faWdfv6XrDX9uXSMQevJcjuHyP97/t7TBm30P+s09RYEppQNHVYC/64J1MtuSaVblz4rCm+5UQmZhQ8B3mjMZE0YKqGZa5v3NbI14sQtJk26cCBKWAYbfVYlqa7bYbnTqcKQkiT30ZptLqFsAwMEUHr6dH1+hNkpm2YHbnvUcvyRr0fWRiy5btXrWohNEG1CrKSqGTlpaCJ09YM3WU6eT/ugB54PEIGbvsZ/wbslwsZgPPPyuEk3i7bOdCVtE9hVsYgz6p+t4bnwO6Rh4yNoyEBSPwG39PYlnxv7j20927PfuD9wjHnLmEyALy8vECKz/j+4ztgrauZNdrM0jr3VzH3sf8NwGYRy/aCvTAvW7YjNyHcGpWzdVS6NRmNlTEzk0ImtrusHVW0z0giBw70IWFaODAuFP1z9z3bzO4zBSKEdy3+ixiPydpxZMYI3C1zCkrijoOs2zGo+zWeW5KoO9cOmdYgtkocd+BAH5wA6nK5QCsNWRktjBAymJFG2hgmADayWDxrc5+bAwfWRgVYh18QlNYm7J4WaElBSgkp7WSOfGgSwtCHSj024QP7R8ys5IxLTvw/A3otm2INSaSVGfN+U7U1SX8yZjM0rl3HLvIciJmTjnkiG+JcihCye0+BMPYGF4wjlmwKseMM7wfeDbzmhAiCDL2ntIZuONKu6NF7es7EuOhneeCAZ8fcACDvEY/ep6qSTaXSRt6qNANNCyJCVVWQUkBIguIQ6czNTUGOqSljbqjOrfDogTiwDWKH9D5H5TGMTCnSn3Pd2DJDd7H91gdhjl8FZZ99dZU0M4ywuRMfDMm62AHL17NIShnLnW/RM++zOspWvrTQTpAwmcyfXBjYZ2Z0YL9g1iAS3kzM+cME38r+86z0G9m57L7fo6FxZZVyn/nvSTLmqfYFz7sf3YLpl2n9/qxpUoqMTHgofNFNC1JAJQVkVYEpTK7AXR+b1lp4VE6ej4xn3eLumR+xn3fs9x1fHzouWG8RAPO5sUz/3LcHrL2D6Cjq0XvCGiYz8XqN/VJLvx84sDTiRMdJFICISZmyinPm5jAzexSmMnbumT2jh5EZ13ATTYIV0LKG1hpSSgghUFWVDy/qYoIfWBYhBruRTgghF5fexWW9N+Jjaey9d5YaP84+gds+LCRoduLAvWHNcb6/7Ji1nP4k92nsFkSstRybBPOjwq0bXUhae/TbgbXhNSjRtSHt/PuAI/Tv18zEGqJ77nlv6Hvnpfe0atrtDK0ZWhtmxjXGMDXSim6nJRA8MA20sAnCR1tYS2A+CbkeYuZhrmnb2IMr/j2fPXHis2efW8uNc+z6bkKl3paVWQKW4sPWIRAdbLLa2Dum9zkJAnQYM3IFj8CYugwDI3z57rmPRJwPvWueEFOQgIZOrplEttuZqy6JjzTO7wI3lnSe0HHsWRObmgFlv5lnAkVC+zzZ5+3npuGZztHS+22xB0xkZAK01hAkUNe1YWSkxEkKyMMBanGEbLna/70U9hgtJ5b6x2ZNtEhMqzlypo8zp8e+aZ/udcw8ere96V+dOrwHkY8iFKYAACAASURBVAAlzMw45GZ9napuPNu5RgQCQWQ+TO/RHzGJuDn6oXXasHQ5e9qvD6yPPp/FZ9hL47PCn76O+M/ufbZZvcVetqVQ8FkFDxMZmZSQ1KxBTCBtkiSxIrycTxBCPJVENnEc2yFhD6zXnpI04d5s2Pe2NXcgD5/G/0IQjd7wum1hu7EaufhQSdxphUFp8y1vy4/BXNOuWME+dwRzU5gis4M8WMJM9b7zIF/h+JtlbOAfSEkMbZ1QjTQzL7nEWHPnW3kGZsQt4rGnZF4SMSjWvLhxsn24ppZE2LxkW2hkTD6bcP6wz1y6DHzODc0QCwvtRGEvdtefUx/zvNgb/dLrk4hYwLdPcOG7F84+okELYspeNndO7WkePhp9dOpIRmbYSl4rDQJDaaAG+7DNz2Tf+yztXBJ5CEQvNZm54EII0fXNC8eOVsf0acTzDEAxg/LM3k4Vbmmj2M8glzg9I6a8Q6+PTGwiw+opN+GlwwR7xps0HJsuiFDMZuqRh13otLLn3mF4zS6lLJVLZvmesKZQamkmxsGY+q1S9IGRyGmB5WmD97bS5iEJctFjojbFTDo2VVv31HHCkfsEMmP3p356LBfiUdK29464X6pSGNlbSCaXBky0VwKY0TQt6roBAJxOFarqhMomVupvUF8b1h+M2A7Z12rD/T0bETZ1UQ293RIL9PZ96bh7Mxoqty2ENx4/LvlmwZZ8szJy/7dD4gRNAjJ7FUfw+b0iNh9id4/YfBtxhJWeYkbTg1sl3PbvMDB5CdJ1RAwIcV8wAC/JIwCJtuNeY4voeRYQuMFroG+uxwwIIdyiIYhNqHqYTxb+RYbbk5Ufm2a4OHGOFfHa5axFTtBAJEBsZr+8c50/yt/FhImFd5LPfU3mtm/oXrfGpmiWlnZ0/YgCtzGYYnrn7nV+vn3j2dfX949Bd33eKpeo/50IHCWlvHP/v/FqnYSY8aM9dBwN/DYEFw669N69fcG39+zicxP2CjtbptNbWZvnB1gihEOlM4twzxyYO7cfRSu79lZ3bKn+GzvqMyu8bTWUqqFU5c3NpBSFSX1LMrke4snr4qm76+8BUxY1zdkB4uft+CoVqY4n9CNHX/wyFZTZuJuDZ0xT4+d0RNw5+lfbf87ATNm/AYLWDCkkiAS0NhompXWixeoKPtxRci9BPR1Lmbr0yX2Gfh96QNg8AjEDSIwsmVjYlBn9c6YrnevTt81DSe8MTDmEHRPkvsZ7pAKoMj+SBkPDiN5LB6JltpmL2qHS3HeHq2lv91fP6ggzHpIAIvZtmNt3jyasc/8XQcKbsbm5NvYI8cxxD8iayB3YO1LhVACDWeN6vXqzw1iocqpOPpv9crghbe/5Xr5vdT3DTcyd/YMUXk+yTXNOT3xnmkNNWmHYaE3GdrRhoEdzK5f3QZ9ORZ/AYhYjU84UUS6JGWiaFlorSFlBCoHz+Wxy0XjCpK8V9w/WGPWd2dSU/b7PqGu33qNIUAiREH/DCUstUTWzbUIICCEgpQRzYzUDboOYNr6erCVh6D5LFLJjMnqfzEqPqk0ZGUMkOkamVXbMlYBSJhGsUoy21RCCA5PARhIyXPfzbjCDGjqM18TEzxAHLVbC0Iwk0G9jWaO+PpJeyJHMjHuJWLmjdaQxMj8KYZkUcoxvmY0qkmO5JrDzBtn9MB5h2q0dtnpIq5Upy4f3iyFJeSd88YL1pqYwHyvy2nPC7VpWb0mEum5wuVyglDF7rarKj6U+a3wSnxLm5j7LjKk7Zj/MG6x/ttw6A+5Br65gwdfqCyJwu5p9nNtSyCSSm/fJS+7aR1v3hGpel/RLQvtsGokIWitordAqBSkEZCVRyQpCpvctgbgc57PDzLher099AJXaHgIVhMRWkdKy8K0L7t9mBusGkAR3aJrGBH7IgidMgSf37FyS0mYaVhqG8tODLeUsA3fIUMzWlMBc01pBqRZt2/pnlWqh2hZKtbhc3ny+JKXcuxiGrai5sBcJz+/EmGPO+/QZSwGZ1mB7BdYkOFPT3KdsOshr/LyMtaC9SeqeUUe3DEp+8mX699lmtob1N913MmcczPplaGbEmb+XxBDDJIR4N1r7Z0X/eSQNg6IZSms0dY3W7uutaqzlgKEHlBViCWEisALA6XTC6XS6Wc+o9g1p+IDE+mAIzzDTblEQz/AOj4Tb4z6/vKCuayj9nC4Oj8Ds8Mv3QKkWWpsBapsWmtn400iTXFNIlzwtPminGbjEB5/WDKJlE0g+D8w7DyUrdRIAIYTPzB7f6fotMauKbEpZs5cWBWlCINTuJQDbVlnCRVuNyQ1GpuBEWLKdb5oGbdt6xosAtG0LpRS0Ms+5g46IcDqdQERQSkHIrgmCNQjy37t4TgZncps9Q/d+ILyk7L63yn0St4ncE0weGW4tOGnxWqPULXcpZiMWTMR1pWfGDLOUYj3vaRZ/DDBrtK0RmqpW4Xq9omkbaKWQ72ber8yeYU3TAGzWqbEasfdNnrte3dpL4TOF326XfuuOx5ws8avNEnbpI7IFkO5prTKCVRkJS/bM0DyqXTOili0LIYRxiGaGtskd28ZGPyNCVRmfGlnJ5OBPkyeN6zxnNqZUO0sS+Cy4ZcfvElANwTAxwb7cX7d93SoNrVRi5pYT9CFqVSAu+hZhXyi9/B7V1Ia5YKDVbA6kScPICePlvrvErrHWxrPOrAEI/5tSyjJSClJKfLImCc+MLdqvJyZv3XOfzgmM4uDCALs9TGvzt7m+xZ4UTD2N+ew6/dy3x7pAA0vVkfo2ls0LiQSQCbDGEAR5As9Hw1krUvRvgZgei6Prz7jSs3RD8m/P/Ov1iqZp0VhNC4r+d+kZpFoN1g0AwgsIsqpmMjEjGjupq4btKR6Bkmh5Wx3v+hhDuyyJVrVQWsElPnefczA3GMHYfTr4lOtZPtFTEJcd+iaKWrZClT3XufOX6wiya11Z7lwzG6fxSLVmGBzppW5Dfhe5KVF+6D36gFq6/uHyKPmeMzSaGao1RLqJykreRtg5troDpm0b/4yDsGZZymow3DNSGHO+qqogpUieceOjdOvLl1JAygrazgFlpWnmfu19WmAdlqeAWYewjMwQyJliM/80s/1n7q8sUaa19qYIToPjzBNkxMgxATMdPTaFIyqNicy49k6JhsbkukH4nB7xHBUiW7/O5ImBLnG6D6RaDPuv03U9ejgRNAXC9oUQBOXel4Qxd8xKyIWVrgVuvxxua/o3a+vMSql5V9BiLDNvQ5mhn7TXisb9OK2+7h7HMNsA+3KJYCLCeSEKAEGdICZxcJdCTaZsb2sfyZvZvVNow1LM2VgE89UN6pp6Tt2xZInH13drizX7tPJMTLrXD9l62aAvmnFtGmgGqqpFVZ0gpYAQsndfigMFhfm15Fm/Q41MxL3MYWD2qI0pCXv9eGL9dRdoV2Vp15AE/V5z3KUR731hz12zvv6xWYiRiYe4W1nJSS0MUHcya6WhNAFo/DUSApWSkJUJGCCoy8yYP1M9br7xPJqJWQvxRpqCOt+VclJhw8AY0y1tCXRThhQCfURlfDD477YawxAxWigIKSDbxqjodTwmjjFhH/tdKgFZaSjLGLUq5CAJnLehkPsiB/VJ9JKQyqbAZONVVuuiwZ6ZYSs997M6mjdKKVwuFwghUMkK1cmaRDpKqgcuLw1Z5+tHosNM3IFcMueNlghJIsRbUnkzzos0aUXEb5hDZ9oVAkwQZ8M4QqR9AfLE01IojinD5ychcuvHJec0ErV5SPuBSFqmwlVq/1lmwzEeVmwws854P+KsTFef9m0w50tfXQVJKzQEXIQ9F6Bd+8AI7jPUof2d68Mxz46pWhlzmLSZ0uNxdZkzILYXSNhK2ydNo3C91mibxu/hfsaMHCbNjEt9hWgFpKghqwqnqvLmxb7Z/rvd1cnlUtMmvHrpVZO3WQKP3TRLmplbeAQTM6avx4qE10JupXKvlmPOs3M1QFuh1L7FNDL9hLT9feJiy/ufmNEoBaU1pJCA1hDWEVsKYU2c+giMj4EwBmx9PqTvDiFMSGGljKbDOclqrY1JnwhEZm63z+5a5EuTE0yJX4oIWrFGKTSqmxjRPa9gpCCtHVtm6wNjxzcu+/6NxBCUTHZ+UXawBZHuYCkxg9e0DUAMKStQVQ23ktBJsrkFSJDp6Aha810bZAmMLtM419Rkn8gJ5hylsc80f5l/xyamZY74tfH+AhHRL3yaA5No0/RPwmBEzEzE5s6uJ0gqcw1ZvP8Pac58g9NyAau9CQIHwESXC0yNZWSiR7dVwm6okplzls5u12gS2FTD5RD8bduibVrPxORPjq2FEM48dza5fyJKIZH7jVank7Fo0GQFdsHHsvSm41bCzoWvbkpS59LusPOe7GBvlgl7xWKMTGBicjXuHOaia+rA2jJDBGjVgLWCUNKbnEldoapEsphyxirNE7NvrjNFWaV2a5Jr6+cBhA1eO+YlkojkGo7YFKjrWDuyxc6kzz7beYNMq+Pu98/YezpatxXzOHhJWYHpGnp/41hqmMSqqlBV5WUVaN/1t9PYfMz9C0E0wj2LI6Mblxyvrc14+kGRv8yc97PrazMKuEToLw+jlRRW22eIPa1DLhyyOYXUAvPfCWxc/xORraeskSpdLpmohvUiwmf0Pr4gt0mtNITJGnomWmZuWyf1o9tkUul10zRQShnH/sy8fEoVuTm6K0e1beIjGsPlLxLXK87VyQpXCdJqpHOmalkM6Xi2nTzxslhxefTX/04tbg4MowLCpBuLEoNw44lprRqw2bY+sl4qxwzUtQJRg6qSEIJsaOcKRv2fE27LS6LXR7e9RrPSggT5/Dyxba5TwTvGRakWKnFuH9agOfQR8X32lzHjM6WeuD4Aie9JvCWy5oQ4TkzWbk6z4RvYzztrWMJdPWKiRo/e1ZnUNbLBp0+fkvCd/lnhiC0TVCHOo3TvjHS+Lk7zlrzXTGY0FDDuNhq7ziefcClT3fl1os/UrXoyMjK57k1aOU2m1703/B3vr8FHBLiXyBjfjSVNxXqIGehc67k07xbLBjompE8GpuCLxtn1HLsl2KYSE3OqSBgMY85sHPsb7+tp9laKfJ2m0jhdEx+tdW/YbQ0NKBOR9SqMgPV8OuHbt68mAW2Uhyo+s8iaOccBZ4rtgRXk9mp9l9lTxmGE5jn67LBWt8zKYr7swMbY6b5yA1Xp6J6KeLKWp/OcGvpMN8oHsZHIuLB1hEprz9DscdOf0yIdMQdNY3KdCGHNx6rKb9pKs4+h30ZRuYLWI/gnrS3l3lqK3kPqpt/Z+gWwsN/jVRAxMtko+b96Jbzm83q9+gABLlHoIxAk4/NydyRlRc+WEnY5yXUfglP5OC1NykB3HdTZlbmwhsmRPU7C7+ze7/UpclHLHoOUGduiIY+a80tjzrqZcn+s/QGcIGJSdR8OsYmz0hpN0+DydkHTtl7r54SdS2BKOVV1Mn6n1rSNfwLn6oSXlxdI4axBzL7JNtCO05T3a/4/FkW/JUt2C0Njf59AfMycWqIH9kf7roGZCTG7GC5nTmcOlZiWl0cn0wzUtUl8ddJGciqk9BtJUlJiQrXd0ploqGWd8ls0bWuYERfhTSsozaCmReW1GIRWmVDBZeFJdDGWllopczd/Qt/43ZbMLIMlFmMg5Aw7HJsb2P8y+X8hyH+GoV2WgmTtcrlASomXlxeAgmTQdL2bc+ttMvGheHdEkZRfAJQjJFLtAnttZyohDO2IHb57KkrewZiKdsPhush1oZ4p5Pn4GUo2dsPSR2vMMN9Xyl1wJl9Y/sj0I+Us2qK/l4TvSVtP3obFRmwlk9Z4FviIdrk57R4oupFwWrhbyE2t5gr2mqZBY3PROfM/J+TIu81f79PsjvSNHIKjQaQ1L24aY9LdNC1Op5MRHgIQEKibGqptUZ1OqGyEz9P5XC7XtKCvZUMtGmzvWHI6PieDaV+5irxM/9QEDn0PU35dAfhWbziV0ry3hNvlrYFKL+QrMmxetjy7lEjL3aZlP0MgLYFrrSAroGIBLe0mI4KznlmkjBDZptvW+yd0ZxvoNbFgrb2pDFttSqs0mkZZBsaVFIX9tU1XSmUhkzOGz6u0+5kU43ssQh/2bPzdCFP+OPZq/eUxQpIff8/MA9zvffLp2JnXRcaL3130HNK5Q7urV2uNuq5xYjZ+M7lUX4R5QTDM6a3oR2PDJSftm2taZqeQc9J25hXxGvEEgzD3kfsk2IXo1lbO4JTgNIT5nOt7lr1pBvn7xr/a+LvC/uAkvmCC7BBLpiWBgLYhlpFL9gljlkhprF3Zdx04uRyDnblmX8lldHzJkDIUff9KESenIGbQBQzhL8iE+nZ/y5h5n6AcmtQuch+5mW3fSLj+Jf9nhxHz8yW8CwF2rhFKzbudF6f/neZIlfvLM/Oaw+v1k97ZD3MohKZtcW0aXOurObekDJX3rJ1hjBn7bkLbLhhEwT+UAVybGnVTB3+xKG+Ormsfn7U6nSClSb5LgnCqTjidKuOTF5mldv1OU2HVGMGsIDH9lPYPxNKJVCiT04Kc3X5zzkUClv5mlH8dCi7T8bd1VVG5p+5ZVz1PuJIxbsbH/TplhZg3M3vH1JVVvn/O+kxnxTyM7ePFNDJbYlyoy0Boc6uhVOOjbTlzH5d4092/HpfM0X8xaMvNlmh0EbFMjhfAbKACTMOMp1971jQm3W8KTEnGUZkDISYWnOQ7r6cvh0J0fG08uXLJZYm2cNc6rFxBmkvxc0NmU9GhlC88pUK4sOp08oScK3oqAX4PhiLN3UbQtrglQ1EHsd2cw7Wc+TDPGSaHOoddgKHwycYuJWGJO1uuIKPV0fmBOuFV/BzI+sOXyfAheE3elZwRSRlhj3itwSytrMfzloxvdP5U6X0H9pW+crz5nL86oYTCrYlgIOsPT8QxigT5WHhiTXMyDvG/teCdyGNfPQYoetkhQj/+zhQY4/gfOw0k0NEy7R5m0YD9vrAOmBl13RgHf80AE0iTP68G/fX6GlUYt5Ljf3ZH71UX3a4ktGRmvz/E23DTNKhd2GhBqEWN8/mM8/kMt58yGFLIzISuuCP1vmz+xHTBzsBetsCgrzHnS2WuSfV1MdR/yyLQFcvUs20/TccKCTG3wLQuNeY+xgwLMJIIIY0JlZQCUlBJgBPh3mUV2suEIkMhiEx4x1ZBa4XWJoM0bbahpZnvIgCGCNd4s9YqEJk6j9tr4YjRrf2Pxpp4zDEFGZpVeZABX4+T/Eqz1DvSKBsIoLbZpauqAluG+tEEypixMwQ8wOyYj57M7fa/wSyxdLAOHbgOjnJznwSv0SGXE0QhxJOek+vC0SzUuY7O9Qmk8ZjdfqnIYYtOnpmFRY955gJAr5b/1tDfUX/ONps2hazTS8H7hEV7wfS9JuLo3F8DdOB6dvrLwryH2wlKe2WapfzePBmtNbM2e2nE/Imy8G0KYsHFUBtLApnAnJi9o5jENGNQw0ww34zW15zFl7cLrtcr3Pni2lVJifP5jNPp5K1MuhE3uxYSnslK6h6LHgnK0BMbztGhtdL7G63dxvhgmLL/e6l0oZzh2pY8HrrzdH94UkZmOhJCnU2EkUbXaAXhVFWoBEHIsur+3uFz2oswhclfBwDWGooZjQ3v6CKLAdHicxvjiguuU+fIZ1J1tr2+Uv4Qx1C48ntDJWsk990DR6j09UsaGU8koa3jNrqoOlJK/88xNFq5MeekrBhzzMqG0JfbJ/791j05iIw2hQSB1Zy+j/uAor/dv9hM7R6u3tBc227MJXL7eVGOWrgfT3VBNr3lBCeTQUJIpEEzktC+kwU609oUNOPT1uOYspcEI+8XQ0gzO82m+VspBWUFZnkgjTw4SbwHERGUUqjr2mu7TSh084+oS+xNPQNKTEzelsGzsqBFu7Frhja7G7MmG+EieyEBM6NtFZpWoZI1zlWF8/kMWUm44BEm2bTy7+DfDfCM3zTEgtQ4/HlqZh5HkWSdCjuXYBjmztm+6JbbCWTn7P05MzPhsYVfyeyn47E0QzWED8PIdMxIrDGvYEKjaygCZCVsCGeRPDeHwE/rNtISAnzGeBMi0oRrVMqER04Jx5gLdxt1fH0M5hFNyWbTN3OjPWFrqeDQwZQcNHfSVMb/Y3jsS9eFEIlJWdw245za4FSdcH55QVUZXyfjfyNXzjfQj1tSX0eE3IJ3VJ79GiUSgArf78f7YCemY61De3Pt7I36XNLfpZCEeh80N1oWe9K63EIefh/Q3qTbRcnUWuNyuaCu694+fHl5gZQSJ5tg0gmH2rbF9XLFtb5Cs7Zr2PmLGuqtxADdg2GNTOF6dun2POHi16gE/+nyV2lrgqsUQ7UNmrpBXTc4n0+QlUQlK5zPJwgS0IsR6j1c1tATQkxy8n8Eck3hgTKmr6ahOTdU2vS5+mEYmT5o1iAQFGtwY8y6XF4WIXPCbd5mIKwDc6NaT6iqViXJKbsMDODZ6h2eY3vP2L64pHE04WIObHf49j3TqhbUEIR4MUnTrLZF5l4VzJ28MHuGZ8QKZkealzXzOTAfXjgjyEhXFjDFyf92iSSXxppzaEjLkpiTrcDE9OXeioNE2DsXr3sJSCHRWkGNahWYNaTVFDhmRqkWdV3j8vYGpbUxtdWcCHC01tBKQ0iBl5cXnM9nk6OrbVDXtTkvAfT5yrJm3BvqrWT2NnfeLcP0BiGOcfSXQVZvzVWbtoXWRgMjqwrXq0B1spoaIby2LGpZTz1LY2njpGXbaA0A11BiZLWsu27XbT8mlj5GiF4qb57w/cMzMoBjZthGlWWwbqGlhNTspUI5cnX3EJTdmOu2gbJMi/PXGQVi4JAYFLG1FHi43tScYkgyaEwDWhARTpWEILfVpeUKQYublI1Favs/blPKQ8ceiJETpAth5AlWMrtZArEZkSPAhU0K2AklTALo8bubWt8acGZcffOYRNm0bH5dgWkSVnhGOoQbJ5FaBIStZP449kWh7DOjGltma5mUuq4DI2MTNzuGRitlc6dI/xpEBBmFWGdhGDrValz0FXXdQgqB1j5rHFq332e8QGY1DYN7r9h0Nmdee/LNMAAim0PORDkFMU5Vhebc4GQDBkhhLUM8PRGXs0Wfjq9jy7P9MTNqWXRsGRbyERxj3OZoFJ1Exp2jdZl3Rh2MDIC4U5W2sh7NUEKiYkAzmRCIwmy+Wis0jTEFE1KgklVyIJEgaKWhtbLRVWpzP6yEnXmQ4Cs6j7rxncoU34mhRVDaUB/FWOwDscRWgFnZ72XCQGuT2JTAOJ9OcI71gzUsbG88VE+3/KEJaNbNEJ1lJK8akmT3xw8Bzj6nPDMACl+KgRgo3BQzFy73Bmt91ymezkntGQEhZEGrnRLw98IxHu69XGhn9/csN60F2jQGbnkpm8hRVuaMkcL6lFiNVjCRS8mtsfW4tczMUFqhqWu0rfIaY2eKJCMz15gpNW3tCu5ceVqZYCZNq6xmhQyzwQJtawLXVErh7XJJymPEwUFgPiPLBGF9CJU29RADIBl5munwnD0fvWVrpMWeGoyhpI3JTcyL/qARDcbpnx2PlL6x86XGZXnmMmJkra9LskdbZia8L1szvivqukH70uLrt2+QgiCFBLOKtIB5FNKe9nUYILZvN0TPlF5wDDZcvFtYCszc8lxKgkmFREKrJfba7HRPf2MzB4L56Ji2HqZlCyLajDomPTCO98wQ2qhtncRMtS1a1QIATlx5VS5bzYuJPtZCRZIbJrfhOSJiSHrd4a3n0UAb4NGMS98h9RjTt1y6datvyDIzZi6YAADPlxE9f1Nic7RppDbzDnMk2R+TPZ6jZh/uKSp8F0JYAjT+5+qfrkVi1tBW66xVxOQsvCbXYeQjgVSvWdxcaaODIRy1YgDKEptv+PnjB5RPeqzx+vMVrz9/2ohUqaBsmgzZmM3UTYO6qVHXDXTkw0etAlGDyjIOgNlXK1n5ZNLJWeXMo7VC2xgtjDnrYsaRDDFltSuNKmgxYoKHu/MsZPWKbgNHszR7hhiK1Szpej43c6Jt6YSoJb9bBqKEyeRfgt0lpMFXbJgY00Mub032Fs5kTysN/abRqhZfPn/G5y+fjGBWE5QOAreUsSxhrlZ3pwSMwzNlnZ2EaRLw/l6wq47c91igYq4prSClPUsK67lby9A5M229fXBGxmAoL43SbCJ/CILQGhVOhlHR2qjJtYZmoLJMS9MYJsdtONITCTBRM5ggb59zT4Ep5nVLIMnXcuNgiX9/DFMTCKFhgsto75rGERbso5ndfnY+8khBPowpxRtUrv3p73MBYcxDkuZyhwATJGbMFbbCxunpvfaFiAAVNHKdT3nj2/0aBLrkCUnTt0GDGO4cNioojaO0WmulWiPUoYhgfpCJ5BQQAVKKG1qjQISW7ymPWcnnomlaNE2D6/WK17c3AEDTNmDNeH17w+u1hpA/IYT04XYFyREEp40yxAzNJnnk69sFl8ub12C58dBKd0zYAODKNaSsUFXd/cgErLEMmfPx9MxfyBM1pGUOZcXMdN6TgXC2rRt85yVQ3HMjPmy1eTym2Pge5oRM7bY6LVAzo6kbfG8VrtcLzucTPr0YczMdEZUhjHNe+hzBSkk4Mg3LaW/L110wm/36b8b78JQ29vd7yeKif3Rj0YBb98FkzQhjTUTWqqrw8vIp0iJNIXYp+zceByMD4NbkYGawAkACja5txt0zWLqBZNR16zdvQcJLdJid5AR4hFy5Y86U+doIq/SOr4sZDrp9m8DSDE5+iNyKtuWeGcPMTLUJL7bPH/i37ahDmxhaKbTEYBaekdGZFLNzgN5qbvJ7dqhZIgQMb/cfTAwKGsGbkn4C2SiAbr7nzZsv9Brfp/uGkTwzDIHZ6Z/8byJMy5MzjdFLx7lv3N3nABMb+TcMgbUxqdWTTcuGEqj2P6MTYmzEE24NaKNSZNaJqVofk38LzGw0GySgEYK7tKpF0yibZ6pBKjXgzAAAIABJREFU2zTgT4YIIGmEYBLG30hrjWvbenMww4ikDNf5fEZlfU+M2Zc2mp23N7y+vUEp5RmLRJCRSdZioYbWCnWd+jQVAzuQ1Z4wUJ5L3T5xcNoenyg4ytnFhQAh6ay9jTFmZnlS475Ipb5dPXnF+pAzaf5de+pJ6uyZd2QUMhi7PqxICUopXC8K9fWKy6vEy8sZnz5/NnPHmjL2CeHKZkNm3Pv8RmMByfjgH/MOi3uYkam0yv4Yn3ivG2BLiubHbg+3T+oQ5tuVTSTQXK9o2hbX6zWyttCWngCIaigFfP782Qq1OKkjzFN3pqSMDPm9IDapLb1nioORmQATshmAJgjqRqRKNra9zXEMJKpboLw+5mfLMKU5EqfcEYfOIrakM6PcaK0BZRauEAKn6jROq1QUCHP0WyqR8RuFJWRcYtiSXfjtiiwRA8vIwDIyvvqMQJrYval8xmpzot8MmXoji/dKuHd5kzsxBspb4618/1EUpcdbAkyV+Blw53tK5HgSivLrc2qISvDllX5nyzhwkcjqC8BhCC/2BKKQ0mRRF9L8FpkHj4EJqx7aS0y4Xq+4XmsrSCC0qjX+PVJACGH9KHVShpOYN00T3j+Loqba1mhspPARxK7XK65NDaVM/qqiNccdcOvfu4kMMAGlZ+03v2WN3qux/BGbMzO37h38PfvMkfeR02hNPS8jPcqo+01ANwLYGOk1bJjjVmmTXLMy4Ztdgu7+N8kl6UOI1+kjCaO+d3gMfXIbbj/qYyBLcCuj/92YrXDeClSML5q5U2tr/WDLYQBN3aBVJlm707xozswcowAp10sDIokvnz8nc9lpfh2kkF4jHdpm9r2qkpCy8vTJLRyMzEQ4NaS20mwgIuLt2fMMJhTPjL6NfgyxEkswE0mrSKVFmjUEl0Kgrgdjty5MiFGl8enzpxDGOYuWNAclAsNIg02kIWlNV6qqSu4ZU5+XyhJ77Qwi4sTcEyTIg0Ek3Kc52wMjA7NZdsjhHQoNUjjnaYAEfIQ6Q6AahsKZAd1dE8WSLvNJlkkxzvBurGxuK7+NTSMNQz3l34hEkkAyNmWaTjikbYvn8dBeS4IA1SeB7JMeA21rc5Y0xgekaRTaRoE1IGQFQcL7PzoNSIyuFtwyIdcal8sFTWsObykMAcHaEK9VdHCrVhXLS5IBR0mBiQg112jaxgefadrGhDEWEp9eqoT4YK2Hh7snAWe3x8x/hWWM1UhCfD5T+xisdaYnc0VPq4dhBBBBcNQ3Wk7kY+8jgNmSqprBBFzerqivxpTwfD7j5eUF1anypqLspePanI1RM03woijqXBaYImWyxu4xQ0KKNTBjfDNhwJwzs+9eo/FzfeoCbwyMcCzoJKBPk28EHsoKU65g1j7EubDJVB2c5qWuG6jWjGnQckdC0UyIzUy4vNWABj5/+oTTqfI0FgC8vr6hbRsolZmm+jaagFpVdcLXr18gZUqPBNOO0JaDkZmI0iZtFnbgHFmVN/Nbk3tpYjmvb8hkbI452ZRn+piKKXDq/BJBPp5YGWpjV2MVTBxuaSymw5VN7Mo36lStTDQZXAkvLy+Jo22H2C02h6LfSsSjYTKIhEkud72iVQpELZRSNhmd2RqkFEUziuK1zBE115SMHQ3hD0A2zAxH2hjWYKUMwWfvnksHzWQHzRHdN9+chLoj2XWRCq0LMxutmJ9X6Ab/mL4dOGKF/V/xWetJC2b7W3p4hLu65YZ/qf4lZmfI1hm7aMffWTvCeHrPpyYpEVNT1JDYlmS/9REOwZRK4Hq9QmsFISQu1yt+/nzFz9dXCCmNn8nrG94uV78XNNQOttvlRCEympe2aY1p8ukMpZTJr2JzfDgigREx/YbzNO9BVtma73vexMMGqPGMjjZlW2aVo/2AxD2RA+P9yPdiNhumlhfWyyNNduYwLMkzEWMx9T2YGVBljVRJ0zW+/IjARmAsjDaNoX1ybobWLVqlcLnWPpee09JIYSLcSVl5k794/wrVxVJ05zdlah5vIjpvDvQJKIbL7J+37pzr7fNorBvVoGmMdvV0Pnuz1Pg5N45CiuRsiH1/WTOqUwXnQ2ck5NqGNO+WI4TRwLoyzdj09TPheq3x+vbmGQilr7hcGxMSPRFyKls/rFao7N+a9yrbLf717QqAojJciPbGCmqsiLJj2QRoxVCq9prCl5cXvLy8RMlV01oPRmYhOGZmL9iT/eaSbSkR0LGGpVRvfggUNTLIiaVC3Sv1KRvKOCE7G6WhrjU0wyeUk8IcJmbzUcmhGcMQxO7wcN+1/QxOeFozmlZBafabVNMYhqaS7IkgIkBk0sK+w7ZzjSMymOG1LH22VHEZwkqiBGlD+JMlzllDkIRiRIZlW8x3R4QbPYpgx0yZfg7Eu2mniA54ZZkHd7gJAjSr4E/H3OEThhjxUG/MPJbzn2hycz/8EwRoOx2MVmZK/zmGzDEq4WrMyBBr2ybjhmEEjHMYmZTQSAUYMvq99K/0TEosn6oKyvqpXOvaJEWuKjRtg0Yp48uiWtRNg7frBZfrBUJKb5pRqssReG3bet8UIURgSoC4pwCI7LsGk7tm/wYKJqbR+At7r6dhzPegHJ3LZPRdiycsZ78NI91L++dDYqpb2vtH1bYtnAntksdFifm+jR7iHO7Mie4gsk7cABSjbRtfj5CEU1WhOlWoKuGJdAA20anwiXWd2VJcf7w6xpnAxe82dYRv9UtetluLPdfJ0AX5LHe/OVzr2ms5iAhnay4lhLC+a1UQdFnBhaM3XBTc4HPCEK0w2mAb+AMwGhLzuwukIawmV6I6nVBV0gcFIWH3m7i9zHh9fcPlcoVmJ4QgG9CKwaot9J7wXRKfNMP9HH5/u1yS9wLDaJqiFAx5uczsDgsTvl292TDuLT5/+mRGJvwHwMHILIrErnmSk+44TFFXvleUCOgl/XCSRbcBgqmVTg4+J0FtmhZtq73NaFVJz570+YZoZjv74iMkZtYIrdI2DKtRGUu7cSg2uW2MPauAlBpVJSDPJ98uwPSPFMNzPGFgsr9H9k703ZJ4ZH1wOL461kL8TviK2R9/sayTki3ZUpD2Bs8ss2NyopEhgN38zV+k0FddXyM3I8pMQkw2w9dtJaT+v3MQ+iLMyVIf2b/94E+tr5unIl3zzseiy8iEtmXPJ38Zpv5yuRitiJMok5FIwzLUSmubCwlgNZBoLjh8gISE9OWl4W3ZEkgMgiZ44kKTvYZAdDodmh6a6I4Z9m8VsxlLMTH59biWiACMGZCJvpk589Lbuv3I6oqY4xMILr9z4i856WwqnJfJZ1QuhXFyGjuCGb+6bXFtahAF/4Xz+QwpJYRorfmPiKT2uWZtGqMbnpkzyH2bKEf/8p07ndOGljbO6Soy4XSR+uJStda41i3qRoGEIamvUfCnulU4n844nU42Z5NJ7gqlfQ4mY2oVpetgl99HF61BjDmfNYFVCtQ0XlhSVZUZD2GYHCEkqkrier3i5+sFWiurRUtFUCRk0nU+8Emxb2+NI9l2mu+GznHlAoPSzOiTbCASpTXe3t5wPlWoTrLz7MHIbIhHq83fA6ZGixmLMf41a9VXNLuz15VSMLkmTK4HIrIblUQlZJGBc9IyI/mn5BNWo9E0TRLyNNZSGRWwAmltbekFTlUFJjYRlNiQvpr7zayA7jbl/+7ZwzomCvGTZEyh8qMxJ6FWHjUbKUoAGXFmJJJZ7RSxnJG2z0jmrHSKjJ9Mb8tHTfXhm3JpIjNHRExOiE7vwZhYLhHM8TXTD6pzTxkxI16qNf0tmF0Ov4O7zzg0K7y91T5psUvCCBt9j3Voh9bs/xmLrojg7nsDbxZG/vDuklWWMKL0e37P1JFJe2Ptc8eNRVbriH20o214SLj85bF3RgugZFYlYpn4XCCjuiUoABptq6AUe1MnY9JkTNCq0wmnU2U0EO55AMFnw5w/3QhW3ba5+2MMCS2ptyxXzhAz1X13rZX1IzH7Vtu0aNtgSqrB3hTcweVcMtpYZc/aFkox6qbB6Xw2zyoTrdDdo6Ocgx3/MXcuJtYK6b2G6TEO9a2qAZhgIo6xcb62LoCDUY7kwh2GiappekNbwYgTRE5jQkPbTdmub53/1NDiSM8kcloamOTy1ekLjGDMMcz6YGTWgtPO3OtHMhVLlHFvKOaxmNrWsU7+Q/cYot6EQRUkfF4T5mD202cLOhZ94T7vKdNtdK4MrTW0UJBCeLV1vMkTZYeU7WvVKhNMQCsoGy2JEQ6I+PCJmZofP39AVBVO57PXxLiNcrAvAL//UXIRyftkl0fDObu6to+B2yYXZ1adSBVm/x4ufa608XlRMu8chtHEEAh9tK3JTRTCz0prXuHMuHLpqavfXbtaPxhn9hESFcdmX5GmIZEYhrJ13+xLOO9cBm6ZP0r1WJEOK+i1yBEfU9Bl9pZAed1MZ4LnaNLvZXJmrfm5SoEFJSv5ey8hzOsGF+kj8M36oth7kQmtzX5qEmoq1HXjk7fKqjLaAJvkWVpfjlhbk/u9Oef2WOvRbc5QiPlUKx5fL68FN0gu95EJeQ4y0QGbtsGP7z+8VgFIg7IYIVTab22rfB4qZUOlO6GfbhXq5tU/G7eDhBzeq3r6I1wujB0RNBPqxoxPfF9KH9i+YU56aol4oOPmWAkp6xQzMkIQPn3+FO4hcTAyB54Xazjg711j5rQ0WmuwEMY8RVunPyLrM9CF0gq6tmrspg2bbGICUpZ+aba/1Q3aVuPrly+oqgqVtH440XM5kRoFL5vztvCHjTPqzrB/qecQ5h4T+2KCljHtLElgu8RHfCVOuuj+1kpDaZOo2AWEKPWUyY/SGBvuZGqx14xo1lbqaiI1pZqRlAy4h9olNsQUeR8DJ0AKhBaxnlHD8kxMP/r3kT7s3Qw6nmtTWjooa84cxx3Rvte+8IyLu8Ciy59Zc1HWDAWGFGT8O+rGnh/m7koKnM8urQAFvzG7sqQ0c15E4c5zlPsqXuV9K76UoJGSf15w1ypcr0ZLm3OjzgrBMSeMNEgLOV+jTCMZC0r70CcemB7NMjo3e2ZuMMW1Og82n/b/QO+T07D0rFZK4fX1DVozPn/+bEx/cZiWbYq9E8kHngPOfhbMUKwgtYJQErKSOEXaJEMfhUOzaVpc6ivqtvEaiXxG9smz3JaktUZ9rUEMSHEubMx2cxRuQ4/L4aChiaTi7mDoZ0r7N+Thlvdhue31I4daJxLwMkmbRyA2a3TazcKT6I7BkJw1+hQErZSdQgJtq/B2ueB6veJyueDHzx94/fmKHz9/4Ne//jVIELRiX50g44D/8+dPH3LcaRWdPFdbosMREBz/o6w96Cediq/N4WveF0YiTdn1pciKbc6esWfcw87CCdXmIzGpmp56tDJMsRTGIVtWMuznuF/jtC7Cnh3+djt4MBPTTEHiz4Fhq21EtC7MChJ2v5BVZSOlVTidTh3Gj0TKBA8zNq6d6XryJp8I/nVEhLpu8Msvv4CZI3OvQmSt7HMM+pKi3sL00Pzv60yK31wzA5rxdrl4YSwRHYzM2tjKTOsjwGtg4lCFD5JmDdY5cpi7GpCkhqEnAYSNkbUGRX4rlZQ22gp5iZhi9hKkhADLduQuY8Odi9frFU1dQ7wJSCnx+eUF5y9ngExmaLjoTBSOOk8EZq/lCV8EZib6NSKIg5+PichiJNlELgHn9Mzv96IUCatj3+zCLpANSC0CgW8kYOQlYTm6xN4wyZxG3wssoiBDpJv+Q6ifXP6P3PGTkfZnTmDH93XXQpd5cW02GkMizg5xw2hoHdps5IORoYgzHWRAVBWausbb2yta1eLn6yu+//iJ17c3fP7yFdemRtM0uLxdfHhS0gJKK9StQtM2qOs6YZwdU+/nU9S8ZEQ5na/ue/dqAdlPzpk3PiN8WFvtHH3N37qQ4X4altIpFO4eaNdoxiYi4BfX6BQZyGmY2vPJTCCgqipcr1d8+/YN//p//Nf4h//3/2fvzb7kOM57wd8XkVnVKxpbAyQAAqRAkZQAyqS1mJQlUqJMa3THlrVYHtnHyz3HD74Pd179l8w9587Lta07tqXxtSnLkizJ1ljUZsokRS0UQFIkQYAgAGLtrbbMjPjmISIyI7Oyqquqq7urG/kjC9WVS+wZ+e3fVdy8ecOa+eo0KuUka2eA4v5dYBZsqHAnJEtDbXAm8CmfWnNO2X1c6TgzUyskhfZzU4VBiDAMTQJY69tG8PeQYh29WVITOUyh3emkOaKyMNJlpnBlY5DHIIxKnkHpvl5z73ODYf33YkoPlL2gMYSgxmJQBm1wFHwvyURtbbVbcONSMTJbiFH8Zirk4W/0xbwyRUzyC6EbNPhu4Sg6+y+ziVIWJzFIERIhULPjFCuFWOWz5zr4GxR5x0qrK97LbKSLSkPbmPBxkpgMwJrNS8CTfpm6yjfJ9cEo2pCV/ypQoKW1rUNsbjp20pocDAMTX7mXcumqQn4uzV7JVnrqXvqdTgetVhOtZgtBLQDDBCdWzDmNSSeOwJH5JYWJOuacbHsF2zCmI9qaeTmzMk9iTtlz16eDG8LmSOUnTCOzDZqHUTQrDqPKwzMi0ayhEyfuxn/9P/8rWDNe+MkL+OlPf4rXXnsNN2/cRJx0AADCRr7y6YRJeJf1H4OMUfE1KMTu3Dp7cy75tNkHtNap4MBB22S1mhlJnKDTiazmJoAUlIXotxqeer3uCSzy+wgBUEojUQqtdgdRkkBpVbAi6K17oR7HJwfDsSD9PGK2W0+Y+Spy4WNQMTIVdhSG2dD9l+qg943jhbHp0enSsL5ZiFu/OqVUGs++024ZnxibfK/YrmJve/XeSaxFgQA0QjSNZquJVruNdrsFrTSCILS5CMhIemA0EOZFl5m/5ceq38ZbFrepTOrWD2UkxmjzXdb+SSA2tgo5LYVnUpYdE0OY3TnuwzoVF8eRjY9XJ4rQ7rRNyNI4QqI9raLvVGs/PvOeS1vpm6pwPqmf7y/jmKKyb1/usDP8tEYlxYfDpu99G8RWiTK6dipmBDLAK6+8jG9961t49NFH8eijj+JjH/sYbt26hTNnzuCFF17AKy+/ghs3byC24XQnXUNTBvYYBfOqIqd0HWjcfR63KPL1NRRKM5gV4iRB1LGhhu17kdmEGG57yWtzulMSaUTCKImRKAVnWkpeDrZc0uDhhmFCMAATmfZ1cpEXtBaZmoqR2VL00sRo7lb/VVqbcvgO/r6ZGQCT3K/P5p+GVURmrlEcez92+0ZQ9kIfhbHqCY+Z8Tcp31RGa23z0Kh0I+82fSop2mm6cqGus3IBkRtjZ7KmLPHYarexvLQMIQm1sGadOqXxo0gdOb1WUBZ1qgx+ksX0GLsXpDFB8k3UBoJNYMsYnvASRDkbieHmkgvfvbFuuduoXHJMrZ+E0zcBTJvo96Fvd0w0QRFIE5HP5mtRcYTY5jxyElNzuQCRylZG8VkzlaeZoKmYHM4Ld5rOCOWjlPkpP7NcLv7xjDjaeHwf5E1mx6qxGNY4BFjvSeoVGCTzY+jdB/L89iad8RkVxUfT5OUidDpt/P3f/z2++c1v4tixYzh9+jTuuecevPvd78b73/8BnDv3Ol78+Yv47ve+i7evvG0CVky030xv+K0miCFWIMOZRBW7Xlwqyh5QzGBOjBmt1iBh1lcUOxFGJizxW0VkUhCkQgpv5srkMMM73pdjeL+XjWAYAd/G0atf4zA5y/Zn86tiZLYB2hJP/t9lTEzx2gp5+MR6kdjzzw1THjsfEs+MZCxt7JH3Zjwv734bgwCzSqMgwYuIlPltlPk+2PZ5+TN8OUiu7ZyFbIZ3Lo4iNFstSGl8WTqdjk34VcvFyzdtyIe77mkm6InKswSbGyEgR7iPLbE58mPZrRIf/D7/u/wnUGR+hjErGK41pp5By1+/dLffsRZQSiOKEiRxjCiOEcWJkaBSZnYDraCJTfh0ULqW3RpnRhoNjJlzpuKm7f4kavPbOJYhZUxS1QvBRGty683577gy/JfrMMgLILaOsBkvcn5GOtv3el7vJxXcoX0eBawZtVodALCysoIzZ36Bl156CcyMkydP4h3veAeeeOIJfPKTn0Sr3cJX/+mr1sexREu5o0DW9WK9PcM/7/+dCevKsik53xUTaRBGgNHFtLifRYEHp0KK4vVZ2GXTlvxvV9Zo63drnvVh18zmrjEXRGUjcKugeLRiZLYYmjXCMEQoQiRxsm0S1QrlyLQH3VLlYZ1QmTcneWeKss06dz5L6KcZIGbkiScgde6jLGFmzlbG3uI7OrK/jxertMyNyyQsRBudToRGw8TPN3HgTWZeQWQSiInM8VxIgpSydKwdCen3QaSO7UNmD4ebp0wiLISXeEx7/fFzAYlsK/V1QN0mcrmacr+ziDnF3vVbX4UXfNm059bDYAxNeqaHz0gZ8tqvzAmWBHVp8Mz1Xn1lWcuJICkAYJJOJrFGq9VGYs1rpJCAMNozshJqEzAg04i4j/YYcEECypqY9IfXH6bC/GR/d2trivUPg97aWiBP6IxHIu+3t1+bNkhojKhNGqWHW0XajzqzZX1ygq3ZmVljLtnpgJnx6quv4tVXX8Hrr7+OP//zP8fi4qLRxrALQrGxPmwnMjHYKJqBwjurbxlO8NCr2OJ7Inuue5c7qpBiUjA5bR9/EADA9a9iZLYBWhkJS2omUWHs6KcJWY+w8c2cyiJT9cNmSc5SAtrr1+AEQw8th+Nh1mW2qPCLS44ibVMmmSUQBRAkoTUjihJEUQIpVNom50vhxq1er6NeN3/7hKpmGAk4i7QFRpqmLYM2OLhvD2wfyeQ4YG0CGjB7maid/4cJAeZFtLH+FkBqtqbh+yU5DUGR+F2P6Sh7mQ7T5/G/jHMtHtjZP2MwUjMkNglXWQNxooz/SxTZDNo2yplwZhicNwkrqVL4a5kGe2bz/WJkZpvuYJE0LTKqtrKBkWnmjPbIaSdKopf52o6R/SXK1lm/6/qjb5SyHWoGNW5wjx/MDFaMSEdQWmFubg779x/A0tItLC8vQQiJMKwZIeeuw3pro9fetx689c1prDSvWPe8EQAJl/eG2DIw6z5TxXaNrom5nTGKRmbQvbtiZLYBSiuoaH0mZqOhm3uZrW1GGdtlBpdb6H2a6jtk+06++Y+LS967L76T97jRT5rp288Pcn3POihjGoTnkO2Ol24cRc0PpQe9e3vnC3EqeWNClreVTiPb2HqbrRaarSZmpqcQhjUEgbSMhwBD2m9jqkCCoFgbhqfHMJRKRQEImYU6DWRg+m3tllMTIqPGQqOxhrhpzEHa7TbklAQrbe2rNYIgALENoRpIY9LEGVPjHNEdYc4Moykjb1xzxHO3ZLxoMkZkgh8UjmY9zgng8y9evywXfrm7Lj+Eczcjmz3vmVmgi6/t52gw5dl5Z4At8WCSzrWN70sUp0EgzBgBsIldNQNQOlXr5PQkBQLRtT0fsltAdfnB+SU5Osb7Xfzm7m8qDPVwhE3mh+c/jz767UGjYPjy8ia2/fz9Rgmd3NW+Ee7pV1ev/TkNUDJMPSNc77O3voZe2KzvYRBirbGChx9+GB//+MfxxS9+CT//+S08+sivoRYGeP3c64iiNur16eJ2mxW8Bdhec8ey52J9jczA4j2icmnI+neOcE8FYPj1NKg1TMXIVNi16KWV6QU/t8ZGTMsmGaUmW74pHNEAPiCGiiNCThvSrTPI8tbkHKW7psTV75IrAs12BBkpTM9Yp2ohrYbDvoBIGkJeOEaopK99TAZSW35mkCSrIdWI4hgEQCcKcRRBdRQk6khigUQprDU6iNqJIWaFZWTCEIIIUgjUwhrCsGbME5EZwim2EbVU0bTBfogLx8rHPDWuYColoJmyEc+KycsoU1M6z7+pVzhiN5K5lhAB0JY4Fjli3DjVW9+rVPMkADYMnNIazWYbjWYTcRynCSl9Z/wybZnPGqUMond9aXAP7du190P3yiWmXJ1pXnDuZqL8Vg8Fe0vOt4SzHDLpZQXNzGhClD5alB77WjEa37id8312fTPIycyXz9axAeFTv7qK5YrCO8c/3+m0ABirjL179+PBBx/EqVOn8Pjjj2F6agqPPvIIXnj+x3jxZz9HLagDulyKXRYpb3LfTlulweA0PHp/eKuu75KoNC/jhP8WGpjZLKEvujRuqBiZCrsYzC4p13DYDinUoJqVzTDdGI04olSL0vMKciFxC4xMV0lWQySkJeDYRpyJkayuQQQS9c50mp8GJK1mJ8G6WyKV6DfY9FlpDa0VEJtxjZVJlsjMEAyw0kiSBDKoW1Myo01KtDkPaNO/ODGBO3SEVjtCIANMTU2bxKRp1KwACQTiJLG/Ka88cY10x0QhWlE6P35vepk8FF/AntZNGM2YIMMUlhGS3cSqr83xNTV++ZbYtaaFRtvnHPENEyNEgHarg5WVVTARhAysFgxAwaFZpFqdfvO73mtx2DVd8tIsFF3+Mh39mSwGGskdNwMzFs16v/oHbeOg1w+LXqz7IOg1MmXt1NxLrNEfZg9zjLt5dv1IfWk0TDtnOk66LABmZ2ZxcHERi4uLuPPOO3D//Q/gyJE7cdddd6HRaGBmega///ufRy2s4Stf+Qpu3LqOqXCqi2l36Ga9Kwwp69+kVlQYGDTknHHvWasYmR2CzXyZ7RYUX14bNf/qp4npGV1rh3plFqWt45C8OoLZlG8JevTejLK6BbRW1hyJ0el00FhbRWIZhkAGALQjz635RlZGWo4UyCKzUZq92X275IhptDpwalrGJEBsNAkECeebA0EIghBkkyrq1D+GEEiRagyajUZK8LBmkAzRQYxmYw2NtVVEAUPTFCAVQAJCGgYjkBJCGmbB0E3F0coIqMz8y53KMy8ZsU0g4pTq69Y2ChQ1Mt0O7/l5ze41tUgp02OZWZf7DSiVYHV1BQwyTswwGqz+a4y7fvlEP9kgEf2fOMMMDBuoY70WjSJRLDuemXkcHoBgAAAgAElEQVT2luILEtBDBrMYtB2DXF+6/41RoDJqSZtJvLv9ykQpNCaKYS1Mc3Il2iQB9lkpIQLs27sPc/PzmJubxdGjR3Ho0CHs3bsXR44cwdTUFObn50FEWF1dxfLyMp76h6fw2uuv4Vd+5SG891d/FU/9wz/g0uXLmAqn+vZxZ75lKtzOKIrW2DEm68mr7Pl+a75iZCrsahR9S0Y3zRiwvk0ufzOxMcal7F4nxdU9runSlXjt6D5unMBtDiCtDXHnHO6thshYEhkCW8oAgIDSjCiKoZIEcZxAKZNbJ6sPAFyIUBvKU4uUQWJNYBbQ1lRKG2cPw0Yw9/UV1XYD1kpBW5+aVruNOAigjG0eIETaXRPsoI4gcFtzUTMy6O+yRvnzMS4y0DcpA5w/kElKac6uNRpYXVsz/kVBmN413HozbzMufeuVy6zHGU59q+G3ebs0Mr38YCYFI+iQ+yIf5EVACgEKCCIIECcxWq2GPWsEF/Pz87jjjjtw5513YvHgIo4dO4bZuVns378fe+b3AACarSaazSbW1tZw4fwFXL5yGRcvXsRrr72GMAxx48YNnD79IH79gx/EmTNn8N3vfQ+dTsdoc3fguq1QYT0UzYLHgYqRqbAr0ZVfxk82V3Dy323w+1gkgrJxWUfyPMZxGbyscu2DQxRFaLWaiHSEWiAhZWDD8bp+WeM1q8lJEkan00a7bUKcaqU9s8HMJyO18iLbVmfeZZ3FzbUip+MATACCoj28O0ckunbp1LTO+vsobbQuOjUhYnTiBuaYMDsblDJI/Wetr77L820BejoWDQhjGmfrI4JmMgyiMknollfW0G63IIQ0/jBJAs2AHEGW7CemNBDIJOE2/ws83xy4nDLlz/iggoZxCCTGnfBxVE3wepqh0nP9csEUNErbhY3W7ubHhPk25JBmNkIPFZmLIuDA/kUcXHwHDi0u4sjRI7jnnnuwuLiI6elpdDodRFGMmzdv4OrVq/jZT3+G6zeuo9Fo2gAhLSwvLxttjlZg1mlS4CNHjuBP/uSPsdZYwxe/9CVcu3YNAJAoBVlI4lqhwm7BuKmuipGpsKPRy0nZN5Ua9WVb5ty62eGVe7ZlCIlovyAHGWFXzuR0RSfqm6XbmGM5f4biFSI1QcrMu/IYxPo7g1IJVJKgE3eQgMCCwc7sQ4bINBIElWgoraESjTg2oXx7rYWcytuaQqWB0ATBhUsuEtSupNy6Q7dfhdGLZ0Q2kYAQEgLSGshR6rDObHJLJEphbm4GQRBk7eZioICsze5QOWFqNVxkFVgibwKWlUHZteuANUMIo+2K4xhRo4EkidFutbGyuoZOp4N2JzLmY6YC2+8ASiWp5qZn+cxp9msS1r8q9VMwbUxDfXPWb62R8zcZxiw0GwejBfHLKPMTWY9B8SMkFs02B2mLQ9G0rGwdjxwtbABGq7iX9jI72w6mZpgajWmizrQttr1Km7luJx0ICARBiEOHD+HQocO48447cPTYMRy/+wT27NmD2ZlZ3FpawrVr1/Diz1/Em2++ibcuvYVr165heWnZCFAcA+TaSBKBDEBEJodcECJRCVSi8MlPfhJHjxzFf/+//zteeeVlhEEIlSQQUu7YBKkVKmw1Kkamwq5FKcHhknjrwSTSZS/5cUtZxw1m4w/hE2O9risL61xkWrqYmFQx4cz1nHkW4EvFNRs7ck6vtZ8uWtn39ehtHsWsAWIkSYIEDEUMxUbPISnTl7gkoKmDvqPzrYSzp3Taq9lXvjD5IVspdzIzg8sT5n7L3fBpzsacBafl+mGUpZDQWiNutxBIiZlZQwQprYzvjlcDeX/Z1kBQWbAKO+Yu073OEqVmY9srUWcZzHVKayRKo9VuGeYrTtCJE8SRJeTYPWyELMYa+0unL5Q1jDYOz5l5onv+NOtcJnnNDA3OzyMyAntQx3Z3j/PHyZ8f3Myrl5O8f2yYYCRu7TiN67jQM+R7jzb3a99WY2BdL5HZI0haZiMxzyEYU/Up7N23D4cOHcI9d9+N4ydO4MTx49DMSOIYyysrePXVV3HhwgVcvnwFN65fNxoWj2EhkgjDEARCPZjOrTkXqVBpBehsPT7xsSfwoQ99GN/7/vfwzDPPQFQamAoVRkLFyFS4jTGclgMASPYnIrbb1GIYZCFzN9LmMlM1/5hnt+VrZbqo/rzZFsDIhe+192kXBcyGyiZBEKwBVplju7MVI5dIscAQ9ehJFwHsfudy31Aa8asnCGB27IUN7WyZBG3zqBii23YRBC60SsoA7U4Hmhmzs7OQUhaIaOr6F0Bpf/35MDlQhIkYpmTac2eaNwyU1ibSW5xAKeOvRIB1wjcO/b4PExNBl/GxG4B25pMir2FK2cshmJgiJvVZHquj/QQLZEaB07hkodxFaqJlGJMIBIIMAhw8dBD33H03Tp06hXvuuQfze/ag3W7j7bev4JlnnsHlK1dw4fx5XL1+DUliIhrCxvoTQqJen0Yggy7tHZDtUz6chjqOYzx4+kF87nOfw+XLl/DNb34TABDIAEkcQ0jZdW+FCrsJw79t+qNiZCrcxhicUBmU2B/VlG3de0qEdZPlgLteWwZpa28C3Jl0pVJuNr4TBONvUozE5QgKUaJl6Jksz2tlagxHpowstxB7GiZRSpSnBLzNRaKZ4QIQgIRhYDzGrizAKjPAWiFptZCoBDOzswgDWWo3n2eyRKpF0KmJIdmxkAA0WAEq0WDFqAXS+uL4vfdKtGaFLiuz841hNnb8URSjEyXQ2tj9kxAgIaHs/LBl5wbTfw4Ppny5XaZOGyDUdwKRP65obLsB7DR0QqeCDufrQiDUwzqOHz+Odz3wLpw6dQrHjh3D9Mw0zr9xHmfPnsXrr7+O8+fPY2VlBctrywAACQkhJUgK1Ot1CBtpL4oiaKWRIBl4DoIwQKfTwf59+/GpT38KUkr87d9+ERcvXrTt5xwTs5MDx1SoMDDGsM1WjEyFHQfft0Osn71xrCizE3fwpb87gQiaTPgam8LfzuzHsjDElPmY+L4TnlZiHGRANpdWq2IS49gsMllN5LM1TkLryvC0UVk+HZ+ZKQEJgBhRkqB14wZmpqexf++CWWcEm5zRRU0jQBhNj3SmdFZ7qBhIVAJKNFpRhOXlBq5dX4JQHexbmEcYuqAFht3wTcxMXRoCQBBIaAaSJEEnitFoddDuxFA2FHVqwWab4zMxpt+cWrhtdF5cOQw7D4bjLL92C57FLanDE1xsJJzypMEXV2yklUQCIrBh1mHMvuZm5nHw4AE8/NDDeMc73oG77roLM7OzuHDhPH70Hz/Cq6++ip/+9GeIko5tA0FAoBbU0/a4fFgmgEiS1uebja3bNkFI4gT1eh2/86nfwYkTJ/CFL3wBzz33LOZm5xDF0fqFjBmjPIOTu4oq7BTkxGVlGvoRFlnFyFSoMCQ2iyjY3RK4UV+b1lzJaWEck6i1MctiADkflvJM2BtB5kxvo2ERmfakNWYMie/oX/CuMP+ynxbU16X0NrkiImgixFGEtUYD09PTCIJe5ifOx0OkplbNZhvNRgvcaWFWKKw124giBakVVlcbCCRhbn4WQVDISwOkvjRCEpJEodlsod2JECcaJGyeIKclKjwWZUaHgGHANsrJpC9D1rcNddU76MbOR6+1UoZUrFDIwdOJO8bnJZzCscPHcOrUKbzrXe/C3ffcgySO8dZbb+E73/kOzr50FlcuX8HK2goEBISUmK5Nl/pECY+J8ZetlHLgdUeCjPZGRfiNJ38Djz76KJ566in88Ic/RBiEJgmvHi1ZZ4UKOwW+oKLLsnyDqBiZChXGjFEYnYGcaTeZiNkcBs3futxn/a2LC+LZMqOzIjPg0C/az6hMTmZaSDmia9gRG4ZRzYh1Y3KiNaPZ7IBIYH5+NhdowGmKlNJIlLIMn4ZKFFabbXQ6EQKlUK8RtBYABQBiJImGVoy1RhNzc9MIpN++7O8oitBstdBstKAZUJoRBrVs3aaXF7VMmXnZuDxjii9BV6o/t2R/74bIT84HYzcxMS46oHG4L38uemm9pWXQmdn4aSUJwjDE4cXDeOCBB/Dggw/infe9E7WwhjfffBNf++pX8fMXX8StmzcRW1OzWlDH3Ow82u02mDWiSIEEpQKA7saMvnpN4lyNPXv24uTJk/jHL/8jvv7PX4cUJvBAmT/NVmD3rKYKOxZjWoQVI1NhLNjMpG07BZtpvrGZREwux85Y67GMC2nkGZmB7sqstKjwgf9t2YkBw8CWEbaZUZV3HQBhDzJspDHWADSIRXqf3+KUjodt6IBg1hnTkj+TI/LImo51ohhTiUatFkIpZUIhS4E4jtFomghiPnGkmBGEAaQkyJAQhBIkCTrRICGhWWNtbQ1x0sbCwh5M1Wu2GxLtTgfNVgtxHKMTdeAYFOOrY3VLJDyzMso+5P+9MRPQrmeL2YSB085nyv3WAG8sR1Q+WlfGRPQKw7wZ6OnHNXKdw5DhG+uXexe4sRJCpER7rhbtR6Aza9jvt4pjMDOkDFLGPAhCtDstSEhoaEzXp3Hvux7Ae9/7Pjz0K7+CPXv24M0338SPfvQfeO65Z/HmhTcRJ4m5VwYIpEQYzBgzsTi2DJUs90FENt5lo5f2Zh2JhlYaUki022385V/8JeIkhhTlGlXyoi/2w0YY9F6S8UHuK95focKgGFQLM+hz5aNiZCpUsBgmtGqFQZD3kBhGI1MsJccKkfmdj4DVa8cbn8EGgUFsfVJsdcMqeIz5oMj97nmt8zFhpASfIEKsNFrtDmRYA5NEAoW41UGz0UCn08kxPqzZ8x+y4yVFygRqGOaICSZK2tItzM/PG/MvIdCJEjRbbZPQUmtI6VJa2shtJDJmMm1zURuT+QaNC74Jn6+VITjfodHgm3dup1/JsKGP+8MfoYFbMHQtjoERJCCkDXWuGUr7Eb/6QPk/CC6xLbQ5obWG6rRQC6dw7OhRnDp1Cg+ePo277roLURThpZdfxosvvoizZ8/ixs3rYDACESAMQhAFWRlDakAGIroGgFYaHdXJxmabtYVuLx3mhsr8rcJGMYz56KCoGJkKtzWcat8l+Nv2l8smaF58SfJWmK5ldeUUJRa9t7FBpITstCScZ5McqeZLUctQNC0rSom4eNLWkxcTdf85KFzSy0E1VGmbPBOuOI6w2lAwYY0ZSaLQbrcA1tbPxY0Bg6FBVtzsSkiZQRsIACCQkJBSIopjLC2v2CsNQ6Ks+Y+Qgbk7ZSA5x8TAlc8aWmtopUGkvPnYnGfLX9vjNiUb9NkZZ11Km/Fzcwhszr7QG/7CLq83p0mxpl5hEFpfkMTmWBFYWFiAEBIzM9OYnZ3D/PwcFhYW0pDiWdLcjHlMVIJr165haWkJV9++ihs3bwBgLC4ewjvf+U68973vw333vROsNC6cP4+/+7u/w0svv4y3r1yxK14jEEGahNKfu1HWR/GOUTUSRAQhhZ1jBeHM2LbplUNAJgnq1wZ7vmJiKowD/USOoz4KFSNToYKH7WZkHPzEfLcTeo1+UbfT5TNDIj1WPoeZxmDYutM6SurNt8HTC/jZ2535E1yWd2Hs8eESRZqIZ8V+qaIpjvtDCCjNWF1bA5BlspclmgQhBDQyBt2Z57nymAjgLM8GhEScqJRZcWGjMy1SFomsSt+3czD8rlY0QMpWphAEpRSCIEAoJZIkgVIKcdJBGNRx7NgxLCws4MTxE7jv/vuwf99+zM7NYt/efZiamkJYq0FKAaU0tKdtISLUajXUwhqarSaWl5dx4cIFnDlzBlJKvPvdp3DgwH4sLS3hmWeewU9/8hOcf+M8VhvGab8W1kxZzNBaQWldGq58S9Bjo3BMVRiGqflnOrqT8eqpUGHHoWJkKtzWcPbvjhicFMZhXO2YBMZsbG1ItQzdMlLtSaxJZIkenYZgPX1PmW7EM+4pqXNwOKbFFcFWC2J89SnVWnXV4B1PmSjOWLE0FCyZIOQuOWQxQ7hjkaxLSYmajAAIKKWgGRBClrUmdz2l93XD146ILVx/4/Zd2W7TMqXV+hcOUlZObzlIn3yvse7nhkEIggBCCLRaTQCEI0eP4t6TJ3H69Gk8cP8DOHT4EObn5hEnMa5cvoLLVy7j3OvnsLS8hKWlJbSaLSQqTp9bpbT1gTEkyb333otHHnkE73//B/Dwww8DABqNBp566in8f9/+Nm4t3YQLlTxdm0aiVMrAGIf9Hk772wy3puI4BgAEQTARe3SFCjsZFSNTIcV2bPtbsYW7qD+pw6mGJRK4KzeDUgpaqxxTo5UeOCFmha0FeY71jvzSqqjNoixwAOfDM/c1LcMgxl/rtM/WJUkihoQMMnMX155RnzxnluNb/BeZmCLKGTbrx2JdabQtsX+rNvd54DSZ5wDX9ojolRtnW17xutvhuaaUDR60r1lkvpzRoH12BExgienpaTxw/7vwvve+Dw899CtYPHwISmm8/fYVfP/7P8D582/g3LlzuHnrFtrtNpqNhkkkmTJoBH/1hkEddx65E+95z3twz933oN1q49ln/wNLt5Zw7NgxHD12DI888giWl5bx7z/8AQCzNzMzAimtVkeMPfz6SOizaTAz9u3dh3q9jhs3b4B2UDQ6KnwPip3Twwo7ERUjUyGHrXwFbOXmxqwgZGizPatUre8IGWGJnjiOrUQapcnOOCf5H+9o7eTwqsa0a2sJCBNxSIBYYKpWT48libK+TwmMRkZB6SSz9mJD8PgmVmmZ3t8bnY1JlAiXgwEbqpjg0o2Wm/AZbE6/BhUc+BJslyuneJw1g0VeSAFttWNEXXUMwzjtLFDK7LuUrevfkbEyqT6GGZIEtGYkKsYdd9yBxz78GB577DEcPHgQV69exQ9/8O948eyLePmll7GysoKo04ZjVkgGkML4xIT1zJeGmTA3O4/77r8Pv/Zrv4ZTp06BiHD50mV84xvfwC/OnMHbb1/BnXfciQ99+EN47LHH8Id/+Ic4evQovv61r2FtdTVtH4DUX2db4AcB6XUJEaIkxv79+7Bnfg+uX7vWde3OfQtUqLA9qBiZCrcJjDQ2SiL4UkAhBJTWRorHMLbeUQfMyvgKQEAIAWH9CKSXiHCcJgGbGl55Ex2Wy6Sfm1mf838mCBtMwBBYczPzEEIiCAOvTSbCWKO5hpvXr5p8ls5XxoQCK/Xd91usvTrL0I9oyhPc6dGST7FWd8Q35+kP5wFUlpOCbSJPSq8qnvdC5prWpsxMef/Wn9NR1oBWOnOGTlRqZuQYDwCpY06xbGWDC2itU4fu9BptTO5YMzjJ2hIGIWQgTR8lStu6Vc7+xXrGUZefqNUtwEEixxUjwgFALawhUQnAGo8//lF84j99AsePn8Cbb76J/+ev/wY/f/HnePOtN5EoYzIlZAAR1lK/lySOIYigdIJOp4VA1nDy5Ek8/PDDeM973oOjR45irbGG559/Hs8++xwuXDiPlZVlCCEhhcS5N87hrUtv4bnnnsVv//Yn8enPfBoHDuzH//zC/8SNG9cxNTWFOE76Po9bxd70030RTOjyixfeTDVcOQZ8Kxo4Iia5bRVub1SMTIVdDUegEQnEiTGHSOLESgMVkjiBtOEwlTLhZR/94Aex/8BBXLhwHtevX0cURQjCIEck+s74lY3z1oKIjPQ89TlhLC8tG1MrQQikJU7BqNUCaK0QhDXoJMqHGy1QG719ZDYOnTr7T2KI7yJTRd7RXiQZe1eOByRsiGkpQJoghDDPXtD/NVXU0BT/ZjCCIEAUtRHIGmZmZ1KTpEZzDQAjkDWEtXDLnuWi4MJnvkaBZp2aGjr4ni6pp1Qxal9JfZqyFSDIEN4MhfmFeTz5m7+JT/zv/wlRFOOprzyF7/zbd3Br6RaixOR8EUJmdZIJDKC1QtzpAEQ4tLiId977Tnzg1z6AkydPYnZmFufeOIcv/b9fwksvvYy3Ll40bSdC4DToWqFer4OIcPbsGVy5chXNZgsfefxxAMBf/dUXsLq2CpJZdD4/N1bW2fy4bCacNrNrT7HBPjYjwt6mgUv/HBi+OdoO6XGFHYaKkamwq+Fe7omOsLh4GO9/3/tx1/G70og5+/ftR6vZwtz8PLSKsH//fjzxxMdw+vRp/PVf/zXevvI2tE6QxAJKK4RhiCiKUK9npkwOk8rQFKW8my1ZLqtzbOVrbV3vOSWWmDWUitJcMx1t/mLNALH1G0m5HjDZexk5xqbMrMzkq7Gk2Ri6wsq2K0dz9ih4lPr63ZNSmGUXlfmYiHVc/nufHUXDIIRIhQVPfOwJXL9+A88//yxYy3WTtaYBBtKwxfl1LoRAIGuY37MHn/vd38V999+HS5cu49zrr+PK21dw4cIFXL9+vW8fRkVX8AU288+qwMzYtjsfvTIUGRE3LpJkSrT7UfKMYRcD1qSuyHkSegtiCICUAkkUYXFxEZ/57GfxxJNP4uVXXsEXv/RF/OxnP4eOI1CtZhh0ZoAkhBAgIYy5olaYnZrGvSfvxelTp/Dud70bdx07hhs3b+D73/s+fvLTn+DSpUtYWVkCkUQgM5LECSwCEaSmgPX6NG7duoEvfOGvEMcRPvKRj2B1rYG/+du/QRxF6Rpyz/UkGguSNeMU9nvHgEbcAnky56HC7kHFyFTY1ZCBRBRFOH78BH77t38HD54+jb379kJrbbKVdzqIkxham6g3UBqtVhN79uzBp37nU3jsscfQbDQR1mpot1uYnZ3F6uoqvvOd7+D8+fNphubdaV+/PjSPM83h+vB9mnRKSmtYcs1KhW2LhInGldOCUDnDkp4uMDf2Fs9XwBLKzp/E08z1gvHX8COn2WM2cyNzZkS2HWRNbjy8/rgulRO6ZYZ46yNlCuyU+M+Nr/G8cuUKVldXEQY1I8VeZ5UJp6XrU68MJJrNBp555hlcv34dx08cxyOPPIKwFuLtt9/Gl774JVy8eBFBOL7XolYaUdQBYDRMTrskpcy0Buv4dDBb/x2dMS6pSV2SMT3GbE4DIDtuGoIASsebPRNH51ekzfouzrGd/0Rp3HnkCD7/e7+H973//Xjh2R/hb774tzj/xhuohyE0SSRJnJYnwcaMTAa44847cN/99+Ohhx7CvffeCwB46exZfPfpp3HmzBlcu3YNSitIITE1NZP2FWXtAVIBwOzMHOI4xpe//GVMT0/jYx97Aq+++kv82799G/PzCyYprKetdQ/wpvnOjPjwTgwTM2gzhmVI3LgP36IKFYZ6ripGpsJtgempGRw7dgwzszNoNpoAgJnZGUxNTSGJE3Q6HQDmfX/w4EFIGeDQocPodDomJ0Gi0Gg2oJXGyuoKXnrpJZw/f/62ZWAcUnKWdc6nYzMQhGGBGPGJ6WzXM4xLj0hNvnlJkWHh7HuojNfrgAR5jFDevGwStHh+2wAbMCGKADDC+lTJHaMxMQO1RRvTsjO/OAOljZ9Mso7vQz9mMqchtGW/+AuT/X1h7wKICHefuBsHDh7oCne8UcKXNWN2bhaLi4uQQmJ5ZQVXrlyG4+ICWUuZYccgl2mdVKKMQCYxc2JL964QCGSAqakpTM9Mo9Foot1uIRAEsEJoPMqQKIVaPYR7RoxZbHcfBQmAgUYU4+7jR/D5z/8eTj/4IH70w+/hn77yT7h+5Qr2ztQNEyUIHEgwCJHWqM9M4fg9J3H/Aw/gXQ+8G0eO3InG2hqe+fd/x5lfnMH5C+dx88ZNJCoGkUC9Xu/SFpeNu7/PxkmMWljDjes38K1vfQunT5/Ck08+iRdeeAFLS0uo1+ueSXFBg1X4TueqxxyuC8qbkdGGCtsGeO1fFzupXxV2NoZ8ripGpsKuhkoUiAgvv3IW/+2//V84duwYtNaYnZ3Fx3/z4zh67Bhq1jY+kAFWVlbw5ae+jGvXriGshWg0GlhbW0Oz0UwlaEkS49rVa2kuhTIH60lB0SxmLIRznyKKmbTH5rjMjNnpGUzVp7DWQoF3ET41PkShxTpK7Lg9unFURs03JTPmPZn3AtE4mRl/UIrHzTe79pTAEX1JnODOo0exZ88e/PKXv0QQDO87kl0/+H0ucpgzI5KQ0EqnWs9+da1nAub6zGySERIRlm4tQWmF69evg1kh02Tw2Nbx1NQU7r33Xtx5552QMkCjsYZ2q40rb1/Bj3/8456Euw8iQhRFWFhYwKlTp7Fv317U6/XUvHV2dg61WoipqWlIKfCdp5/Gj5//MYQU6HRiHFk8hE88/hEwK1AgkVm6+YlOs5mSQgDM0GCcfOe9uP9d9+PmjZvoLC3jgw8/jPnZOXTabaMFA8AaCOtT4DDAwuFDuO/dp1CbmsbK8goaa2t47kc/wj/901cQxwkYhDAMcz6Hw5rnsmajRWeNV15+Bf/2b9/Bb/3Wb+F9730fnn76aQQygErGk4OnQoUKk4+Kkamwo6H7OE8LEp5kTuLixYu4ePGCPUs4e/YsPvrRj+Kzn/ksEpVABsYP5kf/8SOcO/caDPWp0+sN4WkcyV1Omp0cMnlglNhGU8FlxIWsjpMEjPGbTRAR2p02Op0se7fRAokuLUdX43v89E26zAH3xWCQJWY1QEgTprq2dCl6POKXKO/PkRHB3NXW9JyrK9fW8WYldwEQfNMkACZLpu8rRFk4ctYa4MzvxLfrLzJho2owcmPlGI4Bza58uFDMLmpdWSAOx1S6oAIuCqETeAgp0nLS8N4Fs7W0jHWefRKEG9dv4Hvf/R6mpqawsHcBx48fx+LiIg4cOJBrdz/IQNrgJIxOp4NOuwPYvYcEodFoQCmFtbU1rK2u4tKlS5C2HwxgT1jDw++8Dwsz02DW0CqxSyvTWAohQDB7ZkIAhxLzB/cjnK6j3WxgrhbiQ+/9Vah2BzqKEQgBxYygXkMQhpiZ34NwegbNKMLa2hpWr7yNVrsDIQMc3ruAPXOzWF5Zg2ajvdW2/UzdYzjIvuoYXCEFnn76aTz00EN44mMfw5mzZ3DlypUsZ1ix7L6ljuaEdR8AACAASURBVADv0dmRuvnK9KvCJGLI56piZCpsGJNKyvtMTurLYokVrTSuXLmE8+cvGClwrKGUBoEwNTWFQNYgpCet9CS6DjsnT0iemB763sJdRR8TEoROHAEARCBNKNxNMJmKoghR1En9cky7lGGcSgiibv1K/hrddSS7ipExOkor+J5AhkAsJ8Cy75LoUI4h0gxFDE0aGqbsckaMS/4qB7t/S4m3jMmC01ykDEOW/JK1BogRBAJvv30Z6i1j0qR1ZtrFPuHTo1F5LUZ/Kfs4BAFFRgMYzGfNhXQu5qLpFdlrWK0Ma1NWq91Co9nAjZvX8Prrr4JIpvuRCzftl1+mXQpkgLW1NTz//HPorXlzIIQyBMkQBCCJY7SWl7GfBKRW0EkMJqefy5gZCSP4SQLC1KEDCAVhbWkJ165dw/zUDPbP70GzHWNlrQEtCKJeQ21uBlMz01BRG62VFURrTVAnxgIDoUpAMzOo6wSq00GSdEAiMOZstvmpNtv+HsZUl5kRBiEuXbqEp59+Gp//Pz6PD7z/A/jqV79qzDldMAX3ReUKW59gGmR2e+2F/a6bJAza/p73DTpQFSoMgY08VxUjU2EsmPR9zTE1AsIzOxCYnppKiQY/IZ/SqgqtXEA3eZ4RYvV6HXfddRf27duPOIkR1mrWCXh8DB8JmSuLWUNbmy3j+l9ch0UfGU6PbmRWR1kTrt3FhH0uFOtWoqw+4kyD4SzfwjDIGA2nhRnBJyz1/5iQZ2kYJ/txQAqJMAwBZMzTUAyRvVYKiSAIcnl1fGGLIAJ0dy4hSUCdgCmtUE8UoDN/NrsqYZ4gBR0GmD+4F3LfHkSNJqJrNxCuNaFaEdqJggAwXQuxsHcPajMz0AREraZlYlqos8A0AyEE6qwRJxHqWiEgE3gANl+Xi9xVHIZhGdsojqC1wrPPPocnn3wS7//A+/GDH34ft24upQKr3J5RNuUjaiV2IhPjY5Q+74R+VdjZGOW5Gq/tQoUKEwZBoiu/QgaTXRrYWdqV7UK/EYrjGHGak2dz8qUUyzRyaUpJsow08xkY9j7uiJW+b8OU6wJBP1F5ZShjVJgZSZJsc4N2PhwDpxITMERpBRKUY0DWg68tKpoFpklAlYZKFBJloi8WDOqgSUGTQkIJlP1bkzaaTAKYCC0JqIUZBHvnECcxVq5eQ7DSxF5ITDPQaTZBgcTBY3didv9eRHGE1Zu30Lp2E3K1hWkGAmG0o8qVDbZCBg1itpooj5HPdXS4sXUMXa1Wx80bN/Dss8/i8KHDuPvEPUhUBCklNBt/K7euib0Psu9RwH0+OwH92l/sy07pU4Wdj1Geq0ojU2FXoyxRXBHjyBUxycibq2xC2ZpBknDhwjkEgUQgw1QqPLYxZfOPsY7j9MNk+1W61fUyN+txmktOuPaPpRu2jUOa+JVpwoY53319ef1GGp4dFwVtUdH3Z71wx+6jte72yxkTysyxxlWP7/C/XrnDmpz1OLNuXczclX/GmfulhmK+mRwAIgZzAkYC5hjOMJKYIURgmFZiBHvnEC7uRUPFWLp2HbLVwbQIAAFMzc8hmJsB2wSzN67eQrzWBFptzJJEyIACoFhBMiBJQLIGtIbQCoI1RCp28LVBruejQwiBdtTEmTNn8OSTv4mT957Es8/9R7rvO1+iCtuHrfIjGmUdTfLK2J0UyejotS9WjEyFXY0iE6NZ5xxBBwnrWqE38kSZgJQBNOuUeEWwueNY6hqTnd20encaHFHb5fzex3fKCQHGqa0c91roF/Fq1LryPiu9wyKPikEilY0LJmypSb4IZmjrt8PGCg1MhIg1xPQUpvbuQQRG4+YSuNGGFgS5bwGze+ZBktCJIjRvLUG1O+BOC3XNqINAyvipQQgQCAIEwYCEYZoFAJFmAiqutY2PgxlPiXPnzuHy5Us4ffo0jh49hqtvXzXrt2JiKlTY1agYmQq3JTR35/LYnVqZYsSszeyfhkmwR2Dr8D/W+qw2JqeU8U6NpXzkSS07cqXO/RuowqulXw94yI710PSk61unf5OgvsQ0EUFSeeSngVrirbnNBed82cZZn9a6pNyNlZ9qCcqCMvDGy+8qM/3XRfnTYCajGyFCO0mQ1OuY2bcHmJ7C6vIS2qsNzIsAC4uLCPaYUMuNpVWodhuIIlCngykw6poR2noU2Q4wgViYaG/MIM0QDJCz4yS3Rmksz66b+zAMsbqyildeeQUf+tCHcPjwHXjrrbdQq9U2UHqFcWDS36iT3D7fQLpCb1SMTIUKI6AXwXR7+9rczn2fHHRpJojTxItAtkY1GyIzdfDfkbBy/hLTNfaYtkE1Ks5Mstc5tuMFPTka2/XMdti/ggXcZDNJKAGEc7MIpuvorDWgllcRxAm0ME78jaiFtVu3gHaEmpQIiRBKAdIKWgAxOEskC1i9i8lBw+lvo5Ph9LsHgbaB4XQR4q5cvgIiwp133gFhE+ZUQVu2CVz656ahTOM8KCZxdWzU9HIUWmQrn5NxWsNUjEyFChUq7BL0egG4+G6b/aLaboKRxpB7J+2D81fRvCnhxMeFfoZaWdgL95eJUMYMRAB4ehrhnj2IidBqNBC2YwQkAaWwevMGOqxQJ4G6lAiYETBDpmGMraaSMgd6QRogo+0x1wgQOwbGtCENtmHv7erECBBSII5jXL9xHVpr7NmzB0EQ5HL+VCZm2wTaIkZhxEp66LEr7CBUjEyFXY1+CTN9bIZpyiTAo8m2vN6s7nFU7rmopz4dZZ9xwBclctehDZeeC7qwjmnZULRXL1M0u7Y1e+M3frh5NoEeeMzz3x+aGVqVh3nulfdnPTjtS35v2Lyx8/PujGPMcsHHNUAswGAoBlgQIgKm5qYhwxCN1VVEyyuYToyzPgCElmGZkhKBBog1AA2n3CLn95Jbdu45Zc+1Pwt4zoDheJyp2RiGkzVDhhJaa1y6dAmdThv79+23IZ51po2coACBOxrDztmw29iwoKyOUZeTHyxjkjCJbZpEVIxMhQpjhHPkHYYQub3N0SpsNYrrjag3CTDo2swifPVKM7o56KeB8aOO7WYMEhHKmX0RE4QQUFIANYlg7zxilSBaWcWUUpi2c6iIEGpAEkEkiXXW5+46LKXFyLQyTAwmDS6ZGwZDI00nk7VvDFMkhEC73Ua71cHefQsIgwBRFEEGcuOFj4Ddsu58UYv7e5LeWC5q3257j/bTtA50/4Svv9J8Zt57xORY04Xz5ft9xchUuK1RFl51oxvAsPdvdhSjzQhN26e2zavPevez/0lrHUf52VdaLrvf4x43Z5ZjQhyvV/rg58uu3EqXUYZWRc3C5tXrXnR9QxZvMOJYfm/YUFED1zXIs+NLa8tMynw9pYYZK8kMpRUSEKbnZxHWArSv34RoNlEHQEqnpmJMGYOhyfhTdbeBCg+h1cEwA6y9j20JmdYwRM6LZqNg5jSQQhRHqNXqICG69vXdRuxW8Ha3ER/OSdXG3I7IhGHZ3j4IKkamwo6Fe3ENaj7WC7s7allmErMV5nPaOV3bKEbjIh4yoqzY9s0llNM6NlyNzyVxSvQxK/Q2isjMcQbLI8OllHYac83j/JxzPKW+DJsBP3fRZlTS/dz6jNNGnbyL5fYrqx/7OHx9Gx+rHG9BwlpVEQQRWioBwinM753HWquFzsoaZpRGCIZgDW0jmgnrmO/K6d0qMhHKnDEZGSaIYdeXf2U6hhq5ERqFmvQK9ueGiKASNZxWfIhqb1eMK+/PZmIkzQUmsz9blXtn0lCmiVkPW87IjLhPVdgCTKLaeLuQ2vsPkFBznPUNg40yCJvF0BQZy93FHA4y5pyJtNe5ngpJJ7cUm+wrs/mgLlODVJqnTbLUnYCNSJLTMlDwiUHm2m/4VwENgYQAroWY2TsPAUKy2oDudCCEBGsFtmaGxLDaExsqgPN15n9zV929WmyyzPTo7xhfPJVj/+ZgI34oFYbH7biKh2VigCEZmY0M6lhNQCpsGnYSM7NRTcwk1bcVzFLG+AyngSqVWBUO+FofQQJCCGiXS0Zn5zRrCBT6aoeVC3bzqTaHugnW7YNVfTMDep1ke75Tcx+Yeem+TrMecN80zuxGKj480nXh/K+HCFWcYgumx401EaWftHovm732tSh6fFrBvm0b4R7NGqQ3ThoW73ariRhpMkrWBC0kOtAIFuYh98yh1WqD10xiS3LPry1DgME605qQyNgPwXljRXL+M24O7JXCamNIkHWKsXPh2umt+3EmHC2DE0j5+12qOMbkvO9GIeK2Eht9Tw3Tv2H3/FHnsK+2e5vno6KX8+g1H0NrZEZV3aV/D1HADhGo7UrcbkOfmpB4PXeMy1YwTKPU0cUQlKAYDclEdjLnBibueLjnXrOGECIzKRoXlZD6yHh+BGkTx2AgkFp/eeVyFoUpu8h+qGAek8JjTEgXmuVK2p4nzFi2lZnnjbme1KQs//e4yi6vzzEw5tio0crKyy0z2etv/sEl15UjY8LM93Baml6aGfd4SyERhiEiZiCUqM3NImJGc3kJQbsNUhrKMhgiLcdGHLMvYf9drAu/uaCRMU7+lPlJKZ22zW+x5szUbKN0Re647zzXB2Xj5o7fbu+/QbGVgs6tZC4nhZGtMBq21LSsKHEdBNUC23pUm3iG3eIgyqzBerR+DGUOmhJjky1ZHA0+E1NGnk6SbLcbLjoZZ5T+trZnt6CfWdWAuq2xtKPAL2eMpGbESqMjCPW5GYSzc1hZW0Z7ZQ0LiUJIZPxawIa5cGXkJIkF8r4QdqyXFWUvvzz2ZACDmaWVw6cpcjWUtaVPOb5mZqOz4fa+ydEijx8jz9cm1rGRedvY81thu7G1PjKT/Z7fdZh034RJYRByUYL6DNlmjuc4x0KzhqQs5Gheg5HTj46tTr+sfD6M8mv6lpTeZJ21bSQTZ5rmmwyl+pKUcdp4n5zWgskpgTRYi3y/NEM42x3X2oHn0HeA77vghmt1T0dxG9HJSt1986tcm3R2/yBrvXd/szLKyik1Lxy5riKxzF3Hh6nPr8c3l+ynJempGRioxsI9/l40Qkn5UTJPRwIg0oyEGPvm5kAqAa02UWfjseK0wcLao7k9whdFCH9cgdSpP+V17PiQIPusGo2s7+zPmgEXDKSrpeVMRL91OEpm8DIByyBO7OsxJb5vFrB7fXTSfm5BXVtlOk4ktqQ/FTYPW8rIDPto786toMJmo+wlthFGYVIZwmGSfabE64T2pQxVNu4KG8WkPrtbBQagCOAwgJybRSwJaLYgO5FJcgmPGRnCYmJQmWRu7+k6npUlRt2fPQ1SzjSs4HPTT+tTDGDQVcUQTRPSCJC0UoDQu1ors1vgcpZU2LnY+qhlu+y9Mslk1i4b6nVxuxMtA2GTtWCpRLJ6MaTIOUoTgYQJg7vVxnf9El/uJIzD9+V2gBPeaACiXsPe/fsBVug0l0CdCIHnY9bL06v3kckY/xwTwtpofDSjFgY2iac5N6j5Wuk163BtvpYnVhEAIJQ1q5nKzlV74mSimpedjyr8sqtrRCJ4MrbzbkyK2VY/jCvk8Eb8WIbJFbGZ2MzwyzkTGc0ps+Gq3KgK30QDytentcq+06hl9hx0ep9v9rOOoRWcNVZmtsbpXeOcN/Y+4MLvUcpLQwEbyTQrhiYNJkCzso7VG7bMB3qW0t+kcNxr3p+fcT1TzAxoyxTmytYAGMpGyNM6W3vjSLXoByzYXHBhTY+vTkUABxIyCBA12kiaLUwrhYAApCGs+61w9tQSGTNcerV7XvzndCy96AYV/mbNmJmexvT0FC699RYSFUMKsWlaaN8XRiuFIAhw8h0nEccxLl68mJosFRP8VYTzZGHYLPIVJg9bzshMKuE/Kia1P36Yy92E3rbPkzoTkwvnc7JRaNaQsCYVOX8F3ZeQ3erw2cPBDzA7Jmjn5+MRrRP4rpzkZ6ksTG/G0Ex227cDDICEQK0+BUo0kpU1oBNBkgmjXDSbMsoHyv1mZMu0LLwFepzbbLi9xg/7fOjwYYRBiDcunEer1YKAgPbMQHr6wMCORckFTP37JoVArCIcXDiA//JnfwZmxpf/8ct44YWfoNlspuZmFSYXZb5TuzNgze7EBL5Gdw4Y8GJdTt6neqUPDl+6vxuQ2qZrI7EukyyPV2nnEQupBqhYz3Bj2+Uf40us7ZfuCigwLhiRMnt/r3vHehoIIWz+E1dD/zLzku0BPtlduU8m5O/nRD5urYwrb/xazuK6YLsRj9c3zmixxq1Z6lkbZ2PWL7DAUGXChkqWErJWM2VGCaQGhGaTAFNngTM0MzRcQA0NzTp9vrIg5Ov8p3VqUqXs/f6zsxkjKKypIYFw9OhR1Go1LN9aAoEgAyOrTbUjJZ/cmFH3Zz0obbTKjUYTP37+x9i7sIA/+Pzv4zOf/jQO3XEYSiVdWpkKFSqMD1uukdkNyIVqZO/ApGDS2lNhIrDTNHS9nP0N4aUHdjgeFaWP0UaeK63TqGHltXVX5O81vbDZ4zBpKNPKlPlAsM6YD5cQ8XaAiwqW92hhgAiaACnIJuIUOWY6JewLC5/cyRGYQmdaJrzoZUWMY+1qzRBS4o7Dh6FZ4+q1q9DQEERItAKR2LRnRCsFAqHVbuIfnvp7XL36Nj70oQ/hN37jN3Dg4EF8/Z+/jldffRVaKcgggLbtqVChwnhQMTIjgP3vYsiUSUHFzNy28P1Qcscx+UsiMzczKsXMv8ZKjguEl4Ylx8bqI0PpWGmn/LH+F4Cn7YIGeSJbP1M5bHsNI2aPiXyYz/wj2sNksu/Z/HWjMjupaY5nqjNpJlpFOrrYvF5r24XrJqKBTBlF6iI+OIreI8XvgW4e4LpBpsSf52wNs/UByHR2msoC7ziti78eLFPkrYle/Ix/WDPDDXfOUM0+F9oyW642308u16I+c+YzAypJsH//fhw9ehTn3ziP69euIxABlM7u3+wVTSBEnQg//OG/49XXXsP/9olP4AMf+ABO3H03/vVf/wXfffq7aLZaEEJCa9W3PxUqVBgc1ZOzDnqpoyfrNV9hI8hMRwD3ct0N8PtVZhqzGcSqSE2nMsJnmGp8qXnRLMhaR6VmVKTJEGMa/R/UAT9mnMiaYmW2JXmzrXI4gtERztrTGvihZ9kWRq7QfnZirsPDdcC733ynZj++WV7PXoyK/K6Yf6bGVUdJrezX60wpM4ymheH0K8tV1B9FedZorFCv53Sowsw96T+GYRH2N9sCNbofm/TGdB90awdQPe4pfrQzUXN5npTVnKZ+LP1HoGghPRAIUFA4dPgQFg8dwltvvYXrN68bhkGtr/3Y6DtdkGF9BRGEDBCrGG9evIi//Ku/wv/6+/8FAPjsZz6L3/+DP8DRo0ehkgRCSKMlqpiXChU2jC3TyIxuqbx9SOvuJ1qbYJq318tgkpo8zLrYinb7tv27DcX1QDS47HnQ0cg7+w8JI6R18mArSc+0GHliwxIPY54m9mTaBEMEmiTm7F8Ecv8xldrRGxMyDVa+wxpDULFc/45CS1JGZD1ti010mRshLpwFfKYWBUk3jzBvOX+r0vabxIiAWxdcrHZgEGA0XJTNTfE7b0plxrfI2AyLfHS04rnMvLGMYSobSV8r5LSMbq7TJK+OmfH9jHT3nJXVZ9ZBfozA2uQ18VgTsuWlDDqz4dtzbaf0etN2NmHDOWNz/FHX6J6XjI3Om5aVG1IOh8zvhCAgcPeJu1Gr1/DyK694jHu+zl7vw3WfsXUijhHs3CoNVuZI0mriG9/4Jt544zw+9alP4fHHHsPdJ07gX7/9r/jBD36AqBNZHx5hy6aRmNYKFW53bAkjs9VMzLgkzSP6KE8M+km1tqNLvukKMKTUzZWxwTYIa2IhSBjpoicBZWYoraw0new1W+OcubmOxBmBq1WCODK5DozdVH5OHPwXdkYg9Zuv7IyUAZQlnIbtF6VNdaSUI6TMR4MBYhAziHV6HQ8xT71b5J8RqW8AUZGIFCDY8L6lolxzkLwVns6BzgzXmLUxs+my1XH3G6z3jFCXpMUnR92zZsqj1DzPEqmsUtMrf6oGMsPqQdQxGFplBDoAhKEEwEis4/Mwz1U58ZmR2ipWYK0sYwmMjxp0+0J+n3Ahw924ZVf2br9Oie4C62rXcNpututDe1EnebB9Mm/apaFZQcD4cMRJZNogAGINaSPoJY5JJwDsVomno0jt1Mzf2jKT1FWjt59zdg+TYZC0Y5Kou62MwdZbWT/Jhn4PwxAn7j6BG9dv4PLly5CQYNZdPnZZd8pFCGVLxy8jlxeG7fsEGiAj2HDRQhlAEIQAAWfPnkn9Zj760Y/i85//PO65+x58+9vfxhvn34AflKBChQrDo3p6djvK3rCjcpYbRCDNclO+ffAwNMeWtns8oYm3F90SSQAIbDjQOI4zgrIwD4QsEtAgU+TGSkoBrXpL+/NR0yjnzyNsLH9mDZESPAwj4tSWWckYHPPRHsm/DjxOrKxP7P2bEv7MMLJmmZmFWVUKgYymoax6stoaS9wY1VEmeYdg9M8O3E8NXN7yPHR6jiAAViDoHPGMEtOvYda8fy3p8hCzrBlKKURRDAAIwwBJogYy+XLT5T7FtgkSmUO/ZQQyYlqDtfW7KPj+rBfJjDVA60TM9RkTw3d3+zzkyuzFXKUh7LxVrG2me58hsEzvQCDTJq2sCEBrqCQxAhwhjBBAaztQBFCmX4E9lBdfeGs85e4L88fZV55Jsf8RW382D9pohHxN0EDd85shgSSJceTOI7jvvvtx7tw5XLt2zdSpTX995iPNoTVMjYVHggTltYNeDpJ0jcH47UAQhJC4eu0qvva1r+GVV36Jj3/8N/H4Rz6Cu++5G9/452/gZz/7GZqtFpRKABhBUBXdrEKFwVExMhU2Fb4jcWKzHtN6VMI2IW9vT5BCbqqmxMcomp9exKCJ1iPAxOmLldmFKjZEiYBAGIZIYvPyJEHpC7nMfGK9UZCBRKeTIIoixElsCAhL3DoneCIBIUS+3eRpg8gwTqSFOc7mHmUlq4LyJFL+72zeeqKHNLgcnEqQDVEhIAMBCOP4TNKatvWsj9z/IBaACKAgLd2ab3vm8uw31NeqrIfsek61VNl9mZO3zrRbZObcEHqO0M+croeFkLb9idMQGek9BCNJEtRqIUZ1yUxntrAuGZZwtNoFKWVqjiiFGWtiswbTNbcOz0tEti+2D8qGIvZM1FxZymqz8i1ajznt3QCncyxrE5EAxKB7hFkPQhKk5a/ixBLJQQBFhJjzupdcybYLppvduljDM+Y1GsT+inXBFaxTP5kHwfjPSQiprR2aOZeao2Ld6clBqQS1QCJWEY6fOIEgkDh79gyiKDIMGwkIXyPDSJdgyoAOiKJpGcmC9im9Ln+ANUPpBIEMEUcxfv6Ln+HKlcu4dOkSHn30UfzJf/4T/ONXvoJ//vrXzb6N7sSMFSpU6I+KkamwaSAy5llKKwRS4uix4+h0Ily+fBliEzMuD4/MEdpYd+j0mHPeHgaj5K4YhWFS/aTABDAr6+zq6tDYu3cfPvOZz6DVaiOQMhfVx8EQHJn02klN+0EIgSiKMTMzhT179qDT6UAICYCQqASAybiudQLdk6AtIwQFQEaibDR5jMy2XwMsMsnyOoRiYXhKDzqSiqy5j2H8GAyNdqsNaIYmDWaF3h5GhsXJMVeaAArM3yStpkZAQ3pMDOXuGY6gMUEWjE+KZxoEgiZh6tAaTnkBrcE6QcyZiVTGBA0PzcJkUbdQ2hD/RITZ2Vl85tOfxfLKCqS0WpIewRDKe9Z7Vuv1Oo4eO4pEKSMpZ0YSx4iTyDh7W21GUVDgP6P5iFwEpYEgkCAh0n4ADBLA9PR0eh97UeyGMcVj5B3EE5WgVq9BCAIrRqKUCVds25TYtT9sEBIRAwmARCkkSYKYEwS1EDEBCTQCCPMssdUywI2zHXFtNKG9WAxfZ+PGUBBBWB8sgvFRUjpBrBLDPMWJWRfefAy/4lIDMcSx0fSdPn0KrVYLv/zlLxFbgRkAoL+ibISaKf2WJAy3N8DcGx8lQEJiaWkZX/ziF7GysoLP/e7ncGhxEdJqyV1eHwCloecrVKjQjYqRqbBpYGYoNkzMY48/jo9+9KP43ne/i6tXrxnVu076EINb10YfgZSYn5/H3r37EQRiKAaDtXmvbRUj068dMjA24tMzM6lJl2bG/Pw8fv2Dv56TxJcRkk77MSgj44jhJFGIosgyLeblPT8/j4WFfZiemkacRH3Gp8cYCCCYkZCWMcqZqHUxMRtfT+S1JdMoAvv27YeOAtRkzQwyU7l5GDtGxitThujoAPPz85bNEcgMofxrDWlomIrh+uPyhxR7ojWBiVAL6oiSJqQMcXDxEHRnDULYzpEvn89rUteD0xhIKRDHEWZmZzxHbEatFuLhX304d23W5uy6Xuui1ygYUymZrrc4TkAzhKnpKSzML6A2VU+DDJSXmrW/GGrY9CewGkqCVoyjR4/hT//0TxFFMaQUaXjtgU2+XLtt7Y6Zcc9lvVYHANRqNURRhD0Le7B3fq/3DA+nkQmlRKfVwoEDB0CCoLTGVL0G1AJEUQcMhrDt6LaQ9A/0npf0avb8fJzGD7AMM3Dg4CLETAcsAmPyVRiPYXc/wyQpdNodvOPkSdx33314882LiDoRDi8eTjVoXSHFbTj0nKXcEHARCaUUaK41EXXaAzMzzsxOQGJ+bh4njp9Aq93Ca6+9DmWjqzFUxcBUqDAkSIhg4D1kPGTC4Bh2g0vlNEMShZOiFxg3nMq/iGFtkkdBJuVVOHDgIP74j/8E+/btxf/4H3+BS5feSm3n+7oJFMt0mgUMtw6dxBDIm2MlKsKHP/w4/uzP/gxxHINIQGuFixffRKcTWYJmuBU/aibxcZuwERGUUlhYWMCRI0eQJCqVkqpEQfkv3mLdBWk1MPh6ISKEQZiTct+4cR3Ly8uQUlpn4X4lOA2IcdxWWiHSMTQlmeCwtQAAIABJREFUUKIBlg0wIs/MRgAgjykYgvAv9Ispi69EYAg2RAdUgJqYB8dTEKqGQIQm6lPvUci1gwEoJiSijrVI4K2bDTRRR0zTiKlWoqEahmgt61FeI6NMbxDoGCJaw7F54PiCQE1qQCvTWnJM2Wjr0DHGKlFY2LuAw4fvgNbG9EqpcrF4USvSC9RFZGfQYEgSEJaxEFJieWkJS8tLJgRw4Xo3rutpgQIpcejwYczOzCKKI9TCGkhQar7m2jwMw9cFR/xbdDqdNGGiVhq3lm5heWl5+D3F8qQEhiRAJAlqYBw+sA/ztQCtq1fBqysIYoZkhuwrWBjeCV+w8b+JKUCLBJanpnGrFqIDCW33Xz/a4CCCklw9VlPKzAiDAFPT09i/bx8azQZu3byFIAxKlf3sNxKj0TNamb6trTXwwx/+AM8/+xxY65SZ8XP1+N9ZG4zfzmMffgx/9Ed/hDNnz+Iv//IvsLKygiROKiamQoURsOs0MqNuA7uVmdkuZC9fwurqKv7lX/4FURThjTfOQcowlXQOY142qhStHwQJEBGCIECSJCAivOMdJ0uTBA7czu3WyBSk21obO39YR3MigoSAF3w1B/9eE59r/TFPSUZmqCRJTYiIBBYPLuLwocPpsd6cTEZIs703SRRijpAgwvmLL6EZNyFEACafkcnJ19dpaVltPgwVSMjGCSQQBhLHj9+N2fp+6ASQKRnUX9oPAIqNiQ+CaVy6toS3rv0CxApECQTVwal2xrsz1RAMuy667zMmMASpY5BuYN/CIu697xhmagLQytO+AaPshM6J3DEsrNmaEyL1XQmDENH/z96bvslR3Pm+n4jIrOpVrR0hCQkQjBH7amww44Ez4/F4PJ7xLMfj88zrc/+N+3ec+5z7POP75jLPGfvcZ7ziBRtsPF7BCBAYhATa1d1S77VkRsR9EZFbbV1VXV1dEvXlKVrdlZkRGRkZ8fv+1qiO1tq5lXpkAdMdiEwbwxckz8EJmEII6lGdmZkZDtx20NUwaXHZvEtYoR0pfPFIkd6P9tcF5+KVuDJprVN3oFbX2gyJBSNJE1wulQtV34NQsX//AW4/dHvTed03YgiVJN7Y4OKHZ1lf22D3gf2o8iTV9QqxrRMgPaloN4+7e5+KTpEKYcEISR1FeXKa++6+izgI0MIpHvKFZK3ozWlOCOHc06yzPFc3KlhrOeDHq90YJQq8AoFO7jB/iqCtlc1aiwwUqysrnP3wDEpJYmPIb2WNb21CTqSU1OM6+/bs47nnniPWMa++8gqrq6tuPoxJzBhj9IVbjsgA/dmpx9gmCOr1iLfeOgU+2tJt1ll2l67Rr6zfoZGkH7VaLbUmRFHkXQhMX3UodprINCIRHBs126qLAOhun1Hq/++CjNBxooXXqbCWft++NfJEBiRCQEyMCNyckSgv43tLTOIelz4nUxCUZYtnkQlcjb8nbidJxjJHaeIoRok6tXoVodexsTta5gKVoUjek6tZIDYGIyVGRMTxBnOzAVMGYgFaaB+FIJumt2wj2LSaX9m4ZneVEVDrUkjHGmIol2LWN1bRkUQYk4vXABqskI2Z5rpBoyXTWks9cnELQUOa2a7mRZfNW+usM9ZaVldW3L100dfcbwXik9yHECIlZgnyJMYRn94SmFhvHRU4odnkrFbWB3Yk8T4JTO496koBZCEQIKOIUrmMUopqpJnYvZfYQL1SQVt8LJNLSV8csM5EOplfWaC/SN9b6xUAwmhEEBJV60Qqou6/zz+ZXi0ykJs32q0LQkriWhWqlgKrSJBYiHPxf9lXxXnSLoGHwbrEEsZ6Um6IY2eNyZMYPxTpHxJLoTGGUlDi+T97nrvuuouXf/oyr7/xOuP6MWOMsTXcmkRmjJFBPkUlNFsLdhrrG+tcvXKV3Xt2IwQ++F2gpCwIXTeTRaYdOrnojAa84JRoTq3ACou2MTawBHICJSYRSmK8Ftlap5m10pDVnMnQSihpdK3MnLCyIpdepkcKSRBoSkGZUAVMTpRQhFgrXJhMy2QQTkRNrquwaAEqDJmcKnPwwB4QEiMkhgDrA/6zPFLeKiRFoXdN9+EzzDVnmmuwNKQ12TUmqlGWirIX9gIpwWTprjsJrr1UIW90jcunqO0V/bgAddPXZNykjwMTAhJFfJdhD01IikZu3nYi+Zo01mbQkNYReWU0u6an0XGEEoLYGqYOH2ZGkD777pKst0Zqs01jw5RPGOIsV5EQiFKZuoQwebFs3ooj/Dspmt7flu35ZxbFEbEnyFIGm6+7Ijm/+bh0DtCQ+jp3njVOuVUql1haWnL1hAKJjmKEklidOy0lNi4To5SCKDI8+eRTPPvss5w9e5af/fRn1KIaE6WJLFZs07vveGtjjPGJxJjIjDEU5IW91F1rpzqDi70IgxIXLlzgG//PN7jj6FHK5QnXry0IFaMSI9MKNw2RaYAWBisNy2vL1OouuDYVOIWPZ/HCmLE60462czGhqAEuEBmb0hmkt7oIXwNmqnyKiXAKjMRZixoC+tPMTZmrmAW0cEnLtHEZ5JyHXaIBd5YlkE0EK7tC3raSq/xO0TWrnf0hoVTaRgRBQL0agxYEKnCOedaSGLHSuiy5e0r/vUOuL9s5b/Pj12/sYP55dBP4b73rUmqR6ZIxCe8Gm6AdYUotJbixU8IiMQQqYM/evTz08CNcuXqF0++967K7CQF9WJ7TfmU9ch+f8trF6BiSekvOAtn6CmmZ2M24iEiy88HDDz/M3O7d/OGNP7CwME+pVNp0HW1nzUySoRitNyXOpbDEemWDD/74vsuK5xmZFX4e5bKOJdYYrTW33XaIL37xi6gw4Ps/+D7nzp8jkIG3iDmLbD9kf7TX9DHG2H6MicwYnygkaVKdu4hm/to1rly5wptvvllIH5ug0Q2hG/RKZpJNtBtNboJejs/r80d/02seayN8BZQ0UEI0HL+dJDBzU5FIMAnNSfrRqm2RSWTC2UJM6mpiG9xeGqTnPFkQtLl+H0iyknlts3SRDL5LWdrlvKtckoa7eI3hox+LTD/Y0kzqZY3IuR0lv27HDE6b0RqsRknFsaN3cM9997G0ssJ3vv0d1tfWUtfCpvO7fN7F23EZ8oxJfyNhyYbWRMWNe+e2Uku+EERRjYcffpRnn32Wd95+i29965vcuHFjU2t/8n3iEpqsn42JHxqv0Pi7IyfFYqupRaUFkY10nYlwgv/ywgvccfQoP33lZ5x6622UDLAt2h9jjDF6w5jIjDFSyGt9e01r2g9MbvNLCkbma6h0qnjSiExW7a3fyUbW64bWK/m5OdA8BsIK72bWTqS1LX52OS4JWbDN13aWgOzvTo5KdMeFCzRfNOee4jKgNXyX63shmN3a1NKTHdbD/RR6keRgw9eSSdznbJEcJA0JUK0kzVtujg0YzbmLNzl+23rSshkrBEEQopTiyuICN5aXOXDodg7cfpiV99/HItP5l19/e33sbp55YqIgT0Fbv7nJjCzGlji30txRXtETKIUQgrm5PXzhC38BwGuv/ZLFxQXK5QniOG4bV1aEIB/RtFl0U1Pf/QkmFz+YWkhz6biNMaggwMYRJ+8/yTPPPMOVK1d49ZVXqcf1YU2DMca45TEmMmOMBIQUvnhaVmiw3yrjvaAV6cj/rRdysZWNqR/XsqR6dlfXZ5StMYko01onboxBSJcJybZJXyXTcWj82YyCC1HhH6IgQDkBJtcn6/7X1Yg3XKf94CcZnHIEPokfMFm/+oN0rmgCXGXAnKUoaacg+LWxDQxSY9zDrSR3bm3u39vTVNpeemKPt2x6ULo0CsbbLdC6OjgGJSSV2gan3jzFl77015y4+27OffghidFE686Wic1QfIM9O+81ir8NlE/vbY3h+eef5+TJ+/nud7/Le++9h5Sqh/VzcKtgY7KPtIU0S5kCazl2x3H+6q++BMD3vvc9zn18ljAsuWMbrGFjcjMGbG4NHYYr+s2EYHSFG4deHljeP/VWQ68Kv36faz/nbWnEvV9xbGImy5OUJ8rEkfaZxKoDe2H7uU6nczrZBfpBX+Pez9gM+/Xo6sYaBKg09bVBSsWu2Wkq1Sr1yKXuLWQK66fBBpLRzvWuZQ0mugjMbjrPdizHYRve2MTKJrMoCrqdIY1N+5KLzqssEzGTL51wSKJ9721yDGP+5e+819b6Pb5XAwv0dvxW9tzextzNHeFdvbQ1SKX44MwZavU6d9xxjFJpgijJKBcKojjLntbtVppXQyC9ZcbXksE2VHhq9W4gfApmd6XkkDQtuJQopYijiAcfeojnPvccZ858wKuvvEJUr1MKQ1eTjM2t+P0YF5N7a+K3bWLJkpTjxhjCMOS/vPACJ++7j29/+9v89re/dS5lpsEq2nDPvWDUZbgxBo9RSpg0CpD5RaabzzDRT27+WxG9PiNJf8+r13a2Oi8sgM8WI4UiKJWo12NUoMBru/Javq18BolBj8Owx31YSCwfvXyED35XSqGtZWZ2lq/87d9y1513YYlRUhbHwAvovfznykMm1Vuyn5n1pd2s6S+7VJrMqc3HlXmx6cf6LGMWjY8O8j+7+IjmD+TnSvN4FC1Og0f+ssOe4/2sEd222e99DQ+uh0ntE3Dr6vsfnOGDM2d45JFHOHbsDqpxDZEqCHr/2Haj6C2NNvdpNSJZOFlRuM+7/cZRxL1/8in+/u//nljH/K//9e/Mz88TqICoXsca093YJzFqfXxs49/aICFeAH/63J/y3J8+x1tvvcWPf/xjqlE17Ufan+Ko3VJ7wBh9wseDjd16u8P2++6MMRgMS4IfIksQnsQgBKVymQcffJDbDx9meWWF9Y3VlOSMEolJMeiGRubGBoveb8dtz8ZYJJKN9Q1+8+vfsLCwgESB1kjrCbv1pN1mG/pmG3760/rzCx9b+PSdklY03nki7rX/z91E9rHC9uyVs2nGp+S4Fp9hYNhb8rBeqdEXNVydEm0NUgRUalXePv0OM7OzPPnkkwQiQFuDNqagPCoIU918mtwUc2Ql+YjmT6cRFFISxzG79+zhS1/6Inv27OG73/0u77//PuVy2Vtt5UhpqKUQRFHEvffey/MvPO8KQv/oRyzcWCAMSq0zp+1AP8e4STBCc3tUMSYyY+wolJQYY/jUp+7jb778Nxw5fBjnh+Ne3n6yho1xM8OJUUm1+HpU5/QfT3P9xnWSNK6QWU8SRxQpBMpnJGr3yX8vZFbssNNHevnMfbo7RwhvZUmtLdm5rfqVZGNq+uDISbefbkY2wU5odXfiLe6G4G51HEZ/dfI9tK7uUj2q8c5bb3Px4kWe+PRTnHzgfpc4RCkMNp3wzpIouv/4edv83mRftxp0d1r2/iilUEoRBAFxHLNv3z7++Z//mbvvPsHLP3mZN954HSAtWDwqJCYpuJm4lD3/wgvs37+fH//ox5x+5x0UqqMlZ4wxxugPYyIzxkDQi8BQPFFgrebYsTs4dvwYpVIJKQNmZmbTau2yRVrkMRx6tUTcbJBIQhU6rWuOHMhGstBs1Nj0k6D92BRJU78i62Zjf5Mb3T7xuJneLW00oQo5f+E8//Ef/8HkxCR//ddfZvfcbqpRFaVygfOtLOKd3H2TWix9uAQnsNYSx86FtF6vcvDAAb7+9a/z5JNP8vLLL/Pyyy+zsVFxbXkSMwqKriQuRglJoAL+/M//nCcef5x3332XV159lXq93vbcYSsUxhjjVoOSQv6fO92Jduh1eep7MRjxFWTgi1ybi/XbjhDdazwbr28TLWE9olarcubMGa5evYrROn3+o6JxS9B2nPrs5rDGfeij2GODghbP2npNp91kHvQwCFsahy3OxVZndyKe2/XMGq+73e/YThPq7RzHrVy70Uq2Xcg/X6MNUkkuX77MzMwMT3/6aWZnZ7lw/gIraysoqVBSpZaSpgKp7QrN2ixQP18ktN2xhX+bzAorgHpc5+iRO/in//o17j95P9/93nf54Q9/yPraWpoavzHj104jUAHVqMqDDzzIV//uqywvL/Pv//7vfHzhYz+erreN79qo3ccYI4ARk3lGHeP0y2NsHX0wznyxvaA0wblz57h44YLf4AzajF/kTbHzisjtxy0wDT4Jj+mTDEt/07SV1W0o012QWru/973vMzk1xbPPPMvcnt1859vf4cyZD4iiiCBw4kFiEdfGIBC+RFLzrJaN5ARakhnbWP/Ku2MmAfJxFPPUE0/xN3/7FaanZ/ju977LT37yE2rVKtq4mJhC8eKdtMh4YiekJNYxB/Ye4At/8QVmZmb41v/+Fm+ffpswKO18P8cY4xbG2CKTnDjCGHWLTD/NJ4H+wpsVlFIIXytAqaCoqRwx7cSoWGSGiW5jSvKfvM981+c0NZxdZ3A348c759ff9cejH5GklzsYW2S2p/1Ru2Yra2k31+15/uWeb1J/SipFrV7n3NmzGCyf+tSf8NjjjzEzM8va2hpra2tUalViHRFr4ywhUiKlzFzJfJxKYoGRUiKFJM3K1XCPqdU1J9RrawiDEIFgdmaWF154gb/76ldRUvHNb32Tn//8584yi22et7QmS8Vb395Zp6Qijh3x++IXv8jjTzzOz3/xC1555WfoWHe0Yg2jf2PchBjPiZ4wJjLJiSOMW43IAH5jcik2rXcfSoTZvIvCKOITSWRutYVV9H9P/cSv9NrSmMhsT/vbga2sVfl+detm1lf8VIvna4xBKcX6+jrvvfceKyvL3HbbIR5+5GEeeuQRjh49SqlUIo41SgUEQYDWmiiK0DrGGI21Pj24NVjrChprE2OswVhPfnwe9rxrVWxiZ91BYHHn7du3j6985Sv8xRf+ggvnL/Diiy/y+htvuDo3QmB9VrW8K1Y3z3W757aONQbDAycf4B/+4R9YXFjkm9/8Jtdv3EBJ5Wrq7GD/xrgJMZ4TPUEEMhhZmdH0KNAKaFnEbjMUKn2PIPq9r3Zod7+DbqfbfjQu5KMQvNkJ7cap33k07HHfDHkhIe1WP/VTGN571a7KdjsI+is+N4z7ybsqDXI7s7mfgyAy3b6n23U/3bTb2P7NhFZ97nVPTNBqrhtrUd4KHusYISR79+7lsUcf5ZFHH+X48eOUSiWMMdy4cYMbN25w/foNVlaWqddr6NgQxVFaX8V6K4yONVJJrl+/wTtvv02s47RQpZCuaLUMFNYYYhMzNTHFAw88wF9/6a85fOQwr776Kj/+0Y+5tjDf8p1OiIy1zRaaVthOoiClpBbVuPPYnfzLv/wLR48e5X/8j/+LU2+dIgwCojhuaY1pijsaY4w8mmJFR0hAGEGMiQxjIrNd7fTSj6ya+yg/CYdPCpEpYASJTD9EBIpzLrGGdepn8v3QH9E2vQstBft+xrIPIrMT2On2e0U6P1t81wtZz6Ptu+LTBScWcQBjNHt27+XwkcMcPnyY22+/nQMHDjA7O8PExASTk1OUwhKxjjFae6u6IzPCukD96clp/vj+H/nXf/1X1jc2sNogpEBJRRCGVCobSCm558Q9PPnpJ/ns05/lxtISL730Em+88TqVahWAWOs0AUB+fHohMtul3RZCIBGEpRJf+9p/5eFHHuH/+9//m5///OcY7axdxprW60b+OY6JzBgNuNmUuzuNcbD/GCOB8Yu687iZttN+SUyCftz5NiM8Y4wmbqZ5DUPur193kxpHADIIubF0g6XlJd577z0ASmGJyalJJiYmmJmZZnp6hiiKipYFFziDsZYwDFhbW6deq6OEREsXTxObGG0NBw4e5LOf+QzPfe45SuUSr7/xBi+99BIfX/gIhUJIkbqRjSqUkGhr+OxnP8tjjz7GD3/4Q177xWvuS2uxxrhnOeKK0jHGuNkxJjJjjDHGTQfTmPkoh15S2ja6PI0FjlsLo/w8N5ubw3TLbEQYhq4P1qK1ZiPeYKOy3nOvJBKD8bEwltsOHOLxJx7juWef4+Ch23jv9Lu8/PLLvPHmH7DaUA7KLr7Gp4im5xaHh4TE7d+/j3fePc1rv3yN2GjntpqzItmbzSQ4xhg3GcauZdzirmUt1Mij6Fp2M+FWdS3ruNf26Fq2k25lmxGZRK5oVb+h3XthO3y/bejCStkuWLzjZWkxLreoa9kIvFZt0e+Y9ONe1qsFM3EXE0KkaZHBW26kRGuN9SmcRZIK2VshjDEYDIEMmJycZG7XHEfuOMq999zDibtPsHffPq5eucLvX/89b516iyvXrqKERAWKWrWGxWU/S+Zk4/wZJdcyE2v2HdgHwPXrN3wHfUIC/5gsbm8oYOxaNkYHjF3LesPQiEwS7NfTOf5ZbrYRFoJJ+yQy3bQzbGz1vqC1O0zj/Q6inX4Grtdg3EFlB+oW7dpr55bUr/DedL1e2Xu3sC7YtuP3rf/cUztbITFbdRnrBul867IQ3U4RmUSMs1252GTfd970bOG9d2d2uHanoNMuA1IL60sSqN2hh1vFjhHPXjFE4aTf2Jpk7iWFi7Mn6UhMEJQcqbGGyYlJ9uzew/79+5ibm+Pw4SMcOXqE2w4eZHp6mkqlwtmzZ3n39Lu8/sYb3Fi+7tzIVEaECkhidtr0vWv30EGsKZ2Kexrr1tXGNMs2Nxf7iDEcY5hon3yh83q6vc+13bo/SsRmFNw/R5rIDFT6HHQ7w8YWh8+2+2IA7TRpm3pAj3L4YIjCANprK/D3icbrdUMo+xn3TYlCG5NEr/e22fHbQVjaEeK2RLmxwnbuZ6NVZ2eIjJuB1ha7mrnBFStrCIQ7tm0/i39N5o9ow1RbbVC2HZHpJOjlrj4MInOzIC0ayfZvQf0SGSg+c2sNu3bNsXfvXqanpzl48CAzM9Ps3buP3XO72b9/P3v37iEIAirVKtevX2f+6jX++Mf3OH/+PJcuXaKyUUEGChNrl70sSRbQAknNm5bfMRpEJr1+q2My8+/W+zDGNqH43Fo9qvaPf/xc22GYBGe0Y2SGtdt90nbVbu63R2mjb/64XdaHRgyY4A56ymzmDjWIfnS36bdu42Z7RfoRlkfNIpuh2bnGkrjduu9s8k+gtcONPzrHkLP3T/grCK9dTr4XhZ/u/OIV06t5rX163RHAVpeL7b6PYb5T/SgOEgIhhCAIAozWxNrw9NOf5q/+6ksIBEEYUCqVqNfrrKwss7h4nTdPvcni4nXm569y/sJF1lZWiHXk+oFEKuWLa7raMJ3Wl1HSPLdFR5IzvG6MsRV03oGdsa3fXXqM7cZoE5kxtoR+t4BUWBFbcDUb4xOPYbiJtcOtaJjN216sNUipkIFECImOY4zBs4tGq4nN/pk6rKV/zjTb1pEYYyzlUomJyQnA1QWJ4xittU8nK/ynoX9tLDQ7Na69zoHM0pV3u+vvWpu1czMsqzLn2pWkWQZ45513ABcrs7q6ysrKCuvr66yurlKtVqlWKmhjCteZCCew1pIkIx5JgjKKfRpjSNh8lXIulr2d80nGdocLFNoaadeyMbaOXndNkW3kmYDT+ZRhBbkPO5h+p5IRdNvfXvsn6L8IZD/jMGwi88lyLbMEgUIGISqQYCzaGHSkfcyCP9a77Vt8rENykZz1JHnHpXS2F6Wclj0shUghXRYpY9CxplqtoC0pkelFk+48bHp3LRvWLGr1jEXDz0E8/+T+h+latlXk3buMJylSSv9vA0gXoI9/74Vwz1oIMN6C6GvNtPLd6dX1rfG5dD64y9HdTiIzdi0bYRTf/E4uUTZNQdft8/zkWnHGrmVjDA49EoX8KZnbyNgyM8YYowQlBIEKCcullGwExoIyRHFMHEWpwGmF23hNzuks75gGTs6SQiCkojxRSjNVuQBvUFKiShKhBDoy1CONNppW5f5u5qWise83A8noCgmp6BEJ+ZBSpoK+DIKUtLhLi2yuJWTF15NpanEAwk0vYuQYO4skUcTNg/Z9Tec2ie/tZrPwll1NRg63DpEZz49m9KH2bPvqiYY/jvGJghRisMtwu03gJtj0uk77mmALwlsmBIicFtoipSIMJIGQrqYOwmdOAikDAgVaawBibTAWJAJjXPYpm9M+SlzNC6EkpSBASOmFXltQagghCAN3bRVY4jgmjmMiHfd9f12NwbZeffN2WulUt9qnLbmXDVHTWbDipeY9mxIXoNnK4o+zNsuQ16nHva4rA737UV9vuunfMK097frTaN3O/T5cMtO+nXyfXH0jmypqwCKEU9hsTvglWIUxBkv2Hrh7TGZzO/vucJ2ed9LyvT2uZa3PuCWIzFayZt3S6NKS0miJafq+z+uOMUbPaExhOmrop29t3Gk2P63ZeStxDwwC5QsGWkS6mQr3n5DIsITyXsOBr+2hjUVrgzEaq03qJiEFqCCgFASoMHS0puE2Ha+x6e0HCoQMUEqitCKKI2Id08321e0I7pRLXyuMjC51IKR4wO23ScPdqk5Ty0uO8vt+M6DP9aWvdrrAzqXj3ax/2fplhHYKHKlAuHjDpGaSlCJNOy6ELJzv1lgJ1rlVxnGE1sYph0Ry/QG7k/VZUbUfuXigcp1P6NH2694v2PasW4LIwM5vdKOI7vyH3Y/Nl4CGU26WiNUxCkhrHozRH4ZKtJoXbpkSD29H8TEKAgnkteSCpLa4lBIZKGJPZGKtECJKBVspBKFSBL6ae8ueFLrhflFCoAKJCiRCWmxNYzrEQmZROb1hVJaZTuJJN30cZJzNLYVBvVM5Adpq47OiWaTK/X3rrdyUSMhF5h5Fd+SnD5KUkIBk/Wnlfrp96NSWSLOPBSogCAJHS5T7uxDOqi2FyllqWl1FIlEYI5BS+Gx+Gms0xsTogceD9zb+6TrTK/+x7a1nm6bi73DNdv1roS/rG7cMkRmjd2xmiWl7nv8pxmTmpsNWSMxQ6M8WBJp2/bsVXFGstSjhrDBhEBBIVchi1iyqFftpjXc/C5zGMQxkKtQIIVBSIpuusUmfctQkUBLCkCiuE2vb2Lr/Kds+i87ix+gsM4OyzAxYZ7ut6EXt8+doAAAgAElEQVTDbhPBdwfeE61jEme2QAWgjRNOfVeaNNQNfTTGFGJ/+sXQlUWdno+/x9iPjfRJGYSUXQmi6XF5QtPFedZadEIGhCCQitjoTc/bDPlMep2+B7cqukpbWXyYVC7Lo5KSIAyR6XOy6cdaTeMKloe7rkZICKTAKIU0AhODtgIRxW3uVXQ0kwgJRf5UXG26K4zc31rpEnTQNZnJF8rtdNxm/UvW9q2+LUGnBzbGLYw+SUyCApkZI8UgxqMpJqnTcT1ft78ODnyVGLCgIxBY7/LYGM6V/L3hhMIx3nOqbTakZMHt19Wp5ai36ZOFXJFK5y4mpXP/KpdKhFK6nGGFui1J79prEp1vt6cTycaFi7kRADa3+XaprU1uQQkQoUDKEKIIrW1ug/KxOTnXjn7Q8jkOEakM0knL2On83M9+3aF35P571OrmfmT7xKandXljraa35x6z07Ps2buHarVGHEesLC1hrEbK0BfdpBDTkFxPKIm1JnXL7Kk/DVBCooXBagMFr6QBPjgDBoNEujasbXCByjWLZXZmll275qhWK1Q2KmxUNzBxjPQJPVqeZ02aaVYqVVwPNhNUrUEISalcphSG1KOIWqWKRhOqUtdjmxCR7LrFp5cXpp0bo8+6GCiUTFxv8912yUzyHDMTxLtZP5MjtadHORWNBFkKkMaghEAaSRzFLl190oYtuqqldbd8Io58Zl/hE7Qk7r/JmObvu5FYNKGH99ZanHJMgM6RMOdu51yI83Buda1jIzsR5Hyfjc0/3c6dlUJ4EoqffwJ8Nk1r7Ngi80lEv5aYpus0/BxjjDEGBwsEQrqNWSkC5bSpSSWXBMVIhM4+yZs5fmW/dqF19c0lhEUisQpKlIik9pexXstnUm2jaeHzcDO4XeVJRL8WlVSwt6N9r8NCWnRVdBCqvdhosaAcWUiQaOYtljuOHeOxxx5jZnqatZUVLl26xLmPznHp4qWWViIhJFYajNauSCcGrWOEdAJnJ/eiljAQS+NckxisZSYRYgWC3XvnEFKwurJKrDVSCLQnYpC3lLpVYs+ePTz3ueeY27Ob9bV1zn74IWfPneXqlatEOm4iDAClwNeREoK11TW0T+jRifwkkEKhpOTokSPcf//9KKm4dOkSFy9dYv7aPJEvjlq4vxZ9KN6HRQqZWlyS55OOixAI6awagVJI2dDPggAN7R9LtzaCNhYhKRBhgIidi5rWMXHs1kIhhTdsdWfZcNeT/hxnRUoSseRdBY0xaWKXxt41u8DalmMtRUaWlArSewmD0L8PxStpf08u1X/je9XaDU0K4WpSeY1ht+ufxSW3cd4IKiV5AHEUoY1GKKmGs5720ko3xzZoVHdqU+hnExsWssfd3I9R2ETb9a8d+u13UztdXqSfOjIDs8hsE9pp7jbDKMwXh9Y9yQvzjRaZVkd3/9fitfrV1LYPe2695Tj/fk0gJeWJEkGQuZI1lqMUXdxxdma7v/Z+X41EJoE2FoRMx0rHxicZsBhtsLaxsFzrcc1rPHt5jtuOhnWh0QrYDnlLjCMyvY95d+Hzg0UvwniiVW68t7az35pMCZ4sTQ38IS98OaFGFomGgSAICEoh+/ft49NPfZonH3+Cud1znD79Lt/4xr+ysbGBwWIayYmB2267jUOHDrG+sU6lUiGO4mLWrS7u3xpLEAbs27uPyalJVlZWOHf2HOsb644k9UqKchBCooQTYCMdceLuEzz77Oc4/c47vHnqTaIoLrhc2Ya1YXp6ij279/Doo4/y6aef5rbbDvLBB2f4n//3/2RhYZ5ABpkbGO6Z7N29lyefeooD+/czv7DA/Pw1znz4ISsry56oddC6I5BCsHvvHh5+8CE+/elPc+TIEU699Sbf+fZ3uHzlcpMwnVjDXEZFfw0vtKcWCOliUmRKXmT6bJIsi93uv83CdlJNGDYjMskqml+fmo7wX5hY59zMfKIASIV6i8Ua22ThEAW3DDc2QRAQhiEqyEia0cbH6MQ+PtH1qlW/EqJirXHCP9nYSakIApk+O6mCNLasFSG3xqJjTRTHWGOy0RDZNYWgQCgFEGvtCysn64Tx37WXSyyWMAwJlCIsFW0vCZEbmkWmpyV7ExeCRrP8TpKYXreVYfa1XVujIpT22o9++21pIBjdLnZ9ttdIFtptYp1Ixah57LUjxP2i1ZjktfJFNzHv65wLymrl+tUK7YtyNizMDZJ1u3vrSZDM7XStz8oTiGQT8tova5ECwlChpAuczRwrisSjuG11JjLtetHtX4toPX+FKG7EKgywgdusYq2p1SJPaIrUsFGw2czq0WomDC02wXQ3XxqR39eGSUr6GZeUlPQRvCwQmWyT/s2NkxSC2Dihbc/cHg7dfogoilhbXUs1/knwtfu3cxoy1hAEIYcO3ca+/ftRQrK8ssLFixf4+KOPqdVqfHz+Yy5fusyVK1f427/9CpPTkwglU4tMo6VFKsWuuV08/sTj3H777dRqNbQ2KOVcg+pR3bmvbOIuY4whDEscP36c2dlZTp9+h3978d9Y31j3Y9G7hSfZH5SQzuJiBTNTM+zatYtHH3uEO++8k0q1yscff8SN5RvOnSpn2XKCq2JtfZ3llWUuXbrE1WtX+frX/xt79+5tuzZKodioVrh06RJHjhzmL7/wBbQxvPjii/zu978lDINUI98JK0vL/OgnP+LixQv8H//9v7Nvzx6Uci5USolUmM2TFkSQbthS4IPvfTC+zFyzmolIj8oY27hmNqpMvGtsyz06IY2bP08ZSErpOplJjNZa5xVoLBrtLS1BwcKhpAChkFISqMQyAo50uetIJZBKoawqxNcI6awVyf24a/raYCgC6/pkjCVQzgpTtLzYbM6L5v0RASp0VhLrizG7+QZBELaM5zFaA9ZZrfzlrE3eC09oUvc5k28K5S1t7nay5yX8OI0kkUn3wE5kZmvdGRx6vrHhYmTGqQ2G1b/NhKJBoVuLR7+Wkabr9HDsVsZ6M3vCIJBuIYnGu2kNyBavZiLTLFgKSIWXhr82IdH8JUtkqxgGke9kD2it8Gi1eeaOl5ZSUCLwRAZ0Q6h8PyM/nLdNNmYBsZnQHqoAOSkxsaEeRRgdY3G8oB012Fw3usPo0nLb7/y51WCsJVRO2JmanuKJx5/gjmN3EEXO5chaS71eJ6pHBWFRKUUpLLF3317m5nYTlkJCFfDW22/xjW98g6XlJcphmXpU58yZMyxev5FqbFuJucm68PH58/znL/+Thx56iPtOnmSiXObS5Uusra2xsLBIZWOjcwBzzpI0t2sXhw7dxsrKCvV6vcny0AsSDbqUkuPHjnPfyZMcOXwYgKtXriGl4POf/zzVaoVTp07xztvvsLa2RhA4C4vIWUUDFWKs5dzZc1y9coXZ2VlXC8jQUh+ho5h33nmHK1cuI6Xks888w8zMDNpooijG6M4B8YBLFIBlcWGBq1cvAxDXI7KYPD98UqCUs67IVJnjf1d5odZCLtX84FCcHZuInl0cs/nzTqeT9K6SxmCFQiqBMdo9d09KlUqsMK0VVmmsjcwvRJYgVCTjlRyTr0vm+uGVTTIhZ70kZHDKCiElSii/adqWhN36VMylUohL42/QNrFG+cGwCRkSfk/wczcIXfyOTO67+W0eyRiZtIubWGbGGGPUkPfbhcRkrlqaZqGdEbiH9rZ09tba2Y62U9eb3O/CJkJH5lLV3HZrqiBbmuKShbA1xRiUwCl8QH1iWWoOLG3VY4tUCqkCp/FKanEIN1dEp9MHilYaz00OaftlfpytS9scKmQgqdUgqkfpUWk2IpGE7rYQQFv3ZudgNxmKMZqgjUFJycLCAr947Rc8sv4Id991N/V6nQsXL3D9+vXUZSoJPo6iYnCxELB7925WVlbYWN8gkIFXRriMWUpKtHfXyQS5oguVBXQkeP/99zlz5gzHfv97hBRcuXqVer2OiXXLmI5iP7J4jX3793PinhNcvnyFjcpGlkigD8VVIANUoDhx9wm+9KUvUS6XOXXqFOfPn2d5ZZkwDNm1axcnT97Pl7/8Ze66625++vLLXFuY9xYs3ZS8oFKrEhvtBOO2FhmR/lxeWmZ+fp6oXncxE6pEGAaYLrKeCSHAWEoTE4RBSK1eT77x1o6kbovLpBgESRaxpF/e3Us0rp3bi04tGGv68sRpd/XkEYhAuXvULq093pVOCGeRUs6g6GNMTMHlrnDtghIpR8788UlWvkZrcH81prwrn0hSH7g9utWzKlhYcSRNW+9qbLRXZBXnlPQyUhgohBIU3f+KGEkiA510p2OMMSSI9uliO57WSqhu457RGKD5SUZH+dy7Wsk2wm3ic1y8nkVbt8i2cqNIjs/7K0Pu+eX2hKbv+kBGwTxh8eTMJOZy4TRjUkkCJdyGltuUEl9la23HXvQ+l/p007Am9dDofHReiMsIjQBKpdC5zng/cZsILbb95poKpckVB+BOlryf4xpL24/kfdPGkYpzH33EpUuX2LdvH9VKlRvLS8SePCjvDiOUZN/evehYs7a2Ri2qOWHdZ++SShGqAGNM4X1P4hNcQHz7WRrHMUJJzpz90NWgyWVp2izwX/kocyklkxMT1Gp1FhYWiKIkkL5L5GKFhJDEJubYkWN89atfRUjBiy++yAdnzqSB98n9v/vuuzz//PM899xzALz0gx+44rRCOKtQEhhuTJq6vV2aaWsNXvWNsZZSKURKiVKKpz/9NHfdeZcnZ40CefbeNK6RYaDYt38/Fy6cR4WBy/DlXcmk8vE/0gvBJMtuYn1JXI6aetrtqG4J3biPdY82MoDXTgnh6oO5DHvOBUv5PUIbZwFrtqx0aqO1dcR/0+9NtEBSx8yj7RKaKW+N9dRHCVABMnc/reZWMkY3HZEZY4ybETsRjPtJQFIl3AkuRWIihEAo2eQhYWLdcuHPNEOk3xVtNX47TYX0/t0Zkk0pL84kwctgfS0ClW7UygsNym/sKdGxrn1jSM9tRj6Opoc+pudmd9id+LXZeHRSRyVaXwWhQBqbahwTxEZjTZYGtvAMk38MgsQkebfHuoShwDQILWEYYI1ldXUVhGBqYpLYlNL3N45jpieneOyxx3jsscdZXV3lD394g9PvnGb/gf3ceddd3nLpBONatcbE5CR79u6hfrXe1vKQQFtHXKz2744k+3c75OvP+oWnVCoxOTXFysoya2urPQuLCXlSQhLFETPTMzz33HPsP3CAf/u3F3nvj++lGaXArQMKxcrKCv/x7W8zN7ebp59+mgsXzrNnzx6OHDlCHGukFIVUwAcOHmR5eckphTYxFBmj0xih9Y11Ll++nLZeiGPIeyHk3kmtY+ZmZ7H33O3WNiEolUqEpTBz500WuESJ0TL+Jfm5HfuryP1sp3Bs7tF27vTJ2OjU96+dHaizSquXGlBbQW/7TjFVDTQQYVGUo2zh+bfGmMgMGcmrMozpNd6Xiyi6fG2O/oytljGZ6Q/txi2LuRAutaZShWOzHPPF87V02VGM0WkKTCBNBZnp9RMCkFl7rNW0WmS7ebT59JgJIWkiBkIQSOkzw2SaJlecMtFv2R6FodapNbvoceK01mZt6kb7175P+XZatp54JSCcrzVewDVuM3dVs00qXPYdc1CwuuT6MuCaRmP0hjjSzO3axZNPPcnx43cSxxFnz57lD2/8gZXVVYIgoFqt8vvXX2f33G6eefZZDh8+zPmPz2ON5c7jxzl69ChCSDbW11leWaFWqxIEIcCmwlwqkMuc9aUbTzBPZpJsYuWJMjMzM1y7do2V5ZXCu9hNoL+1hlC5PhsMB247yP33P8DZDz/kj++/z+TkFFE9SrO2JeeUS2Uq1Qqn3nyT++8/yd13n+Dd06c5fPgwJ07czfr6Otev32Btbc25y3UoTNnkAmdAKeey9+abb/LyT192v2tTeA+bXJVwLrJWG44fu4NHHn2YcrmMDKQL3JYyTcOLLCop8vVV8hbc7tDPu9xmXcpdMX9VmRv77d7p3Vhke1MzOvXg5tXOtF7j29/PmMgMEaLh5zBwc07jzuhHyTCo4PpN2xmTmC2hdUycEwKCUogUgjAMmyZBqzmhAoG0BqMFQkpMnNU2KbqhZVuVTdy8SDaRJFNOkWx08il2wcySMAi9orEhXbL3gVZK+qVZN2RpkQ32m+7d2voT8lMnrdwVPIlLmc1WVpLWGlUpfE0HJEYkbhPJGJO6sIQCXKiDI6VZVywY7arRFe4BOq2yhew+GYvillstc/t+P7Gm6SnbIA/la0pIIVhfX+fDMx8yOzvLM888wz333MPy0jJvvPmGs0gamJ+/xuuvv86n7ruPqalJVBhw/uIFXnrpJY4cOYK1lsuXL7OyvMLsrln27z/gyIQxbSvBN91zn65E1lhK5TITExNcOD/PemVjU3e2VoiNWwvKQZnbDx2iVCrx8fmPWV1e8UkLXPISJRIiILHaoqTi6rWrXLt2jbvuupOfvvwy/++LL3Jg335qtRqVaoV6vc7MzAwnTtztgv2xbYP9i8TCpPEVEkkgJdq/y3mXXpddzMdgSEGgAow1lCdKaQayQCq0ITcu3jK9aVrRdhaJVsf1i+ZnlSczIudq7uIeZV8W8M2QrxHTqW/DlSQ3Qy99GXy/x0RmmBj2PjlK83xA6JXEFKwwQiQWbPc77ZeHzMVojO1Ae2JpCxpyv1cTSEUgBTIIcv6yxdMa4RTvznddGoOVCmM02lrnk9s4mYxLR2ms9UUnSf34hQ9kxNq2JEYqnyrZu4YlgZoiJ6C7exfZtRo6LgoBj0XhvHhku5nbz0vfeE7RzaztayAyJ7dNdN5kb1R2sSRsLBWESIJpc24GAFIiSwJjJDp2mZC0jnGKZYstkJmkNy7Nq20lHzXNr8TNLXGXye6oKNiK4a/hA8BWZsV23W6eWGjr6gydv3ie+YUFDuw/wIMPP8Ts3Gxas0QoV4NDKFcU8crVq6ytrlGrVfnw3IdcvHARY20aWwMu/ayUctvXcVdx3jAzM4MKJJcuXaKyvpHuN71CCMnk9BRH7ziKjmOWl5aJdJwWArXWEFuTZrVK4oAWry+yvrbOXXffxcTUJOfOn2NlZTmrA2LctV3tEdO2bwm5lDnXr1hratUaGg2xe8+y9MluTTNAGISUSiXXnhDEtYhavUatVvOJG/z7VGi7tSuZbVg3uxi5Ho5tROt2RG41SgPzvQwxiPiZ7uZmh2Nsu9U3vxZuvkL3h8brdrti9Ps+tj9vTGTGuKnQ0oV2jFsEzRuXlG5zlFKigsCHRPS2EAp8ekkpMFagtMYY2+C6AFZYtLBI69MBW6fpzIRbt/G4THTOouIaEGmtC1eBOO/f65ooasTzRKXRkpA/KnMVa+0z3O5ue4Nt+pdt+Hs7a5DoocVGcuZ/s8VWmiOdsvallKiSwlqNkRKtXDIHY7yffTI3vFWtZQptqZrCatLt3lpfbiT/XBrHerz4bBsMVDY2WFlZQUcxpVIJJWUqqFttmJqYpFQqsXBt3qUali7APzYxSVVyFyujkGkV8GYMzELvy7YIBLt3zVEKSiwtLRHFEeVSmaSGDGxu7XEaf4GS0gXkC0UYhsTGpTtWQUMCAlwwdyADEicnbQxWW5ewAEGoQmLhih8aMot0JyQxgnnLc6lU4sCB/Ry5/TClchkoJlgpl11MkwyUcyHDBWhHccS+fXuZnp5maWkpF7i9GSzF9bFb9PN+dil8m8S1dVT0Ge32j8Yebtea1anN4SIYFt8dY4xGjAnJGEU0C48JiQkC1doS0wNcNiMQgRN+MrcxB2MMUrhUkPgidFbbZP9yPfNE2tV3Udn5BbnIayrT2J5WfS5u1A3Up/FKNK6+7X2I+32pWo+rF2nanNNPHZfGM7q/gkyIpwxAWbQvxGa0JTYujWcaONyQoMHVMZAolfdxz1M4i7SusGHRdXC7tJljJAikIx0AJoq5Nn+NWMeUSxMu7arxQjNQniijwoBr8/MAHD9+nPJk2VnfTPbeze3ezdyuXSzdWAKKWcukUGm9jHwByW6Qd/O0WIJc5fLde/YwvzDPuY/OYTCZKxhZrEx+vWlFbJTPJlapVgkCRa1Ww2hDeaKMidsVVnbxdlZb4tinMvduYMJbGYVQrmaJlN6w2Pm9M9alSY9NnNbEuefee9i7bw9BEKSpk+NYMzk5wf79+1lbW8MY49fWZLwM5TBk1+ws5z46R1I00WIK49I4yv0Tme1Ds/V8FNaFTuP3ycHYIjPGGAPEJ8kdbfCuJz5ZqXCF0VTgyEJS88Cl5e2vRSGzTTPbaIvpKV1chiLxCJFWQSCwxi2T1hqE9ARFNCcXaEZOGBb5vzZq/NvdU+MIZ7+3nmedgkL7R1q/pumL3ohMd0e3PyZ1R7LJ/wRKunSuIaCtJooiV6zPWoQhNYUpKRDCogQEyqd7TS7nM2MhHNkxxuS0LFnGoH4q3HdCP6mee+rDoLo7eE+QFIn7UqLNF0KwurpKvV5namrSEw1fCwbL5OQUpTDk+vXrVCob7N27l0cefYQD+w8glRP8V1ddPMnu3btZXl5BeKWEQDjXUelITKlUcsK/0alQ2kpYNVYTyIDYxI5U5VxHAWLtrjc9Pc38/AK1ao0Dew8wPT3N6uoqG9UN4kinlhloTWJcLIpXoESW69evY7HMzs6mqZzbwRjDxMQEExMT1Ot1qtUKJhe/oXWcpm43xhZcplohHQfjrCqXLlzkD394k6Ub15GBsxwFShJpzSOPPMyddx7nN7/5DW+9/ZYjitqls7bGMDFRZm5ujlq1yvLKcqqQSuqhDA69TtS8kqJ1P1qts/mK9zuN9hm9GveY7jrbHznrr+jrIIngmMiMMcaIYbMYnlHBdvUtITGBCpBKegFga621FwA7XDdJ06ySGArn1uTcj7KsZoWrtSRaRV/5rEJxN/1o5/88XLQdva72IpFepDOZ6d2NJNuqrXfFAYLAEZOGayrhCqsJYb1fvz9CCKRPAWyMQXtf/v6KxI0OkmKyO3WdXs5L0pRba1laWqZSqVAqldLvhXAJOybKZTY2NqhsbCCk5Oy5c8Rac999n/LB/ldYWrqBUgGHbz+MMZ7U+jmoVIDFcvTIER5++BEAFhcX0XFMqVxKZT4hBEYbYh2nhQeNNgRhiFLS1Z3JERMlJceOHWNiosxX//6rHDx4kHK57O9lg9/97vf87ne/RamgY/V0bU1q5bl06RLlUpmDBw9mRMua9KcQ0ukulCMbRw/cwcGDB7ly5QpKBeya2ZVaSFQ5SN0znR5mc7VC4tJ3+fJlfvHaa/zq1//JRmXDKQKAsBRitGZul0vQcOHCeV577TUClVmprLWUwxL1apVqtUq9XvMEPnHj3IzM9BLj0Y8loneL67BSGnePbtbU7VzLdn48xkRmjDFGEJ31RA43t5jVAj4dZ0pigmRDzPsBD/uubdM/nTDROXNZdkJzMGRzEGvr64i2v7Q9Zbjoev/azs4Wx1HgBLUwTBIRuLEuxt6I1LLnahb4PykJUmBjQILWLkOaFf55CbplbmN0gXzB2kAppJBYYbhy5Qrr6xuUwpKvPeKtH8ZSLk9w48YSi4uLYCzz89e4On+Fd06/g9WGWr0GwK5dc6xvbCClalJiJHVaJsplHnjwAfbs3kO1VkvdsrRP862kJAhD6vU6l69cJq5HqNClHo6NZrI8wb79+yiVSly5fIV6VEdJyd59+5iYmGB6epo9u/cgleTK5Su88UbgrikU9Xq9bYpnIQT1uM6Vy1dYXFzkxIl7OHLEpZsOAmcZSl3ifGY/IQUPPfggBw4c5KXXf8DJk/dx/z/+A2urq6yuOAuXkI4M3nbbIVZXV92Y5qyC6XpmLEI5qwtKcv7CBa5cvkJUj5idmkYGLuFCEAZEdUfonPtvQKAUSgVIT5SkEOg45o0/vIGONXEUpymulbfA5Ylmw0g0/NwMvb2bNlfIcbNMlDcn+nA17oOk9T1uA1xKh0Zk+iKxN8O8aox32i70EZvYaRqPwtD2OyX6CdTsx4wpE43vJvLzoN3JNhWPbVLteDgppdshExTbfZ9UQ2lMLdxQCRinIZRCEirpM5O1sUT0oqBLzmpjjWly7Wm6rm34utFc31XrvjGRErV+kJCftIgcraZl5z4N2qe715Cllk90C8JDvvZPJhAl657X+qYtZylei6ll89fzjmSBQscWoZSLdcjP8lTgsVt+/1rN8c3Goxd3tISg5a0ijW02tmd8bYyCQ2O/csoma2YYhkxNTBHFEfVaneQZaR2zurLi4uKUQIUu6H1icoKJyTJRXGfv3j1MTk0yNTVFqVSiVq1y9do1REVQq9UISwFBqFhfXwesj5Ex/h7h2tV5fvKTn/DO6Xd48MEHmd21i4/OnWN+fp719XW0Nhw4sJ9//Id/JI4ifvjSS6ytrRXuYXp6mn/6x38C4Kc/+xkXL15Ia64kJCgIVFpM0uJiupI4mJbjYg2x1gghubF8g5+98gp/+Zdf4IXnX+Cb3/oWqysrSOVifJL5p63h/pP38+RTT3Hp0kVOnz5NvV5nbm6OT33qU8zMznL+/HlWV1aIooioXnfxZjmFirUGKQQT5UmCQBFFMbV6FYmkVq0iJyeY8HVgUquQ0dTqVWf18u51gb//KFe3S/k5t3v3biYmJ9P739jYYHVtFaONUxq0mCO9odf1TXqy5Wt95cjMze4i3ri/dothcrlBEsexRWYLaHoMAzLlj9EeOy28Dws3xzRqUeixALc5FW0SBilkKpAlWWyUDJDKBeNLhKtx0ACREImsuMnmPTSdMgU1zCVR+NHqal212Yh0jNILN16nXYvtBN3En3/nsZP2icIo2DZxPDlkG2drzURCegRAoBBaIxHEJonPcemjMy5gsvP6eBgt17IBpHTt3FZjRxvbK4pw2xHB4OqNKAIp+ZNP3csdx45x4/p16vV6GtQ+t3sX09PTPP/884RKsWtujjAMOXDwIImDYjIAACAASURBVFjLc3/6HFNTU1SrVZaXl7l48SILiwvoKAJrfYrhmI31de8qBkmq2uQOF28ssnBjgQ8/PEtYCqhVa1TrVZIg9IXFeer1OpVqhcuXLrO6serHxH0/OzVLrDVKa65du8rC9YX0u3zMjUsc7VJHG6sxke6omEyykdWrdX71q18xN7eLz3/+zwjCgFdeeZXlpSUq1SpKSWZnZzl2xzG++MUvUqlV+c53vsOFCxepVDeYn19gbm4XWht3H5UNZmdneeyxx5iamHTrkrEIBUq41PNzc7M88fjjTE5Nsbh4nTiKEFIwMz1NqRSiggAdRxgMgVLUqjXu/ZN7KYUhf3LvPegoSt8zKZ21SAWS2ZlZTtx9gn0H9gEQRRFLN5b5z1/9kl++9ks3ri3rp/SKHt3E0kVfbtu7l29tWCumTf/f21iORgKD3tETkRmFjXPUsF2L/hitkfoGf4IxOnOus/Ao0qOcm4byvtPCpytO/o3X0AlrwFqsaBOKKvILc3erURLg2q7/m/V9cLj1Vs9BaNS61Xy23mD7bX/z84S1BEqhgQBDVMhcl50vfC0dASBFk8Wjk+jSKLhp22w1Kiaj6LzudVwbcxo2kbxvgEWlZD/L+Jb1vR906qfxbplIF4Nx/foiTzzxOJ/5zNOUSyVKpRKVjQq1Wo0ojnjg/pNUKhWMMVQqVc6d/ZBr166xuLjIysoKqyurbFQrWG2oR/VkJBDSBcBrHaexGHmTq0BQCkrEsbM81CPnwjYRTiD9OjU1OYUKA4w2yMB9Z3PPqFQu4byzBOVymXJQdutNLnsakBbgTWNjuty+wjBExzGvvvoqlUqVJ594gr/58pdZW19jY6NCECj27tlLeaLM5SuX+fnPf867p99FKJeGulqrUL1WASCQQWpxUN4VzBrjPMusdkkXMFQ21tFac+Luu/jcs88QhiHVapXKxgb1KMJaTaVaIY7qKBWAEIQq4PTpt9FxxF133emsO1I1ueGsVzaoXKhQLk1QKpUISwHlUjmtJ4WQribUVtCNC0WKfDa55PRtXqd76l+/8Nfv4wXe6aD9fjG2yIwxxgDRahnY+dd8u5DbCBo0kVIIl+HLC01SCFSQLTd5ga+QBSaVNVqNZO+L7K3n9zxYbEUp0G8V9NGHsxImKWYtIK3BJPJBzgUlIeWubobwKaL9VfJuYJk5on2zscYIg9WJC1RmQdgsy5Rrok2kQZqGT/hUvZlCwVqLEdIRDGvIxwD18+ZI0UzmGmsFGWuR2tlcP/zwLN/81rd49OFHOHrHHaysLFOt1VheXmZ1ZcUTllWiep1arZa6h1ljctXhcbEZQrq4Oh1jjSWKYqrVGiZ1c8rfm8VYMBhKsoQQwgW3WycUaeMKRibnmtjFxVhfiNIVZTVY656T1q6WTUCQ9jE/gL28KwkhTQjQ+to6r776KmfOfMCJE/ewf98+yhNlrLWcO3eOi5cv8f4f/8jS0rJzDTSJksjFucgcoUosurVa3c0rmX8+ltW1VX7605d574/v8tijjzI7O8vCwiILCwusri6zsbFBtVqhHtVJ6mnlyZ2xicVd5m/I34vLHDe7axelMCSKYyobGyjlrJ6Ds4j06Pbr+zg8bHdbw93zGuuc7QSCXpsfiwVjjNEZ+fiF7Xi9R9Ei5QQYmQpLUkgns8lc3Y7c6tGaYDi3sSSYftsx4ovZ4GOvipYE2BoZGSZJHK7PerEtpRRWgEy1qc4NJ4H0VhmEcAHVyVW8UtR6s8xmM1pKibSCyFp03FC8UEA3mZeNj8/IW4cSgVNKmfYvWZsSgiS1QJMJvKaHZ1sgby3ifoTK1iupTXrtpIL84vwCP/nJT1BBQLVaIYsnyyrBT01MMjM7y9TUFFNTk6l1V2tN3ZOc5eUVtM9WF8UR586d4+PzH7NRraRrUFPfPLEySZY7CfhAemMtyX/tYLFN60irVM79rNmujpVBKUmlusEHH37A2XNnCYMwJckJwQoDl0gAU+ytsSa1m1tPuIw1xPU6Ub2ekSYsSknCUgjAxQsXmL92Lc0cJ4Qg1hH1Wg0VKLS2WKMJwzC9T2scOZTCp7gXkiD/7L2r2eLCQkbOWym06H9t6X9NSk0y27quDTXj2TDjXXZ4Mx1bZMYYY8AQDT9vZSQaP6FkSmBUoLyFxrlzZBrl1iNSWARzwuK245PwgNog0c6KFhr0MTLXj2SMQhmgc0xCqUzgyY9ffo7LTDbqztFFuiuEBC6DF66+SmqFyFk/80isINZaV4sFUQwoTwiNzFamBpuJc0dKtOpap95PCenoSFby8W45y1RCVPKkSAMqGcccYTLGEGlNoAJHxpRk19wcx44f4+677mLX3BxTk5NI6Wq4RHFErVqjPFFmYmLSWQnqddbW1rh48RLvvfcuv/rVr1hdc9m5svQYmfUY4MSJEzz55JNUq1Xmr81z7do1rly9wkalkt2rt7p0S/oHoaFOLdzKkc+pyWniKErHK440xmqkcNnetDbpept3aGz1bhujqVQ2iLUjb0qplOgGKnCEw5dKj+M4nedBoDhy9Ci3HTzIwdtuY2ZmhsnJCQIVZhYZX1B2ZXWZtbV1rl65wqXLl1laWsIag5DSG9xtRljZWcu5LZCX4cWxbD+2+156j8EpYnD9GxOZMW5K7LQpcxSRH5PBa0jyQlSm05XCCUhJdWn8RiVSVXSPrYjt9yBO8EmeQcb7UDuNcn+jLW/ZEWwhXNkWXmHtMuv1iZRmKIlU0lkKhEB5gT/JDNVoLTHWIhHIIMjewY7ktHh+2q4UCBmghbN0JJmkpLc0uYMyV6WkjZTkJLE3/vckeXoiZDhiA1r4VB5Gp2J3GChEEhxuLQ8/9BDPfu5z7D9wgKWlJS5fvsyF8+dZWVnBWOsyiFlLeWKCcqlEuVxm/7793H74dk6ePMkzzz7DL197jd/97ncoIb11JXHbUmm/19fWWV1d5Z577uHppz9DrV7jP1/7JS+//LInsTJzyTKk8S1p/RObWGzcsUIIhE2IXDbG+axp3cDiYlnAxbfce++9HDt2DKEkK8vLfPDBB1y/fp2NykZuzPPk2z3Z4p5gUlJXrVbQWjv3ySBAphY7mRKMyFupwiDg8OHDPPHE49x94m6UlFSqVZaWlthY3wCqhUya1hp27drFncfv4qknn2R1bZUPPviAX//6N8zPL1AqhW5MzaALYjbHnXWL8X7TC/I23a0Smfz1+seYyIxxU2EU3ar6xVZjDBrHYvvMu36j9sTF+H5LIZCBIggU2UJksLiq6U5D2Mvm7XzRhqWb22JY6U2OrW+rwxy/3khTb5rCTFffmLzCx6jYhJjnvukgKKXCVO4q/cC9X66Ao7UGUQqJoghhsirxeTIh007mJO4WyHTPLdzAgCAIUIEiiqLm/qhO62+SbKCRaOWEXOkSfxhtCMMQY1w8izXayzOGxx9/gr/5m69Qq1X56cs/4cyZM8xfu8bqRqXQz8ZxnZqYYG5uF4ePHOGFF17gq1/9O/Yf2M/3v/99apUaxjr3J6vceGrg6tWrfP8HP2Dfb37Dn//5n/P8888zt3t3SgaM1dTqtVxyEpmSFGN0OkZ176YFqmC9GgRiE3P12lVmd83y4IMP8tmnP8Pjjz/OD1/6Ie++9y6xjgvj4ZpPHcpczIoQuCAvw8ryMouLNwAolyf8OQ0uXjnr3D33neSLf/VF9uzZzeuv/44Pz3zI/LV5lldXqNdqaewLZDGR09PTlMslDh26naeeeorPfOazHDp0O9/7zneZX5h3bpgd7nmYdV2sGKIXVh/3NHoW8/w9DEIe2/roj4nMGGPcAmh2Fhnc0pzUzUiqpycaWiElgdf+5t01ti7CjTFGEd3NpP41hXky06rlovtJ5/6JNn/vHzbVuAeByiydOUVGs7CzecudXaAsgRIY4w0tIrPyFN/15vMakfUtq9WRECJlA7T29WOM5sCBAzz33OeYnp7ihz/6Ab//3evU63W0jlHSXSsMQx/bYjIXJX/9tbUVTr+zzNrqCl/72tf4zNOf5syZM7x7+j3iKMb6ApJp33w/rs5f5eLFS1QqVTY21oniCCklJjZUqzW0jptktiiK2djYoFwue5eqwSnZktgdABNpFhcXWZhf4PyFC3z9n/+ZEydO8POpX/jMYaTFPJORSK1onngJIZBWYK3h197lTimV1rlJkft3GATM7dvHs597lsO33853v/cdfvfb31KpVtFx7OOtMnfCxMpisayvr3Pj+nUuX77M1atX+bPPf57PfvazLMwv8MMf/ZCoXkcphdY6JUKDENjHyV0+mejpzRv+FLEt/2OEP9v132BHdTTQaz+s/9/IrVX+8Xfc2ltNly1AILNsxNZnBVMy/WA9uRnAtJY++00glfPZVhIplXdjcTdXCGy9hYzoY7SH2OS/4aNRUzioPnR+aa1o+HQ8emsQQiCkch8voG5FAOy030gZEAQBUgbpGjCI51ror4+pS6q8Hz9+J0ePHuODMx/wwftnACiVSpQnJpiamqJcKqd9kMKlGQ6DgDAM3adUZnJqksXF67x56hQTk5Pcc+KEu76vVu/SDqt0TQukQiLT6ZLEjgCpS5uQglCFKCGJjftexzE3btxgaWmZarXqyA74VMu22TLTy7pLQ1ySdMTm/MfnWVxcREmF1jFxFKFjjRIuxsmNpcveJqUiVNL9rgQqcCTuo4/PMX/tGkHo9NhSqdSSkmU2gyiOOXjbbTz04IOcPXuWU384xfrGeprNTzZYBRtjuErlMuXyBNeuXuXXv/41KyurPPDgA+zbuxdjTUpiZI4kJ+0PgpAM4v241dA4Hm49kYU5cDNibJEZ4xOJzZa2RKfrFtX2xw9zkczSXDr3q6SGhXNBkQQySLV4LjWoxWLopcpvu+NLpVIaEJpAeBKTR1NBOFusmDxsbPZ8RlmD16nv/fR70HN1s6DmVtmbttper2f0RScy88xmf2yJVsVce8GoKAJajXdna0z3yFt3gDTAPFmzgiDwAfaWcrlErDU61gSloEA0EkghCXzNl4TDSiHRsaFejwiDECxoaanXk3OK46yjGKUk0sfQVCpVfvHaL1hYXMRqtwk499rMfex3v/89YRhSr9Xd2ihc/RchBDqOkbhUzoaiu1Q/76KS0mUJM5Z6vY70sT+OBOJTQ7vskVLiyG4LS4e1hiBwg2SFII6iND4mLSDs42RKvrZPrV6jWq9hjUWFEg1Y456TS1Wdy0KWay9wWTHQ2rCyusLMzHR6DyKUyCRTdS6F81bQKKQ3ohVJspZ+wjl7h+3vufeyh7Y6rlCzreFv4OaVVM7dM84VkO52jxkFojgmMmOM0QbdvMjDFISzRUr7xUMhpXCbtHCawGRNCcMAHevCwrQZLCb9KUiykDlK5zLbNARTtrj1NBVnTrO7sxlp2gvbO50yclMMunvbcLvdjGG7bFuDbmeg6KW5AXfN0iDUjdA0Hbx3QCKkGUphiWvz17i+eJ3jx45x5/HjnDp1ikq1SiksubS/sctsBqQJCASCelQnqkcugF0KDh44yMmTJ6lUNjh79ixxHCOExJWyKjlXLM9N0wKWShDFMZEvrFmpbPDuu+9irXWxSb7YpbOOuPPOnT2LlApjNEoFxLFGKZtlShOkGeSSVNLdCH75bG/Su+4aDNJnMZOBpFQqMTFRdimRQxdLlcYwicTly62BcRwjlURJibWgtXWEz5DW97LWFOeaEKwsL3P9+nWOHjnKoUOHePuttzDWEgRBltTB31/S38TFzBhDvV5HScmRI4eZm5vjo48+Ynl5xbntNexN1hb3i76FflzspjE6DdEc+bV+E3S7hzYStbTOD0WCExuNkm4OSZ+1zpr+LGGd9thhYUxkxripYDcJZO3uGhlavX62xXHbi+4XgSQeRUrp3clUenreWiLl/9/e1/RacpznPVXd59x7Z4bkaEgapGiJsEWYC9sUoHhix1rQSYBwkEUW5NIJMIB3FMBFVvIvsNYCKK+MMD+A8s7gQrI1gGJLIRybigFL8chREgukJIaUhvfzdHe9XlRVd3V1V3dXne4+fc6tZ3DmntMfVdXV9fF+v5BZovJqAw1pB+O8EZxpyVoMG7teYK87TCaGc9bra2Jil5q8iHlBJEP9fvT/P8Jffeev8Morr+CVe6/g5OQEP/j+D3B6foosy5BlGRKelJESTaxWK9x+4jY+89nP4Ld+61/guec+jW9/+9v4p3/6f8qfBoqZSVVOFaXZUcVQQVglKR5/7HHpe0KSyBcqXwqAKhQbASyVxN9qvcJTTz+FX3r6l1AUAqenp7g4P8fHP/8YFxeXDT+UodoHrrQbSZJIUy7OcXR0hCIvcHJ0gqPjYzDGcfPWTUm0IzGil1WarjzPsVqlePrpp3HnzpMoVHCAX/z8Fzg7PcPZ+ZnsBs4Arhi7QiBNE/zkpz/FX//1/8AXv/hF/Nt//W/AGfDBBz/B+fkZwFgtPLPWxnDOsclzrFYrPHH7CfzKr/wqfveLvwvGGP72b/4Gjz55VNf+1MbB9vNdBsegg2FifOEKB9/WD7q/hSg86ASrvgXssV6MTOVSFxGxG7BtolpR/WvX9OtjdjpvGt/btyw4VbbkOjQnL3M48Ea1nDMgTSGyLGiDKJ1EjbizOjP0vqwCfeZPEdNCmyKRNeP6mBTTHEJLb3fH1DCM528zDNeJgTOfVQiB9/72PZAg/PZv/0u88sq/wxe+8AV89PFH+NlPf4pHjx6hEEI6lRNJu34iPP74E3ji9hN46skn8ennnoMoBL714AH++3e/K6OOQYUVVpJpzhkYW6lxVYDzBD/78EN89PHH+PXf+A3kosDmagMhiobmwMTx0TFu3bqFZ5/7NJ595hnkeY5Hjz7B+fkZ/uff/R2++53v4PLyCpxVJreDNA3l2ssNX48EoiB88JMPsNls8K9+53dw+4nbYJxAVECvyW1D59atm/j0c8/hqaeekkEPQLg4P8f3//7v8eff/HOcX1xgnaxBRf1Zry4u8Zd/+d+Q5xl+86XfxO//x/+E//2PP8T7H7yPR48e4fT0DI9+8YtSY3VycgM3b97AjRs3cOfOHXzmM5/F889/Fp88+gTf+MY38A8P/0EyMFpTMKJZUrU3Sf8lLfS7jjDNehkkgyrHnvJr4gwQQJ7lyItc5m8SYXEol7DHsoQnQSvmXMtsl8Tchbk2gdYsxrPUvB2WtEU6fU9atC7aLySEjq5JxIy6XeOrjScZXJfpy9rRTuoJTayJQM6UOQGv7LPlxgY7aI9sr3Y4VnUXhdyMdV4Il6mPudFyzpWjL9ONaeHPCO3hlc0X5POi5icYI8LRt3n5BICo+VWp73rsHx0fI9tskOWZF+GjS/O5vn3v6B+XY9vYT5sTyr8NQxHaVtu3LkkSPHnnDn71c5/DL//yc3j8scexPj5ClmVYrVY4OTkBYxx5luHq6gqccxRFoRien+H7P/g+3n//faTKbKYoBOQ7rPYVbXIlVLb79XqNF198ES+++GKpgdHra9uwIJJR5NI0VZrxakFOGMePf/xj/MW3/gKnp6clM64ZE25EOCsMAlKb83KlgdHrvGb803SFGzdv4PMvfR7PPPsM1us1RJGDtW00aq6s0hQr5eOoIYTAydExfvSjH+Gb3/wGLi4upe9K0VzPc6WRev755/HC5z6HZ599Bp+6fRvpaiW1L9kGWZYDJJCkKdarNQQVIAI+/NmH+D//90f44Q//ER9++KEMV22YkIXmfWlH2P7R5Uk35tzrogX6Wu237lXraNf5EmX22+Vrr1ytC2ZkfCrZBj7DsiSddsjITFZXwD3LHpLd6HJQD7WdnQtDtTlkLKHMYC7KqEFa65JwJMqUgnUluxMqdwCrZ9MmIgghIIpCRdQRTiIl4TIqWcKrbM/UWOo1o9K1BfQ9/RjXR+wTGoEglAlII4cFDI0MpGmNEKLMR+KHsQikeTGWU/22bfDFWG3mjKMQBS4uLnDr5i2cnJzgzpN31HjgkpHhHFmWIc9yZHmG8/NznH5yiouLCxSiwPHREYQgY8zVCV29LuZZJh3yiZAo8y3NnHDuiOakfBGKogARIeFJ6Z8ih7D0qzk9/aTmQyLNxeyAKQAJ+V23Ll2lqHxc1LWlCXEifYrWRzg5OVYnOhzCiaRPjP6phE9pkiDPc5yfnVV1kL6mKYTIcumDdOfOHXzqU7fx2GOPl6bNOviBIAKJAucXF7i8vMRHH32Es9NTANL0z3wg954cKtDq249cYLAzSGlsG7hjUO3U/bS+9M6QICv2+jJ2YJYp0PV2IyOzBSIjMyXMxV4TNYFw2OUbBg2tt/lE+wpBxSDoVJCmSY00hWCcIeUMLGHGZmyWYUQZUYwMoX6ZdmaVTp4Z8kIntKxCbjLGZIhOniJJORg4BBWqLX26K9tQT/+OGpaIbhBJrYvN4GiUpmkjm6FE9GOXjIwZqUlG5xKlM/LV5kpGw1KaDa6iLhV5oYQ+0pFFkMAqXZXMRttaJH1zMgghmRrOZD4boa4vHdBbnqsvHDXjRqJS03+RMWOd12uk2gfUZQlXAQ0sbVD7PlY/Zs4ZHZygvFYHNjB8jPQzOFf5mnBBtlX7UwjVtzrXGONGeUqrrwoBAORFUb67VjVXZ0v6EM7ItI4NTMvIlLvkyIxMVZqvNYTvPfMiMjITITIy08FkIsp+ViZTrszJwvHeGaoFvA0uE6/pGZnK/IWpaZrwpGRguDYr4Oam11Ge+Yy6y7SkTDEvQgjkeT18KU94SRDYTrTdBGT3xkE2RxVxUBgrgZ1mZMyxZjI1WjofGZn9wJihwUuiuCT8K3OvZr2oMR7m2NKltdkAymSWkmkpRCHNqxiTzE2XH1fv2qbXdK5y2EAGEei4XjMyXZEWB/vZDITWdLoIas3ASNlaPXcMBzOIfQJR1ZcAKibHiKbV3/b9YGRI9HAgZg0dz7wMRmb56Hq7MWpZxP6gb8Lv6bwtpXbKsZ4xwzZ6IC9FZHWOZSIgnfvkpoo0rTYvIwqaWVaMGBXRB18tSdv1jDGnyVhFtIW3zxeRWdoOY68ZjRDupDQOLSZQGibz0zivlR/qNZMQpbCIqZMCUNG4dFmlnrvepoYmur0N2uSMl0lMHcoIBvQRn2Z+rrFQtbVrfyWQYA2hX909XKCr/Qc3tzweZ16Ncrfp3sG9B0RGJmIfYOwj2gTLZxkn4+9SpzBPeGOjk6bPARtWyy0MDMTUxgqAgzcWVzMvQ0kwgA5NsBMxIrxzCHSMJT3u5GXGhLfOTYo41ncDj37vM19znzdkunp4MUXwKWaacyZ9UEAocm2SZpg6MjkOG1H40IxKJjXc+j4tKNL3mWuvySjteIfq7NoBL6nVNm1GE+MxTVdYxzlPbLV+jb0m7esa1/FuIyMTsTdgju8aM6xHQdBSLNtcjgHKhMzc6Ox7+yV09jW1qGmyEIBpCSUAruWM/at+txNgnyp/qWxjxJgYMkaH3GuH8SzNIgWVmpupneDNiGkRftg2BKtvn48V8tWWUBNEmftFlFG8tCZEGL/qdymDNjCoyJLKeb+KPFZJ5ut1tvi9WAKsvZGiX6dp4yEZ7VxXyGRvK+ikqJy17/PbwB251KXl3D2oQ6YaGZk9wXVaHxqoC9EgHLOqT3mxhMloQoZU5qUvjEZpNmGbi7Wgtuh0LKzUtjw5rvdbMJfWqxFLg4tZaU3QZmywRNTYcOdgMCITE4Zt+m1Jfa4FTmmSQKhAAxAoAwAAur1NQY4ktgqAp4qJgZGHS5vs+kffm8s0abu3MKPmZQ70bL++feU7xrV/lmZmxoK9Hlff259pH95oZGQi9gdKO+u0D3bMuAGmxzsB54nyjwG2aiBZ32dbeXrU5fuwAkZsja5AGgBqUZMAY/M0b7PGSkPLuMQJHLGHGDaOZCS0FCQIQhCyPAcXlfO3awviDCpss2ZgqPQ/jD6HM2DkLu70yR2/ula4ghtNBVM7tC9beGRkIvYH/QqKvYEMddw0oxkDgxdYJ+PnIf0+lBcSERFx4OgzhZXQa3HCOQoqwDnDKk2QFwV4oXKlUN3kzAybz4yALToCjdYu7joD+uHB7s99I8GXB2b93QdERiZi8RhqL7wEiZcjTkjtXJIwMJaMsty2SsNtazPtxG+arJlMVE/knTJKT4/kvXF/gD7ct45dQEtYhRCtORquC4a+XzuXRXnc9uWKiJgc/cYzmknJMlGeIxLgDKAkAUiAccgoXmXQAFZ+uGJidNjhAnlVDupzobn2RhX3cLSZsu0nEzMF82DSQ3vjYxWIyMhE7B2WwLCEIk15aVKmn0JK6hzoeVQCnJEPStkUNU7VjnVmAGYys3qRF95qdEbwDuPMlIOjVz2e7QLCTQJMNb+OYLRtmfsKH8bNFRpdscggY7y6MLeJRcSy4W9uOEwjU11XrV1MJ21lQAIGEAdxQCdurnKdsVJG1JZIuC3KX7U+utsn19HCcW7afGcNDOnCSaeq2a+mIdTQ9+uBvuLmWPRHqMMZitl+UR5RlHaiYXRUFxmZiFFgRuRyJZi8DjDk8+r/KlpJorJOV0n/xkOHu8FWYAxYr9Y4y87LKCpTIqT8kBaZ26APBBGSSFCPiOvG/kXsFq65S7XzVdhlhwM74ypAS3VuKKPtL4gzk8Xa0c7YrDlKPN1THYX43jCkwBFK8SxmrJVrqhVwzHLbypIzpB6NzWZsnDmTRgZLeBJUza62nyFRJIYuFIeubpsTYzEycznQVfUNl2bZGe/L77BVw03JEOccaZoCpS31EE2FKWVqjtWyr1izHaZGZgj6NuEQBmMqCbpui/38PijN7ALq1881NVMXERExJsixJpnrdfO88Fxkwtc913pSb1+TbnEwWzMhNBG1foxByyi3rnVYCIYnz3Udj2t8CKQlh8xVJwS19uOY9HeQRia+2ohDAUF4MTNdkNtJU8XNeII0TcownNK8ALVrOozLZsE+EeWaULCZyaGY1JT2HgAAGZpJREFUm1mOaIctW46ImBYMTmtIUwLUfYGBvlHru6b7anQq0dUuhLKhipW2ptrHyOQrWf06clQ8RRfM5bG0hPVviJLAp6wkTVHkAoIy7/p84cXILKGz50IkdiJ8QS2SPVsTA2VnLa92SwEPAdsyR32STZ1UVBvxecGwLfOd6/vE9C0ZsRcjFgNSq0DrkuNah9qPa2ZpvNwftiFsk5IP0Rxsy/xMxcToY2YwECJUQWt0P4xst9SqNRit9G4snQIIaV+WZTLQy+itaSL6yEREjIaKkdHhN+tMDGRyNWgivYuRmcBxcScIfwYXw8BZlZdBW30QicFOr4fNPkZERPihTzc4ulNHAEK9+qbH0N6xGRafQDByu6RaIWmSQAhpVaEjxFmXTIolmVsvDUQEKuYbq5GRiYgYDabWpY2J0Us+GSYOQ5iY67H4+UCa6cnwp0KK6wbfG3szIiJiOOKK0QmmmBkPupUxBsYZOBLJiDj8KKybGn+TlKHIAUJ7RLeIw4JrjMwcty8iYn9BROWnDdzII5AkPlPLZFzI+rRd5zo/DdgWn+3udpcqFCeYJknJ1LT3zxI+YZii59w9Oj2W3r5d4n52ibOLS7ztoseKDGcXlzjLpokIeTff4OziEu/lgeOVcrx3cYmziwz3x22ahH7+qxx3Jyu7aC37fnYlz/d9sgJzr81LAnVMVG0Fpj9JkuD46BgnJ8dIk0qe3snLWHlRREHI83yr4EIRh4Frq5GJEcsipoCO1sF4MuRq4/tALUwtAcxSx7BpbDBFG2UYaEbaL2mbkup/p8L1I2uuB+7mG3zLg7l4uDrC59OZ5m2R4WzTJanm+OrxGn/Y1RzK8d5ljhdc59M1bq5C5aECb19scA8JvnSywlvqaNmn25Td++wD3oWyW31rdYS3Vu7L7uaZ1xg4ZBBramZsRQoRIUlTHJ+cAETI8rxxbW89QoAYVeZm0W9xgZjPiPvaMjIR4+IQpSL2M7lDTHOV1RngPIRJbluE7TJcGprpFwkCAPJ9v4StFb6OfhQktV9EQF4IpSUT/pFVZtv7wiS0h7Y1H9rzAMC7SYqbQ2QWJaid6FKH7m0ucdZ5uxjekTzBzWPdOIG3L3PcA8eXjtOSaQBUebpNJJpe1qqs31sneNfZpgnebr7BWd5/WSuSFW6edHAfg+CrD6xfP35QEDIWLeMvLcv3osbMMJRO+gAgCil6KooCV5eX4AmHKAoIIYPgDPKbKceq9RfDGaFdIXRMLOn9Dke9zfazj2kOxqc3kNh3ROu7CAmCKD8mOGPgibL5HaSJsdFnTKNmYGMtm3ZxY8YXCvhsvWqYtgjWR5BcGPUHYGCzGmPNYxgV0u/+72k+LL19obibZzi73DRMv+5nG5xdbgabbL2zXuPmcctnveU+RKS0KoQXF7eZF3jTMNEqtRvpGjdPjuVnHbKuCrxdM3cj/NHVJc4uNvgjqsz5apob58Drn98PGW89fh2pp7IbARSC5IeoPLbJMpxdnOPs7BxFIfufqDIZLsuxP0SD6dXl0La2pYXfhzfG1VR7z3R7oKBpe/paUelM+TAMlZgbQ2nSdkXsN3jCwBgvmZih0bP6oRmYNiZmXixugyApiZQCagZS3Bbz+SycmZliw96lkGrp7dsG7/bE2n04XizeINzPi5KReSNfmvY8wZc0w3JyjN8LNlVzwWbeGH7AgLdWbUxS27wdOrfHmfeHhFIKz1BOZMYZwCRTUuQFhBBKG4PFa1S2w3x7x5IgvK05/HHwpmWubOwyBwUvidDaPfJiZbKi5h9xEPR8XNpG0I5QBmxfnm+X0H3Lk2qxqYaaJVUi87gPaUZ2AW1noQcmWSe2JQDN8hhj5fjvv49KJmEOIpRRuOR+jm1CvnG9k/vV6N++kB7f5j353MmC+3v5zExF9JqZE8x2dz2DPndvs+k2LbPKHwSR480CeJiu8Qe8wINNjreTI7xqbA/m+KyXX38u9zPo6wq8eVHgTQDvrI/x2kBFimkaWu7TraZlPmakhP/FgXtCSjwIhF8ztrb72SXeHGy6NqTGGUbpqFVM315uMvAMsLNZLodxmbIvzIf0r8eZxHUQdr1y2tqoabAnjIxPB7hfHGdJydgwrjU03Gl/SEJIaQFnEIXijzkgCpXHIhL81wKaaWmYlCWVKdkwG1aTifFkZhqLoU4GSbWr/EnlqVC12xDGjQr9nASUNtk+z86M+6YEsZD3HnJ1GKZmN6v3HxaaYRnjuQ/m+/V/yrdW65pD+d08w4Oc8DBd4aWGQ/rw8u+KHH+yEaocAEjwcirwYHOF76Up/iDlyu/FNT6HPpc+l+BLJyn+qzrW/e70+QJfuyzwNft0kuKG1s6IHOebbffbOltZOvEXuWFepq8RePsiwz2P0l/ILnGWAUBaC14wPQzJ1dImS6s/GAGMyZDLxmFNm2nmJyTJ5+4wpK27eDl+gqbx626jX8bHtbGZIiJJeCa8JEAbTIzSbcoQugyMc/AkAWe8vM80TWPgJZGrv0cztP1C1/uy3ycDB2cJkiQpxxDn0tF/W9GSW7Gs/9nHrJsXiqHGGUMV630K9yEmSTZpNvXnOqDv/S14iG6Fu3mG88tNRWQXufytPl9T9PG9jfz9vdDwxt4g3M8zPNgQHq7rzNC76QovrxM8FAX+sKc95V2iwAPjuczP14X5fn2ej+O1kyPcOF63f4JNzAhf2WxwfpnhDSF/v3G1wfllrhiTAm9eXOHs4sod7lq17ebJEW6enKjPGu8AkIxK22/9mZOJsbBPi5C5SHAmgwRwVjXZww0gYmkwGZjp3+GeaGQ8zRcYAym7PCICZ4mKJsXVOXmlLUU3JQDmRCLSkiMlMUjsXCIyprmOAuiS4C8JrvXBbH/j3IKfJxQEAQZe/m0DUwus+lUys7XxQ2RoR5TGhNkCKfeE3lZ7PPV6r22dh5p0kGIDx95DneU57HD7mJl5VB7hL2cu07KwqFPU8q376mD/sZD2zUAEvZuucSMFQAW+d5XjBZ7i5TK6lySo3xAMXz1a4cuN5gh8vSSu2/FCnuG81fwpweu16GM2GN5K13jLscO/y1O8um55DgvEUrx0PIBMoGp9JILnTjFAZ8tT3DgeXt6X12t8ubUeNCNjGY0tTcnNuyYYRmNFodKBTvqcqXnL3jalwqP38Voql0yL0sZgQIJMX7SVpzbp2nAIqnf4+5xD0VT1/660QP2amDGj+i2ckWEGKeSnuuNMO14DPEmR1Gw1Wf0voCl4WQtVJQn9Q11LMvarchbWzA8DT9RqKKpJsQ8MjY1dh2TfRdX6/bQxMxUTo9XevMHAOMttPTXRwjJ1x3mVz2p/domuZjNgnqhYOtdB0L2+FzPj79DrMfB6VxlDm8lm6nCjvp3ANHrsQoJXj4c4kWz7nghf2VzhDSH9Vl5t4SXv5hs8yAUepkctpmy+8L2fcDfP8WBIEIIaozi8fLP/5LpstJGvcOPYHaqZiLbUDIw5DutlcYP4l2gbc836BQkVDWsalDRQx1Zpd6lpZyApv2ptaVvVmD5pg3ksmxYTE45h73gu2qracvzn4jiYd+1dOCOjMbRz5XWcc2U6xlDxL31lVGH99DuoZOzGVZpG41IIXC1wXC54HOVoFfvDv0RYKHldxcRU9rt8i9WoQyMTMO9dfiFLsSSgkaSOfTlAXX4uQ6wqBrXQ3PBDI7DM8lLMJ/ZZM00bDx+BUUVoDBm/MvjePDomVWPwneF1+RjUVU92P5NmaO+s162MhrxWh2Edo51d5w1DsfJrgT+92OAeUrx+ssJ/cZbLAOaniWUEvJumrRqhEqWPTJit1F0q8Fou8O9J4IXaFOZ4yDn+LE3xNmctDBLhK5tLxQSuG2f74WpryHvsoNCHDzUASkMzVN6xBbo036XM3uWj3PLdlvO33dmrhbfRuewNGWuH5E6wFOrBD3vCyHRDDyMdVYUxIOEyr0dNPVm3BkPbS7NlafZEYcyY/xyVZkapq2UoQXlXkhCKwq6ja9BHzmcJqDMx5vHp1FWhcnT9e3r41xIeo6qqsTH/HMdD+6CX0bGlloyXZqut1wfXtAT4CYxK4sLjNYf3wrTmHtPDh+RyYXvK897mAuce17vm2xB2qA9VuVQGN5gCZdk8weurY7xlqQnu5xt8bXOJN/gKL69TT23PzOjt2JYL9iQZk6352o9WHxp8KBETu93f9oSRqbPMptqSKQmQPE7SKZ9zgLWoDLveDSOrlu7WyL/M+C4JXcZ52RaAAYkoo5wBWu/TV3IbyLhqmARgbNteu96wGETLRU21bfjEcF49tyACZ6xh31nJtYVxZBgI1ZgOkaNPjdC3LEZQSZrPGdJPfWX3XmMwLYxzUMcz7X7jNcUwPqRkyEhSzAwbsvEZ9cyQU6Cqdsq6BL5+1RLVSmR4cJnZDcEbV1d4o/zN8fpRovxbmH1py8A0+zfkmaoC31kdtZuWFZky7RIl4Vufb5VMnIQAuM3gp3jpJJScqPrgYbrCS0nPWBy0SVdz4TUVv/addFVnYtR1b61S/Idig3uiwGuU4l1n9QlePT4x2mD/Ht7QoQGkh6I0MbOFtWT+sLGs/ZtAZZNCaYvxn2icVX0X5vr+dWqNJ+DXk2F9NGYgh4UzMg0VCgAgYdVCyxKpbudKWi59GELqYlYtfe1iTZMWQ6JQkcEJWCJkThoh82vYgv0q70b9u1kboNX1y9HahErc9bYsn9XvvinR1MSw0ifGZFzGdFKL2B90MTHLgQ9T0mYONQSGvprMcvrqOSRwvHp01HNNnxlUW7+39dUh9p8NkyEe43mrsf0253hDCNzLM9xfrVo0MirgAk/w9uhd7Sqwi7HYQvPmUmHXjkkCRGB5RlFt9M/we8dSPpn9P86A0EPucEmHkH66NoxMEzLClNLGsCqPBwAkfLs4SSE5JWr1meZqmihmVcQQUUivGyGEvK9ketRfw3HP5FZFmZxzTkLK0IC1LC6MyzjwY9WxS5RMJBGSVE6Jmn8Vqxb87kdexvNEXGf4MiTbEo5LEkUsDS4NmVsTdi+76jH9SvD6UVe0sm70l9+HAn98VeCPO654Z32CVwcmwpSo+uCFfOOI0qbB8dX1uiUCnLvMd9MjvJwUeC3P8Z+vLq18NdJH5qvrtcNHpkK/WV6K14/N0Mu+82qoTUgd3KIVKlTjzGZYeCKpEqET5C1oavpoYyqhKCbg91kw49GII3XQsoi5bEM6WsB5sqAhXAcHV4NUGIOblRJzxrjK4xFWvskshIb68zbIEJopobJeMxdJ27MQtP8NQRQCZhS0zjwofRp65yMT7EhrJbMVpu5q1iDqjNKccEl8GGdYrVbOsdA3RCo9oT+W7gGwy0XCJgGXiv3dq0JaXveTmaqWiN3Cd74Fm4tMKKren1wkfRq8drhpgLpmQZtIM87w2GOPYb1a4eOff4wil6aQbRaDW6NLFaEFuSPkYBtmJtxxlWlxIUzvrXFgWtwsF6HC8uGMTN0H6ppoZAyr3PIYT4wEhUzasAfnJtgFlCZJa380t97NIBAY40gSmfVWCGmrP83aT6o+q32lhmkkVathBy1IDGYkRzE6YOZ3e+x0tWNZi9CyWhPRhWW/q3lat+w+GB/9xsrhPRIZyAgNLXQc4jtr0hmMMZAQKIQ7h9o+YOnrCqnUHmMS7lMhjL7bvUZm0YwMoAcpB+NVJ0uTsu0m3q6kNIzJEAHEqIzSUR5Dpampt6/e1iRJQJxBCOl4ybhMyLk9lESIVXVyXvV5jZvuSCY6BGZSMg4++zwoE51aUqHDtWGNiJgPXR4A1wvjP/X17MfrANMU0eeugbQQEaggCCKcnZ7iKk2wyTYAAUl6jdNFCLIWrHGJEU1bHB2tkW0yFLO6CAxDuMZo90wMsFBGRk9MxqTzFrcIaJMI7UtWZRPYJgHdyPA7M2qmbdYAamdoKg2C1tAQl3acPBE1c61BJmC2w4eKQBSi4dqGMdwlU2nXb48nc5xFREQMQ5wt02CnJp5GdNB9gtneZZuZhZmWmWbgTXqoMpMyt/siL1RSzATE5P2jm5V1oWPPnRvEZA8Joc1ljWAmnkS6i35YpSmOjo6QFwUoK8AZX4yZ2XaaIh2KarcavcUxMgwcPGEWMd0+wUMWVNM3xTrjXVYoJ9o1gH0ntOwnaV4nYGoYBrSjcY1c9Djnzr49NKK+rb/t5zuk542ImBysfTVlQORw9hS2Nj6uiVPDn7ZomtnXg3mYQXsEEThJ5kWIHTARhgf83ExMLUCAgW1iHpjzoc3SAwAuLq9AhcwzuBQmBrCDOTFvP5nQ5zkYHxnNxZkSBZkHRjMyVLt6usUzRBIy/eTTE6tvgunFi3Nf8y7X8e5nG0syt2zpWERERAi6VtM44yNsbENAHhZM0zKHIBFNotE0UW/eZ2oXLGamENJkn28T67Ub5XxvYX7Lp6XwkMs+oJbvsm5tUm63ob1NtoavzerHvJYxhizPAXSG49sZtA9PmLM/W0RUtkVoZDjjpW+CZmKYik5GNJVT+zYItwv0vSsu8hERERERc2MyseEuzbk7znUKCwPqCntKfz8ZX4GgZoQYABLAnLGSXELQqk3bW7k08/C5rXkYVYyIWUIXmub+3dcv2bSxbqEU7h+za/PAnYVfZuBWtC5WOpYD2g9GZhodqgHYytKP6RfZt9Qpxx3DPWosuB3op5OYNNtQ/237iESzAje2tzSNaBtberkMsyAPg2tR7hr7LvHGnO1eCtoS04Xk6dpXMOtv+0UB5kNbtGXqeobU7zQ5jICke/T3YW9giJO2XrIaBHh1BYa+hTGZHtvXWR+bCkT1XmJgZX5xEeKb1OIP47hw9yqLHlQ0tqS5B9HBtR0vwLRsxD5JXRvvlCid+bntC+PG5MQzDdGy9C3JWzZhAQxCXxuW0MaIw0Ubo0zW310iMvLDcJ2YFhvh+vrrg6HBeq4XTAJyWJ8M0yIsbzLaPiRmJFoS5OVz0afxqJ3X/1PF4G3jrzJoL9iD8W0KzXdNB4dgNtMyBg5CFa9cO/TLHCWKsWmx/wTmIp59BtsWA3/Gu8ZCJNyGIfbSdFhK38a5EDEm5hhNbU7Nc9bvgp5LYiHMzNiswO6faHlwCYKICGmagjOOLM8himJrh/hGPZaTDEOYJuawMQ8dPDYGMzJdUaxcqIVRJukLw1QW+9bBvNtldYd1R0TMh0iMR0TsHrapy5yY2lTTNgef2zTUB2MzHJGBaUfTtI3VzuW5dIYXUyW0YdInyKQ0415oYz/7YwSNTPu01YNU+8EwGJqXjmSPERERERERERH7inDPgcNFlx8Mgco8eKKg0hdnTE2dLL/pqB+Zmf1HACNT56LlEVZqXfS4k078Wg7THIxxAEVEROwb4roVEdGP1qAdnFeOCWgGkimvO4A5tt+tHxcuZkS0hPpljIEn07x/xhm8owtH7AVS14xrjx1UVw5LczF1nDHl71J3Fqq0MM3SGau+d8XijoiIiJgbh0hgRUTMAdu0jPMEjDEIRiUDUxQFhBBYr9cAgCzLrv2+72Lu2rAPfeW7Zk4ZvaxNIxNxGBiokWlmM+GMgSd2xLG6QrWeoMk9gFzOXxERERG7QFyTIiL8YRKglcWGNB0yfR/yogDnHMfHx7h16xayLMPp6SmKotgLAn1KDF1n9iHiW+iaGfpsbfdFLczhYxAjI9O7aJsxKrUu/QNt3o0/lN8ObWXXfbsIax0REbFbxDkeASx/HMwVLU1L5EkxMYwZOdEU/bBr5mVI1gzf8kLh3Qs+lbWGr/MNbj/jexqNMLPClanwyxE7xojvwMnIcLXg1NzyeZ2BGbL4RClmRERERETE4aOWOFmIemYUg15IU0l65HmOi4sLCCGQ53k034wYBbuNgBsxN2qMjMmgEBE4Z1qsoq6g8qtOXtSHpas+I/YPcaOLiIiIWC70Gq1Nfezkl0IIcM5BRLi6ugKA8rd5fxcibRHhgisn4XWDL620r3MqbcT2lh77ynmfVRZlyrxsT59z7xElVRERERERS4Xt4O86pn8XRdFaTtznIvrgYlJIEDBMxt5ZTsR+oaaRSXgiXyurRxmTkcd8bSmvJ4hI8n4TcHyRmdkF5uDc4zvdH8TxsB3m9GL0rW/+etwJCsaoR9c2z3jq2ptaBaYD7gutb2g7Ijwxx1CyXlHf+NX5Z1y/y+ON8cLKfIeRodk/1ExVNcHNOIcoL7BvMV8yM/7vuq5+dOkE+BitK6VPQC1evl1HaDSObc7b6GrD0t/VfJhr02tGBRwK17va1/cbSmjM80zdbRu3Bct9R+HYZj6F9MdcTFNLnrTeYkhH0ZmUiZF31c1sRIvGZAqUoYTlj+r4ZDWGYyltYhPsOa4yfRjP6p7+a7dei/X9HZqVNmbFNF0c1oZKhODb4rnZ4bn27DmFA9swjwx1oX7FyFhtaW+ctfDqcUD2wd2hrfZdyGDm7IUlE6b7jyiBj4iIWAC0uYQv+rmqybH7FkQ00TWWfMaZrV0bY890jxiXxqWqf2jZOjB4xDbYRRhwAtUY9JRz1splu26vNbcKRwJYyTKvIyJDcYiI7zRibuikwnFNPUyYSaM93i9Du0h8oViiGdc+5F4JgQ853qf12b1WXNVPDGDk0L503BcxO6ZMZDoEqax8YAOIHANIHazFJY/owliTfsxFp4z575FdeJs2RNQRGWF4j72IiIOES+o8MpFpzrex1vGlRxxb4trCGJP0FfOLuBUSnct1fVkWLcEfNyxHoW9fyGeWjNHQZw43BA/DPtFXPmNmzOf6Z5DonZiJOjIUAAAAAElFTkSuQmCC)\n",
        "\n",
        "- Sampling을 통해 얻은 값이 믿음직한지 파악하기 위해 표준오차를 사용한다. \n",
        "\n",
        "###### 참고\n",
        "- [수식없는 표준오차](https://www.youtube.com/watch?v=50_PzXRV_vE)\n"
      ],
      "metadata": {
        "id": "PJtD7vlkN0rv"
      }
    },
    {
      "cell_type": "code",
      "execution_count": 23,
      "metadata": {
        "execution": {
          "iopub.execute_input": "2022-01-18T11:09:55.427622Z",
          "iopub.status.busy": "2022-01-18T11:09:55.427098Z",
          "iopub.status.idle": "2022-01-18T11:09:55.463031Z",
          "shell.execute_reply": "2022-01-18T11:09:55.462080Z",
          "shell.execute_reply.started": "2022-01-18T11:09:55.427584Z"
        },
        "colab": {
          "base_uri": "https://localhost:8080/"
        },
        "id": "UPJeBLswKq6n",
        "outputId": "96e69078-1cea-4c73-c386-5176e1e8ddec"
      },
      "outputs": [
        {
          "output_type": "execute_result",
          "data": {
            "text/plain": [
              "0.6361445386361864"
            ]
          },
          "metadata": {},
          "execution_count": 23
        }
      ],
      "source": [
        "# 표준오차 = 표준편차 / sqrt(N)\n",
        "# !!! 표본평균은 분포를 가진다\n",
        "df['sales'].sem()"
      ]
    },
    {
      "cell_type": "code",
      "execution_count": 32,
      "metadata": {
        "execution": {
          "iopub.execute_input": "2022-01-18T11:10:21.262286Z",
          "iopub.status.busy": "2022-01-18T11:10:21.261996Z",
          "iopub.status.idle": "2022-01-18T11:10:21.278457Z",
          "shell.execute_reply": "2022-01-18T11:10:21.277839Z",
          "shell.execute_reply.started": "2022-01-18T11:10:21.262257Z"
        },
        "colab": {
          "base_uri": "https://localhost:8080/"
        },
        "id": "Cxc1MQjIKq6n",
        "outputId": "6f0cdc38-739e-4ef3-d8c1-f6431293bf0e"
      },
      "outputs": [
        {
          "output_type": "execute_result",
          "data": {
            "text/plain": [
              "0.6361445386361864"
            ]
          },
          "metadata": {},
          "execution_count": 32
        }
      ],
      "source": [
        "df['sales'].std() / np.sqrt(len(df['sales']))"
      ]
    },
    {
      "cell_type": "markdown",
      "metadata": {
        "id": "HSW0odVXKq6o"
      },
      "source": [
        "### 분포형태"
      ]
    },
    {
      "cell_type": "code",
      "execution_count": 33,
      "metadata": {
        "execution": {
          "iopub.execute_input": "2022-01-18T11:10:31.539775Z",
          "iopub.status.busy": "2022-01-18T11:10:31.538975Z",
          "iopub.status.idle": "2022-01-18T11:10:31.600100Z",
          "shell.execute_reply": "2022-01-18T11:10:31.599439Z",
          "shell.execute_reply.started": "2022-01-18T11:10:31.539738Z"
        },
        "colab": {
          "base_uri": "https://localhost:8080/"
        },
        "id": "9Yv9F85NKq6o",
        "outputId": "d5a3e7b4-b838-42d7-fae4-3b7a43edff44"
      },
      "outputs": [
        {
          "output_type": "execute_result",
          "data": {
            "text/plain": [
              "7.358757818882655"
            ]
          },
          "metadata": {},
          "execution_count": 33
        }
      ],
      "source": [
        "# 왜도\n",
        "df['sales'].skew()"
      ]
    },
    {
      "cell_type": "code",
      "execution_count": 34,
      "metadata": {
        "execution": {
          "iopub.execute_input": "2022-01-18T11:10:41.771332Z",
          "iopub.status.busy": "2022-01-18T11:10:41.771020Z",
          "iopub.status.idle": "2022-01-18T11:10:41.832246Z",
          "shell.execute_reply": "2022-01-18T11:10:41.831402Z",
          "shell.execute_reply.started": "2022-01-18T11:10:41.771297Z"
        },
        "colab": {
          "base_uri": "https://localhost:8080/"
        },
        "id": "-K2nZZmHKq6o",
        "outputId": "a24f576e-88ce-4f2f-bc92-3cf5b1b6eba9"
      },
      "outputs": [
        {
          "output_type": "execute_result",
          "data": {
            "text/plain": [
              "154.5620923696481"
            ]
          },
          "metadata": {},
          "execution_count": 34
        }
      ],
      "source": [
        "# 첨도\n",
        "df['sales'].kurt()"
      ]
    },
    {
      "cell_type": "markdown",
      "metadata": {
        "id": "tCk86hTtKq6p"
      },
      "source": [
        "### 그래프"
      ]
    },
    {
      "cell_type": "code",
      "execution_count": 35,
      "metadata": {
        "execution": {
          "iopub.execute_input": "2022-01-18T11:10:58.543547Z",
          "iopub.status.busy": "2022-01-18T11:10:58.543268Z",
          "iopub.status.idle": "2022-01-18T11:10:58.945460Z",
          "shell.execute_reply": "2022-01-18T11:10:58.944450Z",
          "shell.execute_reply.started": "2022-01-18T11:10:58.543520Z"
        },
        "colab": {
          "base_uri": "https://localhost:8080/",
          "height": 344
        },
        "id": "i1F1GUaWKq6p",
        "outputId": "b173dacd-e6cc-477d-e383-6aaf4683b5e2"
      },
      "outputs": [
        {
          "output_type": "execute_result",
          "data": {
            "text/plain": [
              "<matplotlib.axes._subplots.AxesSubplot at 0x7f6f33a10350>"
            ]
          },
          "metadata": {},
          "execution_count": 35
        },
        {
          "output_type": "display_data",
          "data": {
            "text/plain": [
              "<Figure size 432x288 with 1 Axes>"
            ],
            "image/png": "[encoded data removed]"
          },
          "metadata": {
            "needs_background": "light"
          }
        }
      ],
      "source": [
        "# 막대그래프\n",
        "df_temp = df.iloc[10000:10020]\n",
        "df_temp.plot.bar(x='date', y='sales')"
      ]
    },
    {
      "cell_type": "code",
      "execution_count": 36,
      "metadata": {
        "execution": {
          "iopub.execute_input": "2022-01-18T11:12:18.558251Z",
          "iopub.status.busy": "2022-01-18T11:12:18.557886Z",
          "iopub.status.idle": "2022-01-18T11:12:18.994704Z",
          "shell.execute_reply": "2022-01-18T11:12:18.993386Z",
          "shell.execute_reply.started": "2022-01-18T11:12:18.558213Z"
        },
        "colab": {
          "base_uri": "https://localhost:8080/",
          "height": 1000
        },
        "id": "UQMXhlj6Kq6p",
        "outputId": "4f55c8c8-674c-487f-de46-3960f9eee227"
      },
      "outputs": [
        {
          "output_type": "execute_result",
          "data": {
            "text/plain": [
              "(array([1.899e+03, 1.358e+03, 9.690e+02, 7.120e+02, 4.180e+02, 2.680e+02,\n",
              "        1.600e+02, 8.600e+01, 5.200e+01, 3.300e+01, 1.800e+01, 5.000e+00,\n",
              "        8.000e+00, 5.000e+00, 1.000e+00, 0.000e+00, 3.000e+00, 2.000e+00,\n",
              "        3.000e+00, 2.000e+00, 1.000e+00, 1.000e+00, 1.000e+00, 2.000e+00,\n",
              "        1.000e+00, 0.000e+00, 1.000e+00, 0.000e+00, 0.000e+00, 0.000e+00,\n",
              "        1.000e+00, 1.000e+00, 0.000e+00, 0.000e+00, 0.000e+00, 0.000e+00,\n",
              "        0.000e+00, 0.000e+00, 1.000e+00, 0.000e+00, 0.000e+00, 0.000e+00,\n",
              "        0.000e+00, 0.000e+00, 0.000e+00, 0.000e+00, 1.000e+00, 0.000e+00,\n",
              "        0.000e+00, 0.000e+00, 0.000e+00, 0.000e+00, 0.000e+00, 0.000e+00,\n",
              "        0.000e+00, 0.000e+00, 0.000e+00, 1.000e+00, 0.000e+00, 0.000e+00,\n",
              "        0.000e+00, 0.000e+00, 0.000e+00, 0.000e+00, 0.000e+00, 0.000e+00,\n",
              "        0.000e+00, 1.000e+00, 0.000e+00, 1.000e+00, 0.000e+00, 0.000e+00,\n",
              "        0.000e+00, 0.000e+00, 0.000e+00, 0.000e+00, 0.000e+00, 0.000e+00,\n",
              "        0.000e+00, 0.000e+00, 0.000e+00, 0.000e+00, 0.000e+00, 0.000e+00,\n",
              "        0.000e+00, 0.000e+00, 0.000e+00, 0.000e+00, 0.000e+00, 0.000e+00,\n",
              "        0.000e+00, 0.000e+00, 0.000e+00, 0.000e+00, 0.000e+00, 0.000e+00,\n",
              "        0.000e+00, 0.000e+00, 0.000e+00, 1.000e+00]),\n",
              " array([ 10000.451  ,  11147.61649,  12294.78198,  13441.94747,\n",
              "         14589.11296,  15736.27845,  16883.44394,  18030.60943,\n",
              "         19177.77492,  20324.94041,  21472.1059 ,  22619.27139,\n",
              "         23766.43688,  24913.60237,  26060.76786,  27207.93335,\n",
              "         28355.09884,  29502.26433,  30649.42982,  31796.59531,\n",
              "         32943.7608 ,  34090.92629,  35238.09178,  36385.25727,\n",
              "         37532.42276,  38679.58825,  39826.75374,  40973.91923,\n",
              "         42121.08472,  43268.25021,  44415.4157 ,  45562.58119,\n",
              "         46709.74668,  47856.91217,  49004.07766,  50151.24315,\n",
              "         51298.40864,  52445.57413,  53592.73962,  54739.90511,\n",
              "         55887.0706 ,  57034.23609,  58181.40158,  59328.56707,\n",
              "         60475.73256,  61622.89805,  62770.06354,  63917.22903,\n",
              "         65064.39452,  66211.56001,  67358.7255 ,  68505.89099,\n",
              "         69653.05648,  70800.22197,  71947.38746,  73094.55295,\n",
              "         74241.71844,  75388.88393,  76536.04942,  77683.21491,\n",
              "         78830.3804 ,  79977.54589,  81124.71138,  82271.87687,\n",
              "         83419.04236,  84566.20785,  85713.37334,  86860.53883,\n",
              "         88007.70432,  89154.86981,  90302.0353 ,  91449.20079,\n",
              "         92596.36628,  93743.53177,  94890.69726,  96037.86275,\n",
              "         97185.02824,  98332.19373,  99479.35922, 100626.52471,\n",
              "        101773.6902 , 102920.85569, 104068.02118, 105215.18667,\n",
              "        106362.35216, 107509.51765, 108656.68314, 109803.84863,\n",
              "        110951.01412, 112098.17961, 113245.3451 , 114392.51059,\n",
              "        115539.67608, 116686.84157, 117834.00706, 118981.17255,\n",
              "        120128.33804, 121275.50353, 122422.66902, 123569.83451,\n",
              "        124717.     ]),\n",
              " <a list of 100 Patch objects>)"
            ]
          },
          "metadata": {},
          "execution_count": 36
        },
        {
          "output_type": "display_data",
          "data": {
            "text/plain": [
              "<Figure size 432x288 with 1 Axes>"
            ],
            "image/png": "[encoded data removed]"
          },
          "metadata": {
            "needs_background": "light"
          }
        }
      ],
      "source": [
        "# 히스토그램\n",
        "import matplotlib.pyplot as plt\n",
        "\n",
        "#df_temp = df\n",
        "df_temp = df[df['sales'] > 10000]\n",
        "plt.hist(df_temp['sales'], bins=100)"
      ]
    },
    {
      "cell_type": "code",
      "execution_count": 37,
      "metadata": {
        "execution": {
          "iopub.execute_input": "2022-01-18T11:12:28.781295Z",
          "iopub.status.busy": "2022-01-18T11:12:28.781009Z",
          "iopub.status.idle": "2022-01-18T11:12:54.358895Z",
          "shell.execute_reply": "2022-01-18T11:12:54.358025Z",
          "shell.execute_reply.started": "2022-01-18T11:12:28.781263Z"
        },
        "colab": {
          "base_uri": "https://localhost:8080/",
          "height": 294
        },
        "id": "bv2UhAUFKq6q",
        "outputId": "256d39ce-9a38-4974-e9e2-32f7fe313d9b"
      },
      "outputs": [
        {
          "output_type": "execute_result",
          "data": {
            "text/plain": [
              "<matplotlib.axes._subplots.AxesSubplot at 0x7f6f46bbdb10>"
            ]
          },
          "metadata": {},
          "execution_count": 37
        },
        {
          "output_type": "display_data",
          "data": {
            "text/plain": [
              "<Figure size 432x288 with 1 Axes>"
            ],
            "image/png": "[encoded data removed]"
          },
          "metadata": {
            "needs_background": "light"
          }
        }
      ],
      "source": [
        "# 상자그림\n",
        "df.boxplot()"
      ]
    },
    {
      "cell_type": "code",
      "execution_count": 38,
      "metadata": {
        "execution": {
          "iopub.execute_input": "2022-01-18T11:14:18.088841Z",
          "iopub.status.busy": "2022-01-18T11:14:18.088427Z",
          "iopub.status.idle": "2022-01-18T11:14:26.024876Z",
          "shell.execute_reply": "2022-01-18T11:14:26.023865Z",
          "shell.execute_reply.started": "2022-01-18T11:14:18.088805Z"
        },
        "colab": {
          "base_uri": "https://localhost:8080/",
          "height": 282
        },
        "id": "XTxPdukbKq6r",
        "outputId": "df989df1-3a6a-4a9b-ebef-70b9be899d7e"
      },
      "outputs": [
        {
          "output_type": "execute_result",
          "data": {
            "text/plain": [
              "<matplotlib.axes._subplots.AxesSubplot at 0x7f6f40f6f090>"
            ]
          },
          "metadata": {},
          "execution_count": 38
        },
        {
          "output_type": "display_data",
          "data": {
            "text/plain": [
              "<Figure size 432x288 with 1 Axes>"
            ],
            "image/png": "[encoded data removed]"
          },
          "metadata": {
            "needs_background": "light"
          }
        }
      ],
      "source": [
        "df.boxplot(column=['sales'])"
      ]
    },
    {
      "cell_type": "code",
      "execution_count": 39,
      "metadata": {
        "execution": {
          "iopub.execute_input": "2022-01-18T11:14:45.816950Z",
          "iopub.status.busy": "2022-01-18T11:14:45.816661Z",
          "iopub.status.idle": "2022-01-18T11:14:55.303581Z",
          "shell.execute_reply": "2022-01-18T11:14:55.302053Z",
          "shell.execute_reply.started": "2022-01-18T11:14:45.816907Z"
        },
        "colab": {
          "base_uri": "https://localhost:8080/",
          "height": 296
        },
        "id": "-LE9aWqyKq6r",
        "outputId": "4d782a77-2557-4327-d65d-539a1a33db2b"
      },
      "outputs": [
        {
          "output_type": "execute_result",
          "data": {
            "text/plain": [
              "<matplotlib.axes._subplots.AxesSubplot at 0x7f6f33898e50>"
            ]
          },
          "metadata": {},
          "execution_count": 39
        },
        {
          "output_type": "display_data",
          "data": {
            "text/plain": [
              "<Figure size 432x288 with 1 Axes>"
            ],
            "image/png": "[encoded data removed]"
          },
          "metadata": {
            "needs_background": "light"
          }
        }
      ],
      "source": [
        "# 산점도\n",
        "df.plot.scatter(x='sales', y='onpromotion')"
      ]
    },
    {
      "cell_type": "markdown",
      "metadata": {
        "id": "cgy-pufBKq6r"
      },
      "source": [
        "# **[ 상관분석 ]**"
      ]
    },
    {
      "cell_type": "code",
      "execution_count": 40,
      "metadata": {
        "execution": {
          "iopub.execute_input": "2022-01-18T11:15:29.287064Z",
          "iopub.status.busy": "2022-01-18T11:15:29.286697Z",
          "iopub.status.idle": "2022-01-18T11:15:29.517568Z",
          "shell.execute_reply": "2022-01-18T11:15:29.516713Z",
          "shell.execute_reply.started": "2022-01-18T11:15:29.287027Z"
        },
        "colab": {
          "base_uri": "https://localhost:8080/"
        },
        "id": "9tDcqcP9Kq6r",
        "outputId": "2a3869e9-8e7c-4789-ad5c-631d550d2ba4"
      },
      "outputs": [
        {
          "output_type": "stream",
          "name": "stdout",
          "text": [
            "                   id  store_nbr     sales  onpromotion\n",
            "id           1.000000   0.000301  0.085784     0.206260\n",
            "store_nbr    0.000301   1.000000  0.041196     0.007286\n",
            "sales        0.085784   0.041196  1.000000     0.427923\n",
            "onpromotion  0.206260   0.007286  0.427923     1.000000\n"
          ]
        }
      ],
      "source": [
        "# 상관계수\n",
        "corr = df.corr(method='pearson')\n",
        "print(corr)"
      ]
    },
    {
      "cell_type": "code",
      "execution_count": 41,
      "metadata": {
        "execution": {
          "iopub.execute_input": "2022-01-18T11:16:03.292744Z",
          "iopub.status.busy": "2022-01-18T11:16:03.292269Z",
          "iopub.status.idle": "2022-01-18T11:16:04.619753Z",
          "shell.execute_reply": "2022-01-18T11:16:04.618820Z",
          "shell.execute_reply.started": "2022-01-18T11:16:03.292700Z"
        },
        "colab": {
          "base_uri": "https://localhost:8080/",
          "height": 270
        },
        "id": "YLaGAv_YKq6s",
        "outputId": "2dc09e0c-b7ad-4bc1-b844-be84a743a0c9"
      },
      "outputs": [
        {
          "output_type": "display_data",
          "data": {
            "text/plain": [
              "<Figure size 432x288 with 2 Axes>"
            ],
            "image/png": "[encoded data removed]"
          },
          "metadata": {
            "needs_background": "light"
          }
        }
      ],
      "source": [
        "import seaborn as sns\n",
        "\n",
        "sns.heatmap(corr)\n",
        "plt.show()"
      ]
    },
    {
      "cell_type": "code",
      "execution_count": 42,
      "metadata": {
        "execution": {
          "iopub.execute_input": "2022-01-18T11:16:30.048714Z",
          "iopub.status.busy": "2022-01-18T11:16:30.048219Z",
          "iopub.status.idle": "2022-01-18T11:16:30.400952Z",
          "shell.execute_reply": "2022-01-18T11:16:30.399893Z",
          "shell.execute_reply.started": "2022-01-18T11:16:30.048658Z"
        },
        "colab": {
          "base_uri": "https://localhost:8080/",
          "height": 630
        },
        "id": "KkotyD-kKq6t",
        "outputId": "f711e88e-25e5-4689-b88b-f059cd488944"
      },
      "outputs": [
        {
          "output_type": "stream",
          "name": "stderr",
          "text": [
            "/usr/local/lib/python3.7/dist-packages/ipykernel_launcher.py:2: DeprecationWarning: `np.bool` is a deprecated alias for the builtin `bool`. To silence this warning, use `bool` by itself. Doing this will not modify any behavior and is safe. If you specifically wanted the numpy scalar type, use `np.bool_` here.\n",
            "Deprecated in NumPy 1.20; for more details and guidance: https://numpy.org/devdocs/release/1.20.0-notes.html#deprecations\n",
            "  \n"
          ]
        },
        {
          "output_type": "execute_result",
          "data": {
            "text/plain": [
              "<matplotlib.axes._subplots.AxesSubplot at 0x7f6f21710750>"
            ]
          },
          "metadata": {},
          "execution_count": 42
        },
        {
          "output_type": "display_data",
          "data": {
            "text/plain": [
              "<Figure size 864x648 with 2 Axes>"
            ],
            "image/png": "[encoded data removed]"
          },
          "metadata": {}
        }
      ],
      "source": [
        "sns.set(style=\"white\")\n",
        "mask=np.zeros_like(corr,dtype=np.bool)\n",
        "mask[np.triu_indices_from(mask)]=True\n",
        "\n",
        "f,ax=plt.subplots(figsize=(12,9))\n",
        "cmap=sns.diverging_palette(200,10,as_cmap=True)\n",
        "sns.heatmap(corr,mask=mask,cmap=cmap,center=0,square=True,\n",
        "            linewidths=0.5,cbar_kws={\"shrink\":1},annot=True)"
      ]
    },
    {
      "cell_type": "code",
      "execution_count": 43,
      "metadata": {
        "execution": {
          "iopub.execute_input": "2022-01-18T11:19:14.537112Z",
          "iopub.status.busy": "2022-01-18T11:19:14.536562Z",
          "iopub.status.idle": "2022-01-18T11:19:14.615323Z",
          "shell.execute_reply": "2022-01-18T11:19:14.612381Z",
          "shell.execute_reply.started": "2022-01-18T11:19:14.537076Z"
        },
        "colab": {
          "base_uri": "https://localhost:8080/"
        },
        "id": "yopqT37pKq6u",
        "outputId": "fa74a89d-05ef-443f-9bcd-b662c779d488"
      },
      "outputs": [
        {
          "output_type": "execute_result",
          "data": {
            "text/plain": [
              "(0.4279232048122211, 0.0)"
            ]
          },
          "metadata": {},
          "execution_count": 43
        }
      ],
      "source": [
        "# 상관계수의 검정\n",
        "import scipy.stats as stats\n",
        "df1 = df['sales']\n",
        "df2 = df['onpromotion']\n",
        "stats.pearsonr(df1, df2)"
      ]
    },
    {
      "cell_type": "markdown",
      "metadata": {
        "id": "tURIsiODKq6v"
      },
      "source": [
        "# t-검정"
      ]
    },
    {
      "cell_type": "markdown",
      "metadata": {
        "id": "DGXg6y2XKq6v"
      },
      "source": [
        "### 단일표본 t-검정"
      ]
    },
    {
      "cell_type": "code",
      "execution_count": 44,
      "metadata": {
        "execution": {
          "iopub.execute_input": "2022-01-18T11:22:50.439500Z",
          "iopub.status.busy": "2022-01-18T11:22:50.439221Z",
          "iopub.status.idle": "2022-01-18T11:22:50.446693Z",
          "shell.execute_reply": "2022-01-18T11:22:50.445919Z",
          "shell.execute_reply.started": "2022-01-18T11:22:50.439471Z"
        },
        "colab": {
          "base_uri": "https://localhost:8080/"
        },
        "id": "kYZ3wSy2Kq6w",
        "outputId": "ed8843e5-6dc7-4086-b2ee-84bfb403baee"
      },
      "outputs": [
        {
          "output_type": "stream",
          "name": "stderr",
          "text": [
            "/usr/local/lib/python3.7/dist-packages/scipy/stats/morestats.py:1676: UserWarning: p-value may not be accurate for N > 5000.\n",
            "  warnings.warn(\"p-value may not be accurate for N > 5000.\")\n"
          ]
        },
        {
          "output_type": "execute_result",
          "data": {
            "text/plain": [
              "(0.29215097427368164, 0.0)"
            ]
          },
          "metadata": {},
          "execution_count": 44
        }
      ],
      "source": [
        "# 정규성 검정 - Shaprio-Wilks test\n",
        "# H0: sales 데이터가 정규분포다\n",
        "# H1: sales 데이터가 정규분포가 아니다\n",
        "stats.shapiro(df['sales'].iloc[:20000])"
      ]
    },
    {
      "cell_type": "code",
      "execution_count": 45,
      "metadata": {
        "execution": {
          "iopub.execute_input": "2022-01-18T11:28:04.695879Z",
          "iopub.status.busy": "2022-01-18T11:28:04.695566Z",
          "iopub.status.idle": "2022-01-18T11:28:04.719994Z",
          "shell.execute_reply": "2022-01-18T11:28:04.718917Z",
          "shell.execute_reply.started": "2022-01-18T11:28:04.695845Z"
        },
        "colab": {
          "base_uri": "https://localhost:8080/"
        },
        "id": "PBQwmhmsKq6w",
        "outputId": "ca1584fc-58d1-423e-95a9-3303129e2b29"
      },
      "outputs": [
        {
          "output_type": "execute_result",
          "data": {
            "text/plain": [
              "Ttest_1sampResult(statistic=1.2194541735488387, pvalue=0.2226719549779439)"
            ]
          },
          "metadata": {},
          "execution_count": 45
        }
      ],
      "source": [
        "stats.ttest_1samp(df['sales'], 357)"
      ]
    },
    {
      "cell_type": "markdown",
      "metadata": {
        "id": "12VVFvFbKq6x"
      },
      "source": [
        "### 대응표본 t-검정"
      ]
    },
    {
      "cell_type": "code",
      "execution_count": 50,
      "metadata": {
        "execution": {
          "iopub.execute_input": "2022-01-18T11:29:03.696086Z",
          "iopub.status.busy": "2022-01-18T11:29:03.695449Z",
          "iopub.status.idle": "2022-01-18T11:29:04.577499Z",
          "shell.execute_reply": "2022-01-18T11:29:04.576502Z",
          "shell.execute_reply.started": "2022-01-18T11:29:03.696032Z"
        },
        "id": "MKOZQ8QVKq6y"
      },
      "outputs": [],
      "source": [
        "sales_auto = df['sales'][df['family'] == 'AUTOMOTIVE']\n",
        "sales_beauty = df['sales'][df['family'] == 'BEAUTY']"
      ]
    },
    {
      "cell_type": "code",
      "execution_count": 51,
      "metadata": {
        "execution": {
          "iopub.execute_input": "2022-01-18T11:29:04.952873Z",
          "iopub.status.busy": "2022-01-18T11:29:04.952570Z",
          "iopub.status.idle": "2022-01-18T11:29:04.963770Z",
          "shell.execute_reply": "2022-01-18T11:29:04.962770Z",
          "shell.execute_reply.started": "2022-01-18T11:29:04.952836Z"
        },
        "colab": {
          "base_uri": "https://localhost:8080/"
        },
        "id": "Ipq3PFHZKq6y",
        "outputId": "b2dd3a68-dc73-4f80-d8dc-347a2acfc69a"
      },
      "outputs": [
        {
          "output_type": "stream",
          "name": "stdout",
          "text": [
            "NormaltestResult(statistic=67311.0392276939, pvalue=0.0)\n",
            "NormaltestResult(statistic=63645.9329708086, pvalue=0.0)\n"
          ]
        }
      ],
      "source": [
        "# 정규성 검정 - D’Agostino’s K^2 Test\n",
        "print(stats.normaltest(sales_auto))\n",
        "print(stats.normaltest(sales_beauty))"
      ]
    },
    {
      "cell_type": "code",
      "execution_count": 52,
      "metadata": {
        "execution": {
          "iopub.execute_input": "2022-01-18T11:30:03.775411Z",
          "iopub.status.busy": "2022-01-18T11:30:03.775142Z",
          "iopub.status.idle": "2022-01-18T11:30:03.814960Z",
          "shell.execute_reply": "2022-01-18T11:30:03.813281Z",
          "shell.execute_reply.started": "2022-01-18T11:30:03.775383Z"
        },
        "colab": {
          "base_uri": "https://localhost:8080/"
        },
        "id": "bZJT5MVaKq6z",
        "outputId": "5297d535-533f-4394-8e5a-6bf5af9b62c3"
      },
      "outputs": [
        {
          "output_type": "execute_result",
          "data": {
            "text/plain": [
              "Ttest_relResult(statistic=560.9545020911651, pvalue=0.0)"
            ]
          },
          "metadata": {},
          "execution_count": 52
        }
      ],
      "source": [
        "stats.ttest_rel(df['sales'], df['onpromotion'])"
      ]
    },
    {
      "cell_type": "markdown",
      "metadata": {
        "execution": {
          "iopub.execute_input": "2022-01-18T09:45:37.010835Z",
          "iopub.status.busy": "2022-01-18T09:45:37.010552Z",
          "iopub.status.idle": "2022-01-18T09:45:37.014305Z",
          "shell.execute_reply": "2022-01-18T09:45:37.013689Z",
          "shell.execute_reply.started": "2022-01-18T09:45:37.010807Z"
        },
        "id": "dOUzFH8iKq6z"
      },
      "source": [
        "### 독립표본 t-검정\n",
        "\n"
      ]
    },
    {
      "cell_type": "code",
      "execution_count": 53,
      "metadata": {
        "execution": {
          "iopub.execute_input": "2022-01-18T11:30:48.174127Z",
          "iopub.status.busy": "2022-01-18T11:30:48.173829Z",
          "iopub.status.idle": "2022-01-18T11:30:48.899810Z",
          "shell.execute_reply": "2022-01-18T11:30:48.898723Z",
          "shell.execute_reply.started": "2022-01-18T11:30:48.174097Z"
        },
        "colab": {
          "base_uri": "https://localhost:8080/"
        },
        "id": "zgXvfN_EKq6z",
        "outputId": "4fe60cc4-4be4-47f1-d5cf-b3e79ed4236f"
      },
      "outputs": [
        {
          "output_type": "stream",
          "name": "stdout",
          "text": [
            "KstestResult(statistic=0.6257595758449808, pvalue=0.0)\n",
            "KstestResult(statistic=0.5, pvalue=0.0)\n"
          ]
        }
      ],
      "source": [
        "# 정규성 검정 Kolmogorove-Smirnov test\n",
        "print(stats.kstest(df['sales'], 'norm'))\n",
        "print(stats.kstest(df['onpromotion'], 'norm'))"
      ]
    },
    {
      "cell_type": "code",
      "execution_count": 54,
      "metadata": {
        "execution": {
          "iopub.execute_input": "2022-01-18T11:31:06.129802Z",
          "iopub.status.busy": "2022-01-18T11:31:06.129515Z",
          "iopub.status.idle": "2022-01-18T11:31:06.243766Z",
          "shell.execute_reply": "2022-01-18T11:31:06.242859Z",
          "shell.execute_reply.started": "2022-01-18T11:31:06.129773Z"
        },
        "colab": {
          "base_uri": "https://localhost:8080/"
        },
        "id": "MjVZc0RGKq60",
        "outputId": "e79628e9-4010-416d-d6b6-d2284f935b37"
      },
      "outputs": [
        {
          "output_type": "execute_result",
          "data": {
            "text/plain": [
              "LeveneResult(statistic=310553.8379904399, pvalue=0.0)"
            ]
          },
          "metadata": {},
          "execution_count": 54
        }
      ],
      "source": [
        "# 등분산성 검정\n",
        "stats.levene(df['sales'], df['onpromotion'])"
      ]
    },
    {
      "cell_type": "code",
      "execution_count": 55,
      "metadata": {
        "execution": {
          "iopub.execute_input": "2022-01-18T11:31:36.589045Z",
          "iopub.status.busy": "2022-01-18T11:31:36.588748Z",
          "iopub.status.idle": "2022-01-18T11:31:36.632310Z",
          "shell.execute_reply": "2022-01-18T11:31:36.631635Z",
          "shell.execute_reply.started": "2022-01-18T11:31:36.589014Z"
        },
        "colab": {
          "base_uri": "https://localhost:8080/"
        },
        "id": "bDfvnlEcKq60",
        "outputId": "f75eaa68-3720-46ad-e994-7ac4408c6d47"
      },
      "outputs": [
        {
          "output_type": "execute_result",
          "data": {
            "text/plain": [
              "Ttest_indResult(statistic=558.2868772831957, pvalue=0.0)"
            ]
          },
          "metadata": {},
          "execution_count": 55
        }
      ],
      "source": [
        "stats.ttest_ind(df['sales'], df['onpromotion'])"
      ]
    },
    {
      "cell_type": "markdown",
      "metadata": {
        "id": "rTiEuH8oKq60"
      },
      "source": [
        "# 분산분석(ANOVA)"
      ]
    },
    {
      "cell_type": "markdown",
      "metadata": {
        "id": "OHH37LQ9Kq61"
      },
      "source": [
        "### 일원배치 분산분석"
      ]
    },
    {
      "cell_type": "code",
      "execution_count": 56,
      "metadata": {
        "execution": {
          "iopub.execute_input": "2022-01-18T11:45:46.075694Z",
          "iopub.status.busy": "2022-01-18T11:45:46.075361Z",
          "iopub.status.idle": "2022-01-18T11:45:47.404849Z",
          "shell.execute_reply": "2022-01-18T11:45:47.404117Z",
          "shell.execute_reply.started": "2022-01-18T11:45:46.075657Z"
        },
        "colab": {
          "base_uri": "https://localhost:8080/"
        },
        "id": "N9VGoxOjKq61",
        "outputId": "c9941bea-f572-4798-9aac-4b9efbb39801"
      },
      "outputs": [
        {
          "output_type": "execute_result",
          "data": {
            "text/plain": [
              "F_onewayResult(statistic=677.4777718168455, pvalue=5.323937710306516e-266)"
            ]
          },
          "metadata": {},
          "execution_count": 56
        }
      ],
      "source": [
        "sales_auto = df['sales'][df['family'] == 'AUTOMOTIVE'][:2000]\n",
        "sales_beauty = df['sales'][df['family'] == 'BEAUTY'][:2000]\n",
        "sales_book = df['sales'][df['family'] == 'BOOKS'][:2000]\n",
        "\n",
        "\n",
        "# f-test\n",
        "stats.f_oneway(sales_auto, sales_beauty, sales_book)"
      ]
    },
    {
      "cell_type": "code",
      "execution_count": 57,
      "metadata": {
        "execution": {
          "iopub.execute_input": "2022-01-18T11:46:37.970783Z",
          "iopub.status.busy": "2022-01-18T11:46:37.970486Z",
          "iopub.status.idle": "2022-01-18T11:46:38.201721Z",
          "shell.execute_reply": "2022-01-18T11:46:38.200794Z",
          "shell.execute_reply.started": "2022-01-18T11:46:37.970751Z"
        },
        "colab": {
          "base_uri": "https://localhost:8080/"
        },
        "id": "mKeZLMEtKq61",
        "outputId": "725d5306-0aa8-48a8-dbcd-efe9c5c689f8"
      },
      "outputs": [
        {
          "output_type": "stream",
          "name": "stderr",
          "text": [
            "/usr/local/lib/python3.7/dist-packages/statsmodels/tools/_testing.py:19: FutureWarning: pandas.util.testing is deprecated. Use the functions in the public API at pandas.testing instead.\n",
            "  import pandas.util.testing as tm\n"
          ]
        }
      ],
      "source": [
        "from statsmodels.formula.api import ols\n",
        "from statsmodels.stats.anova import anova_lm"
      ]
    },
    {
      "cell_type": "code",
      "execution_count": 58,
      "metadata": {
        "execution": {
          "iopub.execute_input": "2022-01-18T10:02:00.017704Z",
          "iopub.status.busy": "2022-01-18T10:02:00.017422Z",
          "iopub.status.idle": "2022-01-18T10:02:26.238210Z",
          "shell.execute_reply": "2022-01-18T10:02:26.236895Z",
          "shell.execute_reply.started": "2022-01-18T10:02:00.017674Z"
        },
        "colab": {
          "base_uri": "https://localhost:8080/",
          "height": 112
        },
        "id": "iBnpM_vWKq61",
        "outputId": "8297a520-cc8c-44a6-a6ed-b90674617bac"
      },
      "outputs": [
        {
          "output_type": "execute_result",
          "data": {
            "text/plain": [
              "                  df        sum_sq       mean_sq            F  PR(>F)\n",
              "C(family)       32.0  1.810352e+12  5.657350e+10  92571.48346     0.0\n",
              "Residual   3000855.0  1.833922e+12  6.111332e+05          NaN     NaN"
            ],
            "text/html": [
              "\n",
              "  <div id=\"df-ef1dc997-ec12-4b73-82eb-4f905858a7c2\">\n",
              "    <div class=\"colab-df-container\">\n",
              "      <div>\n",
              "<style scoped>\n",
              "    .dataframe tbody tr th:only-of-type {\n",
              "        vertical-align: middle;\n",
              "    }\n",
              "\n",
              "    .dataframe tbody tr th {\n",
              "        vertical-align: top;\n",
              "    }\n",
              "\n",
              "    .dataframe thead th {\n",
              "        text-align: right;\n",
              "    }\n",
              "</style>\n",
              "<table border=\"1\" class=\"dataframe\">\n",
              "  <thead>\n",
              "    <tr style=\"text-align: right;\">\n",
              "      <th></th>\n",
              "      <th>df</th>\n",
              "      <th>sum_sq</th>\n",
              "      <th>mean_sq</th>\n",
              "      <th>F</th>\n",
              "      <th>PR(&gt;F)</th>\n",
              "    </tr>\n",
              "  </thead>\n",
              "  <tbody>\n",
              "    <tr>\n",
              "      <th>C(family)</th>\n",
              "      <td>32.0</td>\n",
              "      <td>1.810352e+12</td>\n",
              "      <td>5.657350e+10</td>\n",
              "      <td>92571.48346</td>\n",
              "      <td>0.0</td>\n",
              "    </tr>\n",
              "    <tr>\n",
              "      <th>Residual</th>\n",
              "      <td>3000855.0</td>\n",
              "      <td>1.833922e+12</td>\n",
              "      <td>6.111332e+05</td>\n",
              "      <td>NaN</td>\n",
              "      <td>NaN</td>\n",
              "    </tr>\n",
              "  </tbody>\n",
              "</table>\n",
              "</div>\n",
              "      <button class=\"colab-df-convert\" onclick=\"convertToInteractive('df-ef1dc997-ec12-4b73-82eb-4f905858a7c2')\"\n",
              "              title=\"Convert this dataframe to an interactive table.\"\n",
              "              style=\"display:none;\">\n",
              "        \n",
              "  <svg xmlns=\"http://www.w3.org/2000/svg\" height=\"24px\"viewBox=\"0 0 24 24\"\n",
              "       width=\"24px\">\n",
              "    <path d=\"M0 0h24v24H0V0z\" fill=\"none\"/>\n",
              "    <path d=\"M18.56 5.44l.94 2.06.94-2.06 2.06-.94-2.06-.94-.94-2.06-.94 2.06-2.06.94zm-11 1L8.5 8.5l.94-2.06 2.06-.94-2.06-.94L8.5 2.5l-.94 2.06-2.06.94zm10 10l.94 2.06.94-2.06 2.06-.94-2.06-.94-.94-2.06-.94 2.06-2.06.94z\"/><path d=\"M17.41 7.96l-1.37-1.37c-.4-.4-.92-.59-1.43-.59-.52 0-1.04.2-1.43.59L10.3 9.45l-7.72 7.72c-.78.78-.78 2.05 0 2.83L4 21.41c.39.39.9.59 1.41.59.51 0 1.02-.2 1.41-.59l7.78-7.78 2.81-2.81c.8-.78.8-2.07 0-2.86zM5.41 20L4 18.59l7.72-7.72 1.47 1.35L5.41 20z\"/>\n",
              "  </svg>\n",
              "      </button>\n",
              "      \n",
              "  <style>\n",
              "    .colab-df-container {\n",
              "      display:flex;\n",
              "      flex-wrap:wrap;\n",
              "      gap: 12px;\n",
              "    }\n",
              "\n",
              "    .colab-df-convert {\n",
              "      background-color: #E8F0FE;\n",
              "      border: none;\n",
              "      border-radius: 50%;\n",
              "      cursor: pointer;\n",
              "      display: none;\n",
              "      fill: #1967D2;\n",
              "      height: 32px;\n",
              "      padding: 0 0 0 0;\n",
              "      width: 32px;\n",
              "    }\n",
              "\n",
              "    .colab-df-convert:hover {\n",
              "      background-color: #E2EBFA;\n",
              "      box-shadow: 0px 1px 2px rgba(60, 64, 67, 0.3), 0px 1px 3px 1px rgba(60, 64, 67, 0.15);\n",
              "      fill: #174EA6;\n",
              "    }\n",
              "\n",
              "    [theme=dark] .colab-df-convert {\n",
              "      background-color: #3B4455;\n",
              "      fill: #D2E3FC;\n",
              "    }\n",
              "\n",
              "    [theme=dark] .colab-df-convert:hover {\n",
              "      background-color: #434B5C;\n",
              "      box-shadow: 0px 1px 3px 1px rgba(0, 0, 0, 0.15);\n",
              "      filter: drop-shadow(0px 1px 2px rgba(0, 0, 0, 0.3));\n",
              "      fill: #FFFFFF;\n",
              "    }\n",
              "  </style>\n",
              "\n",
              "      <script>\n",
              "        const buttonEl =\n",
              "          document.querySelector('#df-ef1dc997-ec12-4b73-82eb-4f905858a7c2 button.colab-df-convert');\n",
              "        buttonEl.style.display =\n",
              "          google.colab.kernel.accessAllowed ? 'block' : 'none';\n",
              "\n",
              "        async function convertToInteractive(key) {\n",
              "          const element = document.querySelector('#df-ef1dc997-ec12-4b73-82eb-4f905858a7c2');\n",
              "          const dataTable =\n",
              "            await google.colab.kernel.invokeFunction('convertToInteractive',\n",
              "                                                     [key], {});\n",
              "          if (!dataTable) return;\n",
              "\n",
              "          const docLinkHtml = 'Like what you see? Visit the ' +\n",
              "            '<a target=\"_blank\" href=https://colab.research.google.com/notebooks/data_table.ipynb>data table notebook</a>'\n",
              "            + ' to learn more about interactive tables.';\n",
              "          element.innerHTML = '';\n",
              "          dataTable['output_type'] = 'display_data';\n",
              "          await google.colab.output.renderOutput(dataTable, element);\n",
              "          const docLink = document.createElement('div');\n",
              "          docLink.innerHTML = docLinkHtml;\n",
              "          element.appendChild(docLink);\n",
              "        }\n",
              "      </script>\n",
              "    </div>\n",
              "  </div>\n",
              "  "
            ]
          },
          "metadata": {},
          "execution_count": 58
        }
      ],
      "source": [
        "model = ols('sales ~ C(family)', df).fit()\n",
        "anova_lm(model)"
      ]
    },
    {
      "cell_type": "markdown",
      "metadata": {
        "id": "dlRADS-nKq62"
      },
      "source": [
        "### 이원배치 분산분석"
      ]
    },
    {
      "cell_type": "markdown",
      "metadata": {
        "id": "CZYASkXTKq62"
      },
      "source": [
        "H0: family와 store_nbr 간 교호작용이 없다.\n",
        "<br>\n",
        "H1: family와 store_nbr 간 교호작용이 존재한다."
      ]
    },
    {
      "cell_type": "code",
      "execution_count": 59,
      "metadata": {
        "execution": {
          "iopub.execute_input": "2022-01-18T10:07:01.171684Z",
          "iopub.status.busy": "2022-01-18T10:07:01.170738Z",
          "iopub.status.idle": "2022-01-18T10:07:07.334855Z",
          "shell.execute_reply": "2022-01-18T10:07:07.333674Z",
          "shell.execute_reply.started": "2022-01-18T10:07:01.171639Z"
        },
        "colab": {
          "base_uri": "https://localhost:8080/",
          "height": 174
        },
        "id": "Ygj6jDC1Kq62",
        "outputId": "9964036c-7b7b-463d-cb30-d89fbc353355"
      },
      "outputs": [
        {
          "output_type": "execute_result",
          "data": {
            "text/plain": [
              "                            df        sum_sq        mean_sq         F  \\\n",
              "C(family)                 32.0  1.238075e+07  386898.459649  1.139230   \n",
              "C(store_nbr)              53.0  7.370763e+06  139070.998820  0.409497   \n",
              "C(family):C(store_nbr)  1696.0  5.381944e+07   31733.162026  0.093439   \n",
              "Residual                 218.0  7.403585e+07  339614.009385       NaN   \n",
              "\n",
              "                          PR(>F)  \n",
              "C(family)               0.287803  \n",
              "C(store_nbr)            0.999891  \n",
              "C(family):C(store_nbr)  1.000000  \n",
              "Residual                     NaN  "
            ],
            "text/html": [
              "\n",
              "  <div id=\"df-46d57ee4-d5b0-46e4-9b06-1bae62c6e430\">\n",
              "    <div class=\"colab-df-container\">\n",
              "      <div>\n",
              "<style scoped>\n",
              "    .dataframe tbody tr th:only-of-type {\n",
              "        vertical-align: middle;\n",
              "    }\n",
              "\n",
              "    .dataframe tbody tr th {\n",
              "        vertical-align: top;\n",
              "    }\n",
              "\n",
              "    .dataframe thead th {\n",
              "        text-align: right;\n",
              "    }\n",
              "</style>\n",
              "<table border=\"1\" class=\"dataframe\">\n",
              "  <thead>\n",
              "    <tr style=\"text-align: right;\">\n",
              "      <th></th>\n",
              "      <th>df</th>\n",
              "      <th>sum_sq</th>\n",
              "      <th>mean_sq</th>\n",
              "      <th>F</th>\n",
              "      <th>PR(&gt;F)</th>\n",
              "    </tr>\n",
              "  </thead>\n",
              "  <tbody>\n",
              "    <tr>\n",
              "      <th>C(family)</th>\n",
              "      <td>32.0</td>\n",
              "      <td>1.238075e+07</td>\n",
              "      <td>386898.459649</td>\n",
              "      <td>1.139230</td>\n",
              "      <td>0.287803</td>\n",
              "    </tr>\n",
              "    <tr>\n",
              "      <th>C(store_nbr)</th>\n",
              "      <td>53.0</td>\n",
              "      <td>7.370763e+06</td>\n",
              "      <td>139070.998820</td>\n",
              "      <td>0.409497</td>\n",
              "      <td>0.999891</td>\n",
              "    </tr>\n",
              "    <tr>\n",
              "      <th>C(family):C(store_nbr)</th>\n",
              "      <td>1696.0</td>\n",
              "      <td>5.381944e+07</td>\n",
              "      <td>31733.162026</td>\n",
              "      <td>0.093439</td>\n",
              "      <td>1.000000</td>\n",
              "    </tr>\n",
              "    <tr>\n",
              "      <th>Residual</th>\n",
              "      <td>218.0</td>\n",
              "      <td>7.403585e+07</td>\n",
              "      <td>339614.009385</td>\n",
              "      <td>NaN</td>\n",
              "      <td>NaN</td>\n",
              "    </tr>\n",
              "  </tbody>\n",
              "</table>\n",
              "</div>\n",
              "      <button class=\"colab-df-convert\" onclick=\"convertToInteractive('df-46d57ee4-d5b0-46e4-9b06-1bae62c6e430')\"\n",
              "              title=\"Convert this dataframe to an interactive table.\"\n",
              "              style=\"display:none;\">\n",
              "        \n",
              "  <svg xmlns=\"http://www.w3.org/2000/svg\" height=\"24px\"viewBox=\"0 0 24 24\"\n",
              "       width=\"24px\">\n",
              "    <path d=\"M0 0h24v24H0V0z\" fill=\"none\"/>\n",
              "    <path d=\"M18.56 5.44l.94 2.06.94-2.06 2.06-.94-2.06-.94-.94-2.06-.94 2.06-2.06.94zm-11 1L8.5 8.5l.94-2.06 2.06-.94-2.06-.94L8.5 2.5l-.94 2.06-2.06.94zm10 10l.94 2.06.94-2.06 2.06-.94-2.06-.94-.94-2.06-.94 2.06-2.06.94z\"/><path d=\"M17.41 7.96l-1.37-1.37c-.4-.4-.92-.59-1.43-.59-.52 0-1.04.2-1.43.59L10.3 9.45l-7.72 7.72c-.78.78-.78 2.05 0 2.83L4 21.41c.39.39.9.59 1.41.59.51 0 1.02-.2 1.41-.59l7.78-7.78 2.81-2.81c.8-.78.8-2.07 0-2.86zM5.41 20L4 18.59l7.72-7.72 1.47 1.35L5.41 20z\"/>\n",
              "  </svg>\n",
              "      </button>\n",
              "      \n",
              "  <style>\n",
              "    .colab-df-container {\n",
              "      display:flex;\n",
              "      flex-wrap:wrap;\n",
              "      gap: 12px;\n",
              "    }\n",
              "\n",
              "    .colab-df-convert {\n",
              "      background-color: #E8F0FE;\n",
              "      border: none;\n",
              "      border-radius: 50%;\n",
              "      cursor: pointer;\n",
              "      display: none;\n",
              "      fill: #1967D2;\n",
              "      height: 32px;\n",
              "      padding: 0 0 0 0;\n",
              "      width: 32px;\n",
              "    }\n",
              "\n",
              "    .colab-df-convert:hover {\n",
              "      background-color: #E2EBFA;\n",
              "      box-shadow: 0px 1px 2px rgba(60, 64, 67, 0.3), 0px 1px 3px 1px rgba(60, 64, 67, 0.15);\n",
              "      fill: #174EA6;\n",
              "    }\n",
              "\n",
              "    [theme=dark] .colab-df-convert {\n",
              "      background-color: #3B4455;\n",
              "      fill: #D2E3FC;\n",
              "    }\n",
              "\n",
              "    [theme=dark] .colab-df-convert:hover {\n",
              "      background-color: #434B5C;\n",
              "      box-shadow: 0px 1px 3px 1px rgba(0, 0, 0, 0.15);\n",
              "      filter: drop-shadow(0px 1px 2px rgba(0, 0, 0, 0.3));\n",
              "      fill: #FFFFFF;\n",
              "    }\n",
              "  </style>\n",
              "\n",
              "      <script>\n",
              "        const buttonEl =\n",
              "          document.querySelector('#df-46d57ee4-d5b0-46e4-9b06-1bae62c6e430 button.colab-df-convert');\n",
              "        buttonEl.style.display =\n",
              "          google.colab.kernel.accessAllowed ? 'block' : 'none';\n",
              "\n",
              "        async function convertToInteractive(key) {\n",
              "          const element = document.querySelector('#df-46d57ee4-d5b0-46e4-9b06-1bae62c6e430');\n",
              "          const dataTable =\n",
              "            await google.colab.kernel.invokeFunction('convertToInteractive',\n",
              "                                                     [key], {});\n",
              "          if (!dataTable) return;\n",
              "\n",
              "          const docLinkHtml = 'Like what you see? Visit the ' +\n",
              "            '<a target=\"_blank\" href=https://colab.research.google.com/notebooks/data_table.ipynb>data table notebook</a>'\n",
              "            + ' to learn more about interactive tables.';\n",
              "          element.innerHTML = '';\n",
              "          dataTable['output_type'] = 'display_data';\n",
              "          await google.colab.output.renderOutput(dataTable, element);\n",
              "          const docLink = document.createElement('div');\n",
              "          docLink.innerHTML = docLinkHtml;\n",
              "          element.appendChild(docLink);\n",
              "        }\n",
              "      </script>\n",
              "    </div>\n",
              "  </div>\n",
              "  "
            ]
          },
          "metadata": {},
          "execution_count": 59
        }
      ],
      "source": [
        "df_temp = df.iloc[:2000]\n",
        "model = ols('sales ~ C(family) + C(store_nbr) + C(family):C(store_nbr)', df_temp).fit()\n",
        "anova_lm(model)"
      ]
    },
    {
      "cell_type": "markdown",
      "metadata": {
        "id": "mOdo87W9Kq63"
      },
      "source": [
        "### 다변량 분산분석"
      ]
    },
    {
      "cell_type": "markdown",
      "metadata": {
        "id": "m9Tn77MVKq63"
      },
      "source": [
        "# 교차분석"
      ]
    },
    {
      "cell_type": "code",
      "source": [
        "final_path2 = os.path.join(base_path, dir_path, \"holidays_events.csv\")\n",
        "final_path2"
      ],
      "metadata": {
        "colab": {
          "base_uri": "https://localhost:8080/",
          "height": 35
        },
        "id": "JxiPdRInTgKB",
        "outputId": "5cad2497-99bb-4ba6-96d0-f9009e0d851d"
      },
      "execution_count": 64,
      "outputs": [
        {
          "output_type": "execute_result",
          "data": {
            "text/plain": [
              "'/content/drive/My Drive/Colab Notebooks/Data/holidays_events.csv'"
            ],
            "application/vnd.google.colaboratory.intrinsic+json": {
              "type": "string"
            }
          },
          "metadata": {},
          "execution_count": 64
        }
      ]
    },
    {
      "cell_type": "code",
      "execution_count": 66,
      "metadata": {
        "execution": {
          "iopub.execute_input": "2022-01-18T11:59:39.706154Z",
          "iopub.status.busy": "2022-01-18T11:59:39.705746Z",
          "iopub.status.idle": "2022-01-18T11:59:39.737734Z",
          "shell.execute_reply": "2022-01-18T11:59:39.736848Z",
          "shell.execute_reply.started": "2022-01-18T11:59:39.706108Z"
        },
        "colab": {
          "base_uri": "https://localhost:8080/",
          "height": 423
        },
        "id": "abS8X75nKq65",
        "outputId": "c706fd61-7aa5-4e4d-d731-8dff28abead7"
      },
      "outputs": [
        {
          "output_type": "execute_result",
          "data": {
            "text/plain": [
              "           date        type    locale locale_name  \\\n",
              "0    2012-03-02     Holiday     Local       Manta   \n",
              "1    2012-04-01     Holiday  Regional    Cotopaxi   \n",
              "2    2012-04-12     Holiday     Local      Cuenca   \n",
              "3    2012-04-14     Holiday     Local    Libertad   \n",
              "4    2012-04-21     Holiday     Local    Riobamba   \n",
              "..          ...         ...       ...         ...   \n",
              "345  2017-12-22  Additional  National     Ecuador   \n",
              "346  2017-12-23  Additional  National     Ecuador   \n",
              "347  2017-12-24  Additional  National     Ecuador   \n",
              "348  2017-12-25     Holiday  National     Ecuador   \n",
              "349  2017-12-26  Additional  National     Ecuador   \n",
              "\n",
              "                       description  transferred  \n",
              "0               Fundacion de Manta        False  \n",
              "1    Provincializacion de Cotopaxi        False  \n",
              "2              Fundacion de Cuenca        False  \n",
              "3        Cantonizacion de Libertad        False  \n",
              "4        Cantonizacion de Riobamba        False  \n",
              "..                             ...          ...  \n",
              "345                      Navidad-3        False  \n",
              "346                      Navidad-2        False  \n",
              "347                      Navidad-1        False  \n",
              "348                        Navidad        False  \n",
              "349                      Navidad+1        False  \n",
              "\n",
              "[350 rows x 6 columns]"
            ],
            "text/html": [
              "\n",
              "  <div id=\"df-2bd9bb3a-e8ce-44c6-b475-538d30443c97\">\n",
              "    <div class=\"colab-df-container\">\n",
              "      <div>\n",
              "<style scoped>\n",
              "    .dataframe tbody tr th:only-of-type {\n",
              "        vertical-align: middle;\n",
              "    }\n",
              "\n",
              "    .dataframe tbody tr th {\n",
              "        vertical-align: top;\n",
              "    }\n",
              "\n",
              "    .dataframe thead th {\n",
              "        text-align: right;\n",
              "    }\n",
              "</style>\n",
              "<table border=\"1\" class=\"dataframe\">\n",
              "  <thead>\n",
              "    <tr style=\"text-align: right;\">\n",
              "      <th></th>\n",
              "      <th>date</th>\n",
              "      <th>type</th>\n",
              "      <th>locale</th>\n",
              "      <th>locale_name</th>\n",
              "      <th>description</th>\n",
              "      <th>transferred</th>\n",
              "    </tr>\n",
              "  </thead>\n",
              "  <tbody>\n",
              "    <tr>\n",
              "      <th>0</th>\n",
              "      <td>2012-03-02</td>\n",
              "      <td>Holiday</td>\n",
              "      <td>Local</td>\n",
              "      <td>Manta</td>\n",
              "      <td>Fundacion de Manta</td>\n",
              "      <td>False</td>\n",
              "    </tr>\n",
              "    <tr>\n",
              "      <th>1</th>\n",
              "      <td>2012-04-01</td>\n",
              "      <td>Holiday</td>\n",
              "      <td>Regional</td>\n",
              "      <td>Cotopaxi</td>\n",
              "      <td>Provincializacion de Cotopaxi</td>\n",
              "      <td>False</td>\n",
              "    </tr>\n",
              "    <tr>\n",
              "      <th>2</th>\n",
              "      <td>2012-04-12</td>\n",
              "      <td>Holiday</td>\n",
              "      <td>Local</td>\n",
              "      <td>Cuenca</td>\n",
              "      <td>Fundacion de Cuenca</td>\n",
              "      <td>False</td>\n",
              "    </tr>\n",
              "    <tr>\n",
              "      <th>3</th>\n",
              "      <td>2012-04-14</td>\n",
              "      <td>Holiday</td>\n",
              "      <td>Local</td>\n",
              "      <td>Libertad</td>\n",
              "      <td>Cantonizacion de Libertad</td>\n",
              "      <td>False</td>\n",
              "    </tr>\n",
              "    <tr>\n",
              "      <th>4</th>\n",
              "      <td>2012-04-21</td>\n",
              "      <td>Holiday</td>\n",
              "      <td>Local</td>\n",
              "      <td>Riobamba</td>\n",
              "      <td>Cantonizacion de Riobamba</td>\n",
              "      <td>False</td>\n",
              "    </tr>\n",
              "    <tr>\n",
              "      <th>...</th>\n",
              "      <td>...</td>\n",
              "      <td>...</td>\n",
              "      <td>...</td>\n",
              "      <td>...</td>\n",
              "      <td>...</td>\n",
              "      <td>...</td>\n",
              "    </tr>\n",
              "    <tr>\n",
              "      <th>345</th>\n",
              "      <td>2017-12-22</td>\n",
              "      <td>Additional</td>\n",
              "      <td>National</td>\n",
              "      <td>Ecuador</td>\n",
              "      <td>Navidad-3</td>\n",
              "      <td>False</td>\n",
              "    </tr>\n",
              "    <tr>\n",
              "      <th>346</th>\n",
              "      <td>2017-12-23</td>\n",
              "      <td>Additional</td>\n",
              "      <td>National</td>\n",
              "      <td>Ecuador</td>\n",
              "      <td>Navidad-2</td>\n",
              "      <td>False</td>\n",
              "    </tr>\n",
              "    <tr>\n",
              "      <th>347</th>\n",
              "      <td>2017-12-24</td>\n",
              "      <td>Additional</td>\n",
              "      <td>National</td>\n",
              "      <td>Ecuador</td>\n",
              "      <td>Navidad-1</td>\n",
              "      <td>False</td>\n",
              "    </tr>\n",
              "    <tr>\n",
              "      <th>348</th>\n",
              "      <td>2017-12-25</td>\n",
              "      <td>Holiday</td>\n",
              "      <td>National</td>\n",
              "      <td>Ecuador</td>\n",
              "      <td>Navidad</td>\n",
              "      <td>False</td>\n",
              "    </tr>\n",
              "    <tr>\n",
              "      <th>349</th>\n",
              "      <td>2017-12-26</td>\n",
              "      <td>Additional</td>\n",
              "      <td>National</td>\n",
              "      <td>Ecuador</td>\n",
              "      <td>Navidad+1</td>\n",
              "      <td>False</td>\n",
              "    </tr>\n",
              "  </tbody>\n",
              "</table>\n",
              "<p>350 rows × 6 columns</p>\n",
              "</div>\n",
              "      <button class=\"colab-df-convert\" onclick=\"convertToInteractive('df-2bd9bb3a-e8ce-44c6-b475-538d30443c97')\"\n",
              "              title=\"Convert this dataframe to an interactive table.\"\n",
              "              style=\"display:none;\">\n",
              "        \n",
              "  <svg xmlns=\"http://www.w3.org/2000/svg\" height=\"24px\"viewBox=\"0 0 24 24\"\n",
              "       width=\"24px\">\n",
              "    <path d=\"M0 0h24v24H0V0z\" fill=\"none\"/>\n",
              "    <path d=\"M18.56 5.44l.94 2.06.94-2.06 2.06-.94-2.06-.94-.94-2.06-.94 2.06-2.06.94zm-11 1L8.5 8.5l.94-2.06 2.06-.94-2.06-.94L8.5 2.5l-.94 2.06-2.06.94zm10 10l.94 2.06.94-2.06 2.06-.94-2.06-.94-.94-2.06-.94 2.06-2.06.94z\"/><path d=\"M17.41 7.96l-1.37-1.37c-.4-.4-.92-.59-1.43-.59-.52 0-1.04.2-1.43.59L10.3 9.45l-7.72 7.72c-.78.78-.78 2.05 0 2.83L4 21.41c.39.39.9.59 1.41.59.51 0 1.02-.2 1.41-.59l7.78-7.78 2.81-2.81c.8-.78.8-2.07 0-2.86zM5.41 20L4 18.59l7.72-7.72 1.47 1.35L5.41 20z\"/>\n",
              "  </svg>\n",
              "      </button>\n",
              "      \n",
              "  <style>\n",
              "    .colab-df-container {\n",
              "      display:flex;\n",
              "      flex-wrap:wrap;\n",
              "      gap: 12px;\n",
              "    }\n",
              "\n",
              "    .colab-df-convert {\n",
              "      background-color: #E8F0FE;\n",
              "      border: none;\n",
              "      border-radius: 50%;\n",
              "      cursor: pointer;\n",
              "      display: none;\n",
              "      fill: #1967D2;\n",
              "      height: 32px;\n",
              "      padding: 0 0 0 0;\n",
              "      width: 32px;\n",
              "    }\n",
              "\n",
              "    .colab-df-convert:hover {\n",
              "      background-color: #E2EBFA;\n",
              "      box-shadow: 0px 1px 2px rgba(60, 64, 67, 0.3), 0px 1px 3px 1px rgba(60, 64, 67, 0.15);\n",
              "      fill: #174EA6;\n",
              "    }\n",
              "\n",
              "    [theme=dark] .colab-df-convert {\n",
              "      background-color: #3B4455;\n",
              "      fill: #D2E3FC;\n",
              "    }\n",
              "\n",
              "    [theme=dark] .colab-df-convert:hover {\n",
              "      background-color: #434B5C;\n",
              "      box-shadow: 0px 1px 3px 1px rgba(0, 0, 0, 0.15);\n",
              "      filter: drop-shadow(0px 1px 2px rgba(0, 0, 0, 0.3));\n",
              "      fill: #FFFFFF;\n",
              "    }\n",
              "  </style>\n",
              "\n",
              "      <script>\n",
              "        const buttonEl =\n",
              "          document.querySelector('#df-2bd9bb3a-e8ce-44c6-b475-538d30443c97 button.colab-df-convert');\n",
              "        buttonEl.style.display =\n",
              "          google.colab.kernel.accessAllowed ? 'block' : 'none';\n",
              "\n",
              "        async function convertToInteractive(key) {\n",
              "          const element = document.querySelector('#df-2bd9bb3a-e8ce-44c6-b475-538d30443c97');\n",
              "          const dataTable =\n",
              "            await google.colab.kernel.invokeFunction('convertToInteractive',\n",
              "                                                     [key], {});\n",
              "          if (!dataTable) return;\n",
              "\n",
              "          const docLinkHtml = 'Like what you see? Visit the ' +\n",
              "            '<a target=\"_blank\" href=https://colab.research.google.com/notebooks/data_table.ipynb>data table notebook</a>'\n",
              "            + ' to learn more about interactive tables.';\n",
              "          element.innerHTML = '';\n",
              "          dataTable['output_type'] = 'display_data';\n",
              "          await google.colab.output.renderOutput(dataTable, element);\n",
              "          const docLink = document.createElement('div');\n",
              "          docLink.innerHTML = docLinkHtml;\n",
              "          element.appendChild(docLink);\n",
              "        }\n",
              "      </script>\n",
              "    </div>\n",
              "  </div>\n",
              "  "
            ]
          },
          "metadata": {},
          "execution_count": 66
        }
      ],
      "source": [
        "df2 = pd.read_csv(final_path2)\n",
        "df2"
      ]
    },
    {
      "cell_type": "code",
      "execution_count": 67,
      "metadata": {
        "execution": {
          "iopub.execute_input": "2022-01-18T12:04:13.848505Z",
          "iopub.status.busy": "2022-01-18T12:04:13.847904Z",
          "iopub.status.idle": "2022-01-18T12:04:13.864960Z",
          "shell.execute_reply": "2022-01-18T12:04:13.863364Z",
          "shell.execute_reply.started": "2022-01-18T12:04:13.848468Z"
        },
        "colab": {
          "base_uri": "https://localhost:8080/",
          "height": 237
        },
        "id": "5hRJjWmhKq66",
        "outputId": "a5b92a15-59dd-4471-8198-3106e2c2ec20"
      },
      "outputs": [
        {
          "output_type": "execute_result",
          "data": {
            "text/plain": [
              "            type  type_ex\n",
              "Holiday      221      200\n",
              "Event         56       50\n",
              "Additional    51       50\n",
              "Transfer      12       20\n",
              "Bridge         5       20\n",
              "Work Day       5       10"
            ],
            "text/html": [
              "\n",
              "  <div id=\"df-b46b8c37-c12f-4ec6-b48c-b49f17468f0c\">\n",
              "    <div class=\"colab-df-container\">\n",
              "      <div>\n",
              "<style scoped>\n",
              "    .dataframe tbody tr th:only-of-type {\n",
              "        vertical-align: middle;\n",
              "    }\n",
              "\n",
              "    .dataframe tbody tr th {\n",
              "        vertical-align: top;\n",
              "    }\n",
              "\n",
              "    .dataframe thead th {\n",
              "        text-align: right;\n",
              "    }\n",
              "</style>\n",
              "<table border=\"1\" class=\"dataframe\">\n",
              "  <thead>\n",
              "    <tr style=\"text-align: right;\">\n",
              "      <th></th>\n",
              "      <th>type</th>\n",
              "      <th>type_ex</th>\n",
              "    </tr>\n",
              "  </thead>\n",
              "  <tbody>\n",
              "    <tr>\n",
              "      <th>Holiday</th>\n",
              "      <td>221</td>\n",
              "      <td>200</td>\n",
              "    </tr>\n",
              "    <tr>\n",
              "      <th>Event</th>\n",
              "      <td>56</td>\n",
              "      <td>50</td>\n",
              "    </tr>\n",
              "    <tr>\n",
              "      <th>Additional</th>\n",
              "      <td>51</td>\n",
              "      <td>50</td>\n",
              "    </tr>\n",
              "    <tr>\n",
              "      <th>Transfer</th>\n",
              "      <td>12</td>\n",
              "      <td>20</td>\n",
              "    </tr>\n",
              "    <tr>\n",
              "      <th>Bridge</th>\n",
              "      <td>5</td>\n",
              "      <td>20</td>\n",
              "    </tr>\n",
              "    <tr>\n",
              "      <th>Work Day</th>\n",
              "      <td>5</td>\n",
              "      <td>10</td>\n",
              "    </tr>\n",
              "  </tbody>\n",
              "</table>\n",
              "</div>\n",
              "      <button class=\"colab-df-convert\" onclick=\"convertToInteractive('df-b46b8c37-c12f-4ec6-b48c-b49f17468f0c')\"\n",
              "              title=\"Convert this dataframe to an interactive table.\"\n",
              "              style=\"display:none;\">\n",
              "        \n",
              "  <svg xmlns=\"http://www.w3.org/2000/svg\" height=\"24px\"viewBox=\"0 0 24 24\"\n",
              "       width=\"24px\">\n",
              "    <path d=\"M0 0h24v24H0V0z\" fill=\"none\"/>\n",
              "    <path d=\"M18.56 5.44l.94 2.06.94-2.06 2.06-.94-2.06-.94-.94-2.06-.94 2.06-2.06.94zm-11 1L8.5 8.5l.94-2.06 2.06-.94-2.06-.94L8.5 2.5l-.94 2.06-2.06.94zm10 10l.94 2.06.94-2.06 2.06-.94-2.06-.94-.94-2.06-.94 2.06-2.06.94z\"/><path d=\"M17.41 7.96l-1.37-1.37c-.4-.4-.92-.59-1.43-.59-.52 0-1.04.2-1.43.59L10.3 9.45l-7.72 7.72c-.78.78-.78 2.05 0 2.83L4 21.41c.39.39.9.59 1.41.59.51 0 1.02-.2 1.41-.59l7.78-7.78 2.81-2.81c.8-.78.8-2.07 0-2.86zM5.41 20L4 18.59l7.72-7.72 1.47 1.35L5.41 20z\"/>\n",
              "  </svg>\n",
              "      </button>\n",
              "      \n",
              "  <style>\n",
              "    .colab-df-container {\n",
              "      display:flex;\n",
              "      flex-wrap:wrap;\n",
              "      gap: 12px;\n",
              "    }\n",
              "\n",
              "    .colab-df-convert {\n",
              "      background-color: #E8F0FE;\n",
              "      border: none;\n",
              "      border-radius: 50%;\n",
              "      cursor: pointer;\n",
              "      display: none;\n",
              "      fill: #1967D2;\n",
              "      height: 32px;\n",
              "      padding: 0 0 0 0;\n",
              "      width: 32px;\n",
              "    }\n",
              "\n",
              "    .colab-df-convert:hover {\n",
              "      background-color: #E2EBFA;\n",
              "      box-shadow: 0px 1px 2px rgba(60, 64, 67, 0.3), 0px 1px 3px 1px rgba(60, 64, 67, 0.15);\n",
              "      fill: #174EA6;\n",
              "    }\n",
              "\n",
              "    [theme=dark] .colab-df-convert {\n",
              "      background-color: #3B4455;\n",
              "      fill: #D2E3FC;\n",
              "    }\n",
              "\n",
              "    [theme=dark] .colab-df-convert:hover {\n",
              "      background-color: #434B5C;\n",
              "      box-shadow: 0px 1px 3px 1px rgba(0, 0, 0, 0.15);\n",
              "      filter: drop-shadow(0px 1px 2px rgba(0, 0, 0, 0.3));\n",
              "      fill: #FFFFFF;\n",
              "    }\n",
              "  </style>\n",
              "\n",
              "      <script>\n",
              "        const buttonEl =\n",
              "          document.querySelector('#df-b46b8c37-c12f-4ec6-b48c-b49f17468f0c button.colab-df-convert');\n",
              "        buttonEl.style.display =\n",
              "          google.colab.kernel.accessAllowed ? 'block' : 'none';\n",
              "\n",
              "        async function convertToInteractive(key) {\n",
              "          const element = document.querySelector('#df-b46b8c37-c12f-4ec6-b48c-b49f17468f0c');\n",
              "          const dataTable =\n",
              "            await google.colab.kernel.invokeFunction('convertToInteractive',\n",
              "                                                     [key], {});\n",
              "          if (!dataTable) return;\n",
              "\n",
              "          const docLinkHtml = 'Like what you see? Visit the ' +\n",
              "            '<a target=\"_blank\" href=https://colab.research.google.com/notebooks/data_table.ipynb>data table notebook</a>'\n",
              "            + ' to learn more about interactive tables.';\n",
              "          element.innerHTML = '';\n",
              "          dataTable['output_type'] = 'display_data';\n",
              "          await google.colab.output.renderOutput(dataTable, element);\n",
              "          const docLink = document.createElement('div');\n",
              "          docLink.innerHTML = docLinkHtml;\n",
              "          element.appendChild(docLink);\n",
              "        }\n",
              "      </script>\n",
              "    </div>\n",
              "  </div>\n",
              "  "
            ]
          },
          "metadata": {},
          "execution_count": 67
        }
      ],
      "source": [
        "df2_ct1 = df2['type'].value_counts()\n",
        "df2_ct1 = pd.DataFrame(df2_ct1)\n",
        "df2_ct1['type_ex'] = [200, 50, 50, 20, 20, 10]\n",
        "df2_ct1"
      ]
    },
    {
      "cell_type": "markdown",
      "metadata": {
        "id": "luFxFC9LKq67"
      },
      "source": [
        "### 적합도 검정(one-way)"
      ]
    },
    {
      "cell_type": "code",
      "execution_count": 68,
      "metadata": {
        "execution": {
          "iopub.execute_input": "2022-01-18T12:04:18.183457Z",
          "iopub.status.busy": "2022-01-18T12:04:18.183171Z",
          "iopub.status.idle": "2022-01-18T12:04:18.190899Z",
          "shell.execute_reply": "2022-01-18T12:04:18.190016Z",
          "shell.execute_reply.started": "2022-01-18T12:04:18.183423Z"
        },
        "colab": {
          "base_uri": "https://localhost:8080/"
        },
        "id": "Vq1p5eU-Kq67",
        "outputId": "6a05bdd3-e17e-42f5-fb93-7ee4e2ee8bf0"
      },
      "outputs": [
        {
          "output_type": "execute_result",
          "data": {
            "text/plain": [
              "Power_divergenceResult(statistic=19.895, pvalue=0.001307713669761688)"
            ]
          },
          "metadata": {},
          "execution_count": 68
        }
      ],
      "source": [
        "stats.chisquare(df2_ct1['type'], f_exp=df2_ct1['type_ex'])"
      ]
    },
    {
      "cell_type": "markdown",
      "metadata": {
        "id": "O4lbDRbQKq68"
      },
      "source": [
        "### 독립성 검정, 동일성검정(two-way)"
      ]
    },
    {
      "cell_type": "code",
      "execution_count": 69,
      "metadata": {
        "execution": {
          "iopub.execute_input": "2022-01-18T12:06:28.818397Z",
          "iopub.status.busy": "2022-01-18T12:06:28.817837Z",
          "iopub.status.idle": "2022-01-18T12:06:28.847081Z",
          "shell.execute_reply": "2022-01-18T12:06:28.846242Z",
          "shell.execute_reply.started": "2022-01-18T12:06:28.818276Z"
        },
        "colab": {
          "base_uri": "https://localhost:8080/",
          "height": 268
        },
        "id": "ulUkK8qdKq68",
        "outputId": "441ce64b-8736-4a1e-ced3-ffbae4ea3252"
      },
      "outputs": [
        {
          "output_type": "execute_result",
          "data": {
            "text/plain": [
              "locale      Local  National  Regional\n",
              "type                                 \n",
              "Additional     11        40         0\n",
              "Bridge          0         5         0\n",
              "Event           0        56         0\n",
              "Holiday       137        60        24\n",
              "Transfer        4         8         0\n",
              "Work Day        0         5         0"
            ],
            "text/html": [
              "\n",
              "  <div id=\"df-2822b601-b4d7-4270-b4c6-cc94d1e08b8d\">\n",
              "    <div class=\"colab-df-container\">\n",
              "      <div>\n",
              "<style scoped>\n",
              "    .dataframe tbody tr th:only-of-type {\n",
              "        vertical-align: middle;\n",
              "    }\n",
              "\n",
              "    .dataframe tbody tr th {\n",
              "        vertical-align: top;\n",
              "    }\n",
              "\n",
              "    .dataframe thead th {\n",
              "        text-align: right;\n",
              "    }\n",
              "</style>\n",
              "<table border=\"1\" class=\"dataframe\">\n",
              "  <thead>\n",
              "    <tr style=\"text-align: right;\">\n",
              "      <th>locale</th>\n",
              "      <th>Local</th>\n",
              "      <th>National</th>\n",
              "      <th>Regional</th>\n",
              "    </tr>\n",
              "    <tr>\n",
              "      <th>type</th>\n",
              "      <th></th>\n",
              "      <th></th>\n",
              "      <th></th>\n",
              "    </tr>\n",
              "  </thead>\n",
              "  <tbody>\n",
              "    <tr>\n",
              "      <th>Additional</th>\n",
              "      <td>11</td>\n",
              "      <td>40</td>\n",
              "      <td>0</td>\n",
              "    </tr>\n",
              "    <tr>\n",
              "      <th>Bridge</th>\n",
              "      <td>0</td>\n",
              "      <td>5</td>\n",
              "      <td>0</td>\n",
              "    </tr>\n",
              "    <tr>\n",
              "      <th>Event</th>\n",
              "      <td>0</td>\n",
              "      <td>56</td>\n",
              "      <td>0</td>\n",
              "    </tr>\n",
              "    <tr>\n",
              "      <th>Holiday</th>\n",
              "      <td>137</td>\n",
              "      <td>60</td>\n",
              "      <td>24</td>\n",
              "    </tr>\n",
              "    <tr>\n",
              "      <th>Transfer</th>\n",
              "      <td>4</td>\n",
              "      <td>8</td>\n",
              "      <td>0</td>\n",
              "    </tr>\n",
              "    <tr>\n",
              "      <th>Work Day</th>\n",
              "      <td>0</td>\n",
              "      <td>5</td>\n",
              "      <td>0</td>\n",
              "    </tr>\n",
              "  </tbody>\n",
              "</table>\n",
              "</div>\n",
              "      <button class=\"colab-df-convert\" onclick=\"convertToInteractive('df-2822b601-b4d7-4270-b4c6-cc94d1e08b8d')\"\n",
              "              title=\"Convert this dataframe to an interactive table.\"\n",
              "              style=\"display:none;\">\n",
              "        \n",
              "  <svg xmlns=\"http://www.w3.org/2000/svg\" height=\"24px\"viewBox=\"0 0 24 24\"\n",
              "       width=\"24px\">\n",
              "    <path d=\"M0 0h24v24H0V0z\" fill=\"none\"/>\n",
              "    <path d=\"M18.56 5.44l.94 2.06.94-2.06 2.06-.94-2.06-.94-.94-2.06-.94 2.06-2.06.94zm-11 1L8.5 8.5l.94-2.06 2.06-.94-2.06-.94L8.5 2.5l-.94 2.06-2.06.94zm10 10l.94 2.06.94-2.06 2.06-.94-2.06-.94-.94-2.06-.94 2.06-2.06.94z\"/><path d=\"M17.41 7.96l-1.37-1.37c-.4-.4-.92-.59-1.43-.59-.52 0-1.04.2-1.43.59L10.3 9.45l-7.72 7.72c-.78.78-.78 2.05 0 2.83L4 21.41c.39.39.9.59 1.41.59.51 0 1.02-.2 1.41-.59l7.78-7.78 2.81-2.81c.8-.78.8-2.07 0-2.86zM5.41 20L4 18.59l7.72-7.72 1.47 1.35L5.41 20z\"/>\n",
              "  </svg>\n",
              "      </button>\n",
              "      \n",
              "  <style>\n",
              "    .colab-df-container {\n",
              "      display:flex;\n",
              "      flex-wrap:wrap;\n",
              "      gap: 12px;\n",
              "    }\n",
              "\n",
              "    .colab-df-convert {\n",
              "      background-color: #E8F0FE;\n",
              "      border: none;\n",
              "      border-radius: 50%;\n",
              "      cursor: pointer;\n",
              "      display: none;\n",
              "      fill: #1967D2;\n",
              "      height: 32px;\n",
              "      padding: 0 0 0 0;\n",
              "      width: 32px;\n",
              "    }\n",
              "\n",
              "    .colab-df-convert:hover {\n",
              "      background-color: #E2EBFA;\n",
              "      box-shadow: 0px 1px 2px rgba(60, 64, 67, 0.3), 0px 1px 3px 1px rgba(60, 64, 67, 0.15);\n",
              "      fill: #174EA6;\n",
              "    }\n",
              "\n",
              "    [theme=dark] .colab-df-convert {\n",
              "      background-color: #3B4455;\n",
              "      fill: #D2E3FC;\n",
              "    }\n",
              "\n",
              "    [theme=dark] .colab-df-convert:hover {\n",
              "      background-color: #434B5C;\n",
              "      box-shadow: 0px 1px 3px 1px rgba(0, 0, 0, 0.15);\n",
              "      filter: drop-shadow(0px 1px 2px rgba(0, 0, 0, 0.3));\n",
              "      fill: #FFFFFF;\n",
              "    }\n",
              "  </style>\n",
              "\n",
              "      <script>\n",
              "        const buttonEl =\n",
              "          document.querySelector('#df-2822b601-b4d7-4270-b4c6-cc94d1e08b8d button.colab-df-convert');\n",
              "        buttonEl.style.display =\n",
              "          google.colab.kernel.accessAllowed ? 'block' : 'none';\n",
              "\n",
              "        async function convertToInteractive(key) {\n",
              "          const element = document.querySelector('#df-2822b601-b4d7-4270-b4c6-cc94d1e08b8d');\n",
              "          const dataTable =\n",
              "            await google.colab.kernel.invokeFunction('convertToInteractive',\n",
              "                                                     [key], {});\n",
              "          if (!dataTable) return;\n",
              "\n",
              "          const docLinkHtml = 'Like what you see? Visit the ' +\n",
              "            '<a target=\"_blank\" href=https://colab.research.google.com/notebooks/data_table.ipynb>data table notebook</a>'\n",
              "            + ' to learn more about interactive tables.';\n",
              "          element.innerHTML = '';\n",
              "          dataTable['output_type'] = 'display_data';\n",
              "          await google.colab.output.renderOutput(dataTable, element);\n",
              "          const docLink = document.createElement('div');\n",
              "          docLink.innerHTML = docLinkHtml;\n",
              "          element.appendChild(docLink);\n",
              "        }\n",
              "      </script>\n",
              "    </div>\n",
              "  </div>\n",
              "  "
            ]
          },
          "metadata": {},
          "execution_count": 69
        }
      ],
      "source": [
        "df2_ct2 = pd.crosstab(df2['type'], df2['locale'])\n",
        "df2_ct2"
      ]
    },
    {
      "cell_type": "markdown",
      "metadata": {
        "id": "bmTdsmmGKq69"
      },
      "source": [
        "H0: type과 locale은 독립적이다\n",
        "<br>\n",
        "H1: .. 독립적이지 않다."
      ]
    },
    {
      "cell_type": "code",
      "execution_count": 70,
      "metadata": {
        "execution": {
          "iopub.execute_input": "2022-01-18T12:06:35.084415Z",
          "iopub.status.busy": "2022-01-18T12:06:35.083868Z",
          "iopub.status.idle": "2022-01-18T12:06:35.092382Z",
          "shell.execute_reply": "2022-01-18T12:06:35.091500Z",
          "shell.execute_reply.started": "2022-01-18T12:06:35.084382Z"
        },
        "colab": {
          "base_uri": "https://localhost:8080/"
        },
        "id": "IJN99BbEKq69",
        "outputId": "df29d2b3-923d-44f8-b5a0-af4705bc3c2e"
      },
      "outputs": [
        {
          "output_type": "execute_result",
          "data": {
            "text/plain": [
              "(131.45802366737567,\n",
              " 2.3544912183604968e-23,\n",
              " 10,\n",
              " array([[ 22.14857143,  25.35428571,   3.49714286],\n",
              "        [  2.17142857,   2.48571429,   0.34285714],\n",
              "        [ 24.32      ,  27.84      ,   3.84      ],\n",
              "        [ 95.97714286, 109.86857143,  15.15428571],\n",
              "        [  5.21142857,   5.96571429,   0.82285714],\n",
              "        [  2.17142857,   2.48571429,   0.34285714]]))"
            ]
          },
          "metadata": {},
          "execution_count": 70
        }
      ],
      "source": [
        "stats.chi2_contingency(df2_ct2)\n",
        "\n",
        "# chi-squre, pvalue, df, expected value"
      ]
    }
  ],
  "metadata": {
    "kernelspec": {
      "display_name": "Python 3 (ipykernel)",
      "language": "python",
      "name": "python3"
    },
    "language_info": {
      "codemirror_mode": {
        "name": "ipython",
        "version": 3
      },
      "file_extension": ".py",
      "mimetype": "text/x-python",
      "name": "python",
      "nbconvert_exporter": "python",
      "pygments_lexer": "ipython3",
      "version": "3.9.7"
    },
    "colab": {
      "name": "01_기초통계분석(상관분석, t검정, 분산분석, 교차분석).ipynb",
      "provenance": [],
      "collapsed_sections": [
        "mOdo87W9Kq63"
      ]
    }
  },
  "nbformat": 4,
  "nbformat_minor": 0
}